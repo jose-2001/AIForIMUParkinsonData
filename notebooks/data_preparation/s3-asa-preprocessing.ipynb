{
 "cells": [
  {
   "cell_type": "markdown",
   "source": [
    "# ASA preprocessing module\n",
    "\n",
    "This preprocessing module aims to label the data from the patients through a peak analysis."
   ],
   "metadata": {
    "collapsed": false
   },
   "id": "498ce966485e5572"
  },
  {
   "cell_type": "markdown",
   "source": [
    "## Required Imports"
   ],
   "metadata": {
    "collapsed": false
   },
   "id": "d53013c70d189212"
  },
  {
   "cell_type": "code",
   "outputs": [],
   "source": [
    "import re\n",
    "\n",
    "import pandas as pd\n",
    "import numpy as np\n",
    "\n",
    "from sklearn.preprocessing import LabelEncoder\n",
    "\n",
    "from src.settings import ROOT_DIR\n",
    "from src.utils import data_split\n",
    "from src.preprocessing.asa_functions import get_asa_laterality"
   ],
   "metadata": {
    "collapsed": false,
    "ExecuteTime": {
     "end_time": "2024-03-24T02:45:28.811432Z",
     "start_time": "2024-03-24T02:45:21.287473Z"
    }
   },
   "id": "b6217826b97df325",
   "execution_count": 1
  },
  {
   "cell_type": "markdown",
   "source": [
    "## Load Data"
   ],
   "metadata": {
    "collapsed": false
   },
   "id": "b1a1be277b758c71"
  },
  {
   "cell_type": "code",
   "outputs": [],
   "source": [
    "data: pd.DataFrame = pd.read_pickle(ROOT_DIR / 'data' / 'processed' / 'anon_imu_data_time_series_cleaned.pkl')"
   ],
   "metadata": {
    "collapsed": false,
    "ExecuteTime": {
     "end_time": "2024-03-24T02:45:29.236533Z",
     "start_time": "2024-03-24T02:45:28.815256Z"
    }
   },
   "id": "87f29c80f3dc4c85",
   "execution_count": 2
  },
  {
   "cell_type": "code",
   "outputs": [
    {
     "data": {
      "text/plain": "         date_measure  imu_angleY_left  imu_angleY_right\n0  2023-9-29-11-53-21       -41.945678        346.797958\n1  2023-9-29-11-53-21       -16.777883        435.826445\n2  2023-9-29-11-53-21       -17.254295        461.758420\n3  2023-9-29-11-53-21       -62.680428        407.701072\n4  2023-9-29-11-53-21      -158.679678        317.129831",
      "text/html": "<div>\n<style scoped>\n    .dataframe tbody tr th:only-of-type {\n        vertical-align: middle;\n    }\n\n    .dataframe tbody tr th {\n        vertical-align: top;\n    }\n\n    .dataframe thead th {\n        text-align: right;\n    }\n</style>\n<table border=\"1\" class=\"dataframe\">\n  <thead>\n    <tr style=\"text-align: right;\">\n      <th></th>\n      <th>date_measure</th>\n      <th>imu_angleY_left</th>\n      <th>imu_angleY_right</th>\n    </tr>\n  </thead>\n  <tbody>\n    <tr>\n      <th>0</th>\n      <td>2023-9-29-11-53-21</td>\n      <td>-41.945678</td>\n      <td>346.797958</td>\n    </tr>\n    <tr>\n      <th>1</th>\n      <td>2023-9-29-11-53-21</td>\n      <td>-16.777883</td>\n      <td>435.826445</td>\n    </tr>\n    <tr>\n      <th>2</th>\n      <td>2023-9-29-11-53-21</td>\n      <td>-17.254295</td>\n      <td>461.758420</td>\n    </tr>\n    <tr>\n      <th>3</th>\n      <td>2023-9-29-11-53-21</td>\n      <td>-62.680428</td>\n      <td>407.701072</td>\n    </tr>\n    <tr>\n      <th>4</th>\n      <td>2023-9-29-11-53-21</td>\n      <td>-158.679678</td>\n      <td>317.129831</td>\n    </tr>\n  </tbody>\n</table>\n</div>"
     },
     "execution_count": 3,
     "metadata": {},
     "output_type": "execute_result"
    }
   ],
   "source": [
    "columns_for_labeling = ['date_measure', 'imu_angleY_left', 'imu_angleY_right']\n",
    "labeling_data = data[columns_for_labeling]\n",
    "labeling_data.head()"
   ],
   "metadata": {
    "collapsed": false,
    "ExecuteTime": {
     "end_time": "2024-03-24T02:45:29.331054Z",
     "start_time": "2024-03-24T02:45:29.239663Z"
    }
   },
   "id": "23691a6ff524565d",
   "execution_count": 3
  },
  {
   "cell_type": "markdown",
   "source": [
    "## Labeling Data\n",
    "We will add to every measure the laterality of it based on a peak analysis."
   ],
   "metadata": {
    "collapsed": false
   },
   "id": "c0e6cce9a3b04522"
  },
  {
   "cell_type": "code",
   "outputs": [
    {
     "name": "stderr",
     "output_type": "stream",
     "text": [
      "C:\\Users\\julia\\.conda\\envs\\AIForIMUParkinsonData\\Lib\\site-packages\\numpy\\core\\fromnumeric.py:3504: RuntimeWarning: Mean of empty slice.\n",
      "  return _methods._mean(a, axis=axis, dtype=dtype,\n",
      "C:\\Users\\julia\\.conda\\envs\\AIForIMUParkinsonData\\Lib\\site-packages\\numpy\\core\\_methods.py:129: RuntimeWarning: invalid value encountered in scalar divide\n",
      "  ret = ret.dtype.type(ret / rcount)\n"
     ]
    }
   ],
   "source": [
    "laterality = []\n",
    "dates = labeling_data['date_measure'].unique()\n",
    "\n",
    "for date in dates:\n",
    "    sample = labeling_data[labeling_data['date_measure'] == date]\n",
    "    sample_lat = get_asa_laterality(sample['imu_angleY_left'].to_numpy(), sample['imu_angleY_right'].to_numpy())\n",
    "    laterality.append(sample_lat)"
   ],
   "metadata": {
    "collapsed": false,
    "ExecuteTime": {
     "end_time": "2024-03-24T02:45:37.150148Z",
     "start_time": "2024-03-24T02:45:29.334102Z"
    }
   },
   "id": "27dd026ceb442461",
   "execution_count": 4
  },
  {
   "cell_type": "code",
   "outputs": [
    {
     "data": {
      "text/plain": "         date_measure laterality\n0  2023-9-29-11-53-21        der\n1   2023-6-22-10-28-8        der\n2  2023-6-16-14-45-43        der\n3  2023-9-19-10-12-28        der\n4   2023-3-23-13-14-7        der",
      "text/html": "<div>\n<style scoped>\n    .dataframe tbody tr th:only-of-type {\n        vertical-align: middle;\n    }\n\n    .dataframe tbody tr th {\n        vertical-align: top;\n    }\n\n    .dataframe thead th {\n        text-align: right;\n    }\n</style>\n<table border=\"1\" class=\"dataframe\">\n  <thead>\n    <tr style=\"text-align: right;\">\n      <th></th>\n      <th>date_measure</th>\n      <th>laterality</th>\n    </tr>\n  </thead>\n  <tbody>\n    <tr>\n      <th>0</th>\n      <td>2023-9-29-11-53-21</td>\n      <td>der</td>\n    </tr>\n    <tr>\n      <th>1</th>\n      <td>2023-6-22-10-28-8</td>\n      <td>der</td>\n    </tr>\n    <tr>\n      <th>2</th>\n      <td>2023-6-16-14-45-43</td>\n      <td>der</td>\n    </tr>\n    <tr>\n      <th>3</th>\n      <td>2023-9-19-10-12-28</td>\n      <td>der</td>\n    </tr>\n    <tr>\n      <th>4</th>\n      <td>2023-3-23-13-14-7</td>\n      <td>der</td>\n    </tr>\n  </tbody>\n</table>\n</div>"
     },
     "execution_count": 5,
     "metadata": {},
     "output_type": "execute_result"
    }
   ],
   "source": [
    "Y = pd.DataFrame()\n",
    "Y['date_measure'] = dates\n",
    "Y['laterality'] = laterality\n",
    "Y.head()"
   ],
   "metadata": {
    "collapsed": false,
    "ExecuteTime": {
     "end_time": "2024-03-24T02:45:37.171675Z",
     "start_time": "2024-03-24T02:45:37.153208Z"
    }
   },
   "id": "e2b188fb15ac2151",
   "execution_count": 5
  },
  {
   "cell_type": "code",
   "outputs": [],
   "source": [
    "label_encoder = LabelEncoder()\n",
    "encoded_labels = label_encoder.fit_transform(Y['laterality'])"
   ],
   "metadata": {
    "collapsed": false,
    "ExecuteTime": {
     "end_time": "2024-03-24T02:45:37.186316Z",
     "start_time": "2024-03-24T02:45:37.177265Z"
    }
   },
   "id": "b2737f781ad6e54f",
   "execution_count": 6
  },
  {
   "cell_type": "code",
   "outputs": [
    {
     "data": {
      "text/plain": "array([0, 0, 0, 0])"
     },
     "execution_count": 7,
     "metadata": {},
     "output_type": "execute_result"
    }
   ],
   "source": [
    "encoded_labels[:4]"
   ],
   "metadata": {
    "collapsed": false,
    "ExecuteTime": {
     "end_time": "2024-03-24T02:45:37.203392Z",
     "start_time": "2024-03-24T02:45:37.189316Z"
    }
   },
   "id": "6e634a52c0ab9fb4",
   "execution_count": 7
  },
  {
   "cell_type": "code",
   "outputs": [
    {
     "data": {
      "text/plain": "array(['der', 'izq'], dtype=object)"
     },
     "execution_count": 8,
     "metadata": {},
     "output_type": "execute_result"
    }
   ],
   "source": [
    "label_encoder.classes_"
   ],
   "metadata": {
    "collapsed": false,
    "ExecuteTime": {
     "end_time": "2024-03-24T02:45:37.217536Z",
     "start_time": "2024-03-24T02:45:37.206055Z"
    }
   },
   "id": "bc5cf7914cfdb027",
   "execution_count": 8
  },
  {
   "cell_type": "code",
   "outputs": [],
   "source": [
    "Y['label'] = encoded_labels"
   ],
   "metadata": {
    "collapsed": false,
    "ExecuteTime": {
     "end_time": "2024-03-24T02:45:37.229055Z",
     "start_time": "2024-03-24T02:45:37.220527Z"
    }
   },
   "id": "14ec737a0f3e1ad",
   "execution_count": 9
  },
  {
   "cell_type": "code",
   "outputs": [
    {
     "data": {
      "text/plain": "         date_measure laterality  label\n0  2023-9-29-11-53-21        der      0\n1   2023-6-22-10-28-8        der      0\n2  2023-6-16-14-45-43        der      0\n3  2023-9-19-10-12-28        der      0\n4   2023-3-23-13-14-7        der      0",
      "text/html": "<div>\n<style scoped>\n    .dataframe tbody tr th:only-of-type {\n        vertical-align: middle;\n    }\n\n    .dataframe tbody tr th {\n        vertical-align: top;\n    }\n\n    .dataframe thead th {\n        text-align: right;\n    }\n</style>\n<table border=\"1\" class=\"dataframe\">\n  <thead>\n    <tr style=\"text-align: right;\">\n      <th></th>\n      <th>date_measure</th>\n      <th>laterality</th>\n      <th>label</th>\n    </tr>\n  </thead>\n  <tbody>\n    <tr>\n      <th>0</th>\n      <td>2023-9-29-11-53-21</td>\n      <td>der</td>\n      <td>0</td>\n    </tr>\n    <tr>\n      <th>1</th>\n      <td>2023-6-22-10-28-8</td>\n      <td>der</td>\n      <td>0</td>\n    </tr>\n    <tr>\n      <th>2</th>\n      <td>2023-6-16-14-45-43</td>\n      <td>der</td>\n      <td>0</td>\n    </tr>\n    <tr>\n      <th>3</th>\n      <td>2023-9-19-10-12-28</td>\n      <td>der</td>\n      <td>0</td>\n    </tr>\n    <tr>\n      <th>4</th>\n      <td>2023-3-23-13-14-7</td>\n      <td>der</td>\n      <td>0</td>\n    </tr>\n  </tbody>\n</table>\n</div>"
     },
     "execution_count": 10,
     "metadata": {},
     "output_type": "execute_result"
    }
   ],
   "source": [
    "Y.head()"
   ],
   "metadata": {
    "collapsed": false,
    "ExecuteTime": {
     "end_time": "2024-03-24T02:45:37.249587Z",
     "start_time": "2024-03-24T02:45:37.232135Z"
    }
   },
   "id": "e461edac94433f05",
   "execution_count": 10
  },
  {
   "cell_type": "markdown",
   "source": [
    "## Features\n",
    "The final laterality model will be focused on left and righ limbs, not it spine, due to it foes not affects this field. By that reason spine_base columns will be removed in this module."
   ],
   "metadata": {
    "collapsed": false
   },
   "id": "509876dde90faaf5"
  },
  {
   "cell_type": "code",
   "outputs": [
    {
     "data": {
      "text/plain": "['imu_gyroX_right',\n 'imu_gyroY_right',\n 'imu_gyroZ_right',\n 'imu_accX_right',\n 'imu_accY_right',\n 'imu_accZ_right',\n 'imu_gyroX_left',\n 'imu_gyroY_left',\n 'imu_gyroZ_left',\n 'imu_accX_left',\n 'imu_accY_left',\n 'imu_accZ_left',\n 'imu_angleX_right',\n 'imu_angleY_right',\n 'imu_angleZ_right',\n 'imu_angleX_left',\n 'imu_angleY_left',\n 'imu_angleZ_left',\n 'imu_angularX_left',\n 'imu_angularY_left',\n 'imu_angularZ_left',\n 'imu_angularX_right',\n 'imu_angularY_right',\n 'imu_angularZ_right']"
     },
     "execution_count": 11,
     "metadata": {},
     "output_type": "execute_result"
    }
   ],
   "source": [
    "feature_columns = data.columns.tolist()[3:-1]\n",
    "\n",
    "spine_patter = re.compile(\"^imu_.*_spine\")\n",
    "feature_columns = [col for col in feature_columns if not spine_patter.match(col)]\n",
    "feature_columns"
   ],
   "metadata": {
    "collapsed": false,
    "ExecuteTime": {
     "end_time": "2024-03-24T02:45:37.266330Z",
     "start_time": "2024-03-24T02:45:37.253133Z"
    }
   },
   "id": "5da802e6a200ade5",
   "execution_count": 11
  },
  {
   "cell_type": "code",
   "outputs": [],
   "source": [
    "sequences = []\n",
    "\n",
    "for date, group in data.groupby('date_measure'):\n",
    "    sequence_features = group[feature_columns]\n",
    "    label = Y[Y.date_measure == date].iloc[0].label\n",
    "    \n",
    "    sequences.append((sequence_features, label))"
   ],
   "metadata": {
    "collapsed": false,
    "ExecuteTime": {
     "end_time": "2024-03-24T02:45:38.437966Z",
     "start_time": "2024-03-24T02:45:37.268375Z"
    }
   },
   "id": "9a7f0238f67c25d2",
   "execution_count": 12
  },
  {
   "cell_type": "code",
   "outputs": [
    {
     "data": {
      "text/plain": "(        imu_gyroX_right  imu_gyroY_right  imu_gyroZ_right  imu_accX_right  \\\n 294278       485.520635       245.096017       -85.665511        8.179869   \n 294279      -289.996008       116.847725       403.042105        8.002617   \n 294280      -652.201860       192.986548       573.127655        7.845273   \n 294281      -410.009175       523.572963       313.160114        7.757391   \n 294282       298.202984       952.803148      -205.963959        7.808478   \n ...                 ...              ...              ...             ...   \n 299262       510.712858       701.567964      -684.354694        7.972659   \n 299263       116.709461       750.644451      -508.918751        7.811803   \n 299264      -181.756000       817.445367      -333.828648        7.677498   \n 299265      -236.325631       897.089628      -158.256160        7.606327   \n 299266       -34.224348       974.031477        31.559602        7.633360   \n \n         imu_accY_right  imu_accZ_right  imu_gyroX_left  imu_gyroY_left  \\\n 294278        4.209786       -1.136710    -1052.922107       67.407514   \n 294279        4.242406       -1.397011     -957.772677       48.855097   \n 294280        4.403051       -1.491929     -838.817270      274.977202   \n 294281        4.698665       -1.334676     -696.243034      826.319438   \n 294282        4.986152       -0.959133     -556.515090     1560.006993   \n ...                ...             ...             ...             ...   \n 299262        4.238577        0.595848     -168.271058     -981.369418   \n 299263        4.366451        0.516216       53.033816     -982.109181   \n 299264        4.613097        0.438385      623.264582     -898.254275   \n 299265        4.905770        0.384359     1235.747931     -729.008564   \n 299266        5.164629        0.359955     1664.525930     -489.169479   \n \n         imu_gyroZ_left  imu_accX_left  ...  imu_angleZ_right  imu_angleX_left  \\\n 294278    -1651.145204       8.931163  ...       -586.749490       556.473496   \n 294279    -1645.101415       8.656334  ...        173.475534       614.487510   \n 294280    -1740.189143       8.398239  ...        192.030512      1236.360749   \n 294281    -1950.922036       8.089880  ...       -746.833808      2582.305601   \n 294282    -2178.393891       7.580407  ...      -2151.244134      4273.715377   \n ...                ...            ...  ...               ...              ...   \n 299262      728.699773       9.224875  ...      -2127.889975     -2631.882056   \n 299263      722.555428       9.940324  ...      -2048.743571     -2400.992194   \n 299264      637.003728      10.478212  ...      -2006.056697     -1585.595424   \n 299265      480.405806      10.695115  ...      -1989.040480      -505.925287   \n 299266      274.556745      10.582235  ...      -1951.976799       559.657255   \n \n         imu_angleY_left  imu_angleZ_left  imu_angularX_left  \\\n 294278      1480.616730     -1828.491985          -0.191367   \n 294279      1483.596284     -1784.398976          -2.051328   \n 294280      1466.893577     -2343.755541          -4.439770   \n 294281      1406.838633     -3685.985197          -5.579330   \n 294282      1278.442390     -5417.902579          -4.404654   \n ...                 ...              ...                ...   \n 299262      -216.810927      2751.209923          -0.761619   \n 299263      -210.846648      2746.429513          -2.689690   \n 299264      -171.003050      2487.501852          -3.561429   \n 299265      -105.299645      1981.362168          -3.514959   \n 299266       -26.899329      1280.561041          -3.224438   \n \n         imu_angularY_left  imu_angularZ_left  imu_angularX_right  \\\n 294278           0.002116           0.031314            3.978769   \n 294279          -0.011862          -0.397242            1.044824   \n 294280          -0.042650          -0.953220           -2.938215   \n 294281          -0.091184          -1.229967           -5.350185   \n 294282          -0.151057          -0.978815           -4.416244   \n ...                   ...                ...                 ...   \n 299262           0.004236          -0.003395            1.279082   \n 299263           0.028296          -0.183884            0.927187   \n 299264           0.046661          -0.359448            0.191789   \n 299265           0.055678          -0.497692           -0.468361   \n 299266           0.057608          -0.571345           -0.690769   \n \n         imu_angularY_right  imu_angularZ_right  \n 294278           -0.315355            0.618834  \n 294279           -0.154729            0.015104  \n 294280            0.070048           -0.764250  \n 294281            0.225869           -1.143211  \n 294282            0.223102           -0.774574  \n ...                    ...                 ...  \n 299262           -0.148626            0.064426  \n 299263           -0.154970            0.034748  \n 299264           -0.160111            0.013851  \n 299265           -0.169688            0.030170  \n 299266           -0.180834            0.090007  \n \n [4989 rows x 24 columns],\n 0)"
     },
     "execution_count": 13,
     "metadata": {},
     "output_type": "execute_result"
    }
   ],
   "source": [
    "sequences[0]"
   ],
   "metadata": {
    "collapsed": false,
    "ExecuteTime": {
     "end_time": "2024-03-24T02:45:38.495342Z",
     "start_time": "2024-03-24T02:45:38.441056Z"
    }
   },
   "id": "f452d5267798a30",
   "execution_count": 13
  },
  {
   "cell_type": "code",
   "outputs": [
    {
     "data": {
      "text/plain": "166"
     },
     "execution_count": 14,
     "metadata": {},
     "output_type": "execute_result"
    }
   ],
   "source": [
    "len(sequences)"
   ],
   "metadata": {
    "collapsed": false,
    "ExecuteTime": {
     "end_time": "2024-03-24T02:45:38.511143Z",
     "start_time": "2024-03-24T02:45:38.499829Z"
    }
   },
   "id": "657b8f8b7548b7f3",
   "execution_count": 14
  },
  {
   "cell_type": "markdown",
   "source": [
    "## Save Data\n",
    "Now we will save the data of the sequences where we have a 2-tuple by each record. The first value of the tuple is record containing all the information of the time-series, and the second one the label \n",
    "(0 or 1) which refers to the laterality affectation."
   ],
   "metadata": {
    "collapsed": false
   },
   "id": "ceb0a4cbe897fa9f"
  },
  {
   "cell_type": "code",
   "outputs": [],
   "source": [
    "data_split.save_and_split_sequences(sequences, 'asa')"
   ],
   "metadata": {
    "collapsed": false,
    "ExecuteTime": {
     "end_time": "2024-03-24T02:46:48.997320Z",
     "start_time": "2024-03-24T02:46:48.711346Z"
    }
   },
   "id": "beaccb877d956398",
   "execution_count": 16
  }
 ],
 "metadata": {
  "kernelspec": {
   "display_name": "Python 3",
   "language": "python",
   "name": "python3"
  },
  "language_info": {
   "codemirror_mode": {
    "name": "ipython",
    "version": 2
   },
   "file_extension": ".py",
   "mimetype": "text/x-python",
   "name": "python",
   "nbconvert_exporter": "python",
   "pygments_lexer": "ipython2",
   "version": "2.7.6"
  }
 },
 "nbformat": 4,
 "nbformat_minor": 5
}
