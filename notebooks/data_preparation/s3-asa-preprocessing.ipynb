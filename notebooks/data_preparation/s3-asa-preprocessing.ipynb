{
 "cells": [
  {
   "cell_type": "markdown",
   "source": [
    "# ASA preprocessing module\n",
    "\n",
    "This preprocessing module aims to label the data from the patients through a peak analysis."
   ],
   "metadata": {
    "collapsed": false
   },
   "id": "498ce966485e5572"
  },
  {
   "cell_type": "markdown",
   "source": [
    "## Required Imports"
   ],
   "metadata": {
    "collapsed": false
   },
   "id": "d53013c70d189212"
  },
  {
   "cell_type": "code",
   "outputs": [],
   "source": [
    "import re\n",
    "\n",
    "import pandas as pd\n",
    "import numpy as np\n",
    "import tensorflow as tf\n",
    "\n",
    "from sklearn.preprocessing import LabelEncoder\n",
    "\n",
    "from src.settings import ROOT_DIR\n",
    "from src.utils import data_split\n",
    "from src.preprocessing.asa_functions import get_asa_laterality"
   ],
   "metadata": {
    "collapsed": false,
    "ExecuteTime": {
     "end_time": "2024-03-26T03:03:00.517953Z",
     "start_time": "2024-03-26T03:03:00.506911Z"
    }
   },
   "id": "b6217826b97df325",
   "execution_count": 26
  },
  {
   "cell_type": "markdown",
   "source": [
    "## Load Data"
   ],
   "metadata": {
    "collapsed": false
   },
   "id": "b1a1be277b758c71"
  },
  {
   "cell_type": "code",
   "outputs": [],
   "source": [
    "data: pd.DataFrame = pd.read_pickle(ROOT_DIR / 'data' / 'processed' / 'anon_imu_data_time_series_cleaned.pkl')"
   ],
   "metadata": {
    "collapsed": false,
    "ExecuteTime": {
     "end_time": "2024-03-26T03:03:01.231485Z",
     "start_time": "2024-03-26T03:03:00.698642Z"
    }
   },
   "id": "87f29c80f3dc4c85",
   "execution_count": 27
  },
  {
   "cell_type": "code",
   "outputs": [
    {
     "data": {
      "text/plain": "         date_measure  imu_angleY_left  imu_angleY_right\n0  2023-9-29-11-53-21       -41.945678        346.797958\n1  2023-9-29-11-53-21       -16.777883        435.826445\n2  2023-9-29-11-53-21       -17.254295        461.758420\n3  2023-9-29-11-53-21       -62.680428        407.701072\n4  2023-9-29-11-53-21      -158.679678        317.129831",
      "text/html": "<div>\n<style scoped>\n    .dataframe tbody tr th:only-of-type {\n        vertical-align: middle;\n    }\n\n    .dataframe tbody tr th {\n        vertical-align: top;\n    }\n\n    .dataframe thead th {\n        text-align: right;\n    }\n</style>\n<table border=\"1\" class=\"dataframe\">\n  <thead>\n    <tr style=\"text-align: right;\">\n      <th></th>\n      <th>date_measure</th>\n      <th>imu_angleY_left</th>\n      <th>imu_angleY_right</th>\n    </tr>\n  </thead>\n  <tbody>\n    <tr>\n      <th>0</th>\n      <td>2023-9-29-11-53-21</td>\n      <td>-41.945678</td>\n      <td>346.797958</td>\n    </tr>\n    <tr>\n      <th>1</th>\n      <td>2023-9-29-11-53-21</td>\n      <td>-16.777883</td>\n      <td>435.826445</td>\n    </tr>\n    <tr>\n      <th>2</th>\n      <td>2023-9-29-11-53-21</td>\n      <td>-17.254295</td>\n      <td>461.758420</td>\n    </tr>\n    <tr>\n      <th>3</th>\n      <td>2023-9-29-11-53-21</td>\n      <td>-62.680428</td>\n      <td>407.701072</td>\n    </tr>\n    <tr>\n      <th>4</th>\n      <td>2023-9-29-11-53-21</td>\n      <td>-158.679678</td>\n      <td>317.129831</td>\n    </tr>\n  </tbody>\n</table>\n</div>"
     },
     "execution_count": 28,
     "metadata": {},
     "output_type": "execute_result"
    }
   ],
   "source": [
    "columns_for_labeling = ['date_measure', 'imu_angleY_left', 'imu_angleY_right']\n",
    "labeling_data = data[columns_for_labeling]\n",
    "labeling_data.head()"
   ],
   "metadata": {
    "collapsed": false,
    "ExecuteTime": {
     "end_time": "2024-03-26T03:03:01.308370Z",
     "start_time": "2024-03-26T03:03:01.238572Z"
    }
   },
   "id": "23691a6ff524565d",
   "execution_count": 28
  },
  {
   "cell_type": "markdown",
   "source": [
    "## Labeling Data\n",
    "We will add to every measure the laterality of it based on a peak analysis."
   ],
   "metadata": {
    "collapsed": false
   },
   "id": "c0e6cce9a3b04522"
  },
  {
   "cell_type": "code",
   "outputs": [
    {
     "name": "stderr",
     "output_type": "stream",
     "text": [
      "C:\\Users\\julia\\AppData\\Roaming\\Python\\Python310\\site-packages\\numpy\\core\\fromnumeric.py:3432: RuntimeWarning: Mean of empty slice.\n",
      "  return _methods._mean(a, axis=axis, dtype=dtype,\n",
      "C:\\Users\\julia\\AppData\\Roaming\\Python\\Python310\\site-packages\\numpy\\core\\_methods.py:190: RuntimeWarning: invalid value encountered in double_scalars\n",
      "  ret = ret.dtype.type(ret / rcount)\n"
     ]
    }
   ],
   "source": [
    "laterality = []\n",
    "dates = labeling_data['date_measure'].unique()\n",
    "\n",
    "for date in dates:\n",
    "    sample = labeling_data[labeling_data['date_measure'] == date]\n",
    "    sample_lat = get_asa_laterality(sample['imu_angleY_left'].to_numpy(), sample['imu_angleY_right'].to_numpy())\n",
    "    laterality.append(sample_lat)"
   ],
   "metadata": {
    "collapsed": false,
    "ExecuteTime": {
     "end_time": "2024-03-26T03:03:09.053899Z",
     "start_time": "2024-03-26T03:03:01.311572Z"
    }
   },
   "id": "27dd026ceb442461",
   "execution_count": 29
  },
  {
   "cell_type": "code",
   "outputs": [
    {
     "data": {
      "text/plain": "         date_measure laterality\n0  2023-9-29-11-53-21        der\n1   2023-6-22-10-28-8        der\n2  2023-6-16-14-45-43        der\n3  2023-9-19-10-12-28        der\n4   2023-3-23-13-14-7        der",
      "text/html": "<div>\n<style scoped>\n    .dataframe tbody tr th:only-of-type {\n        vertical-align: middle;\n    }\n\n    .dataframe tbody tr th {\n        vertical-align: top;\n    }\n\n    .dataframe thead th {\n        text-align: right;\n    }\n</style>\n<table border=\"1\" class=\"dataframe\">\n  <thead>\n    <tr style=\"text-align: right;\">\n      <th></th>\n      <th>date_measure</th>\n      <th>laterality</th>\n    </tr>\n  </thead>\n  <tbody>\n    <tr>\n      <th>0</th>\n      <td>2023-9-29-11-53-21</td>\n      <td>der</td>\n    </tr>\n    <tr>\n      <th>1</th>\n      <td>2023-6-22-10-28-8</td>\n      <td>der</td>\n    </tr>\n    <tr>\n      <th>2</th>\n      <td>2023-6-16-14-45-43</td>\n      <td>der</td>\n    </tr>\n    <tr>\n      <th>3</th>\n      <td>2023-9-19-10-12-28</td>\n      <td>der</td>\n    </tr>\n    <tr>\n      <th>4</th>\n      <td>2023-3-23-13-14-7</td>\n      <td>der</td>\n    </tr>\n  </tbody>\n</table>\n</div>"
     },
     "execution_count": 30,
     "metadata": {},
     "output_type": "execute_result"
    }
   ],
   "source": [
    "Y = pd.DataFrame()\n",
    "Y['date_measure'] = dates\n",
    "Y['laterality'] = laterality\n",
    "Y.head()"
   ],
   "metadata": {
    "collapsed": false,
    "ExecuteTime": {
     "end_time": "2024-03-26T03:03:09.162672Z",
     "start_time": "2024-03-26T03:03:09.056785Z"
    }
   },
   "id": "e2b188fb15ac2151",
   "execution_count": 30
  },
  {
   "cell_type": "code",
   "outputs": [],
   "source": [
    "label_encoder = LabelEncoder()\n",
    "encoded_labels = label_encoder.fit_transform(Y['laterality'])"
   ],
   "metadata": {
    "collapsed": false,
    "ExecuteTime": {
     "end_time": "2024-03-26T03:03:09.193897Z",
     "start_time": "2024-03-26T03:03:09.169820Z"
    }
   },
   "id": "b2737f781ad6e54f",
   "execution_count": 31
  },
  {
   "cell_type": "code",
   "outputs": [
    {
     "data": {
      "text/plain": "array([0, 0, 0, 0])"
     },
     "execution_count": 32,
     "metadata": {},
     "output_type": "execute_result"
    }
   ],
   "source": [
    "encoded_labels[:4]"
   ],
   "metadata": {
    "collapsed": false,
    "ExecuteTime": {
     "end_time": "2024-03-26T03:03:09.210100Z",
     "start_time": "2024-03-26T03:03:09.196787Z"
    }
   },
   "id": "6e634a52c0ab9fb4",
   "execution_count": 32
  },
  {
   "cell_type": "code",
   "outputs": [
    {
     "data": {
      "text/plain": "array(['der', 'izq'], dtype=object)"
     },
     "execution_count": 33,
     "metadata": {},
     "output_type": "execute_result"
    }
   ],
   "source": [
    "label_encoder.classes_"
   ],
   "metadata": {
    "collapsed": false,
    "ExecuteTime": {
     "end_time": "2024-03-26T03:03:09.241786Z",
     "start_time": "2024-03-26T03:03:09.212784Z"
    }
   },
   "id": "bc5cf7914cfdb027",
   "execution_count": 33
  },
  {
   "cell_type": "code",
   "outputs": [],
   "source": [
    "Y['label'] = encoded_labels"
   ],
   "metadata": {
    "collapsed": false,
    "ExecuteTime": {
     "end_time": "2024-03-26T03:03:09.257783Z",
     "start_time": "2024-03-26T03:03:09.244786Z"
    }
   },
   "id": "14ec737a0f3e1ad",
   "execution_count": 34
  },
  {
   "cell_type": "code",
   "outputs": [
    {
     "data": {
      "text/plain": "         date_measure laterality  label\n0  2023-9-29-11-53-21        der      0\n1   2023-6-22-10-28-8        der      0\n2  2023-6-16-14-45-43        der      0\n3  2023-9-19-10-12-28        der      0\n4   2023-3-23-13-14-7        der      0",
      "text/html": "<div>\n<style scoped>\n    .dataframe tbody tr th:only-of-type {\n        vertical-align: middle;\n    }\n\n    .dataframe tbody tr th {\n        vertical-align: top;\n    }\n\n    .dataframe thead th {\n        text-align: right;\n    }\n</style>\n<table border=\"1\" class=\"dataframe\">\n  <thead>\n    <tr style=\"text-align: right;\">\n      <th></th>\n      <th>date_measure</th>\n      <th>laterality</th>\n      <th>label</th>\n    </tr>\n  </thead>\n  <tbody>\n    <tr>\n      <th>0</th>\n      <td>2023-9-29-11-53-21</td>\n      <td>der</td>\n      <td>0</td>\n    </tr>\n    <tr>\n      <th>1</th>\n      <td>2023-6-22-10-28-8</td>\n      <td>der</td>\n      <td>0</td>\n    </tr>\n    <tr>\n      <th>2</th>\n      <td>2023-6-16-14-45-43</td>\n      <td>der</td>\n      <td>0</td>\n    </tr>\n    <tr>\n      <th>3</th>\n      <td>2023-9-19-10-12-28</td>\n      <td>der</td>\n      <td>0</td>\n    </tr>\n    <tr>\n      <th>4</th>\n      <td>2023-3-23-13-14-7</td>\n      <td>der</td>\n      <td>0</td>\n    </tr>\n  </tbody>\n</table>\n</div>"
     },
     "execution_count": 35,
     "metadata": {},
     "output_type": "execute_result"
    }
   ],
   "source": [
    "Y.head()"
   ],
   "metadata": {
    "collapsed": false,
    "ExecuteTime": {
     "end_time": "2024-03-26T03:03:09.288783Z",
     "start_time": "2024-03-26T03:03:09.261787Z"
    }
   },
   "id": "e461edac94433f05",
   "execution_count": 35
  },
  {
   "cell_type": "markdown",
   "source": [
    "## Features\n",
    "The final laterality model will be focused on left and righ limbs, not it spine, due to it foes not affects this field. By that reason spine_base columns will be removed in this module."
   ],
   "metadata": {
    "collapsed": false
   },
   "id": "509876dde90faaf5"
  },
  {
   "cell_type": "code",
   "outputs": [
    {
     "data": {
      "text/plain": "['imu_gyroX_right',\n 'imu_gyroY_right',\n 'imu_gyroZ_right',\n 'imu_accX_right',\n 'imu_accY_right',\n 'imu_accZ_right',\n 'imu_gyroX_left',\n 'imu_gyroY_left',\n 'imu_gyroZ_left',\n 'imu_accX_left',\n 'imu_accY_left',\n 'imu_accZ_left',\n 'imu_angleX_right',\n 'imu_angleY_right',\n 'imu_angleZ_right',\n 'imu_angleX_left',\n 'imu_angleY_left',\n 'imu_angleZ_left',\n 'imu_angularX_left',\n 'imu_angularY_left',\n 'imu_angularZ_left',\n 'imu_angularX_right',\n 'imu_angularY_right',\n 'imu_angularZ_right']"
     },
     "execution_count": 36,
     "metadata": {},
     "output_type": "execute_result"
    }
   ],
   "source": [
    "feature_columns = data.columns.tolist()[3:-1]\n",
    "\n",
    "spine_patter = re.compile(\"^imu_.*_spine\")\n",
    "feature_columns = [col for col in feature_columns if not spine_patter.match(col)]\n",
    "feature_columns"
   ],
   "metadata": {
    "collapsed": false,
    "ExecuteTime": {
     "end_time": "2024-03-26T03:03:09.319784Z",
     "start_time": "2024-03-26T03:03:09.292787Z"
    }
   },
   "id": "5da802e6a200ade5",
   "execution_count": 36
  },
  {
   "cell_type": "code",
   "outputs": [],
   "source": [
    "sequences = []\n",
    "\n",
    "for date, group in data.groupby('date_measure'):\n",
    "    sequence_features = group[feature_columns]\n",
    "    label = Y[Y.date_measure == date].iloc[0].label\n",
    "    \n",
    "    sequences.append((sequence_features.values, label))"
   ],
   "metadata": {
    "collapsed": false,
    "ExecuteTime": {
     "end_time": "2024-03-26T03:03:11.014909Z",
     "start_time": "2024-03-26T03:03:09.322784Z"
    }
   },
   "id": "9a7f0238f67c25d2",
   "execution_count": 37
  },
  {
   "cell_type": "code",
   "outputs": [
    {
     "data": {
      "text/plain": "(array([[ 4.85520635e+02,  2.45096017e+02, -8.56655114e+01, ...,\n          3.97876878e+00, -3.15354652e-01,  6.18834463e-01],\n        [-2.89996008e+02,  1.16847725e+02,  4.03042105e+02, ...,\n          1.04482421e+00, -1.54729017e-01,  1.51040283e-02],\n        [-6.52201860e+02,  1.92986548e+02,  5.73127655e+02, ...,\n         -2.93821537e+00,  7.00484272e-02, -7.64249504e-01],\n        ...,\n        [-1.81756000e+02,  8.17445367e+02, -3.33828648e+02, ...,\n          1.91789020e-01, -1.60111278e-01,  1.38514533e-02],\n        [-2.36325631e+02,  8.97089628e+02, -1.58256160e+02, ...,\n         -4.68360527e-01, -1.69687784e-01,  3.01703872e-02],\n        [-3.42243476e+01,  9.74031477e+02,  3.15596017e+01, ...,\n         -6.90768917e-01, -1.80833909e-01,  9.00073273e-02]]),\n 0)"
     },
     "execution_count": 38,
     "metadata": {},
     "output_type": "execute_result"
    }
   ],
   "source": [
    "sequences[0]"
   ],
   "metadata": {
    "collapsed": false,
    "ExecuteTime": {
     "end_time": "2024-03-26T03:03:11.048008Z",
     "start_time": "2024-03-26T03:03:11.019908Z"
    }
   },
   "id": "f452d5267798a30",
   "execution_count": 38
  },
  {
   "cell_type": "code",
   "outputs": [
    {
     "data": {
      "text/plain": "166"
     },
     "execution_count": 39,
     "metadata": {},
     "output_type": "execute_result"
    }
   ],
   "source": [
    "len(sequences)"
   ],
   "metadata": {
    "collapsed": false,
    "ExecuteTime": {
     "end_time": "2024-03-26T03:03:11.078271Z",
     "start_time": "2024-03-26T03:03:11.052010Z"
    }
   },
   "id": "657b8f8b7548b7f3",
   "execution_count": 39
  },
  {
   "cell_type": "markdown",
   "source": [
    "## Padding\n",
    "Due to models don't allow the usage of tuples (n, 24), where n is a dynamic value, as input shape, we are going to add padding to all the sequences. All the sequences will the size of\n",
    "the sequences max length."
   ],
   "metadata": {
    "collapsed": false
   },
   "id": "100b8ae81c326a4"
  },
  {
   "cell_type": "code",
   "outputs": [],
   "source": [
    "temp = [values for values, _ in sequences]\n",
    "max_length = max(len(sequence) for sequence in temp)"
   ],
   "metadata": {
    "collapsed": false,
    "ExecuteTime": {
     "end_time": "2024-03-26T03:03:11.154010Z",
     "start_time": "2024-03-26T03:03:11.095344Z"
    }
   },
   "id": "9fb4d75913735064",
   "execution_count": 40
  },
  {
   "cell_type": "code",
   "outputs": [
    {
     "data": {
      "text/plain": "16723"
     },
     "execution_count": 41,
     "metadata": {},
     "output_type": "execute_result"
    }
   ],
   "source": [
    "max_length"
   ],
   "metadata": {
    "collapsed": false,
    "ExecuteTime": {
     "end_time": "2024-03-26T03:03:11.187560Z",
     "start_time": "2024-03-26T03:03:11.158584Z"
    }
   },
   "id": "cce54929cb8ba994",
   "execution_count": 41
  },
  {
   "cell_type": "code",
   "outputs": [],
   "source": [
    "sequences_padded = tf.keras.preprocessing.sequence.pad_sequences(\n",
    "    temp, \n",
    "    maxlen=max_length, \n",
    "    padding='post', \n",
    "    dtype='float32'\n",
    ")"
   ],
   "metadata": {
    "collapsed": false,
    "ExecuteTime": {
     "end_time": "2024-03-26T03:03:11.624644Z",
     "start_time": "2024-03-26T03:03:11.197889Z"
    }
   },
   "id": "ab8e304f8d78f257",
   "execution_count": 42
  },
  {
   "cell_type": "code",
   "outputs": [
    {
     "data": {
      "text/plain": "166"
     },
     "execution_count": 43,
     "metadata": {},
     "output_type": "execute_result"
    }
   ],
   "source": [
    "len(sequences_padded)"
   ],
   "metadata": {
    "collapsed": false,
    "ExecuteTime": {
     "end_time": "2024-03-26T03:03:11.640769Z",
     "start_time": "2024-03-26T03:03:11.628593Z"
    }
   },
   "id": "5e77f5fbe61dde67",
   "execution_count": 43
  },
  {
   "cell_type": "code",
   "outputs": [],
   "source": [
    "for i in range(len(sequences_padded)):\n",
    "    sequences[i] = (sequences_padded[i], sequences[i][1])"
   ],
   "metadata": {
    "collapsed": false,
    "ExecuteTime": {
     "end_time": "2024-03-26T03:03:11.703817Z",
     "start_time": "2024-03-26T03:03:11.645021Z"
    }
   },
   "id": "ef7f4abd6e0bd6c6",
   "execution_count": 44
  },
  {
   "cell_type": "markdown",
   "source": [
    "## Save Data\n",
    "Now we will save the data of the sequences where we have a 2-tuple by each record. The first value of the tuple is record containing all the information of the time-series, and the second one the label \n",
    "(0 or 1) which refers to the laterality affectation."
   ],
   "metadata": {
    "collapsed": false
   },
   "id": "ceb0a4cbe897fa9f"
  },
  {
   "cell_type": "code",
   "outputs": [],
   "source": [
    "data_split.save_and_split_sequences(sequences, 'asa')"
   ],
   "metadata": {
    "collapsed": false,
    "ExecuteTime": {
     "end_time": "2024-03-26T03:03:49.417260Z",
     "start_time": "2024-03-26T03:03:44.808112Z"
    }
   },
   "id": "beaccb877d956398",
   "execution_count": 45
  }
 ],
 "metadata": {
  "kernelspec": {
   "display_name": "Python 3",
   "language": "python",
   "name": "python3"
  },
  "language_info": {
   "codemirror_mode": {
    "name": "ipython",
    "version": 2
   },
   "file_extension": ".py",
   "mimetype": "text/x-python",
   "name": "python",
   "nbconvert_exporter": "python",
   "pygments_lexer": "ipython2",
   "version": "2.7.6"
  }
 },
 "nbformat": 4,
 "nbformat_minor": 5
}
