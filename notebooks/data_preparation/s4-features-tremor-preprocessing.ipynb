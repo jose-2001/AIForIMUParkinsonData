{
 "cells": [
  {
   "cell_type": "markdown",
   "source": [
    "# Preprocessing Module with Features Data\n",
    "This module adds the target column of tremor to features data according to\n",
    "MDS-UPDRS patients test."
   ],
   "metadata": {
    "collapsed": false
   },
   "id": "7c2c626e44f36e60"
  },
  {
   "cell_type": "markdown",
   "source": [
    "## Required Imports"
   ],
   "metadata": {
    "collapsed": false
   },
   "id": "4d91bb8cfbd1cdd9"
  },
  {
   "cell_type": "code",
   "outputs": [],
   "source": [
    "import re\n",
    "import pickle\n",
    "import pandas as pd\n",
    "\n",
    "from src.settings import ROOT_DIR\n",
    "from src.preprocessing import get_anon_id\n",
    "from src.utils.data_split import save_and_split"
   ],
   "metadata": {
    "collapsed": false
   },
   "id": "ff24625e82cd5620"
  },
  {
   "cell_type": "markdown",
   "source": [
    "## Load Data\n",
    "Loads Features and MDS-UPDRS"
   ],
   "metadata": {
    "collapsed": false
   },
   "id": "9b5306afb6b622a6"
  },
  {
   "cell_type": "code",
   "outputs": [],
   "source": [
    "#Load Features\n",
    "data: pd.DataFrame = pd.read_pickle(ROOT_DIR / 'data' / 'processed' / 'anon_imu_data_features.pkl')\n",
    "\n",
    "#Load MDS-UPDRS\n",
    "patients_mds:pd.DataFrame = pd.read_excel(ROOT_DIR / 'data' / 'raw' / 'patients_mdsupdrs_results.xlsx')\n",
    "patients_mds_used_columns = ['Cédula','Temblor postural – Mano derecha','Temblor postural – Mano izquierda','Temblor de acción – Mano derecha','Temblor de acción – Mano izquierda']\n",
    "patients_mds = patients_mds[patients_mds_used_columns]"
   ],
   "metadata": {
    "collapsed": false
   },
   "id": "2a32415dec6147"
  },
  {
   "cell_type": "markdown",
   "source": [
    "## MDS-UPDRS Target extraction"
   ],
   "metadata": {
    "collapsed": false
   },
   "id": "f119ec5563fa4b09"
  },
  {
   "cell_type": "markdown",
   "source": [
    "Is necessary to split patients and controls to cross ids with MDS-UPDRS test:"
   ],
   "metadata": {
    "collapsed": false
   },
   "id": "6f5d8e37a34fda7c"
  },
  {
   "cell_type": "code",
   "outputs": [],
   "source": [
    "patients_mds['anon_id'] = patients_mds['Cédula'].apply(get_anon_id)\n",
    "patients_mds_used_columns.pop('Cédula')\n",
    "patients_mds['tremor'] = 1 if patients_mds[patients_mds_used_columns].sum() > 0 else 0\n",
    "patients_mds = patients_mds[['anon_id', 'tremor']]"
   ],
   "metadata": {
    "collapsed": false
   },
   "id": "ec4310a98ff8dfb2"
  },
  {
   "cell_type": "code",
   "outputs": [],
   "source": [
    "patients = data[data['PD' == 1]]\n",
    "patients = pd.merge(patients, patients_mds, on='anon_id')\n",
    "patients.dropna(inplace=True)"
   ],
   "metadata": {
    "collapsed": false
   },
   "id": "31251e67c781a122"
  },
  {
   "cell_type": "code",
   "outputs": [],
   "source": [
    "controls = data[data['PD' == 0]]\n",
    "controls['tremor'] = 0"
   ],
   "metadata": {
    "collapsed": false
   },
   "id": "49ad2004891ce6f9"
  },
  {
   "cell_type": "code",
   "outputs": [],
   "source": [
    "tremor_data = pd.concat([patients, controls])"
   ],
   "metadata": {
    "collapsed": false
   },
   "id": "25ca048df208323d"
  },
  {
   "cell_type": "code",
   "outputs": [],
   "source": [
    "#Removal of not necessary columns of spine\n",
    "pattern = re.compile('.spine*')\n",
    "dropable_columns = [col for col in tremor_data.columns.tolist() if not re.match(col, pattern)]\n",
    "tremor_data.drop(columns=dropable_columns)"
   ],
   "metadata": {
    "collapsed": false
   },
   "id": "bbdf87f90755b926"
  },
  {
   "cell_type": "markdown",
   "source": [
    "## Save data"
   ],
   "metadata": {
    "collapsed": false
   },
   "id": "5497fbff85371a4e"
  },
  {
   "cell_type": "code",
   "outputs": [],
   "source": [
    "save_and_split(tremor_data, 'tremor')"
   ],
   "metadata": {
    "collapsed": false
   },
   "id": "6dd6c24565e1e21e"
  }
 ],
 "metadata": {
  "kernelspec": {
   "display_name": "Python 3",
   "language": "python",
   "name": "python3"
  },
  "language_info": {
   "codemirror_mode": {
    "name": "ipython",
    "version": 2
   },
   "file_extension": ".py",
   "mimetype": "text/x-python",
   "name": "python",
   "nbconvert_exporter": "python",
   "pygments_lexer": "ipython2",
   "version": "2.7.6"
  }
 },
 "nbformat": 4,
 "nbformat_minor": 5
}
