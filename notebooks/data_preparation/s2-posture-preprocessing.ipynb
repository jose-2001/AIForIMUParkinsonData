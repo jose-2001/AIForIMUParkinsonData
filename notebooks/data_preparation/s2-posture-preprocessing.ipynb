{
 "cells": [
  {
   "cell_type": "markdown",
   "source": [
    "# Posture preprocessing module\n",
    "\n",
    "This preprocessing module aims to obtain mean sping angle for posture analysis."
   ],
   "metadata": {
    "collapsed": false
   },
   "id": "f2bdd69d54a398d2"
  },
  {
   "cell_type": "markdown",
   "source": [
    "## Required Imports"
   ],
   "metadata": {
    "collapsed": false
   },
   "id": "e1e3c3bc28ebd60a"
  },
  {
   "cell_type": "code",
   "outputs": [
    {
     "ename": "ModuleNotFoundError",
     "evalue": "No module named 'tensorflow'",
     "output_type": "error",
     "traceback": [
      "\u001B[1;31m---------------------------------------------------------------------------\u001B[0m",
      "\u001B[1;31mModuleNotFoundError\u001B[0m                       Traceback (most recent call last)",
      "Cell \u001B[1;32mIn[85], line 6\u001B[0m\n\u001B[0;32m      4\u001B[0m \u001B[38;5;28;01mfrom\u001B[39;00m \u001B[38;5;21;01msrc\u001B[39;00m\u001B[38;5;21;01m.\u001B[39;00m\u001B[38;5;21;01msettings\u001B[39;00m \u001B[38;5;28;01mimport\u001B[39;00m ROOT_DIR\n\u001B[0;32m      5\u001B[0m \u001B[38;5;28;01mfrom\u001B[39;00m \u001B[38;5;21;01msrc\u001B[39;00m\u001B[38;5;21;01m.\u001B[39;00m\u001B[38;5;21;01mpreprocessing\u001B[39;00m\u001B[38;5;21;01m.\u001B[39;00m\u001B[38;5;21;01mget_anon_id\u001B[39;00m \u001B[38;5;28;01mimport\u001B[39;00m get_anon_id\n\u001B[1;32m----> 6\u001B[0m \u001B[38;5;28;01mfrom\u001B[39;00m \u001B[38;5;21;01msrc\u001B[39;00m\u001B[38;5;21;01m.\u001B[39;00m\u001B[38;5;21;01mutils\u001B[39;00m\u001B[38;5;21;01m.\u001B[39;00m\u001B[38;5;21;01mdata_split\u001B[39;00m \u001B[38;5;28;01mimport\u001B[39;00m save_and_split\n",
      "File \u001B[1;32m~\\Documents\\PDG 2\\AIForIMUParkinsonData\\src\\utils\\data_split.py:5\u001B[0m\n\u001B[0;32m      2\u001B[0m \u001B[38;5;28;01mimport\u001B[39;00m \u001B[38;5;21;01mpickle\u001B[39;00m\n\u001B[0;32m      3\u001B[0m \u001B[38;5;28;01mfrom\u001B[39;00m \u001B[38;5;21;01mpathlib\u001B[39;00m \u001B[38;5;28;01mimport\u001B[39;00m Path\n\u001B[1;32m----> 5\u001B[0m \u001B[38;5;28;01mimport\u001B[39;00m \u001B[38;5;21;01mtensorflow\u001B[39;00m \u001B[38;5;28;01mas\u001B[39;00m \u001B[38;5;21;01mtf\u001B[39;00m\n\u001B[0;32m      6\u001B[0m \u001B[38;5;28;01mfrom\u001B[39;00m \u001B[38;5;21;01mpandas\u001B[39;00m \u001B[38;5;28;01mimport\u001B[39;00m DataFrame\n\u001B[0;32m      7\u001B[0m \u001B[38;5;28;01mimport\u001B[39;00m \u001B[38;5;21;01mnumpy\u001B[39;00m \u001B[38;5;28;01mas\u001B[39;00m \u001B[38;5;21;01mnp\u001B[39;00m\n",
      "\u001B[1;31mModuleNotFoundError\u001B[0m: No module named 'tensorflow'"
     ]
    }
   ],
   "source": [
    "import pandas as pd\n",
    "import numpy as np\n",
    "\n",
    "from src.settings import ROOT_DIR\n",
    "from src.preprocessing.get_anon_id import get_anon_id\n",
    "from src.utils.data_split import save_and_split"
   ],
   "metadata": {
    "collapsed": false,
    "ExecuteTime": {
     "end_time": "2024-03-27T01:43:53.625351Z",
     "start_time": "2024-03-27T01:43:53.578106Z"
    }
   },
   "id": "55f54161e84ed3f4",
   "execution_count": 85
  },
  {
   "cell_type": "markdown",
   "source": [
    "## Load Data"
   ],
   "metadata": {
    "collapsed": false
   },
   "id": "eb1c4935c13c7b25"
  },
  {
   "cell_type": "code",
   "outputs": [],
   "source": [
    "data: pd.DataFrame = pd.read_pickle(ROOT_DIR / 'data' / 'processed' / 'anon_imu_data_time_series_cleaned.pkl')"
   ],
   "metadata": {
    "collapsed": false,
    "ExecuteTime": {
     "end_time": "2024-03-27T01:43:53.789622Z",
     "start_time": "2024-03-27T01:43:53.641060Z"
    }
   },
   "id": "4311428796d1de30",
   "execution_count": 86
  },
  {
   "cell_type": "code",
   "outputs": [
    {
     "data": {
      "text/plain": "  anon_id        date_measure  imu_angleY_spine  PD\n0       9  2023-9-29-11-53-21       -548.331774   1\n1       9  2023-9-29-11-53-21       -627.825170   1\n2       9  2023-9-29-11-53-21       -541.417021   1\n3       9  2023-9-29-11-53-21       -584.257673   1\n4       9  2023-9-29-11-53-21       -658.587680   1",
      "text/html": "<div>\n<style scoped>\n    .dataframe tbody tr th:only-of-type {\n        vertical-align: middle;\n    }\n\n    .dataframe tbody tr th {\n        vertical-align: top;\n    }\n\n    .dataframe thead th {\n        text-align: right;\n    }\n</style>\n<table border=\"1\" class=\"dataframe\">\n  <thead>\n    <tr style=\"text-align: right;\">\n      <th></th>\n      <th>anon_id</th>\n      <th>date_measure</th>\n      <th>imu_angleY_spine</th>\n      <th>PD</th>\n    </tr>\n  </thead>\n  <tbody>\n    <tr>\n      <th>0</th>\n      <td>9</td>\n      <td>2023-9-29-11-53-21</td>\n      <td>-548.331774</td>\n      <td>1</td>\n    </tr>\n    <tr>\n      <th>1</th>\n      <td>9</td>\n      <td>2023-9-29-11-53-21</td>\n      <td>-627.825170</td>\n      <td>1</td>\n    </tr>\n    <tr>\n      <th>2</th>\n      <td>9</td>\n      <td>2023-9-29-11-53-21</td>\n      <td>-541.417021</td>\n      <td>1</td>\n    </tr>\n    <tr>\n      <th>3</th>\n      <td>9</td>\n      <td>2023-9-29-11-53-21</td>\n      <td>-584.257673</td>\n      <td>1</td>\n    </tr>\n    <tr>\n      <th>4</th>\n      <td>9</td>\n      <td>2023-9-29-11-53-21</td>\n      <td>-658.587680</td>\n      <td>1</td>\n    </tr>\n  </tbody>\n</table>\n</div>"
     },
     "execution_count": 87,
     "metadata": {},
     "output_type": "execute_result"
    }
   ],
   "source": [
    "columns_for_posture = ['anon_id', 'date_measure', 'imu_angleY_spine','PD']\n",
    "posture_data = data[columns_for_posture]\n",
    "posture_data.head()"
   ],
   "metadata": {
    "collapsed": false,
    "ExecuteTime": {
     "end_time": "2024-03-27T01:43:53.840822Z",
     "start_time": "2024-03-27T01:43:53.793286Z"
    }
   },
   "id": "2ec8f4e973c9f453",
   "execution_count": 87
  },
  {
   "cell_type": "code",
   "outputs": [],
   "source": [
    "patientsMds:pd.DataFrame = pd.read_excel(ROOT_DIR / 'data' / 'raw' / 'patients_mdsupdrs_results.xlsx')\n",
    "patientsMds_used_columns = ['Cédula','Postura']"
   ],
   "metadata": {
    "collapsed": false,
    "ExecuteTime": {
     "end_time": "2024-03-27T01:43:53.953078Z",
     "start_time": "2024-03-27T01:43:53.843890Z"
    }
   },
   "id": "e27d64292904d07a",
   "execution_count": 88
  },
  {
   "cell_type": "markdown",
   "source": [
    "We calculate the mean Y angle for the spine"
   ],
   "metadata": {
    "collapsed": false
   },
   "id": "869a9d5efe509595"
  },
  {
   "cell_type": "code",
   "outputs": [
    {
     "data": {
      "text/plain": "         date_measure anon_id  PD  mean_angleY_spine\n0  2023-10-5-10-15-58     128   1         -42.485229\n1  2023-10-5-10-19-30     129   0          90.612052\n2   2023-10-5-10-2-44      34   1         -24.392847\n3  2023-10-5-16-14-35     191   0         -37.959155\n4  2023-10-5-16-23-50     190   0         -22.743521",
      "text/html": "<div>\n<style scoped>\n    .dataframe tbody tr th:only-of-type {\n        vertical-align: middle;\n    }\n\n    .dataframe tbody tr th {\n        vertical-align: top;\n    }\n\n    .dataframe thead th {\n        text-align: right;\n    }\n</style>\n<table border=\"1\" class=\"dataframe\">\n  <thead>\n    <tr style=\"text-align: right;\">\n      <th></th>\n      <th>date_measure</th>\n      <th>anon_id</th>\n      <th>PD</th>\n      <th>mean_angleY_spine</th>\n    </tr>\n  </thead>\n  <tbody>\n    <tr>\n      <th>0</th>\n      <td>2023-10-5-10-15-58</td>\n      <td>128</td>\n      <td>1</td>\n      <td>-42.485229</td>\n    </tr>\n    <tr>\n      <th>1</th>\n      <td>2023-10-5-10-19-30</td>\n      <td>129</td>\n      <td>0</td>\n      <td>90.612052</td>\n    </tr>\n    <tr>\n      <th>2</th>\n      <td>2023-10-5-10-2-44</td>\n      <td>34</td>\n      <td>1</td>\n      <td>-24.392847</td>\n    </tr>\n    <tr>\n      <th>3</th>\n      <td>2023-10-5-16-14-35</td>\n      <td>191</td>\n      <td>0</td>\n      <td>-37.959155</td>\n    </tr>\n    <tr>\n      <th>4</th>\n      <td>2023-10-5-16-23-50</td>\n      <td>190</td>\n      <td>0</td>\n      <td>-22.743521</td>\n    </tr>\n  </tbody>\n</table>\n</div>"
     },
     "execution_count": 89,
     "metadata": {},
     "output_type": "execute_result"
    }
   ],
   "source": [
    "mean_posture = posture_data.groupby(['date_measure', 'anon_id','PD'])['imu_angleY_spine'].mean().reset_index()\n",
    "\n",
    "mean_posture_df = pd.DataFrame(mean_posture)\n",
    "mean_posture_df.rename(columns={'imu_angleY_spine': 'mean_angleY_spine'}, inplace=True)\n",
    "mean_posture_df.head()"
   ],
   "metadata": {
    "collapsed": false,
    "ExecuteTime": {
     "end_time": "2024-03-27T01:43:54.140239Z",
     "start_time": "2024-03-27T01:43:53.955153Z"
    }
   },
   "id": "5655626ca835addd",
   "execution_count": 89
  },
  {
   "cell_type": "code",
   "outputs": [
    {
     "name": "stdout",
     "output_type": "stream",
     "text": [
      "PD\n",
      "1    85\n",
      "0    81\n",
      "Name: count, dtype: int64\n"
     ]
    }
   ],
   "source": [
    "print(mean_posture_df['PD'].value_counts())\n"
   ],
   "metadata": {
    "collapsed": false,
    "ExecuteTime": {
     "end_time": "2024-03-27T01:43:54.150168Z",
     "start_time": "2024-03-27T01:43:54.143375Z"
    }
   },
   "id": "8c2de397aec51c8f",
   "execution_count": 90
  },
  {
   "cell_type": "code",
   "outputs": [
    {
     "name": "stdout",
     "output_type": "stream",
     "text": [
      "          date_measure anon_id  PD  mean_angleY_spine\n",
      "1   2023-10-5-10-19-30     129   0          90.612052\n",
      "3   2023-10-5-16-14-35     191   0         -37.959155\n",
      "4   2023-10-5-16-23-50     190   0         -22.743521\n",
      "5    2023-10-5-16-34-4     188   0          13.815587\n",
      "9  2023-11-30-19-27-32     151   0         -69.065567\n"
     ]
    }
   ],
   "source": [
    "controls_posture_df = mean_posture_df[mean_posture_df['PD'] == 0].copy()\n",
    "\n",
    "# Imprimir las primeras filas del DataFrame filtrado\n",
    "print(controls_posture_df.head())"
   ],
   "metadata": {
    "collapsed": false,
    "ExecuteTime": {
     "end_time": "2024-03-27T01:43:54.162477Z",
     "start_time": "2024-03-27T01:43:54.153392Z"
    }
   },
   "id": "d6a1aee014600faf",
   "execution_count": 91
  },
  {
   "cell_type": "code",
   "outputs": [
    {
     "data": {
      "text/plain": "   Postura anon_id\n0        1      11\n1        1      87\n2        1      32\n3        2      27\n4        4      78",
      "text/html": "<div>\n<style scoped>\n    .dataframe tbody tr th:only-of-type {\n        vertical-align: middle;\n    }\n\n    .dataframe tbody tr th {\n        vertical-align: top;\n    }\n\n    .dataframe thead th {\n        text-align: right;\n    }\n</style>\n<table border=\"1\" class=\"dataframe\">\n  <thead>\n    <tr style=\"text-align: right;\">\n      <th></th>\n      <th>Postura</th>\n      <th>anon_id</th>\n    </tr>\n  </thead>\n  <tbody>\n    <tr>\n      <th>0</th>\n      <td>1</td>\n      <td>11</td>\n    </tr>\n    <tr>\n      <th>1</th>\n      <td>1</td>\n      <td>87</td>\n    </tr>\n    <tr>\n      <th>2</th>\n      <td>1</td>\n      <td>32</td>\n    </tr>\n    <tr>\n      <th>3</th>\n      <td>2</td>\n      <td>27</td>\n    </tr>\n    <tr>\n      <th>4</th>\n      <td>4</td>\n      <td>78</td>\n    </tr>\n  </tbody>\n</table>\n</div>"
     },
     "execution_count": 92,
     "metadata": {},
     "output_type": "execute_result"
    }
   ],
   "source": [
    "\n",
    "patientsMds = patientsMds[patientsMds_used_columns]\n",
    "patientsMds['anon_id'] = patientsMds['Cédula'].astype(str).apply(get_anon_id)\n",
    "patientsMds.drop('Cédula', axis=1, inplace=True)\n",
    "\n",
    "patientsMds.head()\n"
   ],
   "metadata": {
    "collapsed": false,
    "ExecuteTime": {
     "end_time": "2024-03-27T01:43:54.501498Z",
     "start_time": "2024-03-27T01:43:54.164556Z"
    }
   },
   "id": "558694d7d45fac3d",
   "execution_count": 92
  },
  {
   "cell_type": "code",
   "outputs": [
    {
     "data": {
      "text/plain": "Postura    90\nanon_id    90\ndtype: int64"
     },
     "execution_count": 93,
     "metadata": {},
     "output_type": "execute_result"
    }
   ],
   "source": [
    "patientsMds.count()"
   ],
   "metadata": {
    "collapsed": false,
    "ExecuteTime": {
     "end_time": "2024-03-27T01:43:54.519634Z",
     "start_time": "2024-03-27T01:43:54.507745Z"
    }
   },
   "id": "2340c9ae08f5b4d1",
   "execution_count": 93
  },
  {
   "cell_type": "code",
   "outputs": [
    {
     "name": "stdout",
     "output_type": "stream",
     "text": [
      "         date_measure anon_id  PD  mean_angleY_spine  Postura\n",
      "0  2023-10-5-10-15-58     128   1         -42.485229        1\n",
      "1  2023-2-23-15-52-11     106   1         -11.845045        0\n",
      "2   2023-9-30-9-14-42     106   1          -1.947670        0\n",
      "3   2023-3-17-11-1-26      32   1           6.457396        1\n",
      "4  2023-3-17-11-12-26      27   1         -26.668359        2\n",
      "Index(['date_measure', 'anon_id', 'PD', 'mean_angleY_spine', 'Postura'], dtype='object')\n"
     ]
    }
   ],
   "source": [
    "# Realizar la unión por las columnas 'id' y 'anon_id'\n",
    "merged_df = pd.merge(mean_posture_df, patientsMds, left_on='anon_id', right_on='anon_id', how='inner')\n",
    "\n",
    "# Eliminar la columna 'anon_id' si no es necesaria en el DataFrame final\n",
    "#merged_df.drop('anon_id', axis=1, inplace=True)\n",
    "#id_column = merged_df.pop('id')\n",
    "#merged_df.insert(1, 'id', id_column)\n",
    "\n",
    "# Imprimir el DataFrame resultante para verificar\n",
    "print(merged_df.head())\n",
    "print(merged_df.columns)"
   ],
   "metadata": {
    "collapsed": false,
    "ExecuteTime": {
     "end_time": "2024-03-27T01:43:54.536990Z",
     "start_time": "2024-03-27T01:43:54.522729Z"
    }
   },
   "id": "1b5d15781ad3ca5e",
   "execution_count": 94
  },
  {
   "cell_type": "code",
   "outputs": [
    {
     "name": "stdout",
     "output_type": "stream",
     "text": [
      "         date_measure anon_id  PD  mean_angleY_spine  Postura  classification\n",
      "0  2023-10-5-10-15-58     128   1         -42.485229        1               1\n",
      "1  2023-2-23-15-52-11     106   1         -11.845045        0               0\n",
      "2   2023-9-30-9-14-42     106   1          -1.947670        0               0\n",
      "3   2023-3-17-11-1-26      32   1           6.457396        1               1\n",
      "4  2023-3-17-11-12-26      27   1         -26.668359        2               1\n"
     ]
    }
   ],
   "source": [
    "def classify_row(row):\n",
    "    if row['PD'] == 1:\n",
    "        if (row['Postura'] != 0):\n",
    "            return 1\n",
    "        else:\n",
    "            return 0\n",
    "    elif row['PD'] == 0:\n",
    "        return 0\n",
    "    else:\n",
    "        return np.nan  # Otra clasificación\n",
    "\n",
    "# Crear una nueva columna 'classification' aplicando la función a cada fila\n",
    "merged_df['classification'] = merged_df.apply(classify_row, axis=1)\n",
    "\n",
    "# Imprimir el DataFrame resultante\n",
    "print(merged_df.head())"
   ],
   "metadata": {
    "collapsed": false,
    "ExecuteTime": {
     "end_time": "2024-03-27T01:43:54.550663Z",
     "start_time": "2024-03-27T01:43:54.539052Z"
    }
   },
   "id": "8c4dbfb76401c9b0",
   "execution_count": 95
  },
  {
   "cell_type": "code",
   "outputs": [
    {
     "data": {
      "text/plain": "   mean_angleY_spine  classification\n0         -42.485229               1\n1         -11.845045               0\n2          -1.947670               0\n3           6.457396               1\n4         -26.668359               1",
      "text/html": "<div>\n<style scoped>\n    .dataframe tbody tr th:only-of-type {\n        vertical-align: middle;\n    }\n\n    .dataframe tbody tr th {\n        vertical-align: top;\n    }\n\n    .dataframe thead th {\n        text-align: right;\n    }\n</style>\n<table border=\"1\" class=\"dataframe\">\n  <thead>\n    <tr style=\"text-align: right;\">\n      <th></th>\n      <th>mean_angleY_spine</th>\n      <th>classification</th>\n    </tr>\n  </thead>\n  <tbody>\n    <tr>\n      <th>0</th>\n      <td>-42.485229</td>\n      <td>1</td>\n    </tr>\n    <tr>\n      <th>1</th>\n      <td>-11.845045</td>\n      <td>0</td>\n    </tr>\n    <tr>\n      <th>2</th>\n      <td>-1.947670</td>\n      <td>0</td>\n    </tr>\n    <tr>\n      <th>3</th>\n      <td>6.457396</td>\n      <td>1</td>\n    </tr>\n    <tr>\n      <th>4</th>\n      <td>-26.668359</td>\n      <td>1</td>\n    </tr>\n  </tbody>\n</table>\n</div>"
     },
     "execution_count": 96,
     "metadata": {},
     "output_type": "execute_result"
    }
   ],
   "source": [
    "columns_to_drop = ['PD','date_measure','anon_id','Postura']\n",
    "\n",
    "# Eliminar las columnas relacionadas con el temblor del DataFrame\n",
    "merged_df.drop(columns=columns_to_drop, inplace=True)\n",
    "\n",
    "# Imprimir el DataFrame resultante\n",
    "merged_df.head()"
   ],
   "metadata": {
    "collapsed": false,
    "ExecuteTime": {
     "end_time": "2024-03-27T01:43:54.563722Z",
     "start_time": "2024-03-27T01:43:54.552805Z"
    }
   },
   "id": "3d0081828ccbe5f7",
   "execution_count": 96
  },
  {
   "cell_type": "code",
   "outputs": [
    {
     "data": {
      "text/plain": "   mean_angleY_spine  classification\n1          90.612052               0\n3         -37.959155               0\n4         -22.743521               0\n5          13.815587               0\n9         -69.065567               0",
      "text/html": "<div>\n<style scoped>\n    .dataframe tbody tr th:only-of-type {\n        vertical-align: middle;\n    }\n\n    .dataframe tbody tr th {\n        vertical-align: top;\n    }\n\n    .dataframe thead th {\n        text-align: right;\n    }\n</style>\n<table border=\"1\" class=\"dataframe\">\n  <thead>\n    <tr style=\"text-align: right;\">\n      <th></th>\n      <th>mean_angleY_spine</th>\n      <th>classification</th>\n    </tr>\n  </thead>\n  <tbody>\n    <tr>\n      <th>1</th>\n      <td>90.612052</td>\n      <td>0</td>\n    </tr>\n    <tr>\n      <th>3</th>\n      <td>-37.959155</td>\n      <td>0</td>\n    </tr>\n    <tr>\n      <th>4</th>\n      <td>-22.743521</td>\n      <td>0</td>\n    </tr>\n    <tr>\n      <th>5</th>\n      <td>13.815587</td>\n      <td>0</td>\n    </tr>\n    <tr>\n      <th>9</th>\n      <td>-69.065567</td>\n      <td>0</td>\n    </tr>\n  </tbody>\n</table>\n</div>"
     },
     "execution_count": 97,
     "metadata": {},
     "output_type": "execute_result"
    }
   ],
   "source": [
    "columns_to_drop = ['date_measure','anon_id']\n",
    "controls_posture_df.drop(columns=columns_to_drop, inplace=True)\n",
    "controls_posture_df.rename(columns={'PD': 'classification'}, inplace=True)\n",
    "class_column = controls_posture_df.pop('classification')\n",
    "controls_posture_df.insert(1, 'classification', class_column)\n",
    "\n",
    "controls_posture_df.head()"
   ],
   "metadata": {
    "collapsed": false,
    "ExecuteTime": {
     "end_time": "2024-03-27T01:43:54.579314Z",
     "start_time": "2024-03-27T01:43:54.565781Z"
    }
   },
   "id": "6ac72086d171922d",
   "execution_count": 97
  },
  {
   "cell_type": "code",
   "outputs": [
    {
     "name": "stdout",
     "output_type": "stream",
     "text": [
      "     mean_angleY_spine  classification\n",
      "140         -11.107275               0\n",
      "141          -2.679172               0\n",
      "142         285.358596               0\n",
      "143          64.860429               0\n",
      "144        -159.258904               0\n",
      "Index(['mean_angleY_spine', 'classification'], dtype='object')\n"
     ]
    }
   ],
   "source": [
    "merged_df = pd.concat([merged_df, controls_posture_df], ignore_index=True)\n",
    "\n",
    "# Verificar el cambio\n",
    "print(merged_df.tail())\n",
    "print(merged_df.columns)"
   ],
   "metadata": {
    "collapsed": false,
    "ExecuteTime": {
     "end_time": "2024-03-27T01:43:54.591498Z",
     "start_time": "2024-03-27T01:43:54.581403Z"
    }
   },
   "id": "f25d2b89b145fbf5",
   "execution_count": 98
  },
  {
   "cell_type": "code",
   "outputs": [
    {
     "name": "stdout",
     "output_type": "stream",
     "text": [
      "classification\n",
      "0    109\n",
      "1     36\n",
      "Name: count, dtype: int64\n"
     ]
    }
   ],
   "source": [
    "print(merged_df['classification'].value_counts())"
   ],
   "metadata": {
    "collapsed": false,
    "ExecuteTime": {
     "end_time": "2024-03-27T01:43:54.602461Z",
     "start_time": "2024-03-27T01:43:54.595700Z"
    }
   },
   "id": "58fb5aeffea8354d",
   "execution_count": 99
  },
  {
   "cell_type": "markdown",
   "source": [
    "No we make a graph to visualize data"
   ],
   "metadata": {
    "collapsed": false
   },
   "id": "1aeb4d7cedaabb77"
  },
  {
   "cell_type": "code",
   "outputs": [
    {
     "data": {
      "text/plain": "<Figure size 1000x600 with 1 Axes>",
      "image/png": "[encoded data removed]"
     },
     "metadata": {},
     "output_type": "display_data"
    }
   ],
   "source": [
    "import matplotlib.pyplot as plt\n",
    "\n",
    "# Create a scatter plot\n",
    "plt.figure(figsize=(10, 6))\n",
    "\n",
    "# Iterate over unique classification classes\n",
    "for classification, color in zip(merged_df['classification'].unique(), ['red', 'blue']):\n",
    "    subset_df = merged_df[merged_df['classification'] == classification]\n",
    "    plt.scatter(subset_df.index, subset_df['mean_angleY_spine'], label=classification, color=color)\n",
    "\n",
    "plt.xlabel('Sample Index')\n",
    "plt.ylabel('Mean of mean_angleY_spine')\n",
    "plt.title('Scatter Plot of Averages by Classification')\n",
    "plt.legend(title='Classification')\n",
    "plt.grid(True)\n",
    "plt.tight_layout()\n",
    "plt.show()"
   ],
   "metadata": {
    "collapsed": false,
    "ExecuteTime": {
     "end_time": "2024-03-27T01:43:54.993551Z",
     "start_time": "2024-03-27T01:43:54.604612Z"
    }
   },
   "id": "4d4d96ee30e2b0ae",
   "execution_count": 100
  },
  {
   "cell_type": "code",
   "outputs": [
    {
     "ename": "NameError",
     "evalue": "name 'save_and_split' is not defined",
     "output_type": "error",
     "traceback": [
      "\u001B[1;31m---------------------------------------------------------------------------\u001B[0m",
      "\u001B[1;31mNameError\u001B[0m                                 Traceback (most recent call last)",
      "Cell \u001B[1;32mIn[101], line 1\u001B[0m\n\u001B[1;32m----> 1\u001B[0m save_and_split(merged_df, \u001B[38;5;124m'\u001B[39m\u001B[38;5;124mposture\u001B[39m\u001B[38;5;124m'\u001B[39m)\n",
      "\u001B[1;31mNameError\u001B[0m: name 'save_and_split' is not defined"
     ]
    }
   ],
   "source": [
    "save_and_split(merged_df, 'posture')"
   ],
   "metadata": {
    "collapsed": false,
    "ExecuteTime": {
     "end_time": "2024-03-27T01:43:55.023339Z",
     "start_time": "2024-03-27T01:43:54.995686Z"
    }
   },
   "id": "b95257fb6ce8e955",
   "execution_count": 101
  }
 ],
 "metadata": {
  "kernelspec": {
   "display_name": "Python 3",
   "language": "python",
   "name": "python3"
  },
  "language_info": {
   "codemirror_mode": {
    "name": "ipython",
    "version": 2
   },
   "file_extension": ".py",
   "mimetype": "text/x-python",
   "name": "python",
   "nbconvert_exporter": "python",
   "pygments_lexer": "ipython2",
   "version": "2.7.6"
  }
 },
 "nbformat": 4,
 "nbformat_minor": 5
}
