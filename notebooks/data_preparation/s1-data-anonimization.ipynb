{
 "cells": [
  {
   "cell_type": "markdown",
   "source": [
    "# Anonymizing Patient IDs in a Pandas DataFrame\n",
    "\n",
    "In this notebook, we will anonymize patient IDs in a Pandas DataFrame. \n",
    "We replace the original patient IDs with new anonymous IDs while maintaining a one-to-one mapping.\n",
    "\n",
    "### 1. Importing Necessary Libraries\n"
   ],
   "metadata": {
    "collapsed": false
   },
   "id": "b26aebe8f9c10a46"
  },
  {
   "cell_type": "code",
   "outputs": [],
   "source": [
    "import pandas as pd\n",
    "from src.settings  import ROOT_DIR\n",
    "import os"
   ],
   "metadata": {
    "collapsed": false,
    "ExecuteTime": {
     "end_time": "2024-02-20T22:21:23.420479Z",
     "start_time": "2024-02-20T22:21:22.784969Z"
    }
   },
   "id": "51e3134c628b9992",
   "execution_count": 1
  },
  {
   "cell_type": "markdown",
   "source": [],
   "metadata": {
    "collapsed": false
   },
   "id": "8be4460541873db5"
  },
  {
   "cell_type": "markdown",
   "source": [
    "### 2. Loading the Original DataFrame\n",
    "\n",
    "Assuming the original DataFrame is named \"data\" with a column 'patient_id' containing original patient IDs."
   ],
   "metadata": {
    "collapsed": false
   },
   "id": "110cdac1906f1bdb"
  },
  {
   "cell_type": "code",
   "outputs": [],
   "source": [
    "data: pd.DataFrame = pd.read_pickle(ROOT_DIR / 'data' / 'raw' / 'imu_data_time_series.pkl')"
   ],
   "metadata": {
    "collapsed": false,
    "ExecuteTime": {
     "end_time": "2024-02-20T22:25:56.745464Z",
     "start_time": "2024-02-20T22:25:56.607686Z"
    }
   },
   "id": "d8d5a0d488fbb287",
   "execution_count": 9
  },
  {
   "cell_type": "markdown",
   "source": [
    "### 3. Creating a Mapping Between Original and Anonymous IDs\n",
    "\n",
    "We create a mapping dictionary (id_map) between original and anonymous IDs using enumerate and unique()."
   ],
   "metadata": {
    "collapsed": false
   },
   "id": "186ef7c1c838c747"
  },
  {
   "cell_type": "code",
   "outputs": [],
   "source": [
    "id_map = {id_original: nuevo_id for nuevo_id, id_original in enumerate(data['patient_id'].unique(), start=1)}"
   ],
   "metadata": {
    "collapsed": false,
    "ExecuteTime": {
     "end_time": "2024-02-20T22:21:33.097630Z",
     "start_time": "2024-02-20T22:21:33.057984Z"
    }
   },
   "id": "10927b542f6de1b",
   "execution_count": 3
  },
  {
   "cell_type": "markdown",
   "source": [
    "### 4. Applying the Mapping to Create Anonymous IDs\n",
    "\n",
    "We add a new column 'anon_id' to the DataFrame using the mapping.\n",
    "We reorder the columns to have 'anon_id' as the first column."
   ],
   "metadata": {
    "collapsed": false
   },
   "id": "686da1e2d0e71f1b"
  },
  {
   "cell_type": "code",
   "outputs": [],
   "source": [
    "data['anon_id'] = data['patient_id'].map(id_map)\n",
    "anon_data: pd.DataFrame = data[['anon_id'] + [col for col in data.columns if col != 'anon_id']]\n",
    "anon_data = anon_data.drop(columns=['patient_id'])"
   ],
   "metadata": {
    "collapsed": false,
    "ExecuteTime": {
     "end_time": "2024-02-20T22:27:47.795332Z",
     "start_time": "2024-02-20T22:27:47.636512Z"
    }
   },
   "id": "5b90f7349f54d501",
   "execution_count": 10
  },
  {
   "cell_type": "markdown",
   "source": [
    "### 5. Saving the Anonymized DataFrame and Mapping for Future Reference\n",
    "\n",
    "We save the anonymized DataFrame to a pickle file and the mapping to a CSV file."
   ],
   "metadata": {
    "collapsed": false
   },
   "id": "62da498c787c0ce7"
  },
  {
   "cell_type": "code",
   "outputs": [],
   "source": [
    "anon_data.to_pickle(os.path.join(ROOT_DIR, 'data', 'raw', 'anon_imu_data_time_series.pkl'))\n",
    "id_map_df = pd.DataFrame(list(id_map.items()), columns=['patient_id', 'anon_id'])\n",
    "id_map_df.to_csv(os.path.join(ROOT_DIR, 'data', 'raw', 'id_map.csv'), index=False)"
   ],
   "metadata": {
    "collapsed": false,
    "ExecuteTime": {
     "end_time": "2024-02-20T22:28:17.633011Z",
     "start_time": "2024-02-20T22:28:17.362863Z"
    }
   },
   "id": "28b4efa8263578bb",
   "execution_count": 12
  },
  {
   "cell_type": "markdown",
   "source": [
    "Now, the 'anon_id' column is the first column in the DataFrame (anon_imu_data_time_series.pkl) and the mapping file (id_map.csv) remains consistent for future reference or applying the same anonymization to other datasets."
   ],
   "metadata": {
    "collapsed": false
   },
   "id": "64924a26a292e18"
  },
  {
   "cell_type": "code",
   "outputs": [
    {
     "data": {
      "text/plain": "   anon_id date_measure  time_stamp  imu_gyroX_right  imu_gyroY_right  \\\n0        1                      0.0     -1214.134378      -706.898961   \n1        1                     41.0      -528.943208      -481.033408   \n2        1                     82.0        42.937833      -328.464835   \n3        1                    123.0       386.718612      -305.928210   \n4        1                    164.0       399.637302      -438.997050   \n\n   imu_gyroZ_right  imu_accX_right  imu_accY_right  imu_accZ_right  \\\n0      -342.133395        8.902096        3.048967       -2.707115   \n1      -829.426549        8.826445        3.244322       -2.375892   \n2      -937.806656        8.769737        3.341177       -2.128276   \n3      -531.510961        8.782168        3.298552       -2.002942   \n4       195.116809        8.929922        3.152229       -1.978899   \n\n   imu_gyroX_left  ...  imu_angleZ_spine  imu_angularX_left  \\\n0    -1379.007652  ...        -80.931437         -10.786784   \n1     -444.959365  ...       -146.977613          -7.828853   \n2      443.239462  ...        849.016319          -1.793131   \n3     1101.526862  ...       1113.979920           6.683067   \n4     1220.818122  ...        963.511330          15.394780   \n\n   imu_angularY_left  imu_angularZ_left  imu_angularX_right  \\\n0          -0.300330          -0.366041          -10.036721   \n1          -0.231623          -0.163033           -6.197811   \n2          -0.104697           0.184659           -0.136697   \n3           0.056346           0.567452            5.757335   \n4           0.213584           0.848198            9.446619   \n\n   imu_angularY_right  imu_angularZ_right  imu_angularX_spine  \\\n0            0.142365           -0.399272           -1.697610   \n1            0.012145           -0.175718            5.924031   \n2           -0.158921            0.153815            3.962417   \n3           -0.251148            0.422339            6.045454   \n4           -0.194006            0.507620           -3.624151   \n\n   imu_angularY_spine  imu_angularZ_spine  \n0           -0.283670           -0.027008  \n1           -0.119951            0.407286  \n2           -0.201369            0.108350  \n3            0.162363           -0.061530  \n4            0.095794           -0.360073  \n\n[5 rows x 39 columns]",
      "text/html": "<div>\n<style scoped>\n    .dataframe tbody tr th:only-of-type {\n        vertical-align: middle;\n    }\n\n    .dataframe tbody tr th {\n        vertical-align: top;\n    }\n\n    .dataframe thead th {\n        text-align: right;\n    }\n</style>\n<table border=\"1\" class=\"dataframe\">\n  <thead>\n    <tr style=\"text-align: right;\">\n      <th></th>\n      <th>anon_id</th>\n      <th>date_measure</th>\n      <th>time_stamp</th>\n      <th>imu_gyroX_right</th>\n      <th>imu_gyroY_right</th>\n      <th>imu_gyroZ_right</th>\n      <th>imu_accX_right</th>\n      <th>imu_accY_right</th>\n      <th>imu_accZ_right</th>\n      <th>imu_gyroX_left</th>\n      <th>...</th>\n      <th>imu_angleZ_spine</th>\n      <th>imu_angularX_left</th>\n      <th>imu_angularY_left</th>\n      <th>imu_angularZ_left</th>\n      <th>imu_angularX_right</th>\n      <th>imu_angularY_right</th>\n      <th>imu_angularZ_right</th>\n      <th>imu_angularX_spine</th>\n      <th>imu_angularY_spine</th>\n      <th>imu_angularZ_spine</th>\n    </tr>\n  </thead>\n  <tbody>\n    <tr>\n      <th>0</th>\n      <td>1</td>\n      <td></td>\n      <td>0.0</td>\n      <td>-1214.134378</td>\n      <td>-706.898961</td>\n      <td>-342.133395</td>\n      <td>8.902096</td>\n      <td>3.048967</td>\n      <td>-2.707115</td>\n      <td>-1379.007652</td>\n      <td>...</td>\n      <td>-80.931437</td>\n      <td>-10.786784</td>\n      <td>-0.300330</td>\n      <td>-0.366041</td>\n      <td>-10.036721</td>\n      <td>0.142365</td>\n      <td>-0.399272</td>\n      <td>-1.697610</td>\n      <td>-0.283670</td>\n      <td>-0.027008</td>\n    </tr>\n    <tr>\n      <th>1</th>\n      <td>1</td>\n      <td></td>\n      <td>41.0</td>\n      <td>-528.943208</td>\n      <td>-481.033408</td>\n      <td>-829.426549</td>\n      <td>8.826445</td>\n      <td>3.244322</td>\n      <td>-2.375892</td>\n      <td>-444.959365</td>\n      <td>...</td>\n      <td>-146.977613</td>\n      <td>-7.828853</td>\n      <td>-0.231623</td>\n      <td>-0.163033</td>\n      <td>-6.197811</td>\n      <td>0.012145</td>\n      <td>-0.175718</td>\n      <td>5.924031</td>\n      <td>-0.119951</td>\n      <td>0.407286</td>\n    </tr>\n    <tr>\n      <th>2</th>\n      <td>1</td>\n      <td></td>\n      <td>82.0</td>\n      <td>42.937833</td>\n      <td>-328.464835</td>\n      <td>-937.806656</td>\n      <td>8.769737</td>\n      <td>3.341177</td>\n      <td>-2.128276</td>\n      <td>443.239462</td>\n      <td>...</td>\n      <td>849.016319</td>\n      <td>-1.793131</td>\n      <td>-0.104697</td>\n      <td>0.184659</td>\n      <td>-0.136697</td>\n      <td>-0.158921</td>\n      <td>0.153815</td>\n      <td>3.962417</td>\n      <td>-0.201369</td>\n      <td>0.108350</td>\n    </tr>\n    <tr>\n      <th>3</th>\n      <td>1</td>\n      <td></td>\n      <td>123.0</td>\n      <td>386.718612</td>\n      <td>-305.928210</td>\n      <td>-531.510961</td>\n      <td>8.782168</td>\n      <td>3.298552</td>\n      <td>-2.002942</td>\n      <td>1101.526862</td>\n      <td>...</td>\n      <td>1113.979920</td>\n      <td>6.683067</td>\n      <td>0.056346</td>\n      <td>0.567452</td>\n      <td>5.757335</td>\n      <td>-0.251148</td>\n      <td>0.422339</td>\n      <td>6.045454</td>\n      <td>0.162363</td>\n      <td>-0.061530</td>\n    </tr>\n    <tr>\n      <th>4</th>\n      <td>1</td>\n      <td></td>\n      <td>164.0</td>\n      <td>399.637302</td>\n      <td>-438.997050</td>\n      <td>195.116809</td>\n      <td>8.929922</td>\n      <td>3.152229</td>\n      <td>-1.978899</td>\n      <td>1220.818122</td>\n      <td>...</td>\n      <td>963.511330</td>\n      <td>15.394780</td>\n      <td>0.213584</td>\n      <td>0.848198</td>\n      <td>9.446619</td>\n      <td>-0.194006</td>\n      <td>0.507620</td>\n      <td>-3.624151</td>\n      <td>0.095794</td>\n      <td>-0.360073</td>\n    </tr>\n  </tbody>\n</table>\n<p>5 rows × 39 columns</p>\n</div>"
     },
     "execution_count": 13,
     "metadata": {},
     "output_type": "execute_result"
    }
   ],
   "source": [
    "anon_data.head()"
   ],
   "metadata": {
    "collapsed": false,
    "ExecuteTime": {
     "end_time": "2024-02-20T22:28:20.411336Z",
     "start_time": "2024-02-20T22:28:20.386692Z"
    }
   },
   "id": "98e54e14b6d07cf0",
   "execution_count": 13
  }
 ],
 "metadata": {
  "kernelspec": {
   "display_name": "Python 3",
   "language": "python",
   "name": "python3"
  },
  "language_info": {
   "codemirror_mode": {
    "name": "ipython",
    "version": 2
   },
   "file_extension": ".py",
   "mimetype": "text/x-python",
   "name": "python",
   "nbconvert_exporter": "python",
   "pygments_lexer": "ipython2",
   "version": "2.7.6"
  }
 },
 "nbformat": 4,
 "nbformat_minor": 5
}
