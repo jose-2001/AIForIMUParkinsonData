{
 "cells": [
  {
   "cell_type": "markdown",
   "source": [
    "# Preprocessing Module with Features FFT Data\n",
    "This module adds the target column of tremor to features data according to\n",
    "MDS-UPDRS patients test."
   ],
   "metadata": {
    "collapsed": false
   },
   "id": "7c2c626e44f36e60"
  },
  {
   "cell_type": "markdown",
   "source": [
    "## Required Imports"
   ],
   "metadata": {
    "collapsed": false
   },
   "id": "4d91bb8cfbd1cdd9"
  },
  {
   "cell_type": "code",
   "outputs": [],
   "source": [
    "import re\n",
    "import pickle\n",
    "\n",
    "\n",
    "import pandas as pd\n",
    "import numpy as np\n",
    "import seaborn as sns\n",
    "\n",
    "from src.settings import ROOT_DIR\n",
    "from src.preprocessing.get_anon_id import get_anon_id\n",
    "from src.utils.data_split import save_and_split"
   ],
   "metadata": {
    "collapsed": false,
    "ExecuteTime": {
     "end_time": "2024-04-12T04:03:18.452267Z",
     "start_time": "2024-04-12T04:03:18.439032Z"
    }
   },
   "id": "ff24625e82cd5620",
   "execution_count": 51
  },
  {
   "cell_type": "markdown",
   "source": [
    "## Load Data\n",
    "Loads Features and MDS-UPDRS"
   ],
   "metadata": {
    "collapsed": false
   },
   "id": "9b5306afb6b622a6"
  },
  {
   "cell_type": "code",
   "outputs": [],
   "source": [
    "#Load Features\n",
    "data: pd.DataFrame = pd.read_pickle(ROOT_DIR / 'data' / 'processed' / 'anon_imu_data_fft_features.pkl')\n",
    "\n",
    "#Load MDS-UPDRS\n",
    "patients_mds:pd.DataFrame = pd.read_excel(ROOT_DIR / 'data' / 'raw' / 'patients_mdsupdrs_results.xlsx')\n",
    "patients_mds_used_columns = ['Cédula','Temblor postural – Mano derecha','Temblor postural – Mano izquierda','Temblor de acción – Mano derecha','Temblor de acción – Mano izquierda']\n",
    "patients_mds = patients_mds[patients_mds_used_columns]"
   ],
   "metadata": {
    "collapsed": false,
    "ExecuteTime": {
     "end_time": "2024-04-12T04:03:19.331995Z",
     "start_time": "2024-04-12T04:03:18.746349Z"
    }
   },
   "id": "2a32415dec6147",
   "execution_count": 52
  },
  {
   "cell_type": "code",
   "outputs": [],
   "source": [
    "patients_mds['Cédula'] = patients_mds['Cédula'].astype('string')"
   ],
   "metadata": {
    "collapsed": false,
    "ExecuteTime": {
     "end_time": "2024-04-12T04:03:19.362659Z",
     "start_time": "2024-04-12T04:03:19.338027Z"
    }
   },
   "id": "19468995481c0d55",
   "execution_count": 53
  },
  {
   "cell_type": "markdown",
   "source": [
    "## MDS-UPDRS Target extraction"
   ],
   "metadata": {
    "collapsed": false
   },
   "id": "f119ec5563fa4b09"
  },
  {
   "cell_type": "markdown",
   "source": [
    "Is necessary to split patients and controls to cross ids with MDS-UPDRS test:"
   ],
   "metadata": {
    "collapsed": false
   },
   "id": "6f5d8e37a34fda7c"
  },
  {
   "cell_type": "code",
   "outputs": [
    {
     "data": {
      "text/plain": "'Cédula'"
     },
     "execution_count": 54,
     "metadata": {},
     "output_type": "execute_result"
    }
   ],
   "source": [
    "patients_mds['anon_id'] = patients_mds['Cédula'].apply(get_anon_id)\n",
    "patients_mds_used_columns.pop(0)"
   ],
   "metadata": {
    "collapsed": false,
    "ExecuteTime": {
     "end_time": "2024-04-12T04:03:19.887062Z",
     "start_time": "2024-04-12T04:03:19.368372Z"
    }
   },
   "id": "ec4310a98ff8dfb2",
   "execution_count": 54
  },
  {
   "cell_type": "code",
   "outputs": [],
   "source": [
    "tremor_list = []\n",
    "for i in range(len(patients_mds)):\n",
    "    tremor_list.append(1 if patients_mds.loc[i, patients_mds_used_columns].sum() > 0 else 0)"
   ],
   "metadata": {
    "collapsed": false,
    "ExecuteTime": {
     "end_time": "2024-04-12T04:03:20.010810Z",
     "start_time": "2024-04-12T04:03:19.890064Z"
    }
   },
   "id": "6949f17c99cdc01e",
   "execution_count": 55
  },
  {
   "cell_type": "code",
   "outputs": [],
   "source": [
    "patients_mds['tremor'] = tremor_list\n",
    "patients_mds = patients_mds[['anon_id', 'tremor']]"
   ],
   "metadata": {
    "collapsed": false,
    "ExecuteTime": {
     "end_time": "2024-04-12T04:03:20.041174Z",
     "start_time": "2024-04-12T04:03:20.016994Z"
    }
   },
   "id": "4a0be4d3362c45b3",
   "execution_count": 56
  },
  {
   "cell_type": "code",
   "outputs": [
    {
     "data": {
      "text/plain": "tremor\n0    51\n1    39\nName: count, dtype: int64"
     },
     "execution_count": 57,
     "metadata": {},
     "output_type": "execute_result"
    }
   ],
   "source": [
    "patients_mds['tremor'].value_counts()"
   ],
   "metadata": {
    "collapsed": false,
    "ExecuteTime": {
     "end_time": "2024-04-12T04:03:20.072217Z",
     "start_time": "2024-04-12T04:03:20.045213Z"
    }
   },
   "id": "70495492a3132855",
   "execution_count": 57
  },
  {
   "cell_type": "code",
   "outputs": [],
   "source": [
    "patients_mds = patients_mds[patients_mds['anon_id'].ne('')]"
   ],
   "metadata": {
    "collapsed": false,
    "ExecuteTime": {
     "end_time": "2024-04-12T04:03:20.087308Z",
     "start_time": "2024-04-12T04:03:20.075793Z"
    }
   },
   "id": "6ac4eacdf085547e",
   "execution_count": 58
  },
  {
   "cell_type": "code",
   "outputs": [],
   "source": [
    "patients = data[data['PD'] == 1].copy()\n",
    "controls = data[data['PD'] == 0].copy()"
   ],
   "metadata": {
    "collapsed": false,
    "ExecuteTime": {
     "end_time": "2024-04-12T04:03:20.915375Z",
     "start_time": "2024-04-12T04:03:20.091282Z"
    }
   },
   "id": "31251e67c781a122",
   "execution_count": 59
  },
  {
   "cell_type": "code",
   "outputs": [
    {
     "data": {
      "text/plain": "10284"
     },
     "execution_count": 60,
     "metadata": {},
     "output_type": "execute_result"
    }
   ],
   "source": [
    "len(patients)"
   ],
   "metadata": {
    "collapsed": false,
    "ExecuteTime": {
     "end_time": "2024-04-12T04:03:20.970233Z",
     "start_time": "2024-04-12T04:03:20.946061Z"
    }
   },
   "id": "fe685dede3dfd1fd",
   "execution_count": 60
  },
  {
   "cell_type": "code",
   "outputs": [
    {
     "name": "stdout",
     "output_type": "stream",
     "text": [
      "61\n"
     ]
    }
   ],
   "source": [
    "mds_id_list = set(patients_mds['anon_id'].tolist())\n",
    "df_id_list = set(patients['anon_id'].tolist())\n",
    "intersection_ids = df_id_list.intersection(mds_id_list)\n",
    "print(len(intersection_ids))"
   ],
   "metadata": {
    "collapsed": false,
    "ExecuteTime": {
     "end_time": "2024-04-12T04:03:21.001396Z",
     "start_time": "2024-04-12T04:03:20.974387Z"
    }
   },
   "id": "bb52ed8cffa87433",
   "execution_count": 61
  },
  {
   "cell_type": "code",
   "outputs": [],
   "source": [
    "patients_mds = patients_mds[patients_mds['anon_id'].isin(intersection_ids)]"
   ],
   "metadata": {
    "collapsed": false,
    "ExecuteTime": {
     "end_time": "2024-04-12T04:03:21.031777Z",
     "start_time": "2024-04-12T04:03:21.007387Z"
    }
   },
   "id": "8387e6d854f3b6ef",
   "execution_count": 62
  },
  {
   "cell_type": "code",
   "outputs": [
    {
     "name": "stdout",
     "output_type": "stream",
     "text": [
      "Patients registers before merge: 10284\n",
      "Patients registers after merge: 7081\n"
     ]
    }
   ],
   "source": [
    "print('Patients registers before merge:',len(patients))\n",
    "patients = pd.merge(patients, patients_mds, how='inner')\n",
    "patients.dropna(inplace=True)\n",
    "print('Patients registers after merge:',len(patients))"
   ],
   "metadata": {
    "collapsed": false,
    "ExecuteTime": {
     "end_time": "2024-04-12T04:03:21.283609Z",
     "start_time": "2024-04-12T04:03:21.036743Z"
    }
   },
   "id": "91d6c26bc52c5b17",
   "execution_count": 63
  },
  {
   "cell_type": "code",
   "outputs": [],
   "source": [
    "controls['tremor'] = [0 for i in range(len(controls))]"
   ],
   "metadata": {
    "collapsed": false,
    "ExecuteTime": {
     "end_time": "2024-04-12T04:03:21.314394Z",
     "start_time": "2024-04-12T04:03:21.287813Z"
    }
   },
   "id": "49ad2004891ce6f9",
   "execution_count": 64
  },
  {
   "cell_type": "code",
   "outputs": [],
   "source": [
    "tremor_data = pd.concat([patients, controls])"
   ],
   "metadata": {
    "collapsed": false,
    "ExecuteTime": {
     "end_time": "2024-04-12T04:03:21.438990Z",
     "start_time": "2024-04-12T04:03:21.325152Z"
    }
   },
   "id": "25ca048df208323d",
   "execution_count": 65
  },
  {
   "cell_type": "code",
   "outputs": [
    {
     "data": {
      "text/plain": "16547"
     },
     "execution_count": 66,
     "metadata": {},
     "output_type": "execute_result"
    }
   ],
   "source": [
    "len(tremor_data)"
   ],
   "metadata": {
    "collapsed": false,
    "ExecuteTime": {
     "end_time": "2024-04-12T04:03:21.469651Z",
     "start_time": "2024-04-12T04:03:21.442913Z"
    }
   },
   "id": "c5a3e46eed2513c0",
   "execution_count": 66
  },
  {
   "cell_type": "markdown",
   "source": [
    "## Removal of not necessary columns: Spine columns"
   ],
   "metadata": {
    "collapsed": false
   },
   "id": "7cd7819f793f907d"
  },
  {
   "cell_type": "code",
   "outputs": [
    {
     "data": {
      "text/plain": "['fft_imu_gyroX_spine_mean',\n 'fft_imu_gyroX_spine_std',\n 'fft_imu_gyroX_spine_mean_abs_dev',\n 'fft_imu_gyroX_spine_min',\n 'fft_imu_gyroX_spine_max',\n 'fft_imu_gyroX_spine_range',\n 'fft_imu_gyroX_spine_median',\n 'fft_imu_gyroX_spine_median_abs_dev',\n 'fft_imu_gyroX_spine_interquartile_range',\n 'fft_imu_gyroX_spine_negative_count',\n 'fft_imu_gyroX_spine_positive_count',\n 'fft_imu_gyroX_spine_above_mean_count',\n 'fft_imu_gyroX_spine_local_maxima_count',\n 'fft_imu_gyroX_spine_skewness',\n 'fft_imu_gyroX_spine_kurtosis',\n 'fft_imu_gyroY_spine_mean',\n 'fft_imu_gyroY_spine_std',\n 'fft_imu_gyroY_spine_mean_abs_dev',\n 'fft_imu_gyroY_spine_min',\n 'fft_imu_gyroY_spine_max',\n 'fft_imu_gyroY_spine_range',\n 'fft_imu_gyroY_spine_median',\n 'fft_imu_gyroY_spine_median_abs_dev',\n 'fft_imu_gyroY_spine_interquartile_range',\n 'fft_imu_gyroY_spine_negative_count',\n 'fft_imu_gyroY_spine_positive_count',\n 'fft_imu_gyroY_spine_above_mean_count',\n 'fft_imu_gyroY_spine_local_maxima_count',\n 'fft_imu_gyroY_spine_skewness',\n 'fft_imu_gyroY_spine_kurtosis',\n 'fft_imu_gyroZ_spine_mean',\n 'fft_imu_gyroZ_spine_std',\n 'fft_imu_gyroZ_spine_mean_abs_dev',\n 'fft_imu_gyroZ_spine_min',\n 'fft_imu_gyroZ_spine_max',\n 'fft_imu_gyroZ_spine_range',\n 'fft_imu_gyroZ_spine_median',\n 'fft_imu_gyroZ_spine_median_abs_dev',\n 'fft_imu_gyroZ_spine_interquartile_range',\n 'fft_imu_gyroZ_spine_negative_count',\n 'fft_imu_gyroZ_spine_positive_count',\n 'fft_imu_gyroZ_spine_above_mean_count',\n 'fft_imu_gyroZ_spine_local_maxima_count',\n 'fft_imu_gyroZ_spine_skewness',\n 'fft_imu_gyroZ_spine_kurtosis',\n 'fft_imu_accX_spine_mean',\n 'fft_imu_accX_spine_std',\n 'fft_imu_accX_spine_mean_abs_dev',\n 'fft_imu_accX_spine_min',\n 'fft_imu_accX_spine_max',\n 'fft_imu_accX_spine_range',\n 'fft_imu_accX_spine_median',\n 'fft_imu_accX_spine_median_abs_dev',\n 'fft_imu_accX_spine_interquartile_range',\n 'fft_imu_accX_spine_negative_count',\n 'fft_imu_accX_spine_positive_count',\n 'fft_imu_accX_spine_above_mean_count',\n 'fft_imu_accX_spine_local_maxima_count',\n 'fft_imu_accX_spine_skewness',\n 'fft_imu_accX_spine_kurtosis',\n 'fft_imu_accY_spine_mean',\n 'fft_imu_accY_spine_std',\n 'fft_imu_accY_spine_mean_abs_dev',\n 'fft_imu_accY_spine_min',\n 'fft_imu_accY_spine_max',\n 'fft_imu_accY_spine_range',\n 'fft_imu_accY_spine_median',\n 'fft_imu_accY_spine_median_abs_dev',\n 'fft_imu_accY_spine_interquartile_range',\n 'fft_imu_accY_spine_negative_count',\n 'fft_imu_accY_spine_positive_count',\n 'fft_imu_accY_spine_above_mean_count',\n 'fft_imu_accY_spine_local_maxima_count',\n 'fft_imu_accY_spine_skewness',\n 'fft_imu_accY_spine_kurtosis',\n 'fft_imu_accZ_spine_mean',\n 'fft_imu_accZ_spine_std',\n 'fft_imu_accZ_spine_mean_abs_dev',\n 'fft_imu_accZ_spine_min',\n 'fft_imu_accZ_spine_max',\n 'fft_imu_accZ_spine_range',\n 'fft_imu_accZ_spine_median',\n 'fft_imu_accZ_spine_median_abs_dev',\n 'fft_imu_accZ_spine_interquartile_range',\n 'fft_imu_accZ_spine_negative_count',\n 'fft_imu_accZ_spine_positive_count',\n 'fft_imu_accZ_spine_above_mean_count',\n 'fft_imu_accZ_spine_local_maxima_count',\n 'fft_imu_accZ_spine_skewness',\n 'fft_imu_accZ_spine_kurtosis',\n 'fft_imu_angleX_spine_mean',\n 'fft_imu_angleX_spine_std',\n 'fft_imu_angleX_spine_mean_abs_dev',\n 'fft_imu_angleX_spine_min',\n 'fft_imu_angleX_spine_max',\n 'fft_imu_angleX_spine_range',\n 'fft_imu_angleX_spine_median',\n 'fft_imu_angleX_spine_median_abs_dev',\n 'fft_imu_angleX_spine_interquartile_range',\n 'fft_imu_angleX_spine_negative_count',\n 'fft_imu_angleX_spine_positive_count',\n 'fft_imu_angleX_spine_above_mean_count',\n 'fft_imu_angleX_spine_local_maxima_count',\n 'fft_imu_angleX_spine_skewness',\n 'fft_imu_angleX_spine_kurtosis',\n 'fft_imu_angleY_spine_mean',\n 'fft_imu_angleY_spine_std',\n 'fft_imu_angleY_spine_mean_abs_dev',\n 'fft_imu_angleY_spine_min',\n 'fft_imu_angleY_spine_max',\n 'fft_imu_angleY_spine_range',\n 'fft_imu_angleY_spine_median',\n 'fft_imu_angleY_spine_median_abs_dev',\n 'fft_imu_angleY_spine_interquartile_range',\n 'fft_imu_angleY_spine_negative_count',\n 'fft_imu_angleY_spine_positive_count',\n 'fft_imu_angleY_spine_above_mean_count',\n 'fft_imu_angleY_spine_local_maxima_count',\n 'fft_imu_angleY_spine_skewness',\n 'fft_imu_angleY_spine_kurtosis',\n 'fft_imu_angleZ_spine_mean',\n 'fft_imu_angleZ_spine_std',\n 'fft_imu_angleZ_spine_mean_abs_dev',\n 'fft_imu_angleZ_spine_min',\n 'fft_imu_angleZ_spine_max',\n 'fft_imu_angleZ_spine_range',\n 'fft_imu_angleZ_spine_median',\n 'fft_imu_angleZ_spine_median_abs_dev',\n 'fft_imu_angleZ_spine_interquartile_range',\n 'fft_imu_angleZ_spine_negative_count',\n 'fft_imu_angleZ_spine_positive_count',\n 'fft_imu_angleZ_spine_above_mean_count',\n 'fft_imu_angleZ_spine_local_maxima_count',\n 'fft_imu_angleZ_spine_skewness',\n 'fft_imu_angleZ_spine_kurtosis',\n 'fft_imu_angularX_spine_mean',\n 'fft_imu_angularX_spine_std',\n 'fft_imu_angularX_spine_mean_abs_dev',\n 'fft_imu_angularX_spine_min',\n 'fft_imu_angularX_spine_max',\n 'fft_imu_angularX_spine_range',\n 'fft_imu_angularX_spine_median',\n 'fft_imu_angularX_spine_median_abs_dev',\n 'fft_imu_angularX_spine_interquartile_range',\n 'fft_imu_angularX_spine_negative_count',\n 'fft_imu_angularX_spine_positive_count',\n 'fft_imu_angularX_spine_above_mean_count',\n 'fft_imu_angularX_spine_local_maxima_count',\n 'fft_imu_angularX_spine_skewness',\n 'fft_imu_angularX_spine_kurtosis',\n 'fft_imu_angularY_spine_mean',\n 'fft_imu_angularY_spine_std',\n 'fft_imu_angularY_spine_mean_abs_dev',\n 'fft_imu_angularY_spine_min',\n 'fft_imu_angularY_spine_max',\n 'fft_imu_angularY_spine_range',\n 'fft_imu_angularY_spine_median',\n 'fft_imu_angularY_spine_median_abs_dev',\n 'fft_imu_angularY_spine_interquartile_range',\n 'fft_imu_angularY_spine_negative_count',\n 'fft_imu_angularY_spine_positive_count',\n 'fft_imu_angularY_spine_above_mean_count',\n 'fft_imu_angularY_spine_local_maxima_count',\n 'fft_imu_angularY_spine_skewness',\n 'fft_imu_angularY_spine_kurtosis',\n 'fft_imu_angularZ_spine_mean',\n 'fft_imu_angularZ_spine_std',\n 'fft_imu_angularZ_spine_mean_abs_dev',\n 'fft_imu_angularZ_spine_min',\n 'fft_imu_angularZ_spine_max',\n 'fft_imu_angularZ_spine_range',\n 'fft_imu_angularZ_spine_median',\n 'fft_imu_angularZ_spine_median_abs_dev',\n 'fft_imu_angularZ_spine_interquartile_range',\n 'fft_imu_angularZ_spine_negative_count',\n 'fft_imu_angularZ_spine_positive_count',\n 'fft_imu_angularZ_spine_above_mean_count',\n 'fft_imu_angularZ_spine_local_maxima_count',\n 'fft_imu_angularZ_spine_skewness',\n 'fft_imu_angularZ_spine_kurtosis']"
     },
     "execution_count": 67,
     "metadata": {},
     "output_type": "execute_result"
    }
   ],
   "source": [
    "pattern = re.compile(\".*.spine\")\n",
    "dropable_columns = list(filter(pattern.match, tremor_data.columns.tolist()))\n",
    "dropable_columns"
   ],
   "metadata": {
    "collapsed": false,
    "ExecuteTime": {
     "end_time": "2024-04-12T04:03:21.500852Z",
     "start_time": "2024-04-12T04:03:21.473753Z"
    }
   },
   "id": "9cbbdeecd50a20c7",
   "execution_count": 67
  },
  {
   "cell_type": "code",
   "outputs": [
    {
     "data": {
      "text/plain": "      anon_id        date_measure window_number  first_timestamp  \\\n0           9  2023-9-29-11-53-21             1              0.0   \n1           9  2023-9-29-11-53-21             2            532.0   \n2           9  2023-9-29-11-53-21             3           1029.0   \n3           9  2023-9-29-11-53-21             4           1587.0   \n4           9  2023-9-29-11-53-21             5           2121.0   \n...       ...                 ...           ...              ...   \n19745     179  2023-6-17-10-39-17         19746          38028.0   \n19746     179  2023-6-17-10-39-17         19747          39053.0   \n19747     179  2023-6-17-10-39-17         19748          40080.0   \n19748     179  2023-6-17-10-39-17         19749          41105.0   \n19749     179  2023-6-17-10-39-17         19750          42131.0   \n\n       fft_imu_gyroX_right_mean  fft_imu_gyroX_right_std  \\\n0                   4492.082286              2398.058032   \n1                   4264.240537              2839.961398   \n2                   4044.778170              3058.455093   \n3                   3271.885272              2020.474359   \n4                   4497.486671              3248.411077   \n...                         ...                      ...   \n19745               8970.762648              6562.960152   \n19746               8237.769279              6322.666756   \n19747               8964.414573              6346.216096   \n19748              10376.550930              6919.783178   \n19749               9835.403128              6842.828080   \n\n       fft_imu_gyroX_right_mean_abs_dev  fft_imu_gyroX_right_min  \\\n0                           1853.206304               351.967162   \n1                           2047.382986                16.400323   \n2                           2368.328112                16.400323   \n3                           1698.804177               115.992487   \n4                           2613.529048               115.992487   \n...                                 ...                      ...   \n19745                       5687.150631               220.089905   \n19746                       5462.910166               220.089905   \n19747                       5533.135825               324.519139   \n19748                       5824.883175               617.791034   \n19749                       5753.970896              1396.166190   \n\n       fft_imu_gyroX_right_max  fft_imu_gyroX_right_range  ...  \\\n0                 10818.766878               10466.799716  ...   \n1                 12519.401740               12503.001417  ...   \n2                 12519.401740               12503.001417  ...   \n3                  8035.638789                7919.646301  ...   \n4                 13768.103200               13652.110712  ...   \n...                        ...                        ...  ...   \n19745             22650.245743               22430.155838  ...   \n19746             21838.377130               21618.287225  ...   \n19747             21838.377130               21513.857991  ...   \n19748             28002.682260               27384.891226  ...   \n19749             28002.682260               26606.516070  ...   \n\n       fft_imu_angularZ_right_median_abs_dev  \\\n0                                1822.900955   \n1                                1587.989902   \n2                                1741.632405   \n3                                2066.071841   \n4                                3076.880150   \n...                                      ...   \n19745                            7547.660381   \n19746                            7206.614410   \n19747                            7169.289691   \n19748                            6521.136522   \n19749                            5638.689148   \n\n       fft_imu_angularZ_right_interquartile_range  \\\n0                                     3473.157916   \n1                                     3748.942714   \n2                                     3483.276467   \n3                                     6365.668398   \n4                                     6029.997347   \n...                                           ...   \n19745                                15058.346713   \n19746                                14317.339562   \n19747                                13825.596914   \n19748                                13467.595976   \n19749                                 9647.449308   \n\n       fft_imu_angularZ_right_negative_count  \\\n0                                          0   \n1                                          0   \n2                                          0   \n3                                          0   \n4                                          0   \n...                                      ...   \n19745                                      0   \n19746                                      0   \n19747                                      0   \n19748                                      0   \n19749                                      0   \n\n      fft_imu_angularZ_right_positive_count  \\\n0                                        50   \n1                                        50   \n2                                        50   \n3                                        50   \n4                                        50   \n...                                     ...   \n19745                                    50   \n19746                                    50   \n19747                                    50   \n19748                                    50   \n19749                                    50   \n\n      fft_imu_angularZ_right_above_mean_count  \\\n0                                          23   \n1                                          20   \n2                                          23   \n3                                          15   \n4                                          19   \n...                                       ...   \n19745                                      22   \n19746                                      21   \n19747                                      23   \n19748                                      27   \n19749                                      29   \n\n      fft_imu_angularZ_right_local_maxima_count  \\\n0                                            44   \n1                                            45   \n2                                            43   \n3                                            42   \n4                                            41   \n...                                         ...   \n19745                                        39   \n19746                                        40   \n19747                                        42   \n19748                                        43   \n19749                                        40   \n\n      fft_imu_angularZ_right_skewness  fft_imu_angularZ_right_kurtosis  PD  \\\n0                            0.891896                         0.425542   1   \n1                            0.697991                        -0.387869   1   \n2                            0.806199                         1.182202   1   \n3                            1.069827                         0.077747   1   \n4                            0.504728                        -0.474809   1   \n...                               ...                              ...  ..   \n19745                        0.262316                        -0.762577   0   \n19746                        0.028537                        -1.077674   0   \n19747                       -0.065816                        -1.170728   0   \n19748                       -0.257296                        -0.991950   0   \n19749                       -0.189576                        -0.581062   0   \n\n       tremor  \n0           0  \n1           0  \n2           0  \n3           0  \n4           0  \n...       ...  \n19745       0  \n19746       0  \n19747       0  \n19748       0  \n19749       0  \n\n[16547 rows x 366 columns]",
      "text/html": "<div>\n<style scoped>\n    .dataframe tbody tr th:only-of-type {\n        vertical-align: middle;\n    }\n\n    .dataframe tbody tr th {\n        vertical-align: top;\n    }\n\n    .dataframe thead th {\n        text-align: right;\n    }\n</style>\n<table border=\"1\" class=\"dataframe\">\n  <thead>\n    <tr style=\"text-align: right;\">\n      <th></th>\n      <th>anon_id</th>\n      <th>date_measure</th>\n      <th>window_number</th>\n      <th>first_timestamp</th>\n      <th>fft_imu_gyroX_right_mean</th>\n      <th>fft_imu_gyroX_right_std</th>\n      <th>fft_imu_gyroX_right_mean_abs_dev</th>\n      <th>fft_imu_gyroX_right_min</th>\n      <th>fft_imu_gyroX_right_max</th>\n      <th>fft_imu_gyroX_right_range</th>\n      <th>...</th>\n      <th>fft_imu_angularZ_right_median_abs_dev</th>\n      <th>fft_imu_angularZ_right_interquartile_range</th>\n      <th>fft_imu_angularZ_right_negative_count</th>\n      <th>fft_imu_angularZ_right_positive_count</th>\n      <th>fft_imu_angularZ_right_above_mean_count</th>\n      <th>fft_imu_angularZ_right_local_maxima_count</th>\n      <th>fft_imu_angularZ_right_skewness</th>\n      <th>fft_imu_angularZ_right_kurtosis</th>\n      <th>PD</th>\n      <th>tremor</th>\n    </tr>\n  </thead>\n  <tbody>\n    <tr>\n      <th>0</th>\n      <td>9</td>\n      <td>2023-9-29-11-53-21</td>\n      <td>1</td>\n      <td>0.0</td>\n      <td>4492.082286</td>\n      <td>2398.058032</td>\n      <td>1853.206304</td>\n      <td>351.967162</td>\n      <td>10818.766878</td>\n      <td>10466.799716</td>\n      <td>...</td>\n      <td>1822.900955</td>\n      <td>3473.157916</td>\n      <td>0</td>\n      <td>50</td>\n      <td>23</td>\n      <td>44</td>\n      <td>0.891896</td>\n      <td>0.425542</td>\n      <td>1</td>\n      <td>0</td>\n    </tr>\n    <tr>\n      <th>1</th>\n      <td>9</td>\n      <td>2023-9-29-11-53-21</td>\n      <td>2</td>\n      <td>532.0</td>\n      <td>4264.240537</td>\n      <td>2839.961398</td>\n      <td>2047.382986</td>\n      <td>16.400323</td>\n      <td>12519.401740</td>\n      <td>12503.001417</td>\n      <td>...</td>\n      <td>1587.989902</td>\n      <td>3748.942714</td>\n      <td>0</td>\n      <td>50</td>\n      <td>20</td>\n      <td>45</td>\n      <td>0.697991</td>\n      <td>-0.387869</td>\n      <td>1</td>\n      <td>0</td>\n    </tr>\n    <tr>\n      <th>2</th>\n      <td>9</td>\n      <td>2023-9-29-11-53-21</td>\n      <td>3</td>\n      <td>1029.0</td>\n      <td>4044.778170</td>\n      <td>3058.455093</td>\n      <td>2368.328112</td>\n      <td>16.400323</td>\n      <td>12519.401740</td>\n      <td>12503.001417</td>\n      <td>...</td>\n      <td>1741.632405</td>\n      <td>3483.276467</td>\n      <td>0</td>\n      <td>50</td>\n      <td>23</td>\n      <td>43</td>\n      <td>0.806199</td>\n      <td>1.182202</td>\n      <td>1</td>\n      <td>0</td>\n    </tr>\n    <tr>\n      <th>3</th>\n      <td>9</td>\n      <td>2023-9-29-11-53-21</td>\n      <td>4</td>\n      <td>1587.0</td>\n      <td>3271.885272</td>\n      <td>2020.474359</td>\n      <td>1698.804177</td>\n      <td>115.992487</td>\n      <td>8035.638789</td>\n      <td>7919.646301</td>\n      <td>...</td>\n      <td>2066.071841</td>\n      <td>6365.668398</td>\n      <td>0</td>\n      <td>50</td>\n      <td>15</td>\n      <td>42</td>\n      <td>1.069827</td>\n      <td>0.077747</td>\n      <td>1</td>\n      <td>0</td>\n    </tr>\n    <tr>\n      <th>4</th>\n      <td>9</td>\n      <td>2023-9-29-11-53-21</td>\n      <td>5</td>\n      <td>2121.0</td>\n      <td>4497.486671</td>\n      <td>3248.411077</td>\n      <td>2613.529048</td>\n      <td>115.992487</td>\n      <td>13768.103200</td>\n      <td>13652.110712</td>\n      <td>...</td>\n      <td>3076.880150</td>\n      <td>6029.997347</td>\n      <td>0</td>\n      <td>50</td>\n      <td>19</td>\n      <td>41</td>\n      <td>0.504728</td>\n      <td>-0.474809</td>\n      <td>1</td>\n      <td>0</td>\n    </tr>\n    <tr>\n      <th>...</th>\n      <td>...</td>\n      <td>...</td>\n      <td>...</td>\n      <td>...</td>\n      <td>...</td>\n      <td>...</td>\n      <td>...</td>\n      <td>...</td>\n      <td>...</td>\n      <td>...</td>\n      <td>...</td>\n      <td>...</td>\n      <td>...</td>\n      <td>...</td>\n      <td>...</td>\n      <td>...</td>\n      <td>...</td>\n      <td>...</td>\n      <td>...</td>\n      <td>...</td>\n      <td>...</td>\n    </tr>\n    <tr>\n      <th>19745</th>\n      <td>179</td>\n      <td>2023-6-17-10-39-17</td>\n      <td>19746</td>\n      <td>38028.0</td>\n      <td>8970.762648</td>\n      <td>6562.960152</td>\n      <td>5687.150631</td>\n      <td>220.089905</td>\n      <td>22650.245743</td>\n      <td>22430.155838</td>\n      <td>...</td>\n      <td>7547.660381</td>\n      <td>15058.346713</td>\n      <td>0</td>\n      <td>50</td>\n      <td>22</td>\n      <td>39</td>\n      <td>0.262316</td>\n      <td>-0.762577</td>\n      <td>0</td>\n      <td>0</td>\n    </tr>\n    <tr>\n      <th>19746</th>\n      <td>179</td>\n      <td>2023-6-17-10-39-17</td>\n      <td>19747</td>\n      <td>39053.0</td>\n      <td>8237.769279</td>\n      <td>6322.666756</td>\n      <td>5462.910166</td>\n      <td>220.089905</td>\n      <td>21838.377130</td>\n      <td>21618.287225</td>\n      <td>...</td>\n      <td>7206.614410</td>\n      <td>14317.339562</td>\n      <td>0</td>\n      <td>50</td>\n      <td>21</td>\n      <td>40</td>\n      <td>0.028537</td>\n      <td>-1.077674</td>\n      <td>0</td>\n      <td>0</td>\n    </tr>\n    <tr>\n      <th>19747</th>\n      <td>179</td>\n      <td>2023-6-17-10-39-17</td>\n      <td>19748</td>\n      <td>40080.0</td>\n      <td>8964.414573</td>\n      <td>6346.216096</td>\n      <td>5533.135825</td>\n      <td>324.519139</td>\n      <td>21838.377130</td>\n      <td>21513.857991</td>\n      <td>...</td>\n      <td>7169.289691</td>\n      <td>13825.596914</td>\n      <td>0</td>\n      <td>50</td>\n      <td>23</td>\n      <td>42</td>\n      <td>-0.065816</td>\n      <td>-1.170728</td>\n      <td>0</td>\n      <td>0</td>\n    </tr>\n    <tr>\n      <th>19748</th>\n      <td>179</td>\n      <td>2023-6-17-10-39-17</td>\n      <td>19749</td>\n      <td>41105.0</td>\n      <td>10376.550930</td>\n      <td>6919.783178</td>\n      <td>5824.883175</td>\n      <td>617.791034</td>\n      <td>28002.682260</td>\n      <td>27384.891226</td>\n      <td>...</td>\n      <td>6521.136522</td>\n      <td>13467.595976</td>\n      <td>0</td>\n      <td>50</td>\n      <td>27</td>\n      <td>43</td>\n      <td>-0.257296</td>\n      <td>-0.991950</td>\n      <td>0</td>\n      <td>0</td>\n    </tr>\n    <tr>\n      <th>19749</th>\n      <td>179</td>\n      <td>2023-6-17-10-39-17</td>\n      <td>19750</td>\n      <td>42131.0</td>\n      <td>9835.403128</td>\n      <td>6842.828080</td>\n      <td>5753.970896</td>\n      <td>1396.166190</td>\n      <td>28002.682260</td>\n      <td>26606.516070</td>\n      <td>...</td>\n      <td>5638.689148</td>\n      <td>9647.449308</td>\n      <td>0</td>\n      <td>50</td>\n      <td>29</td>\n      <td>40</td>\n      <td>-0.189576</td>\n      <td>-0.581062</td>\n      <td>0</td>\n      <td>0</td>\n    </tr>\n  </tbody>\n</table>\n<p>16547 rows × 366 columns</p>\n</div>"
     },
     "execution_count": 68,
     "metadata": {},
     "output_type": "execute_result"
    }
   ],
   "source": [
    "tremor_data.drop(columns=dropable_columns)"
   ],
   "metadata": {
    "collapsed": false,
    "ExecuteTime": {
     "end_time": "2024-04-12T04:03:21.700279Z",
     "start_time": "2024-04-12T04:03:21.504023Z"
    }
   },
   "id": "bbdf87f90755b926",
   "execution_count": 68
  },
  {
   "cell_type": "markdown",
   "source": [
    "## Feature Selection"
   ],
   "metadata": {
    "collapsed": false
   },
   "id": "b505084e97f1ba2d"
  },
  {
   "cell_type": "code",
   "outputs": [],
   "source": [
    "correlation = tremor_data[tremor_data.columns.tolist()[4:]].corr().abs()['tremor']"
   ],
   "metadata": {
    "collapsed": false,
    "ExecuteTime": {
     "end_time": "2024-04-12T04:03:57.395497Z",
     "start_time": "2024-04-12T04:03:21.704329Z"
    }
   },
   "id": "b8785e4eb8548370",
   "execution_count": 69
  },
  {
   "cell_type": "code",
   "outputs": [
    {
     "data": {
      "text/plain": "[0.00020844821249725828,\n 0.01059072700510842,\n 0.01059072700510842,\n 0.01608568393873651,\n 0.023277415622920017,\n 0.02853425332295113,\n 0.030929596895278025,\n 0.052445142413611964,\n 0.05469738538235348,\n 0.05524962207648962,\n 0.057369794494938356,\n 0.07471795381490369,\n 0.07494998243281316,\n 0.07775979225612946,\n 0.08089291920332324,\n 0.08386413871432002,\n 0.08744033410269031,\n 0.08807953547609837,\n 0.09266781167615153,\n 0.09331851711027872,\n 0.10120695551720389,\n 0.1891228573123642,\n 0.1906451770941583,\n 0.19571116856145848,\n 0.20119171168846894,\n 0.20782010278375246,\n 0.2115795930015944,\n 0.2210697466083073,\n 0.22673352728612278,\n 0.22675808412039986,\n 0.2460527901682587,\n 0.26587400355727325,\n nan,\n nan,\n 0.005930540802842902,\n 0.01059072700510842,\n 0.01059072700510842,\n 0.015960919433734226,\n 0.017538719810670483,\n 0.020594055949266356,\n 0.02575923937746348,\n 0.029591125124137103,\n 0.03193808955658481,\n 0.03884576288480581,\n 0.03989200264007158,\n 0.04385401093994303,\n 0.04460268585346606,\n 0.04843404480675467,\n 0.0496691125305761,\n 0.05133183520819438,\n 0.051526960537699895,\n 0.055400313313941664,\n 0.05564843088046436,\n 0.057211129675798875,\n 0.1317949747615104,\n 0.13463622845749565,\n 0.15998301147395366,\n 0.16313781259510515,\n 0.17158794739153177,\n 0.185072325020339,\n 0.20026118305335877,\n 0.20166794898640125,\n 0.20418385002953712,\n 0.21959887673066958,\n 0.23368952494818562,\n 0.2402401173783732,\n nan,\n nan,\n 0.19716145978883884,\n nan,\n 0.003789984147791029,\n 0.008504542850369874,\n 0.010184512045409719,\n 0.01059072700510842,\n 0.01059072700510842,\n 0.01059072700510842,\n 0.016323223853102975,\n 0.02050964138886961,\n 0.030180574412531094,\n 0.0317260261125104,\n 0.03211882430514874,\n 0.0351668324067282,\n 0.03554666208033874,\n 0.03640035867172335,\n 0.04323782660203247,\n 0.047810109876725605,\n 0.05137879605900891,\n 0.06109685040345681,\n 0.0629956149090536,\n 0.07785703005689068,\n 0.07945305403693301,\n 0.07983377147912833,\n nan,\n 0.10248642737343933,\n 0.10653013702227972,\n 0.11374024577757183,\n 0.11889037291111995,\n 0.12529229818059895,\n 0.14043146590171804,\n 0.14189613723897476,\n 0.14934560209186185,\n nan,\n 0.003617512161786992,\n 0.007836138245113084,\n 0.009471479070850917,\n 0.01059072700510842,\n 0.01059072700510842,\n 0.012921625642326665,\n 0.015518978966984686,\n 0.019938793307599772,\n 0.020610503816624735,\n 0.02733460449962417,\n 0.03019837161392676,\n 0.030204408948677177,\n 0.03214505587546994,\n 0.03322944701753665,\n 0.036660594401244626,\n 0.040496382369314875,\n 0.048406904185765307,\n 0.049316326687258855,\n 0.05248534448354771,\n 0.05748246600305984,\n 0.05907271130028182,\n 0.05936334979706659,\n 0.06572431741337076,\n 0.07288785285434918,\n nan,\n 0.09599826638139315,\n 0.0982811462363407,\n 0.10882542114399482,\n 0.10901041940705632,\n 0.11274263401313461,\n 0.11456551490590489,\n 0.11700752595448431,\n 0.12543385407865346,\n nan,\n 0.00025457693107390706,\n 0.002630395290797116,\n 0.003841044268796773,\n 0.010348251601285661,\n 0.01059072700510842,\n 0.012309486942177822,\n 0.014809498843014642,\n 0.022888968489010873,\n 0.024420213010013334,\n 0.027535356723996495,\n 0.029297895402415855,\n 0.03330980034270564,\n 0.03367433878836917,\n 0.040039881902334006,\n 0.04972810268514514,\n 0.05048276728856123,\n nan,\n 0.01059072700510842,\n 0.021863655598954135,\n 0.039248503152025195,\n 0.05333051517983384,\n 0.06047143342232816,\n 0.06314119313270292,\n 0.06653834580065848,\n 0.06698225998633445,\n 0.07894439825945407,\n 0.08004094315044041,\n 0.08476221423511843,\n 0.08590902862740854,\n 0.09283726849770656,\n 0.09409952676035975,\n 0.10180694374035605,\n 0.10827705634739368,\n nan,\n 0.0005776343368003415,\n 0.0028100755035995605,\n 0.004342074621864465,\n 0.022824214190886902,\n nan,\n 0.007435040558880134,\n 0.009198314060301478,\n 0.01059072700510842,\n 0.01059072700510842,\n 0.01671944618136022,\n 0.022173987764017744,\n 0.02598325966149758,\n 0.02620671199343761,\n 0.027849206141939194,\n 0.02956934184734676,\n 0.030525924546418563,\n 0.03382202437568402,\n 0.03450866732520614,\n 0.03566459378524908,\n 0.03662202951393321,\n 0.038203226662692824,\n 0.05704922783181907,\n 0.06157447430627421,\n 0.06461803436793094,\n 0.06722400992268782,\n 0.06822156589996928,\n 0.06877580020201024,\n 0.07870513133339432,\n 0.08275433814299651,\n 0.08752322257906348,\n 0.09183760589170631,\n 0.09765699948926024,\n 0.09830767165714012,\n nan,\n nan,\n 0.0015609898195289341,\n 0.003965322477884842,\n 0.01059072700510842,\n 0.01059072700510842,\n 0.01059072700510842,\n 0.010876053736056756,\n 0.010893734006910696,\n 0.011843007684829675,\n 0.023818201280842884,\n 0.03076835256620728,\n 0.0309753471613072,\n 0.03134059924013889,\n 0.03421319551998923,\n 0.04266887146245118,\n 0.0435124779441626,\n 0.04402479043195493,\n 0.04719061877456407,\n 0.04816067778602658,\n 0.054744651737240684,\n 0.056136894818148,\n 0.05682240067708076,\n 0.05785377088430659,\n 0.06133334699423904,\n 0.1455969978381852,\n 0.1481761535012938,\n 0.15225649685360645,\n 0.15234671422528545,\n 0.16687184696679583,\n 0.1729614261671428,\n 0.1779599341152431,\n 0.18603064606739178,\n nan,\n nan,\n 0.006373540170392491,\n 0.007274580398633386,\n 0.01059072700510842,\n 0.01059072700510842,\n 0.010829107332533087,\n 0.016195120964491393,\n 0.01898517758053555,\n 0.023095661641029216,\n 0.024441918369598636,\n 0.025875298925244084,\n 0.027231616854143534,\n 0.02886983724430673,\n 0.029396787193090804,\n 0.033093861194430155,\n 0.03692578261299797,\n 0.0466184157678504,\n 0.0519945704226499,\n 0.06425215849075201,\n 0.07744050612512723,\n 0.0791088919195726,\n 0.09341909357080198,\n 0.10360278512111128,\n 0.14252706240708618,\n 0.1449784189677977,\n 0.1680545021559251,\n 0.17974969337507585,\n 0.19216115112417473,\n 0.2093996386398738,\n 0.21101714656073375,\n 0.2179189963849947,\n 0.22276343978368054,\n 0.23653578273007,\n nan,\n nan,\n 0.0063735401703924445,\n 0.007274580398633253,\n 0.008370950524504615,\n 0.01059072700510842,\n 0.01059072700510842,\n 0.010829107332533087,\n 0.01619512096449135,\n 0.01898517758053558,\n 0.02309566164102917,\n 0.024441918369598588,\n 0.02587529892524409,\n 0.02723161685414349,\n 0.029396787193090804,\n 0.033093861194430196,\n 0.04021731605892981,\n 0.04661841576785037,\n 0.05199457042264993,\n 0.05431157761842602,\n 0.0662498452744242,\n 0.06786914883330433,\n 0.0934190935708019,\n 0.1425270624070861,\n 0.14497841896779773,\n 0.1635715785993626,\n 0.16577107661871768,\n 0.16935225263702516,\n 0.17026849409936035,\n 0.17974969337507576,\n 0.18193866717326668,\n 0.1921611511241747,\n 0.21791899638499476,\n 0.22398288592955257,\n nan,\n nan,\n 0.01059072700510842,\n 0.01059072700510842,\n 0.010876053736056794,\n 0.010893734006910696,\n 0.011843007684829715,\n 0.028869837244306657,\n 0.030768352566207212,\n 0.03097534716130702,\n 0.03134059924013889,\n 0.03692578261299797,\n 0.04266887146245109,\n 0.044024790431954855,\n 0.047190618774564076,\n 0.048160677786026514,\n 0.0561368948181481,\n 0.0578537708843065,\n 0.064252158490752,\n 0.07744050612512723,\n 0.07910889191957257,\n 0.10360278512111099,\n 0.14559699783818514,\n 0.1481761535012938,\n 0.15225649685360654,\n 0.15234671422528565,\n 0.16687184696679597,\n 0.17296142616714283,\n 0.1779599341152432,\n 0.18603064606739164,\n 0.20939963863987382,\n 0.22276343978368063,\n 0.23653578273006992,\n nan,\n nan,\n nan,\n 0.0015609898195289341,\n 0.003965322477884842,\n 0.007435040558880033,\n 0.00919831406030164,\n 0.01059072700510842,\n 0.01059072700510842,\n 0.01059072700510842,\n 0.01671944618136021,\n 0.02217398776401781,\n 0.023818201280842884,\n 0.025983259661497515,\n 0.026206711993437624,\n 0.027849206141939194,\n 0.02956934184734673,\n 0.0338220243756841,\n 0.03421319551998906,\n 0.03450866732520614,\n 0.035664593785249096,\n 0.03662202951393321,\n 0.04351247794416257,\n 0.054744651737240684,\n 0.05682240067708079,\n 0.06133334699423892,\n nan,\n 0.06722400992268782,\n 0.06822156589996928,\n 0.06877580020201024,\n 0.07870513133339432,\n 0.08275433814299651,\n 0.08752322257906348,\n 0.09183760589170631,\n 0.09765699948926024,\n 0.09830767165714012,\n nan,\n 0.00025457693107392115,\n 0.0005776343368003347,\n 0.002630395290797103,\n 0.0028100755035995453,\n 0.0038410442687968355,\n 0.004342074621864358,\n 0.010348251601285626,\n 0.01059072700510842,\n 0.01059072700510842,\n 0.014809498843014678,\n 0.02186365559895426,\n 0.022824214190886937,\n 0.030204408948677146,\n 0.03367433878836912,\n 0.038203226662692824,\n 0.039248503152025195,\n 0.040039881902333936,\n 0.05333051517983384,\n 0.05704922783181925,\n 0.06461803436793094,\n nan,\n 0.030525924546418563,\n 0.060471433422328136,\n 0.06157447430627434,\n 0.0631411931327029,\n 0.07894439825945411,\n 0.08004094315044052,\n 0.08476221423511836,\n 0.08590902862740853,\n 0.09283726849770646,\n 0.09409952676035985,\n 0.10180694374035588,\n 0.1082770563473936,\n nan,\n 0.01059072700510842,\n 0.01059072700510842,\n 0.012309486942177799,\n 0.012921625642326665,\n 0.0155189789669846,\n 0.019938793307599678,\n 0.020610503816624673,\n 0.022888968489010897,\n 0.02442021301001334,\n 0.02753535672399646,\n 0.029297895402415855,\n 0.030198371613926855,\n 0.03330980034270564,\n 0.04972810268514511,\n 0.050482767288561145,\n nan,\n 0.02733460449962417,\n 0.03214505587546994,\n 0.03322944701753668,\n 0.036660594401244646,\n 0.049316326687258855,\n 0.05748246600305984,\n 0.0590727113002819,\n 0.06653834580065873,\n 0.06698225998633442,\n 0.09599826638139329,\n 0.09828114623634056,\n 0.10882542114399481,\n 0.10901041940705633,\n 0.11274263401313471,\n 0.11456551490590498,\n 0.11700752595448445,\n 0.12543385407865354,\n nan,\n 0.0036175121617870896,\n 0.007836138245113118,\n nan,\n 0.00850454285036988,\n 0.009471479070850917,\n 0.010184512045409733,\n 0.01059072700510842,\n 0.01059072700510842,\n 0.01059072700510842,\n 0.01632322385310302,\n 0.020509641388869584,\n 0.030180574412531268,\n 0.031726026112510394,\n 0.03211882430514869,\n 0.03640035867172334,\n 0.04049638236931498,\n 0.047810109876725605,\n 0.048406904185765307,\n 0.05137879605900907,\n 0.05248534448354771,\n 0.059363349797066624,\n 0.06572431741337074,\n 0.07288785285434914,\n 0.07785703005689068,\n 0.10248642737343935,\n 0.10653013702227969,\n 0.11374024577757179,\n 0.11889037291112012,\n 0.12529229818059875,\n 0.1404314659017181,\n 0.14189613723897487,\n 0.14934560209186193,\n nan,\n nan,\n 0.003789984147791029,\n 0.01059072700510842,\n 0.01059072700510842,\n 0.015960919433734226,\n 0.01753871981067041,\n 0.020594055949266266,\n 0.025759239377463397,\n 0.029591125124137103,\n 0.03193808955658481,\n 0.03516683240672818,\n 0.03554666208033874,\n 0.03884576288480589,\n 0.03989200264007151,\n 0.04323782660203247,\n 0.04460268585346602,\n 0.048434044806754624,\n 0.04966911253057606,\n 0.05133183520819447,\n 0.051526960537699985,\n 0.057211129675799006,\n 0.06109685040345681,\n 0.0629956149090535,\n 0.07945305403693297,\n 0.07983377147912835,\n 0.13179497476151059,\n 0.13463622845749576,\n 0.1599830114739537,\n 0.16313781259510507,\n 0.17158794739153174,\n 0.18507232502033893,\n 0.1971614597888388,\n 0.20166794898640128,\n nan,\n nan,\n 0.005930540802842902,\n 0.01059072700510842,\n 0.01059072700510842,\n 0.01608568393873649,\n 0.023277415622920017,\n 0.02853425332295113,\n 0.030929596895277932,\n 0.04385401093994303,\n 0.052445142413612006,\n 0.05469738538235357,\n 0.055400313313941595,\n 0.055648430880464395,\n 0.07494998243281323,\n 0.07775979225612949,\n 0.08089291920332335,\n 0.08386413871432,\n 0.08744033410269032,\n 0.08807953547609844,\n 0.09266781167615162,\n 0.09331851711027882,\n 0.2002611830533589,\n 0.20418385002953707,\n 0.21157959300159432,\n 0.21959887673066972,\n 0.2210697466083073,\n 0.2267580841203999,\n 0.23368952494818573,\n 0.24024011737837309,\n nan,\n nan,\n 0.4971570493769254,\n 1.0]"
     },
     "execution_count": 70,
     "metadata": {},
     "output_type": "execute_result"
    }
   ],
   "source": [
    "sorted(correlation.tolist())"
   ],
   "metadata": {
    "collapsed": false,
    "ExecuteTime": {
     "end_time": "2024-04-12T04:03:57.441565Z",
     "start_time": "2024-04-12T04:03:57.401975Z"
    }
   },
   "id": "4c547e8357f930aa",
   "execution_count": 70
  },
  {
   "cell_type": "code",
   "outputs": [
    {
     "data": {
      "text/plain": "['PD', 'tremor']"
     },
     "execution_count": 71,
     "metadata": {},
     "output_type": "execute_result"
    }
   ],
   "source": [
    "best_correlations_columns = []\n",
    "for index, value in correlation.items():\n",
    "    if value > 0.3:\n",
    "        best_correlations_columns.append(index)\n",
    "\n",
    "best_correlations_columns"
   ],
   "metadata": {
    "collapsed": false,
    "ExecuteTime": {
     "end_time": "2024-04-12T04:03:57.472675Z",
     "start_time": "2024-04-12T04:03:57.448064Z"
    }
   },
   "id": "2fd9779404a3aefb",
   "execution_count": 71
  },
  {
   "cell_type": "code",
   "outputs": [
    {
     "data": {
      "text/plain": "2"
     },
     "execution_count": 72,
     "metadata": {},
     "output_type": "execute_result"
    }
   ],
   "source": [
    "len(best_correlations_columns)"
   ],
   "metadata": {
    "collapsed": false,
    "ExecuteTime": {
     "end_time": "2024-04-12T04:03:57.503341Z",
     "start_time": "2024-04-12T04:03:57.477360Z"
    }
   },
   "id": "c0ebb13a51758681",
   "execution_count": 72
  },
  {
   "cell_type": "code",
   "outputs": [
    {
     "data": {
      "text/plain": "<Axes: >"
     },
     "execution_count": 73,
     "metadata": {},
     "output_type": "execute_result"
    },
    {
     "data": {
      "text/plain": "<Figure size 640x480 with 2 Axes>",
      "image/png": "[encoded data removed]"
     },
     "metadata": {},
     "output_type": "display_data"
    }
   ],
   "source": [
    "tremor_data = tremor_data[best_correlations_columns]\n",
    "sns.heatmap(tremor_data.corr(), annot = True, vmin=-1, vmax=1, center= 0, cmap= 'coolwarm')"
   ],
   "metadata": {
    "collapsed": false,
    "ExecuteTime": {
     "end_time": "2024-04-12T04:03:58.589095Z",
     "start_time": "2024-04-12T04:03:57.508757Z"
    }
   },
   "id": "1535764896e2afa7",
   "execution_count": 73
  },
  {
   "cell_type": "markdown",
   "source": [
    "### Drop of highly correlated columns"
   ],
   "metadata": {
    "collapsed": false
   },
   "id": "1e9c60c26ac5d616"
  },
  {
   "cell_type": "code",
   "outputs": [
    {
     "data": {
      "text/plain": "[]"
     },
     "execution_count": 74,
     "metadata": {},
     "output_type": "execute_result"
    }
   ],
   "source": [
    "correlation = tremor_data.corr().abs()\n",
    "upper = correlation.where(np.triu(np.ones(correlation.shape), k=1).astype(bool))\n",
    "to_drop = [column for column in upper.columns if any(upper[column] > 0.95)]\n",
    "to_drop"
   ],
   "metadata": {
    "collapsed": false,
    "ExecuteTime": {
     "end_time": "2024-04-12T04:03:58.663030Z",
     "start_time": "2024-04-12T04:03:58.599174Z"
    }
   },
   "id": "885e5f1515d7b716",
   "execution_count": 74
  },
  {
   "cell_type": "code",
   "outputs": [
    {
     "data": {
      "text/plain": "0"
     },
     "execution_count": 75,
     "metadata": {},
     "output_type": "execute_result"
    }
   ],
   "source": [
    "len(to_drop)"
   ],
   "metadata": {
    "collapsed": false,
    "ExecuteTime": {
     "end_time": "2024-04-12T04:03:58.740991Z",
     "start_time": "2024-04-12T04:03:58.675529Z"
    }
   },
   "id": "12d1cb94050a0527",
   "execution_count": 75
  },
  {
   "cell_type": "code",
   "outputs": [],
   "source": [
    "tremor_data.drop(to_drop, axis=1, inplace=True)"
   ],
   "metadata": {
    "collapsed": false,
    "ExecuteTime": {
     "end_time": "2024-04-12T04:03:58.802215Z",
     "start_time": "2024-04-12T04:03:58.770017Z"
    }
   },
   "id": "541d67da2386054f",
   "execution_count": 76
  },
  {
   "cell_type": "code",
   "outputs": [],
   "source": [
    "#PD is not the target of this module so it will be deleted\n",
    "tremor_data.drop(columns=['PD'], inplace=True)"
   ],
   "metadata": {
    "collapsed": false,
    "ExecuteTime": {
     "end_time": "2024-04-12T04:03:58.833332Z",
     "start_time": "2024-04-12T04:03:58.809327Z"
    }
   },
   "id": "48d859e28bf7425a",
   "execution_count": 77
  },
  {
   "cell_type": "code",
   "outputs": [
    {
     "data": {
      "text/plain": "<Axes: >"
     },
     "execution_count": 78,
     "metadata": {},
     "output_type": "execute_result"
    },
    {
     "data": {
      "text/plain": "<Figure size 640x480 with 2 Axes>",
      "image/png": "[encoded data removed]"
     },
     "metadata": {},
     "output_type": "display_data"
    }
   ],
   "source": [
    "sns.heatmap(tremor_data.corr(), annot = True, vmin=-1, vmax=1, center= 0, cmap= 'viridis')"
   ],
   "metadata": {
    "collapsed": false,
    "ExecuteTime": {
     "end_time": "2024-04-12T04:03:59.721254Z",
     "start_time": "2024-04-12T04:03:58.838581Z"
    }
   },
   "id": "4fab81a7c7d8f8ea",
   "execution_count": 78
  },
  {
   "cell_type": "markdown",
   "source": [
    "## Save data\n",
    "\n",
    "Due to any characteristic is correlated in more than 0.3 to the target value, this features dataset will not be stored."
   ],
   "metadata": {
    "collapsed": false
   },
   "id": "5497fbff85371a4e"
  },
  {
   "cell_type": "code",
   "outputs": [],
   "source": [
    "#save_and_split(tremor_data, 'tremor-fft-features')"
   ],
   "metadata": {
    "collapsed": false,
    "ExecuteTime": {
     "end_time": "2024-04-11T21:39:20.919019Z",
     "start_time": "2024-04-11T21:39:20.245646Z"
    }
   },
   "id": "6dd6c24565e1e21e",
   "execution_count": 57
  }
 ],
 "metadata": {
  "kernelspec": {
   "display_name": "Python 3",
   "language": "python",
   "name": "python3"
  },
  "language_info": {
   "codemirror_mode": {
    "name": "ipython",
    "version": 2
   },
   "file_extension": ".py",
   "mimetype": "text/x-python",
   "name": "python",
   "nbconvert_exporter": "python",
   "pygments_lexer": "ipython2",
   "version": "2.7.6"
  }
 },
 "nbformat": 4,
 "nbformat_minor": 5
}
