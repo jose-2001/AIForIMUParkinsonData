{
 "cells": [
  {
   "cell_type": "code",
   "execution_count": 1,
   "id": "initial_id",
   "metadata": {
    "collapsed": true,
    "ExecuteTime": {
     "end_time": "2024-03-03T00:36:05.708714Z",
     "start_time": "2024-03-03T00:36:04.941963Z"
    }
   },
   "outputs": [
    {
     "name": "stdout",
     "output_type": "stream",
     "text": [
      "Index(['anon_id', 'date_measure', 'time_stamp', 'imu_accX_right',\n",
      "       'imu_accX_left'],\n",
      "      dtype='object')\n"
     ]
    }
   ],
   "source": [
    "import numpy as np\n",
    "import pandas as pd\n",
    "from src.settings  import ROOT_DIR\n",
    "\n",
    "data: pd.DataFrame = pd.read_pickle(ROOT_DIR / 'data' / 'raw' / 'anon_imu_data_time_series.pkl')\n",
    "used_columns = ['anon_id', 'date_measure', 'time_stamp', 'imu_accX_right', 'imu_accX_left']\n",
    "data = data[used_columns]\n",
    "print(data.columns)"
   ]
  },
  {
   "cell_type": "code",
   "outputs": [
    {
     "name": "stdout",
     "output_type": "stream",
     "text": [
      "      anon_id       date_measure  time_stamp  imu_accX_right  imu_accX_left  \\\n",
      "1563      193  2023-8-4-11-52-39     32190.0        9.622112       9.355630   \n",
      "1564      193  2023-8-4-11-52-39     32210.0        9.928983       9.257998   \n",
      "1565      193  2023-8-4-11-52-39     32229.0       10.822164       9.209323   \n",
      "1566      193  2023-8-4-11-52-39     32249.0       12.011940       9.158715   \n",
      "1567      193  2023-8-4-11-52-39     32272.0       13.027627       9.061283   \n",
      "\n",
      "           combined_id_date  \n",
      "1563  193_2023-8-4-11-52-39  \n",
      "1564  193_2023-8-4-11-52-39  \n",
      "1565  193_2023-8-4-11-52-39  \n",
      "1566  193_2023-8-4-11-52-39  \n",
      "1567  193_2023-8-4-11-52-39  \n"
     ]
    }
   ],
   "source": [
    "data['combined_id_date'] = data['anon_id'].astype(str) + '_' + data['date_measure'].astype(str)\n",
    "print(data.tail())"
   ],
   "metadata": {
    "collapsed": false,
    "ExecuteTime": {
     "end_time": "2024-03-03T00:36:14.344271Z",
     "start_time": "2024-03-03T00:36:13.888624Z"
    }
   },
   "id": "41e835ee35a19f46",
   "execution_count": 2
  },
  {
   "cell_type": "code",
   "outputs": [],
   "source": [
    "df=data.copy()"
   ],
   "metadata": {
    "collapsed": false,
    "ExecuteTime": {
     "end_time": "2024-03-03T00:36:25.355338Z",
     "start_time": "2024-03-03T00:36:25.300381Z"
    }
   },
   "id": "76dbfd280aef2939",
   "execution_count": 3
  },
  {
   "cell_type": "code",
   "outputs": [
    {
     "name": "stdout",
     "output_type": "stream",
     "text": [
      "Index(['combined_id_date', 'total_energy_right', 'total_energy_left'], dtype='object')\n"
     ]
    }
   ],
   "source": [
    "# Suponiendo que tu DataFrame se llama df\n",
    "# Asegúrate de tener numpy y pandas instalados: pip install numpy pandas\n",
    "\n",
    "# Agrupa los datos por 'date_measure'\n",
    "grouped_data = df.groupby('combined_id_date')\n",
    "\n",
    "# Inicializa listas para almacenar los resultados\n",
    "energy_data = []\n",
    "\n",
    "# Itera sobre cada grupo\n",
    "for combined_id_date, group in grouped_data:\n",
    "    # Obtén las señales de aceleración de ambos lados\n",
    "    accX_right = group['imu_accX_right'].values\n",
    "    accX_left = group['imu_accX_left'].values\n",
    "\n",
    "    # Calcula la FFT de cada señal de aceleración\n",
    "    fft_result_right = np.fft.fft(accX_right)\n",
    "    fft_result_left = np.fft.fft(accX_left)\n",
    "\n",
    "    # Calcula la magnitud de la FFT (utiliza np.abs para obtener el valor absoluto)\n",
    "    fft_magnitude_right = np.abs(fft_result_right)\n",
    "    fft_magnitude_left = np.abs(fft_result_left)\n",
    "\n",
    "    # Calcula la energía total para cada acelerómetro\n",
    "    total_energy_right = np.sum(fft_magnitude_right)\n",
    "    total_energy_left = np.sum(fft_magnitude_left)\n",
    "\n",
    "    # Almacena la energía total en la lista\n",
    "    energy_data.append({'combined_id_date': combined_id_date, 'total_energy_right': total_energy_right, 'total_energy_left': total_energy_left})\n",
    "\n",
    "# Convierte la lista de resultados en un DataFrame\n",
    "energy_df = pd.DataFrame(energy_data)\n",
    "\n",
    "# Imprime el DataFrame con la energía total por medida\n",
    "print(energy_df.columns)"
   ],
   "metadata": {
    "collapsed": false,
    "ExecuteTime": {
     "end_time": "2024-03-03T00:44:04.718625Z",
     "start_time": "2024-03-03T00:44:04.487936Z"
    }
   },
   "id": "59717c9b4b9113bd",
   "execution_count": 6
  },
  {
   "cell_type": "code",
   "outputs": [
    {
     "name": "stdout",
     "output_type": "stream",
     "text": [
      "        combined_id_date  total_energy_right  total_energy_left\n",
      "12  10_2023-6-22-10-28-8        85653.639433      115495.635742\n"
     ]
    }
   ],
   "source": [
    "# Suponiendo que 'energy_df' es tu DataFrame con los resultados de energía\n",
    "specific_combined_id_date = '10_2023-6-22-10-28-8'\n",
    "\n",
    "# Filtra el DataFrame para obtener solo las filas correspondientes a la fecha específica\n",
    "specific_specific_combined_id_date_data = energy_df.loc[energy_df['combined_id_date'] == specific_combined_id_date]\n",
    "\n",
    "# Muestra los resultados\n",
    "print(specific_specific_combined_id_date_data)\n"
   ],
   "metadata": {
    "collapsed": false,
    "ExecuteTime": {
     "end_time": "2024-03-03T00:48:48.813966Z",
     "start_time": "2024-03-03T00:48:48.802948Z"
    }
   },
   "id": "316f339933357d84",
   "execution_count": 7
  },
  {
   "cell_type": "code",
   "outputs": [],
   "source": [],
   "metadata": {
    "collapsed": false
   },
   "id": "bf2446d18dce5a7a"
  }
 ],
 "metadata": {
  "kernelspec": {
   "display_name": "Python 3",
   "language": "python",
   "name": "python3"
  },
  "language_info": {
   "codemirror_mode": {
    "name": "ipython",
    "version": 2
   },
   "file_extension": ".py",
   "mimetype": "text/x-python",
   "name": "python",
   "nbconvert_exporter": "python",
   "pygments_lexer": "ipython2",
   "version": "2.7.6"
  }
 },
 "nbformat": 4,
 "nbformat_minor": 5
}
