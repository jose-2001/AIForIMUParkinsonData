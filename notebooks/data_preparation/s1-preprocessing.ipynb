{
 "cells": [
  {
   "cell_type": "markdown",
   "source": [
    "Se carga y selecciona datos de dos fuentes diferentes (una con los datos de las IMUs y otra con datos de la evaluación de los pacientes MDS UPDRS), se selecciona columnas específicas de los datos y se asigna los subconjuntos de datos resultantes a las variables data y patientsMds, respectivamente."
   ],
   "metadata": {
    "collapsed": false
   },
   "id": "4578d299642d9e7c"
  },
  {
   "cell_type": "code",
   "execution_count": 22,
   "id": "initial_id",
   "metadata": {
    "collapsed": true,
    "ExecuteTime": {
     "end_time": "2024-03-21T22:42:12.806598Z",
     "start_time": "2024-03-21T22:42:12.376311Z"
    }
   },
   "outputs": [
    {
     "name": "stdout",
     "output_type": "stream",
     "text": [
      "Index(['anon_id', 'date_measure', 'time_stamp', 'imu_accX_right',\n",
      "       'imu_accX_left', 'PD'],\n",
      "      dtype='object')\n"
     ]
    }
   ],
   "source": [
    "import numpy as np\n",
    "import pandas as pd\n",
    "from src.settings  import ROOT_DIR\n",
    "\n",
    "data: pd.DataFrame = pd.read_pickle(ROOT_DIR / 'data' / 'processed' / 'anon_imu_data_time_series_cleaned.pkl')\n",
    "used_columns = ['anon_id', 'date_measure', 'time_stamp', 'imu_accX_right', 'imu_accX_left','PD']\n",
    "data = data[used_columns]\n",
    "print(data.columns)\n",
    "patientsMds:pd.DataFrame = pd.read_excel(ROOT_DIR / 'data' / 'raw' / 'patients_mdsupdrs_results.xlsx')\n",
    "patientsMds_used_columns = ['Cédula','Temblor postural – Mano derecha','Temblor postural – Mano izquierda','Temblor de acción – Mano derecha','Temblor de acción – Mano izquierda']"
   ]
  },
  {
   "cell_type": "markdown",
   "source": [
    "Se crea un nuevo campo para no depender de la fecha para diferenciar cada muestra."
   ],
   "metadata": {
    "collapsed": false
   },
   "id": "aceb61e547ba477"
  },
  {
   "cell_type": "code",
   "outputs": [
    {
     "name": "stdout",
     "output_type": "stream",
     "text": [
      "       anon_id        date_measure  time_stamp  imu_accX_right  imu_accX_left  \\\n",
      "494723     179  2023-6-17-10-39-17     44757.0        8.601266       8.963518   \n",
      "494724     179  2023-6-17-10-39-17     44798.0        7.113219       9.182925   \n",
      "494725     179  2023-6-17-10-39-17     44839.0        5.800859       9.556166   \n",
      "494726     179  2023-6-17-10-39-17     44880.0        5.117749       9.967539   \n",
      "494727     179  2023-6-17-10-39-17     44900.0        5.303877      10.260220   \n",
      "\n",
      "        PD        combined_id_date  \n",
      "494723   0  179_2023-6-17-10-39-17  \n",
      "494724   0  179_2023-6-17-10-39-17  \n",
      "494725   0  179_2023-6-17-10-39-17  \n",
      "494726   0  179_2023-6-17-10-39-17  \n",
      "494727   0  179_2023-6-17-10-39-17  \n"
     ]
    }
   ],
   "source": [
    "data['combined_id_date'] = data['anon_id'].astype(str) + '_' + data['date_measure'].astype(str)\n",
    "print(data.tail())"
   ],
   "metadata": {
    "collapsed": false,
    "ExecuteTime": {
     "end_time": "2024-03-21T22:42:13.067643Z",
     "start_time": "2024-03-21T22:42:12.812123Z"
    }
   },
   "id": "41e835ee35a19f46",
   "execution_count": 23
  },
  {
   "cell_type": "markdown",
   "source": [
    "Se realiza el cálculo de energía total por brazo."
   ],
   "metadata": {
    "collapsed": false
   },
   "id": "3a7ac9e21c8709c7"
  },
  {
   "cell_type": "code",
   "outputs": [
    {
     "name": "stdout",
     "output_type": "stream",
     "text": [
      "Index(['combined_id_date', 'total_energy_right', 'total_energy_left', 'PD'], dtype='object')\n"
     ]
    }
   ],
   "source": [
    "df=data.copy()\n",
    "# Agrupa los datos por 'date_measure'\n",
    "grouped_data = df.groupby('combined_id_date')\n",
    "\n",
    "# Inicializa listas para almacenar los resultados\n",
    "energy_data = []\n",
    "\n",
    "# Itera sobre cada grupo\n",
    "for combined_id_date, group in grouped_data:\n",
    "    # Obtén las señales de aceleración de ambos lados\n",
    "    accX_right = group['imu_accX_right'].values\n",
    "    accX_left = group['imu_accX_left'].values\n",
    "\n",
    "    # Calcula la FFT de cada señal de aceleración\n",
    "    fft_result_right = np.fft.fft(accX_right)\n",
    "    fft_result_left = np.fft.fft(accX_left)\n",
    "\n",
    "    # Calcula la magnitud de la FFT (utiliza np.abs para obtener el valor absoluto)\n",
    "    fft_magnitude_right = np.abs(fft_result_right)\n",
    "    fft_magnitude_left = np.abs(fft_result_left)\n",
    "\n",
    "    # Calcula la energía total para cada acelerómetro\n",
    "    total_energy_right = np.sum(fft_magnitude_right)\n",
    "    total_energy_left = np.sum(fft_magnitude_left)\n",
    "\n",
    "    # Almacena la energía total en la lista\n",
    "    energy_data.append({'combined_id_date': combined_id_date, 'total_energy_right': total_energy_right, 'total_energy_left': total_energy_left,'PD': group['PD'].iloc[0]})\n",
    "\n",
    "# Convierte la lista de resultados en un DataFrame\n",
    "energy_df = pd.DataFrame(energy_data)\n",
    "\n",
    "# Imprime el DataFrame con la energía total por medida\n",
    "print(energy_df.columns)\n",
    "\n"
   ],
   "metadata": {
    "collapsed": false,
    "ExecuteTime": {
     "end_time": "2024-03-21T22:42:13.621255Z",
     "start_time": "2024-03-21T22:42:13.074161Z"
    }
   },
   "id": "59717c9b4b9113bd",
   "execution_count": 24
  },
  {
   "cell_type": "code",
   "outputs": [
    {
     "name": "stdout",
     "output_type": "stream",
     "text": [
      "PD\n",
      "1    85\n",
      "0    81\n",
      "Name: count, dtype: int64\n"
     ]
    }
   ],
   "source": [
    "print(energy_df['PD'].value_counts())"
   ],
   "metadata": {
    "collapsed": false,
    "ExecuteTime": {
     "end_time": "2024-03-21T22:42:13.633392Z",
     "start_time": "2024-03-21T22:42:13.625269Z"
    }
   },
   "id": "e9d68d3df5ec60be",
   "execution_count": 25
  },
  {
   "cell_type": "code",
   "outputs": [
    {
     "name": "stdout",
     "output_type": "stream",
     "text": [
      "          combined_id_date  total_energy_right  total_energy_left  PD\n",
      "1   101_2023-4-11-11-53-36       129787.679932      125539.803118   0\n",
      "6   105_2023-9-30-14-39-22        60653.431170       65651.110298   0\n",
      "10  108_2023-2-23-14-47-39        91121.859791      146683.804413   0\n",
      "11    109_2023-9-30-8-50-2       250322.215762      240695.575659   0\n",
      "12    10_2023-6-22-10-28-8        85653.639433      115495.635742   0\n"
     ]
    }
   ],
   "source": [
    "# Filtrar las filas con valor 0 en la columna 'PD'\n",
    "controls_energy_df = energy_df[energy_df['PD'] == 0].copy()\n",
    "\n",
    "# Imprimir las primeras filas del DataFrame filtrado\n",
    "print(controls_energy_df.head())"
   ],
   "metadata": {
    "collapsed": false,
    "ExecuteTime": {
     "end_time": "2024-03-21T22:42:13.651687Z",
     "start_time": "2024-03-21T22:42:13.638506Z"
    }
   },
   "id": "a4134e7d639843f7",
   "execution_count": 26
  },
  {
   "cell_type": "markdown",
   "source": [
    "Se imprime una muestra específica para observar los resultados"
   ],
   "metadata": {
    "collapsed": false
   },
   "id": "7538c57c8c0378cc"
  },
  {
   "cell_type": "code",
   "outputs": [
    {
     "name": "stdout",
     "output_type": "stream",
     "text": [
      "        combined_id_date  total_energy_right  total_energy_left  PD\n",
      "12  10_2023-6-22-10-28-8        85653.639433      115495.635742   0\n"
     ]
    }
   ],
   "source": [
    "# Suponiendo que 'energy_df' es tu DataFrame con los resultados de energía\n",
    "specific_combined_id_date = '10_2023-6-22-10-28-8'\n",
    "\n",
    "# Filtra el DataFrame para obtener solo las filas correspondientes a la fecha específica\n",
    "specific_specific_combined_id_date_data = energy_df.loc[energy_df['combined_id_date'] == specific_combined_id_date]\n",
    "\n",
    "# Muestra los resultados\n",
    "print(specific_specific_combined_id_date_data)\n"
   ],
   "metadata": {
    "collapsed": false,
    "ExecuteTime": {
     "end_time": "2024-03-21T22:42:13.667724Z",
     "start_time": "2024-03-21T22:42:13.654700Z"
    }
   },
   "id": "316f339933357d84",
   "execution_count": 27
  },
  {
   "cell_type": "markdown",
   "source": [
    "Se cruzan las cédulas con las que ya se habían obtenido de anonimización para unir los dataframes."
   ],
   "metadata": {
    "collapsed": false
   },
   "id": "c99b9b1361aefc34"
  },
  {
   "cell_type": "code",
   "outputs": [
    {
     "data": {
      "text/plain": "     Cédula  Temblor postural – Mano derecha  \\\n0   4663131                                0   \n1  25714829                                1   \n2  10542415                                1   \n3  10526776                                0   \n4  25268997                                1   \n\n   Temblor postural – Mano izquierda  Temblor de acción – Mano derecha  \\\n0                                  1                                 0   \n1                                  1                                 0   \n2                                  0                                 0   \n3                                  0                                 0   \n4                                  1                                 0   \n\n   Temblor de acción – Mano izquierda anon_id  \n0                                   0      11  \n1                                   0      87  \n2                                   0      32  \n3                                   0      27  \n4                                   0      78  ",
      "text/html": "<div>\n<style scoped>\n    .dataframe tbody tr th:only-of-type {\n        vertical-align: middle;\n    }\n\n    .dataframe tbody tr th {\n        vertical-align: top;\n    }\n\n    .dataframe thead th {\n        text-align: right;\n    }\n</style>\n<table border=\"1\" class=\"dataframe\">\n  <thead>\n    <tr style=\"text-align: right;\">\n      <th></th>\n      <th>Cédula</th>\n      <th>Temblor postural – Mano derecha</th>\n      <th>Temblor postural – Mano izquierda</th>\n      <th>Temblor de acción – Mano derecha</th>\n      <th>Temblor de acción – Mano izquierda</th>\n      <th>anon_id</th>\n    </tr>\n  </thead>\n  <tbody>\n    <tr>\n      <th>0</th>\n      <td>4663131</td>\n      <td>0</td>\n      <td>1</td>\n      <td>0</td>\n      <td>0</td>\n      <td>11</td>\n    </tr>\n    <tr>\n      <th>1</th>\n      <td>25714829</td>\n      <td>1</td>\n      <td>1</td>\n      <td>0</td>\n      <td>0</td>\n      <td>87</td>\n    </tr>\n    <tr>\n      <th>2</th>\n      <td>10542415</td>\n      <td>1</td>\n      <td>0</td>\n      <td>0</td>\n      <td>0</td>\n      <td>32</td>\n    </tr>\n    <tr>\n      <th>3</th>\n      <td>10526776</td>\n      <td>0</td>\n      <td>0</td>\n      <td>0</td>\n      <td>0</td>\n      <td>27</td>\n    </tr>\n    <tr>\n      <th>4</th>\n      <td>25268997</td>\n      <td>1</td>\n      <td>1</td>\n      <td>0</td>\n      <td>0</td>\n      <td>78</td>\n    </tr>\n  </tbody>\n</table>\n</div>"
     },
     "execution_count": 28,
     "metadata": {},
     "output_type": "execute_result"
    }
   ],
   "source": [
    "from src.preprocessing.get_anon_id import get_anon_id\n",
    "\n",
    "patientsMds = patientsMds[patientsMds_used_columns]\n",
    "patientsMds['anon_id'] = patientsMds['Cédula'].astype(str).apply(get_anon_id)\n",
    "\n",
    "patientsMds.head()\n",
    "\n"
   ],
   "metadata": {
    "collapsed": false,
    "ExecuteTime": {
     "end_time": "2024-03-21T22:42:14.157440Z",
     "start_time": "2024-03-21T22:42:13.671755Z"
    }
   },
   "id": "1122da88aef2a042",
   "execution_count": 28
  },
  {
   "cell_type": "code",
   "outputs": [
    {
     "data": {
      "text/plain": "Cédula                                90\nTemblor postural – Mano derecha       90\nTemblor postural – Mano izquierda     90\nTemblor de acción – Mano derecha      90\nTemblor de acción – Mano izquierda    90\nanon_id                               90\ndtype: int64"
     },
     "execution_count": 29,
     "metadata": {},
     "output_type": "execute_result"
    }
   ],
   "source": [
    "patientsMds.count()"
   ],
   "metadata": {
    "collapsed": false,
    "ExecuteTime": {
     "end_time": "2024-03-21T22:42:14.174465Z",
     "start_time": "2024-03-21T22:42:14.159957Z"
    }
   },
   "id": "eaa8f1c0f8551af7",
   "execution_count": 29
  },
  {
   "cell_type": "markdown",
   "source": [
    "Se borra la cédula para respetar privacidad de pacientes y re realiza un split para obtener las cédulas de los pacientes."
   ],
   "metadata": {
    "collapsed": false
   },
   "id": "1a3340276c0c2ad6"
  },
  {
   "cell_type": "code",
   "outputs": [],
   "source": [
    "patientsMds.drop('Cédula', axis=1, inplace=True)\n",
    "\n",
    "#Re-split para realizar el cruce por id\n",
    "energy_df['id']=energy_df['combined_id_date'].str.split('_').str[0]\n"
   ],
   "metadata": {
    "collapsed": false,
    "ExecuteTime": {
     "end_time": "2024-03-21T22:42:14.193539Z",
     "start_time": "2024-03-21T22:42:14.177481Z"
    }
   },
   "id": "bf2446d18dce5a7a",
   "execution_count": 30
  },
  {
   "cell_type": "markdown",
   "source": [
    "Unimos los dataframes por coincidencia en cédulas."
   ],
   "metadata": {
    "collapsed": false
   },
   "id": "aee7e6c082952079"
  },
  {
   "cell_type": "code",
   "outputs": [
    {
     "name": "stdout",
     "output_type": "stream",
     "text": [
      "Index(['combined_id_date', 'id', 'total_energy_right', 'total_energy_left',\n",
      "       'PD', 'Temblor postural – Mano derecha',\n",
      "       'Temblor postural – Mano izquierda', 'Temblor de acción – Mano derecha',\n",
      "       'Temblor de acción – Mano izquierda'],\n",
      "      dtype='object')\n"
     ]
    }
   ],
   "source": [
    "# Realizar la unión por las columnas 'id' y 'anon_id'\n",
    "merged_df = pd.merge(energy_df, patientsMds, left_on='id', right_on='anon_id', how='inner')\n",
    "\n",
    "# Eliminar la columna 'anon_id' si no es necesaria en el DataFrame final\n",
    "merged_df.drop('anon_id', axis=1, inplace=True)\n",
    "id_column = merged_df.pop('id')\n",
    "merged_df.insert(1, 'id', id_column)\n",
    "\n",
    "# Imprimir el DataFrame resultante para verificar\n",
    "merged_df.head()\n",
    "print(merged_df.columns)"
   ],
   "metadata": {
    "collapsed": false,
    "ExecuteTime": {
     "end_time": "2024-03-21T22:42:14.217610Z",
     "start_time": "2024-03-21T22:42:14.198065Z"
    }
   },
   "id": "c48ca7b569673ac1",
   "execution_count": 31
  },
  {
   "cell_type": "code",
   "outputs": [
    {
     "data": {
      "text/plain": "combined_id_date                      64\nid                                    64\ntotal_energy_right                    64\ntotal_energy_left                     64\nPD                                    64\nTemblor postural – Mano derecha       64\nTemblor postural – Mano izquierda     64\nTemblor de acción – Mano derecha      64\nTemblor de acción – Mano izquierda    64\ndtype: int64"
     },
     "execution_count": 32,
     "metadata": {},
     "output_type": "execute_result"
    }
   ],
   "source": [
    "merged_df.count()"
   ],
   "metadata": {
    "collapsed": false,
    "ExecuteTime": {
     "end_time": "2024-03-21T22:42:14.239219Z",
     "start_time": "2024-03-21T22:42:14.224644Z"
    }
   },
   "id": "83dec25d0d5d997c",
   "execution_count": 32
  },
  {
   "cell_type": "markdown",
   "source": [
    "Creamos diferentes clases para dividir las medidas en tres grupos:\n",
    "1: PD con temblor\n",
    "0: Sin PD\n",
    "-1: PD-rigidez\n",
    "\n"
   ],
   "metadata": {
    "collapsed": false
   },
   "id": "3c708fcf9a09fe5e"
  },
  {
   "cell_type": "code",
   "outputs": [
    {
     "name": "stdout",
     "output_type": "stream",
     "text": [
      "         combined_id_date   id  total_energy_right  total_energy_left  PD  \\\n",
      "0   102_2023-8-31-15-3-10  102        75142.285996       81240.302861   1   \n",
      "1    102_2023-8-31-15-5-5  102        65801.483835      103992.161572   1   \n",
      "2  103_2023-7-11-10-15-46  103           13.412852          24.038894   1   \n",
      "3    104_2023-9-12-11-8-0  104       240563.682982      222068.000913   1   \n",
      "4  106_2023-2-23-15-52-11  106       103817.726651      101727.156213   1   \n",
      "\n",
      "   Temblor postural – Mano derecha  Temblor postural – Mano izquierda  \\\n",
      "0                                3                                  1   \n",
      "1                                3                                  1   \n",
      "2                                0                                  0   \n",
      "3                                0                                  0   \n",
      "4                                0                                  0   \n",
      "\n",
      "   Temblor de acción – Mano derecha  Temblor de acción – Mano izquierda  \\\n",
      "0                                 0                                   0   \n",
      "1                                 0                                   0   \n",
      "2                                 0                                   0   \n",
      "3                                 0                                   0   \n",
      "4                                 0                                   0   \n",
      "\n",
      "   classification  \n",
      "0               1  \n",
      "1               1  \n",
      "2              -1  \n",
      "3              -1  \n",
      "4              -1  \n"
     ]
    }
   ],
   "source": [
    "def classify_row(row):\n",
    "    if row['PD'] == 1:\n",
    "        if (row['Temblor postural – Mano derecha'] != 0 or\n",
    "                row['Temblor postural – Mano izquierda'] != 0 or\n",
    "                row['Temblor de acción – Mano derecha'] != 0 or\n",
    "                row['Temblor de acción – Mano izquierda'] != 0):\n",
    "            return 1\n",
    "        else:\n",
    "            return -1\n",
    "    elif row['PD'] == 0:\n",
    "        return 0\n",
    "    else:\n",
    "        return np.nan  # Otra clasificación\n",
    "\n",
    "# Crear una nueva columna 'classification' aplicando la función a cada fila\n",
    "merged_df['classification'] = merged_df.apply(classify_row, axis=1)\n",
    "\n",
    "# Imprimir el DataFrame resultante\n",
    "print(merged_df.head())"
   ],
   "metadata": {
    "collapsed": false,
    "ExecuteTime": {
     "end_time": "2024-03-21T22:42:14.264645Z",
     "start_time": "2024-03-21T22:42:14.244248Z"
    }
   },
   "id": "5191cfedeed7baba",
   "execution_count": 33
  },
  {
   "cell_type": "markdown",
   "source": [
    "Eliminamos las columnas de temblor y PD y nos quedamos con la clasificación. Quitamos tambien combined_id_date y id identificar pacientes no nos interesa en esta etapa"
   ],
   "metadata": {
    "collapsed": false
   },
   "id": "4007f9c40c0d7ba9"
  },
  {
   "cell_type": "code",
   "outputs": [
    {
     "data": {
      "text/plain": "   total_energy_right  total_energy_left  classification\n0        75142.285996       81240.302861               1\n1        65801.483835      103992.161572               1\n2           13.412852          24.038894              -1\n3       240563.682982      222068.000913              -1\n4       103817.726651      101727.156213              -1",
      "text/html": "<div>\n<style scoped>\n    .dataframe tbody tr th:only-of-type {\n        vertical-align: middle;\n    }\n\n    .dataframe tbody tr th {\n        vertical-align: top;\n    }\n\n    .dataframe thead th {\n        text-align: right;\n    }\n</style>\n<table border=\"1\" class=\"dataframe\">\n  <thead>\n    <tr style=\"text-align: right;\">\n      <th></th>\n      <th>total_energy_right</th>\n      <th>total_energy_left</th>\n      <th>classification</th>\n    </tr>\n  </thead>\n  <tbody>\n    <tr>\n      <th>0</th>\n      <td>75142.285996</td>\n      <td>81240.302861</td>\n      <td>1</td>\n    </tr>\n    <tr>\n      <th>1</th>\n      <td>65801.483835</td>\n      <td>103992.161572</td>\n      <td>1</td>\n    </tr>\n    <tr>\n      <th>2</th>\n      <td>13.412852</td>\n      <td>24.038894</td>\n      <td>-1</td>\n    </tr>\n    <tr>\n      <th>3</th>\n      <td>240563.682982</td>\n      <td>222068.000913</td>\n      <td>-1</td>\n    </tr>\n    <tr>\n      <th>4</th>\n      <td>103817.726651</td>\n      <td>101727.156213</td>\n      <td>-1</td>\n    </tr>\n  </tbody>\n</table>\n</div>"
     },
     "execution_count": 34,
     "metadata": {},
     "output_type": "execute_result"
    }
   ],
   "source": [
    "# Lista de columnas relacionadas con el temblor\n",
    "columns_to_drop = ['Temblor postural – Mano derecha',\n",
    "                   'Temblor postural – Mano izquierda',\n",
    "                   'Temblor de acción – Mano derecha',\n",
    "                   'Temblor de acción – Mano izquierda',\n",
    "                   'PD','combined_id_date','id']\n",
    "\n",
    "# Eliminar las columnas relacionadas con el temblor del DataFrame\n",
    "merged_df.drop(columns=columns_to_drop, inplace=True)\n",
    "\n",
    "# Imprimir el DataFrame resultante\n",
    "merged_df.head()"
   ],
   "metadata": {
    "collapsed": false,
    "ExecuteTime": {
     "end_time": "2024-03-21T22:42:14.313955Z",
     "start_time": "2024-03-21T22:42:14.267658Z"
    }
   },
   "id": "c59ccc7a6480f54",
   "execution_count": 34
  },
  {
   "cell_type": "code",
   "outputs": [
    {
     "data": {
      "text/plain": "           combined_id_date  total_energy_right  total_energy_left  PD\n97   190_2023-10-5-16-23-50        2.287920e+06       2.202838e+06   0\n94    188_2023-10-5-16-34-4        2.037657e+06       1.878446e+06   0\n99   191_2023-10-5-16-14-35        1.932419e+06       2.212230e+06   0\n132   59_2023-9-30-12-28-15        2.962891e+05       2.978095e+05   0\n11     109_2023-9-30-8-50-2        2.503222e+05       2.406956e+05   0",
      "text/html": "<div>\n<style scoped>\n    .dataframe tbody tr th:only-of-type {\n        vertical-align: middle;\n    }\n\n    .dataframe tbody tr th {\n        vertical-align: top;\n    }\n\n    .dataframe thead th {\n        text-align: right;\n    }\n</style>\n<table border=\"1\" class=\"dataframe\">\n  <thead>\n    <tr style=\"text-align: right;\">\n      <th></th>\n      <th>combined_id_date</th>\n      <th>total_energy_right</th>\n      <th>total_energy_left</th>\n      <th>PD</th>\n    </tr>\n  </thead>\n  <tbody>\n    <tr>\n      <th>97</th>\n      <td>190_2023-10-5-16-23-50</td>\n      <td>2.287920e+06</td>\n      <td>2.202838e+06</td>\n      <td>0</td>\n    </tr>\n    <tr>\n      <th>94</th>\n      <td>188_2023-10-5-16-34-4</td>\n      <td>2.037657e+06</td>\n      <td>1.878446e+06</td>\n      <td>0</td>\n    </tr>\n    <tr>\n      <th>99</th>\n      <td>191_2023-10-5-16-14-35</td>\n      <td>1.932419e+06</td>\n      <td>2.212230e+06</td>\n      <td>0</td>\n    </tr>\n    <tr>\n      <th>132</th>\n      <td>59_2023-9-30-12-28-15</td>\n      <td>2.962891e+05</td>\n      <td>2.978095e+05</td>\n      <td>0</td>\n    </tr>\n    <tr>\n      <th>11</th>\n      <td>109_2023-9-30-8-50-2</td>\n      <td>2.503222e+05</td>\n      <td>2.406956e+05</td>\n      <td>0</td>\n    </tr>\n  </tbody>\n</table>\n</div>"
     },
     "execution_count": 35,
     "metadata": {},
     "output_type": "execute_result"
    }
   ],
   "source": [
    "#revisión controles\n",
    "controls_energy_df_sorted = controls_energy_df.sort_values(by='total_energy_right', ascending=False)\n",
    "controls_energy_df_sorted.head()"
   ],
   "metadata": {
    "collapsed": false,
    "ExecuteTime": {
     "end_time": "2024-03-21T22:42:14.347602Z",
     "start_time": "2024-03-21T22:42:14.325524Z"
    }
   },
   "id": "764d9a74a63b76ae",
   "execution_count": 35
  },
  {
   "cell_type": "markdown",
   "source": [
    "Añadimos a los controles que fueron filtrados en el merge"
   ],
   "metadata": {
    "collapsed": false
   },
   "id": "6445742fd26ca93b"
  },
  {
   "cell_type": "code",
   "outputs": [
    {
     "data": {
      "text/plain": "    total_energy_right  total_energy_left  classification\n1        129787.679932      125539.803118               0\n6         60653.431170       65651.110298               0\n10        91121.859791      146683.804413               0\n11       250322.215762      240695.575659               0\n12        85653.639433      115495.635742               0",
      "text/html": "<div>\n<style scoped>\n    .dataframe tbody tr th:only-of-type {\n        vertical-align: middle;\n    }\n\n    .dataframe tbody tr th {\n        vertical-align: top;\n    }\n\n    .dataframe thead th {\n        text-align: right;\n    }\n</style>\n<table border=\"1\" class=\"dataframe\">\n  <thead>\n    <tr style=\"text-align: right;\">\n      <th></th>\n      <th>total_energy_right</th>\n      <th>total_energy_left</th>\n      <th>classification</th>\n    </tr>\n  </thead>\n  <tbody>\n    <tr>\n      <th>1</th>\n      <td>129787.679932</td>\n      <td>125539.803118</td>\n      <td>0</td>\n    </tr>\n    <tr>\n      <th>6</th>\n      <td>60653.431170</td>\n      <td>65651.110298</td>\n      <td>0</td>\n    </tr>\n    <tr>\n      <th>10</th>\n      <td>91121.859791</td>\n      <td>146683.804413</td>\n      <td>0</td>\n    </tr>\n    <tr>\n      <th>11</th>\n      <td>250322.215762</td>\n      <td>240695.575659</td>\n      <td>0</td>\n    </tr>\n    <tr>\n      <th>12</th>\n      <td>85653.639433</td>\n      <td>115495.635742</td>\n      <td>0</td>\n    </tr>\n  </tbody>\n</table>\n</div>"
     },
     "execution_count": 36,
     "metadata": {},
     "output_type": "execute_result"
    }
   ],
   "source": [
    "columns_to_drop = ['combined_id_date']\n",
    "controls_energy_df.drop(columns=columns_to_drop, inplace=True)\n",
    "controls_energy_df.rename(columns={'PD': 'classification'}, inplace=True)\n",
    "controls_energy_df.head()"
   ],
   "metadata": {
    "collapsed": false,
    "ExecuteTime": {
     "end_time": "2024-03-21T22:42:14.375709Z",
     "start_time": "2024-03-21T22:42:14.351593Z"
    }
   },
   "id": "ed55829f84fdf71c",
   "execution_count": 36
  },
  {
   "cell_type": "code",
   "outputs": [
    {
     "name": "stdout",
     "output_type": "stream",
     "text": [
      "Index(['total_energy_right', 'total_energy_left', 'classification'], dtype='object')\n",
      "Index(['total_energy_right', 'total_energy_left', 'classification'], dtype='object')\n"
     ]
    }
   ],
   "source": [
    "print(controls_energy_df.columns)\n",
    "print(merged_df.columns)"
   ],
   "metadata": {
    "collapsed": false,
    "ExecuteTime": {
     "end_time": "2024-03-21T22:42:14.390803Z",
     "start_time": "2024-03-21T22:42:14.381255Z"
    }
   },
   "id": "738c3b91ec0f5c6a",
   "execution_count": 37
  },
  {
   "cell_type": "markdown",
   "source": [
    "Graficamos los controles para ver los datos de mayor magnitud"
   ],
   "metadata": {
    "collapsed": false
   },
   "id": "abd97839c182bd29"
  },
  {
   "cell_type": "code",
   "outputs": [
    {
     "name": "stdout",
     "output_type": "stream",
     "text": [
      "     total_energy_right  total_energy_left  classification\n",
      "97         2.287920e+06       2.202838e+06               0\n",
      "94         2.037657e+06       1.878446e+06               0\n",
      "99         1.932419e+06       2.212230e+06               0\n",
      "132        2.962891e+05       2.978095e+05               0\n",
      "11         2.503222e+05       2.406956e+05               0\n"
     ]
    }
   ],
   "source": [
    "controls_energy_df_sorted = controls_energy_df.sort_values(by='total_energy_right', ascending=False)\n",
    "print(controls_energy_df_sorted.head())"
   ],
   "metadata": {
    "collapsed": false,
    "ExecuteTime": {
     "end_time": "2024-03-21T22:42:14.407902Z",
     "start_time": "2024-03-21T22:42:14.394819Z"
    }
   },
   "id": "c8f7d6296bd9b325",
   "execution_count": 38
  },
  {
   "cell_type": "markdown",
   "source": [
    "Quitamos los 3 primeros datos que después de verlos parecen ser outliers"
   ],
   "metadata": {
    "collapsed": false
   },
   "id": "8c83efa6ed6ddcbe"
  },
  {
   "cell_type": "code",
   "outputs": [
    {
     "name": "stdout",
     "output_type": "stream",
     "text": [
      "     total_energy_right  total_energy_left  classification\n",
      "132       296289.123093      297809.453779               0\n",
      "11        250322.215762      240695.575659               0\n",
      "64        241357.240362      172745.340008               0\n",
      "31        232691.438243      237991.973635               0\n",
      "87        221998.092524      228087.541388               0\n"
     ]
    }
   ],
   "source": [
    "# Ordenar el DataFrame según la energía en la mano derecha en orden descendente\n",
    "controls_energy_df_sorted = controls_energy_df.sort_values(by='total_energy_right', ascending=False)\n",
    "\n",
    "# Eliminar las tres primeras filas del DataFrame resultante\n",
    "controls_energy_df = controls_energy_df_sorted.iloc[3:]\n",
    "\n",
    "# Verificar el cambio\n",
    "print(controls_energy_df.head())\n"
   ],
   "metadata": {
    "collapsed": false,
    "ExecuteTime": {
     "end_time": "2024-03-21T22:42:14.427970Z",
     "start_time": "2024-03-21T22:42:14.411920Z"
    }
   },
   "id": "1153c4b52344d27c",
   "execution_count": 39
  },
  {
   "cell_type": "code",
   "outputs": [
    {
     "name": "stdout",
     "output_type": "stream",
     "text": [
      "     total_energy_right  total_energy_left  classification\n",
      "97         2.287920e+06       2.202838e+06               0\n",
      "94         2.037657e+06       1.878446e+06               0\n",
      "99         1.932419e+06       2.212230e+06               0\n",
      "132        2.962891e+05       2.978095e+05               0\n",
      "11         2.503222e+05       2.406956e+05               0\n",
      "     total_energy_right  total_energy_left  classification\n",
      "39         28303.920486       31901.302183               0\n",
      "56         19478.411460       13625.895951               0\n",
      "104        14724.694769       28704.211307               0\n",
      "148        12761.115720       13771.650789               0\n",
      "86          5086.819156        4245.980096               0\n"
     ]
    }
   ],
   "source": [
    "print(controls_energy_df_sorted.head())\n",
    "print(controls_energy_df_sorted.tail())"
   ],
   "metadata": {
    "collapsed": false,
    "ExecuteTime": {
     "end_time": "2024-03-21T22:42:14.441979Z",
     "start_time": "2024-03-21T22:42:14.429980Z"
    }
   },
   "id": "6284d438fb89c0bb",
   "execution_count": 40
  },
  {
   "cell_type": "code",
   "outputs": [
    {
     "name": "stdout",
     "output_type": "stream",
     "text": [
      "     total_energy_right  total_energy_left  classification\n",
      "137        28303.920486       31901.302183               0\n",
      "138        19478.411460       13625.895951               0\n",
      "139        14724.694769       28704.211307               0\n",
      "140        12761.115720       13771.650789               0\n",
      "141         5086.819156        4245.980096               0\n"
     ]
    }
   ],
   "source": [
    "# Agregar las filas de energy_df a merged_df\n",
    "merged_df = pd.concat([merged_df, controls_energy_df], ignore_index=True)\n",
    "\n",
    "# Verificar el cambio\n",
    "print(merged_df.tail())\n"
   ],
   "metadata": {
    "collapsed": false,
    "ExecuteTime": {
     "end_time": "2024-03-21T22:42:14.454997Z",
     "start_time": "2024-03-21T22:42:14.444997Z"
    }
   },
   "id": "2c71ec929fc7762e",
   "execution_count": 41
  },
  {
   "cell_type": "markdown",
   "source": [
    "Se realiza el split de los datos en sus respectivos sets."
   ],
   "metadata": {
    "collapsed": false
   },
   "id": "7c8026451b7001b2"
  },
  {
   "cell_type": "code",
   "outputs": [
    {
     "ename": "FileExistsError",
     "evalue": "[Errno 17] File exists: 'C:\\\\Users\\\\Usuario\\\\Documents\\\\PDG 2\\\\AIForIMUParkinsonData\\\\data\\\\processed\\\\tremor\\\\train.pkl'",
     "output_type": "error",
     "traceback": [
      "\u001B[1;31m---------------------------------------------------------------------------\u001B[0m",
      "\u001B[1;31mFileExistsError\u001B[0m                           Traceback (most recent call last)",
      "Cell \u001B[1;32mIn[42], line 3\u001B[0m\n\u001B[0;32m      1\u001B[0m \u001B[38;5;28;01mfrom\u001B[39;00m \u001B[38;5;21;01msrc\u001B[39;00m\u001B[38;5;21;01m.\u001B[39;00m\u001B[38;5;21;01mutils\u001B[39;00m\u001B[38;5;21;01m.\u001B[39;00m\u001B[38;5;21;01mdata_split\u001B[39;00m \u001B[38;5;28;01mimport\u001B[39;00m save_and_split\n\u001B[1;32m----> 3\u001B[0m save_and_split(merged_df, \u001B[38;5;124m'\u001B[39m\u001B[38;5;124mtremor\u001B[39m\u001B[38;5;124m'\u001B[39m)\n",
      "File \u001B[1;32m~\\Documents\\PDG 2\\AIForIMUParkinsonData\\src\\utils\\data_split.py:23\u001B[0m, in \u001B[0;36msave_and_split\u001B[1;34m(df, module)\u001B[0m\n\u001B[0;32m     19\u001B[0m val, test \u001B[38;5;241m=\u001B[39m train_test_split(test, test_size\u001B[38;5;241m=\u001B[39mTEST_PERCENTAGE\u001B[38;5;241m/\u001B[39m(TEST_PERCENTAGE \u001B[38;5;241m+\u001B[39m VAL_PERCENTAGE),\n\u001B[0;32m     20\u001B[0m                              random_state\u001B[38;5;241m=\u001B[39mSEED)\n\u001B[0;32m     22\u001B[0m filename \u001B[38;5;241m=\u001B[39m module \u001B[38;5;241m+\u001B[39m \u001B[38;5;124m'\u001B[39m\u001B[38;5;124m/train\u001B[39m\u001B[38;5;124m'\u001B[39m\n\u001B[1;32m---> 23\u001B[0m write_pickle(filename \u001B[38;5;241m+\u001B[39m \u001B[38;5;124m'\u001B[39m\u001B[38;5;124m.pkl\u001B[39m\u001B[38;5;124m'\u001B[39m, train)\n\u001B[0;32m     24\u001B[0m DataFrame(train)\u001B[38;5;241m.\u001B[39mto_csv(PROCESSED_PATH \u001B[38;5;241m/\u001B[39m filename \u001B[38;5;241m+\u001B[39m \u001B[38;5;124m'\u001B[39m\u001B[38;5;124m.csv\u001B[39m\u001B[38;5;124m'\u001B[39m)\n\u001B[0;32m     26\u001B[0m filename \u001B[38;5;241m=\u001B[39m module \u001B[38;5;241m+\u001B[39m \u001B[38;5;124m'\u001B[39m\u001B[38;5;124m/test\u001B[39m\u001B[38;5;124m'\u001B[39m\n",
      "File \u001B[1;32m~\\Documents\\PDG 2\\AIForIMUParkinsonData\\src\\utils\\data_split.py:36\u001B[0m, in \u001B[0;36mwrite_pickle\u001B[1;34m(filename, variable)\u001B[0m\n\u001B[0;32m     35\u001B[0m \u001B[38;5;28;01mdef\u001B[39;00m \u001B[38;5;21mwrite_pickle\u001B[39m(filename: \u001B[38;5;28mstr\u001B[39m, variable: np\u001B[38;5;241m.\u001B[39marray) \u001B[38;5;241m-\u001B[39m\u001B[38;5;241m>\u001B[39m \u001B[38;5;28;01mNone\u001B[39;00m:\n\u001B[1;32m---> 36\u001B[0m     \u001B[38;5;28;01mwith\u001B[39;00m \u001B[38;5;28mopen\u001B[39m(PROCESSED_PATH \u001B[38;5;241m/\u001B[39m filename, \u001B[38;5;124m'\u001B[39m\u001B[38;5;124mx\u001B[39m\u001B[38;5;124m'\u001B[39m) \u001B[38;5;28;01mas\u001B[39;00m file:\n\u001B[0;32m     37\u001B[0m         pickle\u001B[38;5;241m.\u001B[39mdump(variable, file)\n",
      "\u001B[1;31mFileExistsError\u001B[0m: [Errno 17] File exists: 'C:\\\\Users\\\\Usuario\\\\Documents\\\\PDG 2\\\\AIForIMUParkinsonData\\\\data\\\\processed\\\\tremor\\\\train.pkl'"
     ]
    }
   ],
   "source": [
    "from src.utils.data_split import save_and_split\n",
    "\n",
    "save_and_split(merged_df, 'tremor')"
   ],
   "metadata": {
    "collapsed": false,
    "ExecuteTime": {
     "end_time": "2024-03-21T22:42:14.541759Z",
     "start_time": "2024-03-21T22:42:14.457530Z"
    }
   },
   "id": "b192551db73c44bf",
   "execution_count": 42
  },
  {
   "cell_type": "code",
   "outputs": [],
   "source": [
    "train_data=pd.read_pickle(ROOT_DIR / 'data' / 'processed' / 'tremor' / 'train.pkl')\n",
    "train_data.columns"
   ],
   "metadata": {
    "collapsed": false,
    "ExecuteTime": {
     "start_time": "2024-03-21T22:42:14.546774Z"
    }
   },
   "id": "5fca493c20f92665",
   "execution_count": null
  },
  {
   "cell_type": "code",
   "outputs": [
    {
     "name": "stdout",
     "output_type": "stream",
     "text": [
      "classification\n",
      " 0    78\n",
      "-1    37\n",
      " 1    27\n",
      "Name: count, dtype: int64\n"
     ]
    }
   ],
   "source": [
    "print(merged_df['classification'].value_counts())"
   ],
   "metadata": {
    "collapsed": false,
    "ExecuteTime": {
     "end_time": "2024-03-21T22:42:36.679806Z",
     "start_time": "2024-03-21T22:42:36.668225Z"
    }
   },
   "id": "b740302ff045949b",
   "execution_count": 43
  },
  {
   "cell_type": "markdown",
   "source": [
    "Graficamos los datos para echar un vistazo a su distribución"
   ],
   "metadata": {
    "collapsed": false
   },
   "id": "d6dc65138001d7f"
  },
  {
   "cell_type": "code",
   "outputs": [
    {
     "data": {
      "text/plain": "<Figure size 640x480 with 1 Axes>",
      "image/png": "[encoded data removed]"
     },
     "metadata": {},
     "output_type": "display_data"
    }
   ],
   "source": [
    "import matplotlib.pyplot as plt\n",
    "\n",
    "# Colores para cada clasificación\n",
    "colors = {1: 'red', 0: 'blue', -1: 'green'}\n",
    "\n",
    "# Graficar los datos\n",
    "plt.scatter(merged_df['total_energy_left'], merged_df['total_energy_right'], c=merged_df['classification'].map(colors))\n",
    "\n",
    "# Establecer etiquetas de los ejes\n",
    "plt.xlabel('Energía Izquierda')\n",
    "plt.ylabel('Energía Derecha')\n",
    "\n",
    "# Mostrar la leyenda con las clasificaciones\n",
    "for classification, color in colors.items():\n",
    "    plt.scatter([], [], color=color, label=f'Clasificación {classification}')\n",
    "plt.legend()\n",
    "\n",
    "# Mostrar el gráfico\n",
    "plt.show()"
   ],
   "metadata": {
    "collapsed": false,
    "ExecuteTime": {
     "end_time": "2024-03-21T22:42:41.196011Z",
     "start_time": "2024-03-21T22:42:38.574787Z"
    }
   },
   "id": "ab6a3ff38ab06388",
   "execution_count": 44
  }
 ],
 "metadata": {
  "kernelspec": {
   "display_name": "Python 3",
   "language": "python",
   "name": "python3"
  },
  "language_info": {
   "codemirror_mode": {
    "name": "ipython",
    "version": 2
   },
   "file_extension": ".py",
   "mimetype": "text/x-python",
   "name": "python",
   "nbconvert_exporter": "python",
   "pygments_lexer": "ipython2",
   "version": "2.7.6"
  }
 },
 "nbformat": 4,
 "nbformat_minor": 5
}
