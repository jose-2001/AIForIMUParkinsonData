{
 "cells": [
  {
   "cell_type": "markdown",
   "source": [
    "Se carga y selecciona datos de dos fuentes diferentes (una con los datos de las IMUs y otra con datos de la evaluación de los pacientes MDS UPDRS), se selecciona columnas específicas de los datos y se asigna los subconjuntos de datos resultantes a las variables data y patientsMds, respectivamente."
   ],
   "metadata": {
    "collapsed": false
   },
   "id": "4578d299642d9e7c"
  },
  {
   "cell_type": "code",
   "execution_count": 62,
   "id": "initial_id",
   "metadata": {
    "collapsed": true,
    "ExecuteTime": {
     "end_time": "2024-03-19T19:48:57.199736Z",
     "start_time": "2024-03-19T19:48:56.876758Z"
    }
   },
   "outputs": [
    {
     "name": "stdout",
     "output_type": "stream",
     "text": [
      "Index(['anon_id', 'date_measure', 'time_stamp', 'imu_accX_right',\n",
      "       'imu_accX_left', 'PD'],\n",
      "      dtype='object')\n"
     ]
    }
   ],
   "source": [
    "import numpy as np\n",
    "import pandas as pd\n",
    "from src.settings  import ROOT_DIR\n",
    "\n",
    "data: pd.DataFrame = pd.read_pickle(ROOT_DIR / 'data' / 'processed' / 'anon_imu_data_time_series_cleaned.pkl')\n",
    "used_columns = ['anon_id', 'date_measure', 'time_stamp', 'imu_accX_right', 'imu_accX_left','PD']\n",
    "data = data[used_columns]\n",
    "print(data.columns)\n",
    "patientsMds:pd.DataFrame = pd.read_excel(ROOT_DIR / 'data' / 'raw' / 'patients_mdsupdrs_results.xlsx')\n",
    "patientsMds_used_columns = ['Cédula','Temblor postural – Mano derecha','Temblor postural – Mano izquierda','Temblor de acción – Mano derecha','Temblor de acción – Mano izquierda']"
   ]
  },
  {
   "cell_type": "markdown",
   "source": [
    "Se crea un nuevo campo para no depender de la fecha para diferenciar cada muestra."
   ],
   "metadata": {
    "collapsed": false
   },
   "id": "aceb61e547ba477"
  },
  {
   "cell_type": "code",
   "outputs": [
    {
     "name": "stdout",
     "output_type": "stream",
     "text": [
      "       anon_id        date_measure  time_stamp  imu_accX_right  imu_accX_left  \\\n",
      "494723     179  2023-6-17-10-39-17     44757.0        8.601266       8.963518   \n",
      "494724     179  2023-6-17-10-39-17     44798.0        7.113219       9.182925   \n",
      "494725     179  2023-6-17-10-39-17     44839.0        5.800859       9.556166   \n",
      "494726     179  2023-6-17-10-39-17     44880.0        5.117749       9.967539   \n",
      "494727     179  2023-6-17-10-39-17     44900.0        5.303877      10.260220   \n",
      "\n",
      "        PD        combined_id_date  \n",
      "494723   0  179_2023-6-17-10-39-17  \n",
      "494724   0  179_2023-6-17-10-39-17  \n",
      "494725   0  179_2023-6-17-10-39-17  \n",
      "494726   0  179_2023-6-17-10-39-17  \n",
      "494727   0  179_2023-6-17-10-39-17  \n"
     ]
    }
   ],
   "source": [
    "data['combined_id_date'] = data['anon_id'].astype(str) + '_' + data['date_measure'].astype(str)\n",
    "print(data.tail())"
   ],
   "metadata": {
    "collapsed": false,
    "ExecuteTime": {
     "end_time": "2024-03-19T19:48:57.346737Z",
     "start_time": "2024-03-19T19:48:57.203902Z"
    }
   },
   "id": "41e835ee35a19f46",
   "execution_count": 63
  },
  {
   "cell_type": "markdown",
   "source": [
    "Se realiza el cálculo de energía total por brazo."
   ],
   "metadata": {
    "collapsed": false
   },
   "id": "3a7ac9e21c8709c7"
  },
  {
   "cell_type": "code",
   "outputs": [
    {
     "name": "stdout",
     "output_type": "stream",
     "text": [
      "Index(['combined_id_date', 'total_energy_right', 'total_energy_left', 'PD'], dtype='object')\n"
     ]
    }
   ],
   "source": [
    "df=data.copy()\n",
    "# Agrupa los datos por 'date_measure'\n",
    "grouped_data = df.groupby('combined_id_date')\n",
    "\n",
    "# Inicializa listas para almacenar los resultados\n",
    "energy_data = []\n",
    "\n",
    "# Itera sobre cada grupo\n",
    "for combined_id_date, group in grouped_data:\n",
    "    # Obtén las señales de aceleración de ambos lados\n",
    "    accX_right = group['imu_accX_right'].values\n",
    "    accX_left = group['imu_accX_left'].values\n",
    "\n",
    "    # Calcula la FFT de cada señal de aceleración\n",
    "    fft_result_right = np.fft.fft(accX_right)\n",
    "    fft_result_left = np.fft.fft(accX_left)\n",
    "\n",
    "    # Calcula la magnitud de la FFT (utiliza np.abs para obtener el valor absoluto)\n",
    "    fft_magnitude_right = np.abs(fft_result_right)\n",
    "    fft_magnitude_left = np.abs(fft_result_left)\n",
    "\n",
    "    # Calcula la energía total para cada acelerómetro\n",
    "    total_energy_right = np.sum(fft_magnitude_right)\n",
    "    total_energy_left = np.sum(fft_magnitude_left)\n",
    "\n",
    "    # Almacena la energía total en la lista\n",
    "    energy_data.append({'combined_id_date': combined_id_date, 'total_energy_right': total_energy_right, 'total_energy_left': total_energy_left,'PD': group['PD'].iloc[0]})\n",
    "\n",
    "# Convierte la lista de resultados en un DataFrame\n",
    "energy_df = pd.DataFrame(energy_data)\n",
    "\n",
    "# Imprime el DataFrame con la energía total por medida\n",
    "print(energy_df.columns)"
   ],
   "metadata": {
    "collapsed": false,
    "ExecuteTime": {
     "end_time": "2024-03-19T19:48:57.694422Z",
     "start_time": "2024-03-19T19:48:57.348806Z"
    }
   },
   "id": "59717c9b4b9113bd",
   "execution_count": 64
  },
  {
   "cell_type": "markdown",
   "source": [
    "Se imprime una muestra específica para observar los resultados"
   ],
   "metadata": {
    "collapsed": false
   },
   "id": "7538c57c8c0378cc"
  },
  {
   "cell_type": "code",
   "outputs": [
    {
     "name": "stdout",
     "output_type": "stream",
     "text": [
      "        combined_id_date  total_energy_right  total_energy_left  PD\n",
      "12  10_2023-6-22-10-28-8        85653.639433      115495.635742   0\n"
     ]
    }
   ],
   "source": [
    "# Suponiendo que 'energy_df' es tu DataFrame con los resultados de energía\n",
    "specific_combined_id_date = '10_2023-6-22-10-28-8'\n",
    "\n",
    "# Filtra el DataFrame para obtener solo las filas correspondientes a la fecha específica\n",
    "specific_specific_combined_id_date_data = energy_df.loc[energy_df['combined_id_date'] == specific_combined_id_date]\n",
    "\n",
    "# Muestra los resultados\n",
    "print(specific_specific_combined_id_date_data)\n"
   ],
   "metadata": {
    "collapsed": false,
    "ExecuteTime": {
     "end_time": "2024-03-19T19:48:57.704862Z",
     "start_time": "2024-03-19T19:48:57.695422Z"
    }
   },
   "id": "316f339933357d84",
   "execution_count": 65
  },
  {
   "cell_type": "markdown",
   "source": [
    "Se cruzan las cédulas con las que ya se habían obtenido de anonimización para unir los dataframes."
   ],
   "metadata": {
    "collapsed": false
   },
   "id": "c99b9b1361aefc34"
  },
  {
   "cell_type": "code",
   "outputs": [
    {
     "data": {
      "text/plain": "     Cédula  Temblor postural – Mano derecha  \\\n0   4663131                                0   \n1  25714829                                1   \n2  10542415                                1   \n3  10526776                                0   \n4  25268997                                1   \n\n   Temblor postural – Mano izquierda  Temblor de acción – Mano derecha  \\\n0                                  1                                 0   \n1                                  1                                 0   \n2                                  0                                 0   \n3                                  0                                 0   \n4                                  1                                 0   \n\n   Temblor de acción – Mano izquierda anon_id  \n0                                   0      11  \n1                                   0      87  \n2                                   0      32  \n3                                   0      27  \n4                                   0      78  ",
      "text/html": "<div>\n<style scoped>\n    .dataframe tbody tr th:only-of-type {\n        vertical-align: middle;\n    }\n\n    .dataframe tbody tr th {\n        vertical-align: top;\n    }\n\n    .dataframe thead th {\n        text-align: right;\n    }\n</style>\n<table border=\"1\" class=\"dataframe\">\n  <thead>\n    <tr style=\"text-align: right;\">\n      <th></th>\n      <th>Cédula</th>\n      <th>Temblor postural – Mano derecha</th>\n      <th>Temblor postural – Mano izquierda</th>\n      <th>Temblor de acción – Mano derecha</th>\n      <th>Temblor de acción – Mano izquierda</th>\n      <th>anon_id</th>\n    </tr>\n  </thead>\n  <tbody>\n    <tr>\n      <th>0</th>\n      <td>4663131</td>\n      <td>0</td>\n      <td>1</td>\n      <td>0</td>\n      <td>0</td>\n      <td>11</td>\n    </tr>\n    <tr>\n      <th>1</th>\n      <td>25714829</td>\n      <td>1</td>\n      <td>1</td>\n      <td>0</td>\n      <td>0</td>\n      <td>87</td>\n    </tr>\n    <tr>\n      <th>2</th>\n      <td>10542415</td>\n      <td>1</td>\n      <td>0</td>\n      <td>0</td>\n      <td>0</td>\n      <td>32</td>\n    </tr>\n    <tr>\n      <th>3</th>\n      <td>10526776</td>\n      <td>0</td>\n      <td>0</td>\n      <td>0</td>\n      <td>0</td>\n      <td>27</td>\n    </tr>\n    <tr>\n      <th>4</th>\n      <td>25268997</td>\n      <td>1</td>\n      <td>1</td>\n      <td>0</td>\n      <td>0</td>\n      <td>78</td>\n    </tr>\n  </tbody>\n</table>\n</div>"
     },
     "execution_count": 66,
     "metadata": {},
     "output_type": "execute_result"
    }
   ],
   "source": [
    "from src.data.eda_helper import load_id_map\n",
    "def get_anon_id(ced: str, id_map: pd.DataFrame = None) -> str:\n",
    "\n",
    "    if ced is None or ced == \"\":\n",
    "        return \"\"\n",
    "\n",
    "    if id_map is None:\n",
    "        id_map = load_id_map()\n",
    "    real_id_list = id_map.loc[id_map['patient_id'] == ced, 'anon_id'].tolist()\n",
    "    return real_id_list[0] if len(real_id_list) > 0 else \"\"\n",
    "\n",
    "patientsMds = patientsMds[patientsMds_used_columns]\n",
    "patientsMds['anon_id'] = patientsMds['Cédula'].astype(str).apply(get_anon_id)\n",
    "\n",
    "patientsMds.head()\n",
    "\n"
   ],
   "metadata": {
    "collapsed": false,
    "ExecuteTime": {
     "end_time": "2024-03-19T19:48:57.985887Z",
     "start_time": "2024-03-19T19:48:57.707976Z"
    }
   },
   "id": "1122da88aef2a042",
   "execution_count": 66
  },
  {
   "cell_type": "markdown",
   "source": [
    "Se borra la cédula para respetar privacidad de pacientes y re realiza un split para obtener las cédulas de los pacientes."
   ],
   "metadata": {
    "collapsed": false
   },
   "id": "1a3340276c0c2ad6"
  },
  {
   "cell_type": "code",
   "outputs": [],
   "source": [
    "patientsMds.drop('Cédula', axis=1, inplace=True)\n",
    "\n",
    "#Re-split para realizar el cruce por id\n",
    "energy_df['id']=energy_df['combined_id_date'].str.split('_').str[0]\n"
   ],
   "metadata": {
    "collapsed": false,
    "ExecuteTime": {
     "end_time": "2024-03-19T19:48:57.996742Z",
     "start_time": "2024-03-19T19:48:57.987963Z"
    }
   },
   "id": "bf2446d18dce5a7a",
   "execution_count": 67
  },
  {
   "cell_type": "markdown",
   "source": [
    "Unimos los dataframes por coincidencia en cédulas."
   ],
   "metadata": {
    "collapsed": false
   },
   "id": "aee7e6c082952079"
  },
  {
   "cell_type": "code",
   "outputs": [
    {
     "name": "stdout",
     "output_type": "stream",
     "text": [
      "Index(['combined_id_date', 'id', 'total_energy_right', 'total_energy_left',\n",
      "       'PD', 'Temblor postural – Mano derecha',\n",
      "       'Temblor postural – Mano izquierda', 'Temblor de acción – Mano derecha',\n",
      "       'Temblor de acción – Mano izquierda'],\n",
      "      dtype='object')\n"
     ]
    }
   ],
   "source": [
    "# Realizar la unión por las columnas 'id' y 'anon_id'\n",
    "merged_df = pd.merge(energy_df, patientsMds, left_on='id', right_on='anon_id', how='inner')\n",
    "\n",
    "# Eliminar la columna 'anon_id' si no es necesaria en el DataFrame final\n",
    "merged_df.drop('anon_id', axis=1, inplace=True)\n",
    "id_column = merged_df.pop('id')\n",
    "merged_df.insert(1, 'id', id_column)\n",
    "\n",
    "# Imprimir el DataFrame resultante para verificar\n",
    "merged_df.head()\n",
    "print(merged_df.columns)"
   ],
   "metadata": {
    "collapsed": false,
    "ExecuteTime": {
     "end_time": "2024-03-19T19:48:58.014921Z",
     "start_time": "2024-03-19T19:48:58.000999Z"
    }
   },
   "id": "c48ca7b569673ac1",
   "execution_count": 68
  },
  {
   "cell_type": "markdown",
   "source": [
    "Creamos diferentes clases para dividir las medidas en tres grupos:\n",
    "1: PD con temblor\n",
    "0: Sin PD\n",
    "-1: PD-rigidez\n",
    "\n"
   ],
   "metadata": {
    "collapsed": false
   },
   "id": "3c708fcf9a09fe5e"
  },
  {
   "cell_type": "code",
   "outputs": [
    {
     "name": "stdout",
     "output_type": "stream",
     "text": [
      "         combined_id_date   id  total_energy_right  total_energy_left  PD  \\\n",
      "0   102_2023-8-31-15-3-10  102        75142.285996       81240.302861   1   \n",
      "1    102_2023-8-31-15-5-5  102        65801.483835      103992.161572   1   \n",
      "2  103_2023-7-11-10-15-46  103           13.412852          24.038894   1   \n",
      "3    104_2023-9-12-11-8-0  104       240563.682982      222068.000913   1   \n",
      "4  106_2023-2-23-15-52-11  106       103817.726651      101727.156213   1   \n",
      "\n",
      "   Temblor postural – Mano derecha  Temblor postural – Mano izquierda  \\\n",
      "0                                3                                  1   \n",
      "1                                3                                  1   \n",
      "2                                0                                  0   \n",
      "3                                0                                  0   \n",
      "4                                0                                  0   \n",
      "\n",
      "   Temblor de acción – Mano derecha  Temblor de acción – Mano izquierda  \\\n",
      "0                                 0                                   0   \n",
      "1                                 0                                   0   \n",
      "2                                 0                                   0   \n",
      "3                                 0                                   0   \n",
      "4                                 0                                   0   \n",
      "\n",
      "   classification  \n",
      "0               1  \n",
      "1               1  \n",
      "2              -1  \n",
      "3              -1  \n",
      "4              -1  \n"
     ]
    }
   ],
   "source": [
    "def classify_row(row):\n",
    "    if row['PD'] == 1:\n",
    "        if (row['Temblor postural – Mano derecha'] != 0 or\n",
    "                row['Temblor postural – Mano izquierda'] != 0 or\n",
    "                row['Temblor de acción – Mano derecha'] != 0 or\n",
    "                row['Temblor de acción – Mano izquierda'] != 0):\n",
    "            return 1\n",
    "        else:\n",
    "            return -1\n",
    "    elif row['PD'] == 0:\n",
    "        return 0\n",
    "    else:\n",
    "        return np.nan  # Otra clasificación\n",
    "\n",
    "# Crear una nueva columna 'classification' aplicando la función a cada fila\n",
    "merged_df['classification'] = merged_df.apply(classify_row, axis=1)\n",
    "\n",
    "# Imprimir el DataFrame resultante\n",
    "print(merged_df.head())"
   ],
   "metadata": {
    "collapsed": false,
    "ExecuteTime": {
     "end_time": "2024-03-19T19:48:58.032765Z",
     "start_time": "2024-03-19T19:48:58.018104Z"
    }
   },
   "id": "5191cfedeed7baba",
   "execution_count": 69
  },
  {
   "cell_type": "markdown",
   "source": [
    "Eliminamos las columnas de temblor y PD y nos quedamos con la clasificación. Quitamos tambien combined_id_date y id identificar pacientes no nos interesa en esta etapa"
   ],
   "metadata": {
    "collapsed": false
   },
   "id": "4007f9c40c0d7ba9"
  },
  {
   "cell_type": "code",
   "outputs": [
    {
     "data": {
      "text/plain": "   total_energy_right  total_energy_left  classification\n0        75142.285996       81240.302861               1\n1        65801.483835      103992.161572               1\n2           13.412852          24.038894              -1\n3       240563.682982      222068.000913              -1\n4       103817.726651      101727.156213              -1",
      "text/html": "<div>\n<style scoped>\n    .dataframe tbody tr th:only-of-type {\n        vertical-align: middle;\n    }\n\n    .dataframe tbody tr th {\n        vertical-align: top;\n    }\n\n    .dataframe thead th {\n        text-align: right;\n    }\n</style>\n<table border=\"1\" class=\"dataframe\">\n  <thead>\n    <tr style=\"text-align: right;\">\n      <th></th>\n      <th>total_energy_right</th>\n      <th>total_energy_left</th>\n      <th>classification</th>\n    </tr>\n  </thead>\n  <tbody>\n    <tr>\n      <th>0</th>\n      <td>75142.285996</td>\n      <td>81240.302861</td>\n      <td>1</td>\n    </tr>\n    <tr>\n      <th>1</th>\n      <td>65801.483835</td>\n      <td>103992.161572</td>\n      <td>1</td>\n    </tr>\n    <tr>\n      <th>2</th>\n      <td>13.412852</td>\n      <td>24.038894</td>\n      <td>-1</td>\n    </tr>\n    <tr>\n      <th>3</th>\n      <td>240563.682982</td>\n      <td>222068.000913</td>\n      <td>-1</td>\n    </tr>\n    <tr>\n      <th>4</th>\n      <td>103817.726651</td>\n      <td>101727.156213</td>\n      <td>-1</td>\n    </tr>\n  </tbody>\n</table>\n</div>"
     },
     "execution_count": 70,
     "metadata": {},
     "output_type": "execute_result"
    }
   ],
   "source": [
    "# Lista de columnas relacionadas con el temblor\n",
    "columns_to_drop = ['Temblor postural – Mano derecha',\n",
    "                   'Temblor postural – Mano izquierda',\n",
    "                   'Temblor de acción – Mano derecha',\n",
    "                   'Temblor de acción – Mano izquierda',\n",
    "                   'PD','combined_id_date','id']\n",
    "\n",
    "# Eliminar las columnas relacionadas con el temblor del DataFrame\n",
    "merged_df.drop(columns=columns_to_drop, inplace=True)\n",
    "\n",
    "# Imprimir el DataFrame resultante\n",
    "merged_df.head()"
   ],
   "metadata": {
    "collapsed": false,
    "ExecuteTime": {
     "end_time": "2024-03-19T19:48:58.052053Z",
     "start_time": "2024-03-19T19:48:58.035938Z"
    }
   },
   "id": "c59ccc7a6480f54",
   "execution_count": 70
  },
  {
   "cell_type": "markdown",
   "source": [
    "Se realiza el split de los datos en sus respectivos sets."
   ],
   "metadata": {
    "collapsed": false
   },
   "id": "7c8026451b7001b2"
  },
  {
   "cell_type": "code",
   "outputs": [],
   "source": [
    "from src.utils.data_split import save_and_split\n",
    "\n",
    "save_and_split(merged_df, 'tremor')"
   ],
   "metadata": {
    "collapsed": false,
    "ExecuteTime": {
     "end_time": "2024-03-19T19:48:58.069693Z",
     "start_time": "2024-03-19T19:48:58.055251Z"
    }
   },
   "id": "b192551db73c44bf",
   "execution_count": 71
  },
  {
   "cell_type": "code",
   "outputs": [
    {
     "data": {
      "text/plain": "Index(['total_energy_right', 'total_energy_left', 'classification'], dtype='object')"
     },
     "execution_count": 72,
     "metadata": {},
     "output_type": "execute_result"
    }
   ],
   "source": [
    "train_data=pd.read_pickle(ROOT_DIR / 'data' / 'processed' / 'tremor' / 'train.pkl')\n",
    "train_data.columns"
   ],
   "metadata": {
    "collapsed": false,
    "ExecuteTime": {
     "end_time": "2024-03-19T19:48:58.090319Z",
     "start_time": "2024-03-19T19:48:58.071847Z"
    }
   },
   "id": "5fca493c20f92665",
   "execution_count": 72
  }
 ],
 "metadata": {
  "kernelspec": {
   "display_name": "Python 3",
   "language": "python",
   "name": "python3"
  },
  "language_info": {
   "codemirror_mode": {
    "name": "ipython",
    "version": 2
   },
   "file_extension": ".py",
   "mimetype": "text/x-python",
   "name": "python",
   "nbconvert_exporter": "python",
   "pygments_lexer": "ipython2",
   "version": "2.7.6"
  }
 },
 "nbformat": 4,
 "nbformat_minor": 5
}
