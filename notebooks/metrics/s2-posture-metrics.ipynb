{
 "cells": [
  {
   "cell_type": "markdown",
   "source": [
    "Imports"
   ],
   "metadata": {
    "collapsed": false
   },
   "id": "e7f16afd3925d267"
  },
  {
   "cell_type": "code",
   "outputs": [],
   "source": [
    "import pickle\n",
    "from src.settings import ROOT_DIR\n",
    "import pandas as pd\n",
    "from sklearn.metrics import accuracy_score, classification_report, confusion_matrix\n",
    "import seaborn as sns\n",
    "import matplotlib.pyplot as plt\n",
    "\n",
    "\n",
    "import_path = ROOT_DIR / 'results' / 'models' / 'posture'"
   ],
   "metadata": {
    "collapsed": false,
    "ExecuteTime": {
     "end_time": "2024-03-28T16:21:04.598520Z",
     "start_time": "2024-03-28T16:21:04.586454Z"
    }
   },
   "id": "6b5f51a7c980c6a4",
   "execution_count": 24
  },
  {
   "cell_type": "markdown",
   "source": [
    "Model load"
   ],
   "metadata": {
    "collapsed": false
   },
   "id": "eb08c991edc90995"
  },
  {
   "cell_type": "code",
   "outputs": [],
   "source": [
    "with open(import_path / 'knn.pkl', 'rb') as file:\n",
    "    knn_posture = pickle.load(file)\n",
    "\n",
    "with open(import_path / 'svm.pkl', 'rb') as file:\n",
    "    svm_posture = pickle.load(file)"
   ],
   "metadata": {
    "collapsed": false,
    "ExecuteTime": {
     "end_time": "2024-03-28T16:21:04.708635Z",
     "start_time": "2024-03-28T16:21:04.684561Z"
    }
   },
   "id": "78700718361e1903",
   "execution_count": 25
  },
  {
   "cell_type": "markdown",
   "source": [
    "Data load"
   ],
   "metadata": {
    "collapsed": false
   },
   "id": "47d62f8de58e162c"
  },
  {
   "cell_type": "code",
   "outputs": [
    {
     "name": "stdout",
     "output_type": "stream",
     "text": [
      "     mean_angleY_spine  classification\n",
      "22         -101.650753               0\n",
      "63          -11.549610               1\n",
      "41           18.132925               0\n",
      "111          28.708142               0\n",
      "54         -172.340468               0\n",
      "     mean_angleY_spine  classification\n",
      "88           -7.658434               0\n",
      "29          -19.776122               0\n",
      "93           -0.930630               0\n",
      "69           26.515155               0\n",
      "100         -43.468046               0\n"
     ]
    }
   ],
   "source": [
    "#test\n",
    "test_data_path = ROOT_DIR / 'data' / 'processed' / 'posture' / 'test.pkl'\n",
    "test_data = pd.read_pickle(test_data_path)\n",
    "#validation\n",
    "val_data_path = ROOT_DIR / 'data' / 'processed' / 'posture' / 'val.pkl'\n",
    "val_data = pd.read_pickle(val_data_path)\n",
    "print(test_data.head())\n",
    "print(val_data.head())"
   ],
   "metadata": {
    "collapsed": false,
    "ExecuteTime": {
     "end_time": "2024-03-28T16:21:04.740262Z",
     "start_time": "2024-03-28T16:21:04.713200Z"
    }
   },
   "id": "f489a16bf884eb08",
   "execution_count": 26
  },
  {
   "cell_type": "code",
   "outputs": [],
   "source": [
    "X_test = test_data['mean_angleY_spine']\n",
    "X_val = val_data['mean_angleY_spine']"
   ],
   "metadata": {
    "collapsed": false,
    "ExecuteTime": {
     "end_time": "2024-03-28T16:21:04.755389Z",
     "start_time": "2024-03-28T16:21:04.742262Z"
    }
   },
   "id": "7af254d84fe4c74f",
   "execution_count": 27
  },
  {
   "cell_type": "code",
   "outputs": [
    {
     "name": "stderr",
     "output_type": "stream",
     "text": [
      "C:\\Users\\Usuario\\.conda\\envs\\AIForIMUParkinsonData\\lib\\site-packages\\sklearn\\base.py:464: UserWarning: X does not have valid feature names, but SVC was fitted with feature names\n",
      "  warnings.warn(\n",
      "C:\\Users\\Usuario\\.conda\\envs\\AIForIMUParkinsonData\\lib\\site-packages\\sklearn\\base.py:464: UserWarning: X does not have valid feature names, but SVC was fitted with feature names\n",
      "  warnings.warn(\n",
      "C:\\Users\\Usuario\\.conda\\envs\\AIForIMUParkinsonData\\lib\\site-packages\\sklearn\\base.py:464: UserWarning: X does not have valid feature names, but KNeighborsClassifier was fitted with feature names\n",
      "  warnings.warn(\n",
      "C:\\Users\\Usuario\\.conda\\envs\\AIForIMUParkinsonData\\lib\\site-packages\\sklearn\\base.py:464: UserWarning: X does not have valid feature names, but KNeighborsClassifier was fitted with feature names\n",
      "  warnings.warn(\n"
     ]
    }
   ],
   "source": [
    "# Suponiendo que 'mean_angleY_spine' es la segunda columna y 'classification' es la tercera columna\n",
    "# Para el modelo SVM\n",
    "svm_pred_test = svm_posture.predict(X_test.values.reshape(-1, 1))\n",
    "svm_pred_val = svm_posture.predict(X_val.values.reshape(-1, 1))\n",
    "\n",
    "# Para el modelo KNN\n",
    "knn_pred_test = knn_posture.predict(X_test.values.reshape(-1, 1))\n",
    "knn_pred_val = knn_posture.predict(X_val.values.reshape(-1, 1))\n"
   ],
   "metadata": {
    "collapsed": false,
    "ExecuteTime": {
     "end_time": "2024-03-28T16:21:04.787538Z",
     "start_time": "2024-03-28T16:21:04.759390Z"
    }
   },
   "id": "f66ffa67075d9742",
   "execution_count": 28
  },
  {
   "cell_type": "markdown",
   "source": [
    "Obtaining results"
   ],
   "metadata": {
    "collapsed": false
   },
   "id": "b1d6488026005cf7"
  },
  {
   "cell_type": "code",
   "outputs": [],
   "source": [
    "# Extraer las etiquetas 'classification' de tus datos de prueba y validación\n",
    "Y_test = test_data['classification']\n",
    "Y_val = val_data['classification']"
   ],
   "metadata": {
    "collapsed": false,
    "ExecuteTime": {
     "end_time": "2024-03-28T16:21:04.803539Z",
     "start_time": "2024-03-28T16:21:04.792540Z"
    }
   },
   "id": "1fc43c11ce4dca3f",
   "execution_count": 29
  },
  {
   "cell_type": "markdown",
   "source": [
    "Obtaining metrics"
   ],
   "metadata": {
    "collapsed": false
   },
   "id": "8b03191d52cd598"
  },
  {
   "cell_type": "code",
   "execution_count": 30,
   "id": "initial_id",
   "metadata": {
    "collapsed": true,
    "ExecuteTime": {
     "end_time": "2024-03-28T16:21:04.898415Z",
     "start_time": "2024-03-28T16:21:04.806540Z"
    }
   },
   "outputs": [
    {
     "name": "stderr",
     "output_type": "stream",
     "text": [
      "C:\\Users\\Usuario\\.conda\\envs\\AIForIMUParkinsonData\\lib\\site-packages\\sklearn\\metrics\\_classification.py:1469: UndefinedMetricWarning: Precision and F-score are ill-defined and being set to 0.0 in labels with no predicted samples. Use `zero_division` parameter to control this behavior.\n",
      "  _warn_prf(average, modifier, msg_start, len(result))\n",
      "C:\\Users\\Usuario\\.conda\\envs\\AIForIMUParkinsonData\\lib\\site-packages\\sklearn\\metrics\\_classification.py:1469: UndefinedMetricWarning: Precision and F-score are ill-defined and being set to 0.0 in labels with no predicted samples. Use `zero_division` parameter to control this behavior.\n",
      "  _warn_prf(average, modifier, msg_start, len(result))\n",
      "C:\\Users\\Usuario\\.conda\\envs\\AIForIMUParkinsonData\\lib\\site-packages\\sklearn\\metrics\\_classification.py:1469: UndefinedMetricWarning: Precision and F-score are ill-defined and being set to 0.0 in labels with no predicted samples. Use `zero_division` parameter to control this behavior.\n",
      "  _warn_prf(average, modifier, msg_start, len(result))\n",
      "C:\\Users\\Usuario\\.conda\\envs\\AIForIMUParkinsonData\\lib\\site-packages\\sklearn\\metrics\\_classification.py:1469: UndefinedMetricWarning: Precision and F-score are ill-defined and being set to 0.0 in labels with no predicted samples. Use `zero_division` parameter to control this behavior.\n",
      "  _warn_prf(average, modifier, msg_start, len(result))\n",
      "C:\\Users\\Usuario\\.conda\\envs\\AIForIMUParkinsonData\\lib\\site-packages\\sklearn\\metrics\\_classification.py:1469: UndefinedMetricWarning: Precision and F-score are ill-defined and being set to 0.0 in labels with no predicted samples. Use `zero_division` parameter to control this behavior.\n",
      "  _warn_prf(average, modifier, msg_start, len(result))\n",
      "C:\\Users\\Usuario\\.conda\\envs\\AIForIMUParkinsonData\\lib\\site-packages\\sklearn\\metrics\\_classification.py:1469: UndefinedMetricWarning: Precision and F-score are ill-defined and being set to 0.0 in labels with no predicted samples. Use `zero_division` parameter to control this behavior.\n",
      "  _warn_prf(average, modifier, msg_start, len(result))\n"
     ]
    }
   ],
   "source": [
    "# Evaluación del modelo SVM\n",
    "svm_accuracy_test = accuracy_score(Y_test, svm_pred_test)\n",
    "svm_accuracy_val = accuracy_score(Y_val, svm_pred_val)\n",
    "\n",
    "svm_report_test = classification_report(Y_test, svm_pred_test)\n",
    "svm_report_val = classification_report(Y_val, svm_pred_val)\n",
    "\n",
    "svm_confusion_matrix_test = confusion_matrix(Y_test, svm_pred_test)\n",
    "svm_confusion_matrix_val = confusion_matrix(Y_val, svm_pred_val)\n",
    "\n",
    "# Evaluación del modelo KNN\n",
    "knn_accuracy_test = accuracy_score(Y_test, knn_pred_test)\n",
    "knn_accuracy_val = accuracy_score(Y_val, knn_pred_val)\n",
    "\n",
    "knn_report_test = classification_report(Y_test, knn_pred_test)\n",
    "knn_report_val = classification_report(Y_val, knn_pred_val)\n",
    "\n",
    "knn_confusion_matrix_test = confusion_matrix(Y_test, knn_pred_test)\n",
    "knn_confusion_matrix_val = confusion_matrix(Y_val, knn_pred_val)\n"
   ]
  },
  {
   "cell_type": "markdown",
   "source": [
    "Showing metrics"
   ],
   "metadata": {
    "collapsed": false
   },
   "id": "ddc79f8159a4b719"
  },
  {
   "cell_type": "code",
   "outputs": [
    {
     "name": "stdout",
     "output_type": "stream",
     "text": [
      "Evaluation metrics for SVM model:\n",
      "Accuracy on test data: 0.6666666666666666\n",
      "Accuracy on validation data: 0.8636363636363636\n",
      "\n",
      "Classification report on test data:\n",
      "               precision    recall  f1-score   support\n",
      "\n",
      "           0       0.67      1.00      0.80        10\n",
      "           1       0.00      0.00      0.00         5\n",
      "\n",
      "    accuracy                           0.67        15\n",
      "   macro avg       0.33      0.50      0.40        15\n",
      "weighted avg       0.44      0.67      0.53        15\n",
      "\n",
      "\n",
      "Classification report on validation data:\n",
      "               precision    recall  f1-score   support\n",
      "\n",
      "           0       0.86      1.00      0.93        19\n",
      "           1       0.00      0.00      0.00         3\n",
      "\n",
      "    accuracy                           0.86        22\n",
      "   macro avg       0.43      0.50      0.46        22\n",
      "weighted avg       0.75      0.86      0.80        22\n",
      "\n",
      "\n",
      "Confusion matrix on test data:\n",
      " [[10  0]\n",
      " [ 5  0]]\n",
      "\n",
      "Confusion matrix on validation data:\n",
      " [[19  0]\n",
      " [ 3  0]]\n",
      "\n",
      "Evaluation metrics for KNN model:\n",
      "Accuracy on test data: 0.6\n",
      "Accuracy on validation data: 0.8181818181818182\n",
      "\n",
      "Classification report on test data:\n",
      "               precision    recall  f1-score   support\n",
      "\n",
      "           0       0.67      0.80      0.73        10\n",
      "           1       0.33      0.20      0.25         5\n",
      "\n",
      "    accuracy                           0.60        15\n",
      "   macro avg       0.50      0.50      0.49        15\n",
      "weighted avg       0.56      0.60      0.57        15\n",
      "\n",
      "\n",
      "Classification report on validation data:\n",
      "               precision    recall  f1-score   support\n",
      "\n",
      "           0       0.94      0.84      0.89        19\n",
      "           1       0.40      0.67      0.50         3\n",
      "\n",
      "    accuracy                           0.82        22\n",
      "   macro avg       0.67      0.75      0.69        22\n",
      "weighted avg       0.87      0.82      0.84        22\n",
      "\n",
      "\n",
      "Confusion matrix on test data:\n",
      " [[8 2]\n",
      " [4 1]]\n",
      "\n",
      "Confusion matrix on validation data:\n",
      " [[16  3]\n",
      " [ 1  2]]\n"
     ]
    }
   ],
   "source": [
    "# Printing evaluation metrics for SVM model\n",
    "print(\"Evaluation metrics for SVM model:\")\n",
    "print(\"Accuracy on test data:\", svm_accuracy_test)\n",
    "print(\"Accuracy on validation data:\", svm_accuracy_val)\n",
    "print(\"\\nClassification report on test data:\\n\", svm_report_test)\n",
    "print(\"\\nClassification report on validation data:\\n\", svm_report_val)\n",
    "print(\"\\nConfusion matrix on test data:\\n\", svm_confusion_matrix_test)\n",
    "print(\"\\nConfusion matrix on validation data:\\n\", svm_confusion_matrix_val)\n",
    "\n",
    "# Printing evaluation metrics for KNN model\n",
    "print(\"\\nEvaluation metrics for KNN model:\")\n",
    "print(\"Accuracy on test data:\", knn_accuracy_test)\n",
    "print(\"Accuracy on validation data:\", knn_accuracy_val)\n",
    "print(\"\\nClassification report on test data:\\n\", knn_report_test)\n",
    "print(\"\\nClassification report on validation data:\\n\", knn_report_val)\n",
    "print(\"\\nConfusion matrix on test data:\\n\", knn_confusion_matrix_test)\n",
    "print(\"\\nConfusion matrix on validation data:\\n\", knn_confusion_matrix_val)\n"
   ],
   "metadata": {
    "collapsed": false,
    "ExecuteTime": {
     "end_time": "2024-03-28T16:21:04.929140Z",
     "start_time": "2024-03-28T16:21:04.902475Z"
    }
   },
   "id": "6a76a95d657c6028",
   "execution_count": 31
  },
  {
   "cell_type": "code",
   "outputs": [
    {
     "name": "stdout",
     "output_type": "stream",
     "text": [
      "Confusion matrix for svm\n"
     ]
    },
    {
     "data": {
      "text/plain": "<Axes: >"
     },
     "execution_count": 32,
     "metadata": {},
     "output_type": "execute_result"
    },
    {
     "data": {
      "text/plain": "<Figure size 640x480 with 2 Axes>",
      "image/png": "[encoded data removed]"
     },
     "metadata": {},
     "output_type": "display_data"
    }
   ],
   "source": [
    "print('Confusion matrix for svm')\n",
    "sns.heatmap(svm_confusion_matrix_test, annot=True)"
   ],
   "metadata": {
    "collapsed": false,
    "ExecuteTime": {
     "end_time": "2024-03-28T16:21:05.357581Z",
     "start_time": "2024-03-28T16:21:04.934140Z"
    }
   },
   "id": "37793cf938a8a2e1",
   "execution_count": 32
  },
  {
   "cell_type": "code",
   "outputs": [
    {
     "name": "stdout",
     "output_type": "stream",
     "text": [
      "Confusion matrix for knn\n"
     ]
    },
    {
     "data": {
      "text/plain": "<Axes: >"
     },
     "execution_count": 33,
     "metadata": {},
     "output_type": "execute_result"
    },
    {
     "data": {
      "text/plain": "<Figure size 640x480 with 2 Axes>",
      "image/png": "[encoded data removed]"
     },
     "metadata": {},
     "output_type": "display_data"
    }
   ],
   "source": [
    "print('Confusion matrix for knn')\n",
    "sns.heatmap(knn_confusion_matrix_test, annot=True)"
   ],
   "metadata": {
    "collapsed": false,
    "ExecuteTime": {
     "end_time": "2024-03-28T16:21:05.692124Z",
     "start_time": "2024-03-28T16:21:05.361580Z"
    }
   },
   "id": "8a2c83d7d9aff80c",
   "execution_count": 33
  }
 ],
 "metadata": {
  "kernelspec": {
   "display_name": "Python 3",
   "language": "python",
   "name": "python3"
  },
  "language_info": {
   "codemirror_mode": {
    "name": "ipython",
    "version": 2
   },
   "file_extension": ".py",
   "mimetype": "text/x-python",
   "name": "python",
   "nbconvert_exporter": "python",
   "pygments_lexer": "ipython2",
   "version": "2.7.6"
  }
 },
 "nbformat": 4,
 "nbformat_minor": 5
}
