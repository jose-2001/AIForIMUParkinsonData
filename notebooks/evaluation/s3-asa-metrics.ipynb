{
 "cells": [
  {
   "cell_type": "markdown",
   "source": [
    "# Asymmetry models evaluation and Metrics "
   ],
   "metadata": {
    "collapsed": false
   },
   "id": "8c84bce6083873c9"
  },
  {
   "cell_type": "markdown",
   "source": [
    "This notebook shows all the process of evaluation for the 4 models built in the modeling stage for laterality detection. The metrics that\n",
    "are going to be listed are the following:\n",
    "\n",
    "- Accuracy\n",
    "- Precision\n",
    "- Recall / Sensitivity\n",
    "- F1 Score\n",
    "- Area Under the Receiver Operating Characteristic Curve (AUC-ROC)\n",
    "- Area Under the Precision-Recall Curve (AUC-PR)\n",
    "- Confusion Matrix"
   ],
   "metadata": {
    "collapsed": false
   },
   "id": "efe267ac55f57e73"
  },
  {
   "cell_type": "markdown",
   "source": [
    "## Requiered Imports"
   ],
   "metadata": {
    "collapsed": false
   },
   "id": "ce23bc16377f7088"
  },
  {
   "cell_type": "code",
   "outputs": [
    {
     "name": "stderr",
     "output_type": "stream",
     "text": [
      "C:\\Users\\julia\\AppData\\Roaming\\Python\\Python310\\site-packages\\requests\\__init__.py:109: RequestsDependencyWarning: urllib3 (2.0.3) or chardet (5.2.0)/charset_normalizer (3.1.0) doesn't match a supported version!\n",
      "  warnings.warn(\n"
     ]
    },
    {
     "name": "stdout",
     "output_type": "stream",
     "text": [
      "WARNING:tensorflow:From C:\\Users\\julia\\.conda\\envs\\AIForIMUParkinsonData\\lib\\site-packages\\keras\\src\\losses.py:2976: The name tf.losses.sparse_softmax_cross_entropy is deprecated. Please use tf.compat.v1.losses.sparse_softmax_cross_entropy instead.\n"
     ]
    }
   ],
   "source": [
    "import pickle\n",
    "\n",
    "import numpy as np\n",
    "import tensorflow as tf\n",
    "\n",
    "from tensorflow.keras.saving import load_model\n",
    "\n",
    "\n",
    "from src.settings import ROOT_DIR\n",
    "from src.utils.data_split import get_features_target\n",
    "from src.evaluation.model_metrics_report import print_model_metrics"
   ],
   "metadata": {
    "collapsed": false,
    "ExecuteTime": {
     "end_time": "2024-03-31T01:25:58.219415Z",
     "start_time": "2024-03-31T01:25:43.805002Z"
    }
   },
   "id": "a995cfd18f3a2747",
   "execution_count": 1
  },
  {
   "cell_type": "markdown",
   "source": [
    "## Data load"
   ],
   "metadata": {
    "collapsed": false
   },
   "id": "3460027cb8b35cb0"
  },
  {
   "cell_type": "code",
   "outputs": [],
   "source": [
    "test_data_path = ROOT_DIR / 'data' / 'processed' / 'asa' / 'test.pkl'\n",
    "\n",
    "with open(test_data_path, 'rb') as file:\n",
    "    test_data = pickle.load(file)"
   ],
   "metadata": {
    "collapsed": false,
    "ExecuteTime": {
     "end_time": "2024-03-31T01:25:58.282594Z",
     "start_time": "2024-03-31T01:25:58.222505Z"
    }
   },
   "id": "9649ac50acd4fc03",
   "execution_count": 2
  },
  {
   "cell_type": "code",
   "outputs": [
    {
     "data": {
      "text/plain": "17"
     },
     "execution_count": 3,
     "metadata": {},
     "output_type": "execute_result"
    }
   ],
   "source": [
    "len(test_data)"
   ],
   "metadata": {
    "collapsed": false,
    "ExecuteTime": {
     "end_time": "2024-03-31T01:25:58.314469Z",
     "start_time": "2024-03-31T01:25:58.286680Z"
    }
   },
   "id": "a35fa3c2fac4c547",
   "execution_count": 3
  },
  {
   "cell_type": "code",
   "outputs": [],
   "source": [
    "X_test, y_test = get_features_target(test_data)"
   ],
   "metadata": {
    "collapsed": false,
    "ExecuteTime": {
     "end_time": "2024-03-31T01:25:58.329661Z",
     "start_time": "2024-03-31T01:25:58.317590Z"
    }
   },
   "id": "2ae8a63d98b3f4fc",
   "execution_count": 4
  },
  {
   "cell_type": "code",
   "outputs": [],
   "source": [
    "max_length = max(len(x) for x in X_test)\n",
    "X_test = tf.keras.preprocessing.sequence.pad_sequences(X_test, maxlen=max_length, padding='post', dtype='float32')\n",
    "\n",
    "y_test = np.array(y_test)"
   ],
   "metadata": {
    "collapsed": false,
    "ExecuteTime": {
     "end_time": "2024-03-31T01:25:58.361164Z",
     "start_time": "2024-03-31T01:25:58.332461Z"
    }
   },
   "id": "f04cfd14a82e65a8",
   "execution_count": 5
  },
  {
   "cell_type": "markdown",
   "source": [
    "## Models loading"
   ],
   "metadata": {
    "collapsed": false
   },
   "id": "692498c97de4cd57"
  },
  {
   "cell_type": "code",
   "outputs": [],
   "source": [
    "results_path = ROOT_DIR / 'results' / 'asa'"
   ],
   "metadata": {
    "collapsed": false,
    "ExecuteTime": {
     "end_time": "2024-03-31T01:25:58.376879Z",
     "start_time": "2024-03-31T01:25:58.364800Z"
    }
   },
   "id": "bd401f8aad964122",
   "execution_count": 6
  },
  {
   "cell_type": "code",
   "outputs": [],
   "source": [
    "lstm_no_hidden = load_model(results_path / 'lstm-no-hidden' / 'tmp' / 'ckpt' / 'checkpoint.model.keras')\n",
    "lstm_1hidden = load_model(results_path / 'lstm-1hidden' / 'tmp' / 'ckpt' / 'checkpoint.model.keras')\n",
    "lstm_1hidden_1dconv = load_model(results_path / 'lstm-1hidden-1dconv' / 'tmp' / 'ckpt' / 'checkpoint.model.keras')\n",
    "lstm_1hidden_1dconv_do =load_model(results_path / 'lstm-1hidden-1dconv-do' / 'tmp' / 'ckpt' / 'checkpoint.model.keras')"
   ],
   "metadata": {
    "collapsed": false
   },
   "id": "d55f76af87fadbc4",
   "execution_count": null
  },
  {
   "cell_type": "markdown",
   "source": [
    "## Models Evaluation\n",
    "### Simple LSTM (No hidden Layers)"
   ],
   "metadata": {
    "collapsed": false
   },
   "id": "fdf04b73deadf9c6"
  },
  {
   "cell_type": "code",
   "outputs": [],
   "source": [
    "print_model_metrics(lstm_no_hidden, X_test, y_test)"
   ],
   "metadata": {
    "collapsed": false
   },
   "id": "a18d04a6931ad534"
  },
  {
   "cell_type": "markdown",
   "source": [
    "### LSTM 1 Hidden Layer"
   ],
   "metadata": {
    "collapsed": false
   },
   "id": "1b34652012726247"
  },
  {
   "cell_type": "code",
   "outputs": [],
   "source": [
    "print_model_metrics(lstm_1hidden, X_test, y_test)"
   ],
   "metadata": {
    "collapsed": false
   },
   "id": "7b4b9aa58f0345d6"
  },
  {
   "cell_type": "markdown",
   "source": [
    "### LSTM 1 Hidden Layer with 1 Conv1D"
   ],
   "metadata": {
    "collapsed": false
   },
   "id": "a453da065eeb9ac5"
  },
  {
   "cell_type": "code",
   "outputs": [],
   "source": [
    "print_model_metrics(lstm_1hidden_1dconv, X_test, y_test)"
   ],
   "metadata": {
    "collapsed": false
   },
   "id": "e77ea3fc16349ad1"
  },
  {
   "cell_type": "markdown",
   "source": [
    "### LSTM 1 Hidden Layer with 1 Conv1D and Dropout"
   ],
   "metadata": {
    "collapsed": false
   },
   "id": "30e3a7bc401f8c54"
  },
  {
   "cell_type": "code",
   "outputs": [],
   "source": [
    "print_model_metrics(lstm_1hidden_1dconv_do, X_test, y_test)"
   ],
   "metadata": {
    "collapsed": false
   },
   "id": "d84a41ee54fab482"
  }
 ],
 "metadata": {
  "kernelspec": {
   "display_name": "Python 3",
   "language": "python",
   "name": "python3"
  },
  "language_info": {
   "codemirror_mode": {
    "name": "ipython",
    "version": 2
   },
   "file_extension": ".py",
   "mimetype": "text/x-python",
   "name": "python",
   "nbconvert_exporter": "python",
   "pygments_lexer": "ipython2",
   "version": "2.7.6"
  }
 },
 "nbformat": 4,
 "nbformat_minor": 5
}
