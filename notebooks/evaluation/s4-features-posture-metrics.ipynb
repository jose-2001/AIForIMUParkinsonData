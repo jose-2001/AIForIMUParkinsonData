{
 "cells": [
  {
   "cell_type": "markdown",
   "source": [
    "# Metrics od Posture"
   ],
   "metadata": {
    "collapsed": false
   },
   "id": "c32560f62c7b534e"
  },
  {
   "cell_type": "markdown",
   "source": [
    "## Required Imports"
   ],
   "metadata": {
    "collapsed": false
   },
   "id": "ae6a2d07c1f13dee"
  },
  {
   "cell_type": "code",
   "outputs": [],
   "source": [
    "import pickle\n",
    "\n",
    "from src.settings import ROOT_DIR\n",
    "from src.model.standard_models_builder import build_models_modules\n",
    "from src.evaluation.model_metrics_report import print_model_metrics"
   ],
   "metadata": {
    "collapsed": false
   },
   "id": "6ad649dc02a1c30a"
  },
  {
   "cell_type": "markdown",
   "source": [
    "## Data Loading"
   ],
   "metadata": {
    "collapsed": false
   },
   "id": "a577213b21c482bf"
  },
  {
   "cell_type": "code",
   "outputs": [],
   "source": [
    "test_data_path = ROOT_DIR / 'data' / 'processed' / 'posture-features' / 'test.pkl'\n",
    "\n",
    "with open(test_data_path, 'rb') as file:\n",
    "    test_data = pickle.load(file)"
   ],
   "metadata": {
    "collapsed": false
   },
   "id": "cf1d90d63dbfec71",
   "execution_count": 2
  },
  {
   "cell_type": "code",
   "outputs": [
    {
     "data": {
      "text/plain": "17"
     },
     "execution_count": 3,
     "metadata": {},
     "output_type": "execute_result"
    }
   ],
   "source": [
    "len(test_data)"
   ],
   "metadata": {
    "collapsed": false
   },
   "id": "d4ad9d8e0f2e41c9",
   "execution_count": 3
  },
  {
   "cell_type": "code",
   "outputs": [],
   "source": [
    "features = test_data.columns.tolist()\n",
    "target = features.pop(-1)\n",
    "\n",
    "X_test, y_test = test_data[features], test_data[target]"
   ],
   "metadata": {
    "collapsed": false
   },
   "id": "755d6535bf1ed3aa",
   "execution_count": 4
  },
  {
   "cell_type": "markdown",
   "source": [
    "## Model loading"
   ],
   "metadata": {
    "collapsed": false
   },
   "id": "373f96e5e8e3d7ba"
  },
  {
   "cell_type": "code",
   "outputs": [],
   "source": [
    "results_path = ROOT_DIR / 'results' / 'models' / 'posture-features'"
   ],
   "metadata": {
    "collapsed": false
   },
   "id": "8d0e580a8a772e72",
   "execution_count": 6
  },
  {
   "cell_type": "code",
   "outputs": [],
   "source": [
    "svm = pickle.load(results_path / 'model.svm.pkl')\n",
    "knn = pickle.load(results_path / 'model.knn.pkl')\n",
    "gboost = pickle.load(results_path / 'model.gboost.pkl')"
   ],
   "metadata": {
    "collapsed": false
   },
   "id": "edfc1b73646877ad"
  },
  {
   "cell_type": "markdown",
   "source": [
    "## Test metrics"
   ],
   "metadata": {
    "collapsed": false
   },
   "id": "a2d9e3df6634560f"
  },
  {
   "cell_type": "code",
   "outputs": [],
   "source": [
    "print_model_metrics(svm, X_test, y_test)"
   ],
   "metadata": {
    "collapsed": false
   },
   "id": "22a3d7e8b4e29ec9"
  },
  {
   "cell_type": "code",
   "outputs": [],
   "source": [
    "print_model_metrics(knn, X_test, y_test)"
   ],
   "metadata": {
    "collapsed": false
   },
   "id": "d8a00c3c93ef9688"
  },
  {
   "cell_type": "code",
   "outputs": [],
   "source": [
    "print_model_metrics(gboost, X_test, y_test)"
   ],
   "metadata": {
    "collapsed": false
   },
   "id": "da1fb5d3c248b2cb"
  }
 ],
 "metadata": {
  "kernelspec": {
   "display_name": "Python 3",
   "language": "python",
   "name": "python3"
  },
  "language_info": {
   "codemirror_mode": {
    "name": "ipython",
    "version": 2
   },
   "file_extension": ".py",
   "mimetype": "text/x-python",
   "name": "python",
   "nbconvert_exporter": "python",
   "pygments_lexer": "ipython2",
   "version": "2.7.6"
  }
 },
 "nbformat": 4,
 "nbformat_minor": 5
}
