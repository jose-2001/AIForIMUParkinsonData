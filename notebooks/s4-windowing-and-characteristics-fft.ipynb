{
 "cells": [
  {
   "cell_type": "code",
   "execution_count": 28,
   "id": "initial_id",
   "metadata": {
    "collapsed": true,
    "ExecuteTime": {
     "end_time": "2024-04-11T03:00:37.645740Z",
     "start_time": "2024-04-11T03:00:37.631913Z"
    }
   },
   "outputs": [],
   "source": [
    "import pandas as pd\n",
    "import numpy as np\n",
    "import warnings\n",
    "from scipy.stats import skew, kurtosis\n",
    "\n",
    "from src.settings import ROOT_DIR"
   ]
  },
  {
   "cell_type": "code",
   "outputs": [],
   "source": [
    "data: pd.DataFrame = pd.read_pickle(ROOT_DIR / 'data' / 'processed' / 'anon_imu_data_time_series_cleaned.pkl')"
   ],
   "metadata": {
    "collapsed": false,
    "ExecuteTime": {
     "end_time": "2024-04-11T03:00:37.910134Z",
     "start_time": "2024-04-11T03:00:37.744945Z"
    }
   },
   "id": "bbc88add6d09e92b",
   "execution_count": 29
  },
  {
   "cell_type": "code",
   "outputs": [
    {
     "data": {
      "text/plain": "  anon_id        date_measure  time_stamp  imu_gyroX_right  imu_gyroY_right  \\\n0       9  2023-9-29-11-53-21         0.0      -721.682708        15.593227   \n1       9  2023-9-29-11-53-21        20.0      -670.260115       106.966612   \n2       9  2023-9-29-11-53-21        39.0     -1256.346678       154.354034   \n3       9  2023-9-29-11-53-21        64.0     -2645.955791       139.340391   \n4       9  2023-9-29-11-53-21        83.0     -4370.713652        81.916044   \n\n   imu_gyroZ_right  imu_accX_right  imu_accY_right  imu_accZ_right  \\\n0      -388.127748        9.181793        2.010050       -2.132478   \n1      -531.556509        9.330485        2.006033       -2.221657   \n2      -583.745247        9.430883        2.003482       -2.231009   \n3      -516.938939        9.452909        2.061261       -2.123366   \n4      -388.833685        9.392902        2.283368       -1.919931   \n\n   imu_gyroX_left  ...  imu_angularX_left  imu_angularY_left  \\\n0     -786.340071  ...          -0.272368           0.018669   \n1     -836.277343  ...          -0.925128          -0.000353   \n2     -784.334538  ...          -1.895445          -0.033696   \n3     -575.420332  ...          -2.675410          -0.071210   \n4     -228.216868  ...          -2.836775          -0.099201   \n\n   imu_angularZ_left  imu_angularX_right  imu_angularY_right  \\\n0          -0.115200           -0.873084            0.076169   \n1          -0.203227            1.159180            0.022186   \n2          -0.329384            3.761404           -0.046249   \n3          -0.420512            4.947832           -0.077489   \n4          -0.418456            3.459541           -0.044035   \n\n   imu_angularZ_right  imu_angularX_spine  imu_angularY_spine  \\\n0           -0.284259           -0.598579           -0.068011   \n1           -0.128051            0.950772            0.073927   \n2            0.084440            0.040030           -0.036652   \n3            0.211777            0.153714           -0.063593   \n4            0.151183            0.325708           -0.031565   \n\n   imu_angularZ_spine  PD  \n0           -0.241989   1  \n1            0.385690   1  \n2            0.075855   1  \n3            0.047170   1  \n4            0.107200   1  \n\n[5 rows x 40 columns]",
      "text/html": "<div>\n<style scoped>\n    .dataframe tbody tr th:only-of-type {\n        vertical-align: middle;\n    }\n\n    .dataframe tbody tr th {\n        vertical-align: top;\n    }\n\n    .dataframe thead th {\n        text-align: right;\n    }\n</style>\n<table border=\"1\" class=\"dataframe\">\n  <thead>\n    <tr style=\"text-align: right;\">\n      <th></th>\n      <th>anon_id</th>\n      <th>date_measure</th>\n      <th>time_stamp</th>\n      <th>imu_gyroX_right</th>\n      <th>imu_gyroY_right</th>\n      <th>imu_gyroZ_right</th>\n      <th>imu_accX_right</th>\n      <th>imu_accY_right</th>\n      <th>imu_accZ_right</th>\n      <th>imu_gyroX_left</th>\n      <th>...</th>\n      <th>imu_angularX_left</th>\n      <th>imu_angularY_left</th>\n      <th>imu_angularZ_left</th>\n      <th>imu_angularX_right</th>\n      <th>imu_angularY_right</th>\n      <th>imu_angularZ_right</th>\n      <th>imu_angularX_spine</th>\n      <th>imu_angularY_spine</th>\n      <th>imu_angularZ_spine</th>\n      <th>PD</th>\n    </tr>\n  </thead>\n  <tbody>\n    <tr>\n      <th>0</th>\n      <td>9</td>\n      <td>2023-9-29-11-53-21</td>\n      <td>0.0</td>\n      <td>-721.682708</td>\n      <td>15.593227</td>\n      <td>-388.127748</td>\n      <td>9.181793</td>\n      <td>2.010050</td>\n      <td>-2.132478</td>\n      <td>-786.340071</td>\n      <td>...</td>\n      <td>-0.272368</td>\n      <td>0.018669</td>\n      <td>-0.115200</td>\n      <td>-0.873084</td>\n      <td>0.076169</td>\n      <td>-0.284259</td>\n      <td>-0.598579</td>\n      <td>-0.068011</td>\n      <td>-0.241989</td>\n      <td>1</td>\n    </tr>\n    <tr>\n      <th>1</th>\n      <td>9</td>\n      <td>2023-9-29-11-53-21</td>\n      <td>20.0</td>\n      <td>-670.260115</td>\n      <td>106.966612</td>\n      <td>-531.556509</td>\n      <td>9.330485</td>\n      <td>2.006033</td>\n      <td>-2.221657</td>\n      <td>-836.277343</td>\n      <td>...</td>\n      <td>-0.925128</td>\n      <td>-0.000353</td>\n      <td>-0.203227</td>\n      <td>1.159180</td>\n      <td>0.022186</td>\n      <td>-0.128051</td>\n      <td>0.950772</td>\n      <td>0.073927</td>\n      <td>0.385690</td>\n      <td>1</td>\n    </tr>\n    <tr>\n      <th>2</th>\n      <td>9</td>\n      <td>2023-9-29-11-53-21</td>\n      <td>39.0</td>\n      <td>-1256.346678</td>\n      <td>154.354034</td>\n      <td>-583.745247</td>\n      <td>9.430883</td>\n      <td>2.003482</td>\n      <td>-2.231009</td>\n      <td>-784.334538</td>\n      <td>...</td>\n      <td>-1.895445</td>\n      <td>-0.033696</td>\n      <td>-0.329384</td>\n      <td>3.761404</td>\n      <td>-0.046249</td>\n      <td>0.084440</td>\n      <td>0.040030</td>\n      <td>-0.036652</td>\n      <td>0.075855</td>\n      <td>1</td>\n    </tr>\n    <tr>\n      <th>3</th>\n      <td>9</td>\n      <td>2023-9-29-11-53-21</td>\n      <td>64.0</td>\n      <td>-2645.955791</td>\n      <td>139.340391</td>\n      <td>-516.938939</td>\n      <td>9.452909</td>\n      <td>2.061261</td>\n      <td>-2.123366</td>\n      <td>-575.420332</td>\n      <td>...</td>\n      <td>-2.675410</td>\n      <td>-0.071210</td>\n      <td>-0.420512</td>\n      <td>4.947832</td>\n      <td>-0.077489</td>\n      <td>0.211777</td>\n      <td>0.153714</td>\n      <td>-0.063593</td>\n      <td>0.047170</td>\n      <td>1</td>\n    </tr>\n    <tr>\n      <th>4</th>\n      <td>9</td>\n      <td>2023-9-29-11-53-21</td>\n      <td>83.0</td>\n      <td>-4370.713652</td>\n      <td>81.916044</td>\n      <td>-388.833685</td>\n      <td>9.392902</td>\n      <td>2.283368</td>\n      <td>-1.919931</td>\n      <td>-228.216868</td>\n      <td>...</td>\n      <td>-2.836775</td>\n      <td>-0.099201</td>\n      <td>-0.418456</td>\n      <td>3.459541</td>\n      <td>-0.044035</td>\n      <td>0.151183</td>\n      <td>0.325708</td>\n      <td>-0.031565</td>\n      <td>0.107200</td>\n      <td>1</td>\n    </tr>\n  </tbody>\n</table>\n<p>5 rows × 40 columns</p>\n</div>"
     },
     "execution_count": 30,
     "metadata": {},
     "output_type": "execute_result"
    }
   ],
   "source": [
    "data.head()"
   ],
   "metadata": {
    "collapsed": false,
    "ExecuteTime": {
     "end_time": "2024-04-11T03:00:37.972412Z",
     "start_time": "2024-04-11T03:00:37.915290Z"
    }
   },
   "id": "2a465df25b7ae4e",
   "execution_count": 30
  },
  {
   "cell_type": "code",
   "outputs": [
    {
     "data": {
      "text/plain": "Index(['anon_id', 'date_measure', 'time_stamp', 'imu_gyroX_right',\n       'imu_gyroY_right', 'imu_gyroZ_right', 'imu_accX_right',\n       'imu_accY_right', 'imu_accZ_right', 'imu_gyroX_left', 'imu_gyroY_left',\n       'imu_gyroZ_left', 'imu_accX_left', 'imu_accY_left', 'imu_accZ_left',\n       'imu_gyroX_spine', 'imu_gyroY_spine', 'imu_gyroZ_spine',\n       'imu_accX_spine', 'imu_accY_spine', 'imu_accZ_spine',\n       'imu_angleX_right', 'imu_angleY_right', 'imu_angleZ_right',\n       'imu_angleX_left', 'imu_angleY_left', 'imu_angleZ_left',\n       'imu_angleX_spine', 'imu_angleY_spine', 'imu_angleZ_spine',\n       'imu_angularX_left', 'imu_angularY_left', 'imu_angularZ_left',\n       'imu_angularX_right', 'imu_angularY_right', 'imu_angularZ_right',\n       'imu_angularX_spine', 'imu_angularY_spine', 'imu_angularZ_spine', 'PD'],\n      dtype='object')"
     },
     "execution_count": 31,
     "metadata": {},
     "output_type": "execute_result"
    }
   ],
   "source": [
    "data.columns"
   ],
   "metadata": {
    "collapsed": false,
    "ExecuteTime": {
     "end_time": "2024-04-11T03:00:38.003123Z",
     "start_time": "2024-04-11T03:00:37.975762Z"
    }
   },
   "id": "9ea3fcb49c044384",
   "execution_count": 31
  },
  {
   "cell_type": "code",
   "outputs": [
    {
     "name": "stdout",
     "output_type": "stream",
     "text": [
      "['2023-9-29-11-53-21' '2023-6-22-10-28-8' '2023-6-16-14-45-43'\n",
      " '2023-9-19-10-12-28' '2023-3-23-13-14-7' '2023-7-6-12-7-50'\n",
      " '2023-11-7-15-14-42' '2023-2-23-15-58-22' '2023-9-30-8-42-24'\n",
      " '2023-9-30-8-58-32' '2024-1-16-16-1-25' '2023-6-16-9-48-30'\n",
      " '2023-6-17-8-26-3' '2023-3-17-11-12-26' '2023-3-18-13-33-51'\n",
      " '2023-6-17-8-39-41' '2023-3-17-11-1-26' '2023-6-16-14-38-22'\n",
      " '2023-10-5-10-2-44' '2023-3-18-10-50-25' '2023-7-6-9-33-42'\n",
      " '2023-9-5-12-31-47' '2024-2-2-9-34-54' '2023-2-23-15-37-18'\n",
      " '2023-6-29-10-40-43' '2023-6-22-9-54-43' '2023-9-30-9-41-22'\n",
      " '2023-9-30-12-3-43' '2023-3-23-10-28-48' '2024-2-2-11-11-47'\n",
      " '2024-1-30-9-6-49' '2024-1-30-10-17-23' '2024-2-15-8-52-21'\n",
      " '2024-2-15-10-1-41' '2024-2-15-11-18-44' '2023-6-17-9-42-57'\n",
      " '2023-8-31-9-14-29' '2023-2-23-14-11-53' '2024-2-13-15-13-47'\n",
      " '2023-9-30-12-28-15' '2023-9-7-12-2-5' '2023-2-21-15-8-52'\n",
      " '2023-11-21-9-17-56' '2023-9-22-14-56-19' '2023-4-11-8-49-25'\n",
      " '2023-3-30-8-35-11' '2023-11-3-10-52-41' '2023-6-16-11-54-33'\n",
      " '2023-9-5-8-35-35' '2024-1-18-8-4-45' '2023-4-11-11-49-7'\n",
      " '2023-7-6-11-22-29' '2023-2-23-14-27-51' '2023-2-23-15-41-30'\n",
      " '2023-6-16-8-43-17' '2023-6-16-9-8-37' '2023-6-17-12-40-20'\n",
      " '2023-6-17-12-32-58' '2023-6-17-9-39-14' '2023-6-17-9-8-15'\n",
      " '2023-2-23-15-4-53' '2023-2-21-14-58-49' '2023-9-26-11-17-32'\n",
      " '2023-2-23-15-33-32' '2023-9-19-11-37-42' '2023-2-23-14-39-38'\n",
      " '2024-2-14-10-6-51' '2023-2-23-15-24-22' '2024-1-18-15-8-14'\n",
      " '2023-6-27-10-4-38' '2023-2-21-14-39-6' '2023-9-30-9-23-39'\n",
      " '2023-11-22-9-0-39' '2023-4-11-11-53-36' '2023-8-31-15-5-5'\n",
      " '2023-8-31-15-3-10' '2023-9-12-11-8-0' '2023-9-30-14-39-22'\n",
      " '2023-2-23-15-52-11' '2023-9-30-9-14-42' '2023-9-30-15-56-29'\n",
      " '2023-2-23-14-47-39' '2023-9-30-8-50-2' '2023-2-21-14-25-1'\n",
      " '2023-2-23-15-19-20' '2023-2-21-14-19-35' '2023-3-30-10-33-1'\n",
      " '2023-2-23-15-8-54' '2023-2-23-14-34-1' '2023-9-30-12-39-16'\n",
      " '2023-9-26-12-5-34' '2023-2-21-14-56-0' '2023-6-27-9-58-22'\n",
      " '2023-2-23-14-8-48' '2023-2-23-14-53-1' '2023-2-23-15-13-22'\n",
      " '2023-9-30-11-36-47' '2023-2-23-15-16-26' '2023-6-17-9-23-26'\n",
      " '2023-3-17-15-47-28' '2023-10-5-10-15-58' '2023-10-5-10-19-30'\n",
      " '2023-6-16-14-55-12' '2023-6-16-15-25-24' '2023-3-18-9-35-47'\n",
      " '2023-6-16-9-4-24' '2023-6-16-15-5-45' '2023-6-17-8-32-10'\n",
      " '2023-3-18-11-58-2' '2023-3-18-8-26-57' '2024-2-14-9-17-26'\n",
      " '2023-2-21-14-42-57' '2023-6-16-15-27-56' '2023-2-23-15-28-23'\n",
      " '2024-2-14-8-58-29' '2023-2-21-14-47-26' '2023-6-22-10-6-21'\n",
      " '2023-6-22-8-9-29' '2023-9-21-10-3-13' '2023-2-23-16-1-59'\n",
      " '2023-9-30-16-16-50' '2023-9-30-9-49-10' '2023-11-30-19-27-32'\n",
      " '2023-6-17-8-52-8' '2023-2-23-14-20-36' '2023-2-21-14-50-59'\n",
      " '2023-4-11-11-40-14' '2023-2-23-14-57-53' '2023-9-14-8-32-33'\n",
      " '2023-3-29-10-11-30' '2023-9-30-9-34-4' '2023-9-4-9-49-14'\n",
      " '2023-2-21-14-28-50' '2023-3-18-8-47-39' '2023-3-18-8-35-24'\n",
      " '2023-3-18-9-40-22' '2023-3-18-10-14-22' '2023-6-16-15-10-33'\n",
      " '2023-9-30-15-43-15' '2024-2-1-15-52-49' '2024-1-25-10-18-44'\n",
      " '2023-9-30-8-33-46' '2023-2-23-15-46-0' '2023-9-25-10-50-28'\n",
      " '2023-2-21-14-33-14' '2023-2-23-14-43-36' '2023-9-30-14-53-12'\n",
      " '2023-3-29-10-41-7' '2023-3-18-8-18-4' '2023-6-27-8-48-43'\n",
      " '2023-9-30-10-5-53' '2023-6-17-10-1-30' '2023-2-21-15-2-9'\n",
      " '2023-9-30-15-35-54' '2023-3-29-10-34-3' '2023-9-30-9-6-45'\n",
      " '2023-9-30-15-49-43' '2023-10-5-16-34-4' '2024-1-16-16-5-34'\n",
      " '2023-3-29-10-5-2' '2023-10-5-16-23-50' '2023-10-5-16-14-35'\n",
      " '2023-7-11-10-15-46' '2023-9-25-8-37-55' '2023-7-11-8-52-27'\n",
      " '2023-6-17-10-39-17']\n"
     ]
    }
   ],
   "source": [
    "# Creamos una lista de los valores únicos de fecha como strings\n",
    "fechas_unicas = data['date_measure'].astype(str).unique()\n",
    "# 'fechas_unicas' contiene una lista de las fechas únicas encontradas en 'date_measure' como strings\n",
    "print(fechas_unicas)"
   ],
   "metadata": {
    "collapsed": false,
    "ExecuteTime": {
     "end_time": "2024-04-11T03:00:38.079879Z",
     "start_time": "2024-04-11T03:00:38.005476Z"
    }
   },
   "id": "20fc4e815d318e32",
   "execution_count": 32
  },
  {
   "cell_type": "markdown",
   "source": [
    "# Feature Engineering Stage 2: Statistical measures of frequency domain\n",
    "\n",
    "In the stage 2 of the feature engineering, we will apply the fourier transform to the windows and then build a total of 15 simple statistical features —\n",
    "1. mean\n",
    "2. standard deviation\n",
    "3. average absolute deviation\n",
    "4. minimum value\n",
    "5. maximum value\n",
    "6. difference of maximum and minimum values\n",
    "7. median\n",
    "8. median absolute deviation\n",
    "9. interquartile range\n",
    "10. negative values count\n",
    "11. positive values count\n",
    "12. number of values above mean\n",
    "13. number of peaks\n",
    "14. skewness\n",
    "15. kurtosis"
   ],
   "metadata": {
    "collapsed": false
   },
   "id": "5e1b23d4ee5f8168"
  },
  {
   "cell_type": "markdown",
   "source": [
    "Definir la función para calcular las medidas estadísticas de una ventana"
   ],
   "metadata": {
    "collapsed": false
   },
   "id": "ab3e095fa36bf944"
  },
  {
   "cell_type": "code",
   "outputs": [],
   "source": [
    "def calcular_medidas_estadisticas(columna):\n",
    "    #print(columna)\n",
    "    medidas = {\n",
    "        'mean': np.mean(columna),\n",
    "        'std': np.std(columna),\n",
    "        'mean_abs_dev': np.mean(np.abs(columna - np.mean(columna))),\n",
    "        'min': np.min(columna),\n",
    "        'max': np.max(columna),\n",
    "        'range': np.max(columna) - np.min(columna),\n",
    "        'median': np.median(columna),\n",
    "        'median_abs_dev': np.median(np.abs(columna - np.median(columna))),\n",
    "        'interquartile_range': np.percentile(columna, 75) - np.percentile(columna, 25),\n",
    "        'negative_count': np.sum(columna < 0),\n",
    "        'positive_count': np.sum(columna > 0),\n",
    "        'above_mean_count': np.sum(columna > np.mean(columna)),\n",
    "        'local_maxima_count': len(columna) - np.sum((columna.shift(-1) < columna) & (columna.shift(1) < columna)),\n",
    "        'skewness': skew(columna),\n",
    "        'kurtosis': kurtosis(columna)\n",
    "    }\n",
    "    #print(medidas)\n",
    "    return medidas"
   ],
   "metadata": {
    "collapsed": false,
    "ExecuteTime": {
     "end_time": "2024-04-11T03:00:38.111017Z",
     "start_time": "2024-04-11T03:00:38.086417Z"
    }
   },
   "id": "13deca618a2a8732",
   "execution_count": 33
  },
  {
   "cell_type": "markdown",
   "source": [
    "Crear un nuevo DataFrame para almacenar los datos de las ventanas"
   ],
   "metadata": {
    "collapsed": false
   },
   "id": "7cb8bb576e4c68e9"
  },
  {
   "cell_type": "code",
   "outputs": [
    {
     "name": "stdout",
     "output_type": "stream",
     "text": [
      "['anon_id', 'date_measure', 'window_number', 'first_timestamp', 'fft_imu_gyroX_right_mean', 'fft_imu_gyroX_right_std', 'fft_imu_gyroX_right_mean_abs_dev', 'fft_imu_gyroX_right_min', 'fft_imu_gyroX_right_max', 'fft_imu_gyroX_right_range', 'fft_imu_gyroX_right_median', 'fft_imu_gyroX_right_median_abs_dev', 'fft_imu_gyroX_right_interquartile_range', 'fft_imu_gyroX_right_negative_count', 'fft_imu_gyroX_right_positive_count', 'fft_imu_gyroX_right_above_mean_count', 'fft_imu_gyroX_right_local_maxima_count', 'fft_imu_gyroX_right_skewness', 'fft_imu_gyroX_right_kurtosis', 'fft_imu_gyroY_right_mean', 'fft_imu_gyroY_right_std', 'fft_imu_gyroY_right_mean_abs_dev', 'fft_imu_gyroY_right_min', 'fft_imu_gyroY_right_max', 'fft_imu_gyroY_right_range', 'fft_imu_gyroY_right_median', 'fft_imu_gyroY_right_median_abs_dev', 'fft_imu_gyroY_right_interquartile_range', 'fft_imu_gyroY_right_negative_count', 'fft_imu_gyroY_right_positive_count', 'fft_imu_gyroY_right_above_mean_count', 'fft_imu_gyroY_right_local_maxima_count', 'fft_imu_gyroY_right_skewness', 'fft_imu_gyroY_right_kurtosis', 'fft_imu_gyroZ_right_mean', 'fft_imu_gyroZ_right_std', 'fft_imu_gyroZ_right_mean_abs_dev', 'fft_imu_gyroZ_right_min', 'fft_imu_gyroZ_right_max', 'fft_imu_gyroZ_right_range', 'fft_imu_gyroZ_right_median', 'fft_imu_gyroZ_right_median_abs_dev', 'fft_imu_gyroZ_right_interquartile_range', 'fft_imu_gyroZ_right_negative_count', 'fft_imu_gyroZ_right_positive_count', 'fft_imu_gyroZ_right_above_mean_count', 'fft_imu_gyroZ_right_local_maxima_count', 'fft_imu_gyroZ_right_skewness', 'fft_imu_gyroZ_right_kurtosis', 'fft_imu_accX_right_mean', 'fft_imu_accX_right_std', 'fft_imu_accX_right_mean_abs_dev', 'fft_imu_accX_right_min', 'fft_imu_accX_right_max', 'fft_imu_accX_right_range', 'fft_imu_accX_right_median', 'fft_imu_accX_right_median_abs_dev', 'fft_imu_accX_right_interquartile_range', 'fft_imu_accX_right_negative_count', 'fft_imu_accX_right_positive_count', 'fft_imu_accX_right_above_mean_count', 'fft_imu_accX_right_local_maxima_count', 'fft_imu_accX_right_skewness', 'fft_imu_accX_right_kurtosis', 'fft_imu_accY_right_mean', 'fft_imu_accY_right_std', 'fft_imu_accY_right_mean_abs_dev', 'fft_imu_accY_right_min', 'fft_imu_accY_right_max', 'fft_imu_accY_right_range', 'fft_imu_accY_right_median', 'fft_imu_accY_right_median_abs_dev', 'fft_imu_accY_right_interquartile_range', 'fft_imu_accY_right_negative_count', 'fft_imu_accY_right_positive_count', 'fft_imu_accY_right_above_mean_count', 'fft_imu_accY_right_local_maxima_count', 'fft_imu_accY_right_skewness', 'fft_imu_accY_right_kurtosis', 'fft_imu_accZ_right_mean', 'fft_imu_accZ_right_std', 'fft_imu_accZ_right_mean_abs_dev', 'fft_imu_accZ_right_min', 'fft_imu_accZ_right_max', 'fft_imu_accZ_right_range', 'fft_imu_accZ_right_median', 'fft_imu_accZ_right_median_abs_dev', 'fft_imu_accZ_right_interquartile_range', 'fft_imu_accZ_right_negative_count', 'fft_imu_accZ_right_positive_count', 'fft_imu_accZ_right_above_mean_count', 'fft_imu_accZ_right_local_maxima_count', 'fft_imu_accZ_right_skewness', 'fft_imu_accZ_right_kurtosis', 'fft_imu_gyroX_left_mean', 'fft_imu_gyroX_left_std', 'fft_imu_gyroX_left_mean_abs_dev', 'fft_imu_gyroX_left_min', 'fft_imu_gyroX_left_max', 'fft_imu_gyroX_left_range', 'fft_imu_gyroX_left_median', 'fft_imu_gyroX_left_median_abs_dev', 'fft_imu_gyroX_left_interquartile_range', 'fft_imu_gyroX_left_negative_count', 'fft_imu_gyroX_left_positive_count', 'fft_imu_gyroX_left_above_mean_count', 'fft_imu_gyroX_left_local_maxima_count', 'fft_imu_gyroX_left_skewness', 'fft_imu_gyroX_left_kurtosis', 'fft_imu_gyroY_left_mean', 'fft_imu_gyroY_left_std', 'fft_imu_gyroY_left_mean_abs_dev', 'fft_imu_gyroY_left_min', 'fft_imu_gyroY_left_max', 'fft_imu_gyroY_left_range', 'fft_imu_gyroY_left_median', 'fft_imu_gyroY_left_median_abs_dev', 'fft_imu_gyroY_left_interquartile_range', 'fft_imu_gyroY_left_negative_count', 'fft_imu_gyroY_left_positive_count', 'fft_imu_gyroY_left_above_mean_count', 'fft_imu_gyroY_left_local_maxima_count', 'fft_imu_gyroY_left_skewness', 'fft_imu_gyroY_left_kurtosis', 'fft_imu_gyroZ_left_mean', 'fft_imu_gyroZ_left_std', 'fft_imu_gyroZ_left_mean_abs_dev', 'fft_imu_gyroZ_left_min', 'fft_imu_gyroZ_left_max', 'fft_imu_gyroZ_left_range', 'fft_imu_gyroZ_left_median', 'fft_imu_gyroZ_left_median_abs_dev', 'fft_imu_gyroZ_left_interquartile_range', 'fft_imu_gyroZ_left_negative_count', 'fft_imu_gyroZ_left_positive_count', 'fft_imu_gyroZ_left_above_mean_count', 'fft_imu_gyroZ_left_local_maxima_count', 'fft_imu_gyroZ_left_skewness', 'fft_imu_gyroZ_left_kurtosis', 'fft_imu_accX_left_mean', 'fft_imu_accX_left_std', 'fft_imu_accX_left_mean_abs_dev', 'fft_imu_accX_left_min', 'fft_imu_accX_left_max', 'fft_imu_accX_left_range', 'fft_imu_accX_left_median', 'fft_imu_accX_left_median_abs_dev', 'fft_imu_accX_left_interquartile_range', 'fft_imu_accX_left_negative_count', 'fft_imu_accX_left_positive_count', 'fft_imu_accX_left_above_mean_count', 'fft_imu_accX_left_local_maxima_count', 'fft_imu_accX_left_skewness', 'fft_imu_accX_left_kurtosis', 'fft_imu_accY_left_mean', 'fft_imu_accY_left_std', 'fft_imu_accY_left_mean_abs_dev', 'fft_imu_accY_left_min', 'fft_imu_accY_left_max', 'fft_imu_accY_left_range', 'fft_imu_accY_left_median', 'fft_imu_accY_left_median_abs_dev', 'fft_imu_accY_left_interquartile_range', 'fft_imu_accY_left_negative_count', 'fft_imu_accY_left_positive_count', 'fft_imu_accY_left_above_mean_count', 'fft_imu_accY_left_local_maxima_count', 'fft_imu_accY_left_skewness', 'fft_imu_accY_left_kurtosis', 'fft_imu_accZ_left_mean', 'fft_imu_accZ_left_std', 'fft_imu_accZ_left_mean_abs_dev', 'fft_imu_accZ_left_min', 'fft_imu_accZ_left_max', 'fft_imu_accZ_left_range', 'fft_imu_accZ_left_median', 'fft_imu_accZ_left_median_abs_dev', 'fft_imu_accZ_left_interquartile_range', 'fft_imu_accZ_left_negative_count', 'fft_imu_accZ_left_positive_count', 'fft_imu_accZ_left_above_mean_count', 'fft_imu_accZ_left_local_maxima_count', 'fft_imu_accZ_left_skewness', 'fft_imu_accZ_left_kurtosis', 'fft_imu_gyroX_spine_mean', 'fft_imu_gyroX_spine_std', 'fft_imu_gyroX_spine_mean_abs_dev', 'fft_imu_gyroX_spine_min', 'fft_imu_gyroX_spine_max', 'fft_imu_gyroX_spine_range', 'fft_imu_gyroX_spine_median', 'fft_imu_gyroX_spine_median_abs_dev', 'fft_imu_gyroX_spine_interquartile_range', 'fft_imu_gyroX_spine_negative_count', 'fft_imu_gyroX_spine_positive_count', 'fft_imu_gyroX_spine_above_mean_count', 'fft_imu_gyroX_spine_local_maxima_count', 'fft_imu_gyroX_spine_skewness', 'fft_imu_gyroX_spine_kurtosis', 'fft_imu_gyroY_spine_mean', 'fft_imu_gyroY_spine_std', 'fft_imu_gyroY_spine_mean_abs_dev', 'fft_imu_gyroY_spine_min', 'fft_imu_gyroY_spine_max', 'fft_imu_gyroY_spine_range', 'fft_imu_gyroY_spine_median', 'fft_imu_gyroY_spine_median_abs_dev', 'fft_imu_gyroY_spine_interquartile_range', 'fft_imu_gyroY_spine_negative_count', 'fft_imu_gyroY_spine_positive_count', 'fft_imu_gyroY_spine_above_mean_count', 'fft_imu_gyroY_spine_local_maxima_count', 'fft_imu_gyroY_spine_skewness', 'fft_imu_gyroY_spine_kurtosis', 'fft_imu_gyroZ_spine_mean', 'fft_imu_gyroZ_spine_std', 'fft_imu_gyroZ_spine_mean_abs_dev', 'fft_imu_gyroZ_spine_min', 'fft_imu_gyroZ_spine_max', 'fft_imu_gyroZ_spine_range', 'fft_imu_gyroZ_spine_median', 'fft_imu_gyroZ_spine_median_abs_dev', 'fft_imu_gyroZ_spine_interquartile_range', 'fft_imu_gyroZ_spine_negative_count', 'fft_imu_gyroZ_spine_positive_count', 'fft_imu_gyroZ_spine_above_mean_count', 'fft_imu_gyroZ_spine_local_maxima_count', 'fft_imu_gyroZ_spine_skewness', 'fft_imu_gyroZ_spine_kurtosis', 'fft_imu_accX_spine_mean', 'fft_imu_accX_spine_std', 'fft_imu_accX_spine_mean_abs_dev', 'fft_imu_accX_spine_min', 'fft_imu_accX_spine_max', 'fft_imu_accX_spine_range', 'fft_imu_accX_spine_median', 'fft_imu_accX_spine_median_abs_dev', 'fft_imu_accX_spine_interquartile_range', 'fft_imu_accX_spine_negative_count', 'fft_imu_accX_spine_positive_count', 'fft_imu_accX_spine_above_mean_count', 'fft_imu_accX_spine_local_maxima_count', 'fft_imu_accX_spine_skewness', 'fft_imu_accX_spine_kurtosis', 'fft_imu_accY_spine_mean', 'fft_imu_accY_spine_std', 'fft_imu_accY_spine_mean_abs_dev', 'fft_imu_accY_spine_min', 'fft_imu_accY_spine_max', 'fft_imu_accY_spine_range', 'fft_imu_accY_spine_median', 'fft_imu_accY_spine_median_abs_dev', 'fft_imu_accY_spine_interquartile_range', 'fft_imu_accY_spine_negative_count', 'fft_imu_accY_spine_positive_count', 'fft_imu_accY_spine_above_mean_count', 'fft_imu_accY_spine_local_maxima_count', 'fft_imu_accY_spine_skewness', 'fft_imu_accY_spine_kurtosis', 'fft_imu_accZ_spine_mean', 'fft_imu_accZ_spine_std', 'fft_imu_accZ_spine_mean_abs_dev', 'fft_imu_accZ_spine_min', 'fft_imu_accZ_spine_max', 'fft_imu_accZ_spine_range', 'fft_imu_accZ_spine_median', 'fft_imu_accZ_spine_median_abs_dev', 'fft_imu_accZ_spine_interquartile_range', 'fft_imu_accZ_spine_negative_count', 'fft_imu_accZ_spine_positive_count', 'fft_imu_accZ_spine_above_mean_count', 'fft_imu_accZ_spine_local_maxima_count', 'fft_imu_accZ_spine_skewness', 'fft_imu_accZ_spine_kurtosis', 'fft_imu_angleX_right_mean', 'fft_imu_angleX_right_std', 'fft_imu_angleX_right_mean_abs_dev', 'fft_imu_angleX_right_min', 'fft_imu_angleX_right_max', 'fft_imu_angleX_right_range', 'fft_imu_angleX_right_median', 'fft_imu_angleX_right_median_abs_dev', 'fft_imu_angleX_right_interquartile_range', 'fft_imu_angleX_right_negative_count', 'fft_imu_angleX_right_positive_count', 'fft_imu_angleX_right_above_mean_count', 'fft_imu_angleX_right_local_maxima_count', 'fft_imu_angleX_right_skewness', 'fft_imu_angleX_right_kurtosis', 'fft_imu_angleY_right_mean', 'fft_imu_angleY_right_std', 'fft_imu_angleY_right_mean_abs_dev', 'fft_imu_angleY_right_min', 'fft_imu_angleY_right_max', 'fft_imu_angleY_right_range', 'fft_imu_angleY_right_median', 'fft_imu_angleY_right_median_abs_dev', 'fft_imu_angleY_right_interquartile_range', 'fft_imu_angleY_right_negative_count', 'fft_imu_angleY_right_positive_count', 'fft_imu_angleY_right_above_mean_count', 'fft_imu_angleY_right_local_maxima_count', 'fft_imu_angleY_right_skewness', 'fft_imu_angleY_right_kurtosis', 'fft_imu_angleZ_right_mean', 'fft_imu_angleZ_right_std', 'fft_imu_angleZ_right_mean_abs_dev', 'fft_imu_angleZ_right_min', 'fft_imu_angleZ_right_max', 'fft_imu_angleZ_right_range', 'fft_imu_angleZ_right_median', 'fft_imu_angleZ_right_median_abs_dev', 'fft_imu_angleZ_right_interquartile_range', 'fft_imu_angleZ_right_negative_count', 'fft_imu_angleZ_right_positive_count', 'fft_imu_angleZ_right_above_mean_count', 'fft_imu_angleZ_right_local_maxima_count', 'fft_imu_angleZ_right_skewness', 'fft_imu_angleZ_right_kurtosis', 'fft_imu_angleX_left_mean', 'fft_imu_angleX_left_std', 'fft_imu_angleX_left_mean_abs_dev', 'fft_imu_angleX_left_min', 'fft_imu_angleX_left_max', 'fft_imu_angleX_left_range', 'fft_imu_angleX_left_median', 'fft_imu_angleX_left_median_abs_dev', 'fft_imu_angleX_left_interquartile_range', 'fft_imu_angleX_left_negative_count', 'fft_imu_angleX_left_positive_count', 'fft_imu_angleX_left_above_mean_count', 'fft_imu_angleX_left_local_maxima_count', 'fft_imu_angleX_left_skewness', 'fft_imu_angleX_left_kurtosis', 'fft_imu_angleY_left_mean', 'fft_imu_angleY_left_std', 'fft_imu_angleY_left_mean_abs_dev', 'fft_imu_angleY_left_min', 'fft_imu_angleY_left_max', 'fft_imu_angleY_left_range', 'fft_imu_angleY_left_median', 'fft_imu_angleY_left_median_abs_dev', 'fft_imu_angleY_left_interquartile_range', 'fft_imu_angleY_left_negative_count', 'fft_imu_angleY_left_positive_count', 'fft_imu_angleY_left_above_mean_count', 'fft_imu_angleY_left_local_maxima_count', 'fft_imu_angleY_left_skewness', 'fft_imu_angleY_left_kurtosis', 'fft_imu_angleZ_left_mean', 'fft_imu_angleZ_left_std', 'fft_imu_angleZ_left_mean_abs_dev', 'fft_imu_angleZ_left_min', 'fft_imu_angleZ_left_max', 'fft_imu_angleZ_left_range', 'fft_imu_angleZ_left_median', 'fft_imu_angleZ_left_median_abs_dev', 'fft_imu_angleZ_left_interquartile_range', 'fft_imu_angleZ_left_negative_count', 'fft_imu_angleZ_left_positive_count', 'fft_imu_angleZ_left_above_mean_count', 'fft_imu_angleZ_left_local_maxima_count', 'fft_imu_angleZ_left_skewness', 'fft_imu_angleZ_left_kurtosis', 'fft_imu_angleX_spine_mean', 'fft_imu_angleX_spine_std', 'fft_imu_angleX_spine_mean_abs_dev', 'fft_imu_angleX_spine_min', 'fft_imu_angleX_spine_max', 'fft_imu_angleX_spine_range', 'fft_imu_angleX_spine_median', 'fft_imu_angleX_spine_median_abs_dev', 'fft_imu_angleX_spine_interquartile_range', 'fft_imu_angleX_spine_negative_count', 'fft_imu_angleX_spine_positive_count', 'fft_imu_angleX_spine_above_mean_count', 'fft_imu_angleX_spine_local_maxima_count', 'fft_imu_angleX_spine_skewness', 'fft_imu_angleX_spine_kurtosis', 'fft_imu_angleY_spine_mean', 'fft_imu_angleY_spine_std', 'fft_imu_angleY_spine_mean_abs_dev', 'fft_imu_angleY_spine_min', 'fft_imu_angleY_spine_max', 'fft_imu_angleY_spine_range', 'fft_imu_angleY_spine_median', 'fft_imu_angleY_spine_median_abs_dev', 'fft_imu_angleY_spine_interquartile_range', 'fft_imu_angleY_spine_negative_count', 'fft_imu_angleY_spine_positive_count', 'fft_imu_angleY_spine_above_mean_count', 'fft_imu_angleY_spine_local_maxima_count', 'fft_imu_angleY_spine_skewness', 'fft_imu_angleY_spine_kurtosis', 'fft_imu_angleZ_spine_mean', 'fft_imu_angleZ_spine_std', 'fft_imu_angleZ_spine_mean_abs_dev', 'fft_imu_angleZ_spine_min', 'fft_imu_angleZ_spine_max', 'fft_imu_angleZ_spine_range', 'fft_imu_angleZ_spine_median', 'fft_imu_angleZ_spine_median_abs_dev', 'fft_imu_angleZ_spine_interquartile_range', 'fft_imu_angleZ_spine_negative_count', 'fft_imu_angleZ_spine_positive_count', 'fft_imu_angleZ_spine_above_mean_count', 'fft_imu_angleZ_spine_local_maxima_count', 'fft_imu_angleZ_spine_skewness', 'fft_imu_angleZ_spine_kurtosis', 'fft_imu_angularX_left_mean', 'fft_imu_angularX_left_std', 'fft_imu_angularX_left_mean_abs_dev', 'fft_imu_angularX_left_min', 'fft_imu_angularX_left_max', 'fft_imu_angularX_left_range', 'fft_imu_angularX_left_median', 'fft_imu_angularX_left_median_abs_dev', 'fft_imu_angularX_left_interquartile_range', 'fft_imu_angularX_left_negative_count', 'fft_imu_angularX_left_positive_count', 'fft_imu_angularX_left_above_mean_count', 'fft_imu_angularX_left_local_maxima_count', 'fft_imu_angularX_left_skewness', 'fft_imu_angularX_left_kurtosis', 'fft_imu_angularY_left_mean', 'fft_imu_angularY_left_std', 'fft_imu_angularY_left_mean_abs_dev', 'fft_imu_angularY_left_min', 'fft_imu_angularY_left_max', 'fft_imu_angularY_left_range', 'fft_imu_angularY_left_median', 'fft_imu_angularY_left_median_abs_dev', 'fft_imu_angularY_left_interquartile_range', 'fft_imu_angularY_left_negative_count', 'fft_imu_angularY_left_positive_count', 'fft_imu_angularY_left_above_mean_count', 'fft_imu_angularY_left_local_maxima_count', 'fft_imu_angularY_left_skewness', 'fft_imu_angularY_left_kurtosis', 'fft_imu_angularZ_left_mean', 'fft_imu_angularZ_left_std', 'fft_imu_angularZ_left_mean_abs_dev', 'fft_imu_angularZ_left_min', 'fft_imu_angularZ_left_max', 'fft_imu_angularZ_left_range', 'fft_imu_angularZ_left_median', 'fft_imu_angularZ_left_median_abs_dev', 'fft_imu_angularZ_left_interquartile_range', 'fft_imu_angularZ_left_negative_count', 'fft_imu_angularZ_left_positive_count', 'fft_imu_angularZ_left_above_mean_count', 'fft_imu_angularZ_left_local_maxima_count', 'fft_imu_angularZ_left_skewness', 'fft_imu_angularZ_left_kurtosis', 'fft_imu_angularX_right_mean', 'fft_imu_angularX_right_std', 'fft_imu_angularX_right_mean_abs_dev', 'fft_imu_angularX_right_min', 'fft_imu_angularX_right_max', 'fft_imu_angularX_right_range', 'fft_imu_angularX_right_median', 'fft_imu_angularX_right_median_abs_dev', 'fft_imu_angularX_right_interquartile_range', 'fft_imu_angularX_right_negative_count', 'fft_imu_angularX_right_positive_count', 'fft_imu_angularX_right_above_mean_count', 'fft_imu_angularX_right_local_maxima_count', 'fft_imu_angularX_right_skewness', 'fft_imu_angularX_right_kurtosis', 'fft_imu_angularY_right_mean', 'fft_imu_angularY_right_std', 'fft_imu_angularY_right_mean_abs_dev', 'fft_imu_angularY_right_min', 'fft_imu_angularY_right_max', 'fft_imu_angularY_right_range', 'fft_imu_angularY_right_median', 'fft_imu_angularY_right_median_abs_dev', 'fft_imu_angularY_right_interquartile_range', 'fft_imu_angularY_right_negative_count', 'fft_imu_angularY_right_positive_count', 'fft_imu_angularY_right_above_mean_count', 'fft_imu_angularY_right_local_maxima_count', 'fft_imu_angularY_right_skewness', 'fft_imu_angularY_right_kurtosis', 'fft_imu_angularZ_right_mean', 'fft_imu_angularZ_right_std', 'fft_imu_angularZ_right_mean_abs_dev', 'fft_imu_angularZ_right_min', 'fft_imu_angularZ_right_max', 'fft_imu_angularZ_right_range', 'fft_imu_angularZ_right_median', 'fft_imu_angularZ_right_median_abs_dev', 'fft_imu_angularZ_right_interquartile_range', 'fft_imu_angularZ_right_negative_count', 'fft_imu_angularZ_right_positive_count', 'fft_imu_angularZ_right_above_mean_count', 'fft_imu_angularZ_right_local_maxima_count', 'fft_imu_angularZ_right_skewness', 'fft_imu_angularZ_right_kurtosis', 'fft_imu_angularX_spine_mean', 'fft_imu_angularX_spine_std', 'fft_imu_angularX_spine_mean_abs_dev', 'fft_imu_angularX_spine_min', 'fft_imu_angularX_spine_max', 'fft_imu_angularX_spine_range', 'fft_imu_angularX_spine_median', 'fft_imu_angularX_spine_median_abs_dev', 'fft_imu_angularX_spine_interquartile_range', 'fft_imu_angularX_spine_negative_count', 'fft_imu_angularX_spine_positive_count', 'fft_imu_angularX_spine_above_mean_count', 'fft_imu_angularX_spine_local_maxima_count', 'fft_imu_angularX_spine_skewness', 'fft_imu_angularX_spine_kurtosis', 'fft_imu_angularY_spine_mean', 'fft_imu_angularY_spine_std', 'fft_imu_angularY_spine_mean_abs_dev', 'fft_imu_angularY_spine_min', 'fft_imu_angularY_spine_max', 'fft_imu_angularY_spine_range', 'fft_imu_angularY_spine_median', 'fft_imu_angularY_spine_median_abs_dev', 'fft_imu_angularY_spine_interquartile_range', 'fft_imu_angularY_spine_negative_count', 'fft_imu_angularY_spine_positive_count', 'fft_imu_angularY_spine_above_mean_count', 'fft_imu_angularY_spine_local_maxima_count', 'fft_imu_angularY_spine_skewness', 'fft_imu_angularY_spine_kurtosis', 'fft_imu_angularZ_spine_mean', 'fft_imu_angularZ_spine_std', 'fft_imu_angularZ_spine_mean_abs_dev', 'fft_imu_angularZ_spine_min', 'fft_imu_angularZ_spine_max', 'fft_imu_angularZ_spine_range', 'fft_imu_angularZ_spine_median', 'fft_imu_angularZ_spine_median_abs_dev', 'fft_imu_angularZ_spine_interquartile_range', 'fft_imu_angularZ_spine_negative_count', 'fft_imu_angularZ_spine_positive_count', 'fft_imu_angularZ_spine_above_mean_count', 'fft_imu_angularZ_spine_local_maxima_count', 'fft_imu_angularZ_spine_skewness', 'fft_imu_angularZ_spine_kurtosis', 'PD']\n"
     ]
    }
   ],
   "source": [
    "columnas_sensores = ['imu_gyroX_right', 'imu_gyroY_right', 'imu_gyroZ_right', 'imu_accX_right', 'imu_accY_right', 'imu_accZ_right', 'imu_gyroX_left', 'imu_gyroY_left', 'imu_gyroZ_left', 'imu_accX_left', 'imu_accY_left', 'imu_accZ_left', 'imu_gyroX_spine', 'imu_gyroY_spine', 'imu_gyroZ_spine', 'imu_accX_spine', 'imu_accY_spine', 'imu_accZ_spine', 'imu_angleX_right', 'imu_angleY_right', 'imu_angleZ_right', 'imu_angleX_left', 'imu_angleY_left', 'imu_angleZ_left', 'imu_angleX_spine', 'imu_angleY_spine', 'imu_angleZ_spine', 'imu_angularX_left', 'imu_angularY_left', 'imu_angularZ_left', 'imu_angularX_right', 'imu_angularY_right', 'imu_angularZ_right', 'imu_angularX_spine', 'imu_angularY_spine', 'imu_angularZ_spine']\n",
    "medidas_estadisticas = ['mean', 'std', 'mean_abs_dev',\n",
    "                      'min', 'max', 'range', 'median', 'median_abs_dev',\n",
    "                      'interquartile_range', 'negative_count', 'positive_count', 'above_mean_count',\n",
    "                      'local_maxima_count', 'skewness', 'kurtosis']\n",
    "def generar_nombres_columnas(columnas_sensores, medidas_estadisticas):\n",
    "    nombres_columnas = ['anon_id', 'date_measure', 'window_number', 'first_timestamp']\n",
    "    for columna in columnas_sensores:\n",
    "        for medida in medidas_estadisticas:\n",
    "            nombre_columna = f\"fft_{columna}_{medida}\"\n",
    "            nombres_columnas.append(nombre_columna)\n",
    "    nombres_columnas.append(\"PD\")\n",
    "    return nombres_columnas\n",
    "\n",
    "columnas_df_final=generar_nombres_columnas(columnas_sensores,medidas_estadisticas)\n",
    "print(columnas_df_final)"
   ],
   "metadata": {
    "collapsed": false,
    "ExecuteTime": {
     "end_time": "2024-04-11T03:00:38.142386Z",
     "start_time": "2024-04-11T03:00:38.114295Z"
    }
   },
   "id": "a47778e405b8e35e",
   "execution_count": 34
  },
  {
   "cell_type": "code",
   "outputs": [],
   "source": [
    "df_ventanas_fft = pd.DataFrame(columns=columnas_df_final)"
   ],
   "metadata": {
    "collapsed": false,
    "ExecuteTime": {
     "end_time": "2024-04-11T03:00:38.204525Z",
     "start_time": "2024-04-11T03:00:38.145743Z"
    }
   },
   "id": "51d9491ace32ea7e",
   "execution_count": 35
  },
  {
   "cell_type": "markdown",
   "source": [
    "Definir los parámetros para las ventanas"
   ],
   "metadata": {
    "collapsed": false
   },
   "id": "a7180724a33b4c0b"
  },
  {
   "cell_type": "code",
   "outputs": [],
   "source": [
    "frecuencia_muestreo = 50  # Hz\n",
    "longitud_ventana_s = 1  # segundos\n",
    "overlap = 0.5  # 50%"
   ],
   "metadata": {
    "collapsed": false,
    "ExecuteTime": {
     "end_time": "2024-04-11T03:00:38.220546Z",
     "start_time": "2024-04-11T03:00:38.206775Z"
    }
   },
   "id": "d69187efacedffe1",
   "execution_count": 36
  },
  {
   "cell_type": "markdown",
   "source": [
    "Calcular la cantidad de filas por ventana y el paso de tiempo entre ventanas"
   ],
   "metadata": {
    "collapsed": false
   },
   "id": "60ea1828ee42427f"
  },
  {
   "cell_type": "code",
   "outputs": [],
   "source": [
    "filas_por_ventana = int(longitud_ventana_s * frecuencia_muestreo)\n",
    "paso_tiempo = int(filas_por_ventana * (1 - overlap))"
   ],
   "metadata": {
    "collapsed": false,
    "ExecuteTime": {
     "end_time": "2024-04-11T03:00:38.235734Z",
     "start_time": "2024-04-11T03:00:38.222675Z"
    }
   },
   "id": "6f1a2da52bf3b989",
   "execution_count": 37
  },
  {
   "cell_type": "code",
   "outputs": [],
   "source": [
    "# Ignorar todos los warnings\n",
    "warnings.filterwarnings(\"ignore\")"
   ],
   "metadata": {
    "collapsed": false,
    "ExecuteTime": {
     "end_time": "2024-04-11T03:00:38.251245Z",
     "start_time": "2024-04-11T03:00:38.238854Z"
    }
   },
   "id": "685e9f215f06ebc1",
   "execution_count": 38
  },
  {
   "cell_type": "code",
   "outputs": [
    {
     "name": "stdout",
     "output_type": "stream",
     "text": [
      "['fft_imu_gyroX_right_mean', 'fft_imu_gyroX_right_std', 'fft_imu_gyroX_right_mean_abs_dev', 'fft_imu_gyroX_right_min', 'fft_imu_gyroX_right_max', 'fft_imu_gyroX_right_range', 'fft_imu_gyroX_right_median', 'fft_imu_gyroX_right_median_abs_dev', 'fft_imu_gyroX_right_interquartile_range', 'fft_imu_gyroX_right_negative_count', 'fft_imu_gyroX_right_positive_count', 'fft_imu_gyroX_right_above_mean_count', 'fft_imu_gyroX_right_local_maxima_count', 'fft_imu_gyroX_right_skewness', 'fft_imu_gyroX_right_kurtosis', 'fft_imu_gyroY_right_mean', 'fft_imu_gyroY_right_std', 'fft_imu_gyroY_right_mean_abs_dev', 'fft_imu_gyroY_right_min', 'fft_imu_gyroY_right_max', 'fft_imu_gyroY_right_range', 'fft_imu_gyroY_right_median', 'fft_imu_gyroY_right_median_abs_dev', 'fft_imu_gyroY_right_interquartile_range', 'fft_imu_gyroY_right_negative_count', 'fft_imu_gyroY_right_positive_count', 'fft_imu_gyroY_right_above_mean_count', 'fft_imu_gyroY_right_local_maxima_count', 'fft_imu_gyroY_right_skewness', 'fft_imu_gyroY_right_kurtosis', 'fft_imu_gyroZ_right_mean', 'fft_imu_gyroZ_right_std', 'fft_imu_gyroZ_right_mean_abs_dev', 'fft_imu_gyroZ_right_min', 'fft_imu_gyroZ_right_max', 'fft_imu_gyroZ_right_range', 'fft_imu_gyroZ_right_median', 'fft_imu_gyroZ_right_median_abs_dev', 'fft_imu_gyroZ_right_interquartile_range', 'fft_imu_gyroZ_right_negative_count', 'fft_imu_gyroZ_right_positive_count', 'fft_imu_gyroZ_right_above_mean_count', 'fft_imu_gyroZ_right_local_maxima_count', 'fft_imu_gyroZ_right_skewness', 'fft_imu_gyroZ_right_kurtosis', 'fft_imu_accX_right_mean', 'fft_imu_accX_right_std', 'fft_imu_accX_right_mean_abs_dev', 'fft_imu_accX_right_min', 'fft_imu_accX_right_max', 'fft_imu_accX_right_range', 'fft_imu_accX_right_median', 'fft_imu_accX_right_median_abs_dev', 'fft_imu_accX_right_interquartile_range', 'fft_imu_accX_right_negative_count', 'fft_imu_accX_right_positive_count', 'fft_imu_accX_right_above_mean_count', 'fft_imu_accX_right_local_maxima_count', 'fft_imu_accX_right_skewness', 'fft_imu_accX_right_kurtosis', 'fft_imu_accY_right_mean', 'fft_imu_accY_right_std', 'fft_imu_accY_right_mean_abs_dev', 'fft_imu_accY_right_min', 'fft_imu_accY_right_max', 'fft_imu_accY_right_range', 'fft_imu_accY_right_median', 'fft_imu_accY_right_median_abs_dev', 'fft_imu_accY_right_interquartile_range', 'fft_imu_accY_right_negative_count', 'fft_imu_accY_right_positive_count', 'fft_imu_accY_right_above_mean_count', 'fft_imu_accY_right_local_maxima_count', 'fft_imu_accY_right_skewness', 'fft_imu_accY_right_kurtosis', 'fft_imu_accZ_right_mean', 'fft_imu_accZ_right_std', 'fft_imu_accZ_right_mean_abs_dev', 'fft_imu_accZ_right_min', 'fft_imu_accZ_right_max', 'fft_imu_accZ_right_range', 'fft_imu_accZ_right_median', 'fft_imu_accZ_right_median_abs_dev', 'fft_imu_accZ_right_interquartile_range', 'fft_imu_accZ_right_negative_count', 'fft_imu_accZ_right_positive_count', 'fft_imu_accZ_right_above_mean_count', 'fft_imu_accZ_right_local_maxima_count', 'fft_imu_accZ_right_skewness', 'fft_imu_accZ_right_kurtosis', 'fft_imu_gyroX_left_mean', 'fft_imu_gyroX_left_std', 'fft_imu_gyroX_left_mean_abs_dev', 'fft_imu_gyroX_left_min', 'fft_imu_gyroX_left_max', 'fft_imu_gyroX_left_range', 'fft_imu_gyroX_left_median', 'fft_imu_gyroX_left_median_abs_dev', 'fft_imu_gyroX_left_interquartile_range', 'fft_imu_gyroX_left_negative_count', 'fft_imu_gyroX_left_positive_count', 'fft_imu_gyroX_left_above_mean_count', 'fft_imu_gyroX_left_local_maxima_count', 'fft_imu_gyroX_left_skewness', 'fft_imu_gyroX_left_kurtosis', 'fft_imu_gyroY_left_mean', 'fft_imu_gyroY_left_std', 'fft_imu_gyroY_left_mean_abs_dev', 'fft_imu_gyroY_left_min', 'fft_imu_gyroY_left_max', 'fft_imu_gyroY_left_range', 'fft_imu_gyroY_left_median', 'fft_imu_gyroY_left_median_abs_dev', 'fft_imu_gyroY_left_interquartile_range', 'fft_imu_gyroY_left_negative_count', 'fft_imu_gyroY_left_positive_count', 'fft_imu_gyroY_left_above_mean_count', 'fft_imu_gyroY_left_local_maxima_count', 'fft_imu_gyroY_left_skewness', 'fft_imu_gyroY_left_kurtosis', 'fft_imu_gyroZ_left_mean', 'fft_imu_gyroZ_left_std', 'fft_imu_gyroZ_left_mean_abs_dev', 'fft_imu_gyroZ_left_min', 'fft_imu_gyroZ_left_max', 'fft_imu_gyroZ_left_range', 'fft_imu_gyroZ_left_median', 'fft_imu_gyroZ_left_median_abs_dev', 'fft_imu_gyroZ_left_interquartile_range', 'fft_imu_gyroZ_left_negative_count', 'fft_imu_gyroZ_left_positive_count', 'fft_imu_gyroZ_left_above_mean_count', 'fft_imu_gyroZ_left_local_maxima_count', 'fft_imu_gyroZ_left_skewness', 'fft_imu_gyroZ_left_kurtosis', 'fft_imu_accX_left_mean', 'fft_imu_accX_left_std', 'fft_imu_accX_left_mean_abs_dev', 'fft_imu_accX_left_min', 'fft_imu_accX_left_max', 'fft_imu_accX_left_range', 'fft_imu_accX_left_median', 'fft_imu_accX_left_median_abs_dev', 'fft_imu_accX_left_interquartile_range', 'fft_imu_accX_left_negative_count', 'fft_imu_accX_left_positive_count', 'fft_imu_accX_left_above_mean_count', 'fft_imu_accX_left_local_maxima_count', 'fft_imu_accX_left_skewness', 'fft_imu_accX_left_kurtosis', 'fft_imu_accY_left_mean', 'fft_imu_accY_left_std', 'fft_imu_accY_left_mean_abs_dev', 'fft_imu_accY_left_min', 'fft_imu_accY_left_max', 'fft_imu_accY_left_range', 'fft_imu_accY_left_median', 'fft_imu_accY_left_median_abs_dev', 'fft_imu_accY_left_interquartile_range', 'fft_imu_accY_left_negative_count', 'fft_imu_accY_left_positive_count', 'fft_imu_accY_left_above_mean_count', 'fft_imu_accY_left_local_maxima_count', 'fft_imu_accY_left_skewness', 'fft_imu_accY_left_kurtosis', 'fft_imu_accZ_left_mean', 'fft_imu_accZ_left_std', 'fft_imu_accZ_left_mean_abs_dev', 'fft_imu_accZ_left_min', 'fft_imu_accZ_left_max', 'fft_imu_accZ_left_range', 'fft_imu_accZ_left_median', 'fft_imu_accZ_left_median_abs_dev', 'fft_imu_accZ_left_interquartile_range', 'fft_imu_accZ_left_negative_count', 'fft_imu_accZ_left_positive_count', 'fft_imu_accZ_left_above_mean_count', 'fft_imu_accZ_left_local_maxima_count', 'fft_imu_accZ_left_skewness', 'fft_imu_accZ_left_kurtosis', 'fft_imu_gyroX_spine_mean', 'fft_imu_gyroX_spine_std', 'fft_imu_gyroX_spine_mean_abs_dev', 'fft_imu_gyroX_spine_min', 'fft_imu_gyroX_spine_max', 'fft_imu_gyroX_spine_range', 'fft_imu_gyroX_spine_median', 'fft_imu_gyroX_spine_median_abs_dev', 'fft_imu_gyroX_spine_interquartile_range', 'fft_imu_gyroX_spine_negative_count', 'fft_imu_gyroX_spine_positive_count', 'fft_imu_gyroX_spine_above_mean_count', 'fft_imu_gyroX_spine_local_maxima_count', 'fft_imu_gyroX_spine_skewness', 'fft_imu_gyroX_spine_kurtosis', 'fft_imu_gyroY_spine_mean', 'fft_imu_gyroY_spine_std', 'fft_imu_gyroY_spine_mean_abs_dev', 'fft_imu_gyroY_spine_min', 'fft_imu_gyroY_spine_max', 'fft_imu_gyroY_spine_range', 'fft_imu_gyroY_spine_median', 'fft_imu_gyroY_spine_median_abs_dev', 'fft_imu_gyroY_spine_interquartile_range', 'fft_imu_gyroY_spine_negative_count', 'fft_imu_gyroY_spine_positive_count', 'fft_imu_gyroY_spine_above_mean_count', 'fft_imu_gyroY_spine_local_maxima_count', 'fft_imu_gyroY_spine_skewness', 'fft_imu_gyroY_spine_kurtosis', 'fft_imu_gyroZ_spine_mean', 'fft_imu_gyroZ_spine_std', 'fft_imu_gyroZ_spine_mean_abs_dev', 'fft_imu_gyroZ_spine_min', 'fft_imu_gyroZ_spine_max', 'fft_imu_gyroZ_spine_range', 'fft_imu_gyroZ_spine_median', 'fft_imu_gyroZ_spine_median_abs_dev', 'fft_imu_gyroZ_spine_interquartile_range', 'fft_imu_gyroZ_spine_negative_count', 'fft_imu_gyroZ_spine_positive_count', 'fft_imu_gyroZ_spine_above_mean_count', 'fft_imu_gyroZ_spine_local_maxima_count', 'fft_imu_gyroZ_spine_skewness', 'fft_imu_gyroZ_spine_kurtosis', 'fft_imu_accX_spine_mean', 'fft_imu_accX_spine_std', 'fft_imu_accX_spine_mean_abs_dev', 'fft_imu_accX_spine_min', 'fft_imu_accX_spine_max', 'fft_imu_accX_spine_range', 'fft_imu_accX_spine_median', 'fft_imu_accX_spine_median_abs_dev', 'fft_imu_accX_spine_interquartile_range', 'fft_imu_accX_spine_negative_count', 'fft_imu_accX_spine_positive_count', 'fft_imu_accX_spine_above_mean_count', 'fft_imu_accX_spine_local_maxima_count', 'fft_imu_accX_spine_skewness', 'fft_imu_accX_spine_kurtosis', 'fft_imu_accY_spine_mean', 'fft_imu_accY_spine_std', 'fft_imu_accY_spine_mean_abs_dev', 'fft_imu_accY_spine_min', 'fft_imu_accY_spine_max', 'fft_imu_accY_spine_range', 'fft_imu_accY_spine_median', 'fft_imu_accY_spine_median_abs_dev', 'fft_imu_accY_spine_interquartile_range', 'fft_imu_accY_spine_negative_count', 'fft_imu_accY_spine_positive_count', 'fft_imu_accY_spine_above_mean_count', 'fft_imu_accY_spine_local_maxima_count', 'fft_imu_accY_spine_skewness', 'fft_imu_accY_spine_kurtosis', 'fft_imu_accZ_spine_mean', 'fft_imu_accZ_spine_std', 'fft_imu_accZ_spine_mean_abs_dev', 'fft_imu_accZ_spine_min', 'fft_imu_accZ_spine_max', 'fft_imu_accZ_spine_range', 'fft_imu_accZ_spine_median', 'fft_imu_accZ_spine_median_abs_dev', 'fft_imu_accZ_spine_interquartile_range', 'fft_imu_accZ_spine_negative_count', 'fft_imu_accZ_spine_positive_count', 'fft_imu_accZ_spine_above_mean_count', 'fft_imu_accZ_spine_local_maxima_count', 'fft_imu_accZ_spine_skewness', 'fft_imu_accZ_spine_kurtosis', 'fft_imu_angleX_right_mean', 'fft_imu_angleX_right_std', 'fft_imu_angleX_right_mean_abs_dev', 'fft_imu_angleX_right_min', 'fft_imu_angleX_right_max', 'fft_imu_angleX_right_range', 'fft_imu_angleX_right_median', 'fft_imu_angleX_right_median_abs_dev', 'fft_imu_angleX_right_interquartile_range', 'fft_imu_angleX_right_negative_count', 'fft_imu_angleX_right_positive_count', 'fft_imu_angleX_right_above_mean_count', 'fft_imu_angleX_right_local_maxima_count', 'fft_imu_angleX_right_skewness', 'fft_imu_angleX_right_kurtosis', 'fft_imu_angleY_right_mean', 'fft_imu_angleY_right_std', 'fft_imu_angleY_right_mean_abs_dev', 'fft_imu_angleY_right_min', 'fft_imu_angleY_right_max', 'fft_imu_angleY_right_range', 'fft_imu_angleY_right_median', 'fft_imu_angleY_right_median_abs_dev', 'fft_imu_angleY_right_interquartile_range', 'fft_imu_angleY_right_negative_count', 'fft_imu_angleY_right_positive_count', 'fft_imu_angleY_right_above_mean_count', 'fft_imu_angleY_right_local_maxima_count', 'fft_imu_angleY_right_skewness', 'fft_imu_angleY_right_kurtosis', 'fft_imu_angleZ_right_mean', 'fft_imu_angleZ_right_std', 'fft_imu_angleZ_right_mean_abs_dev', 'fft_imu_angleZ_right_min', 'fft_imu_angleZ_right_max', 'fft_imu_angleZ_right_range', 'fft_imu_angleZ_right_median', 'fft_imu_angleZ_right_median_abs_dev', 'fft_imu_angleZ_right_interquartile_range', 'fft_imu_angleZ_right_negative_count', 'fft_imu_angleZ_right_positive_count', 'fft_imu_angleZ_right_above_mean_count', 'fft_imu_angleZ_right_local_maxima_count', 'fft_imu_angleZ_right_skewness', 'fft_imu_angleZ_right_kurtosis', 'fft_imu_angleX_left_mean', 'fft_imu_angleX_left_std', 'fft_imu_angleX_left_mean_abs_dev', 'fft_imu_angleX_left_min', 'fft_imu_angleX_left_max', 'fft_imu_angleX_left_range', 'fft_imu_angleX_left_median', 'fft_imu_angleX_left_median_abs_dev', 'fft_imu_angleX_left_interquartile_range', 'fft_imu_angleX_left_negative_count', 'fft_imu_angleX_left_positive_count', 'fft_imu_angleX_left_above_mean_count', 'fft_imu_angleX_left_local_maxima_count', 'fft_imu_angleX_left_skewness', 'fft_imu_angleX_left_kurtosis', 'fft_imu_angleY_left_mean', 'fft_imu_angleY_left_std', 'fft_imu_angleY_left_mean_abs_dev', 'fft_imu_angleY_left_min', 'fft_imu_angleY_left_max', 'fft_imu_angleY_left_range', 'fft_imu_angleY_left_median', 'fft_imu_angleY_left_median_abs_dev', 'fft_imu_angleY_left_interquartile_range', 'fft_imu_angleY_left_negative_count', 'fft_imu_angleY_left_positive_count', 'fft_imu_angleY_left_above_mean_count', 'fft_imu_angleY_left_local_maxima_count', 'fft_imu_angleY_left_skewness', 'fft_imu_angleY_left_kurtosis', 'fft_imu_angleZ_left_mean', 'fft_imu_angleZ_left_std', 'fft_imu_angleZ_left_mean_abs_dev', 'fft_imu_angleZ_left_min', 'fft_imu_angleZ_left_max', 'fft_imu_angleZ_left_range', 'fft_imu_angleZ_left_median', 'fft_imu_angleZ_left_median_abs_dev', 'fft_imu_angleZ_left_interquartile_range', 'fft_imu_angleZ_left_negative_count', 'fft_imu_angleZ_left_positive_count', 'fft_imu_angleZ_left_above_mean_count', 'fft_imu_angleZ_left_local_maxima_count', 'fft_imu_angleZ_left_skewness', 'fft_imu_angleZ_left_kurtosis', 'fft_imu_angleX_spine_mean', 'fft_imu_angleX_spine_std', 'fft_imu_angleX_spine_mean_abs_dev', 'fft_imu_angleX_spine_min', 'fft_imu_angleX_spine_max', 'fft_imu_angleX_spine_range', 'fft_imu_angleX_spine_median', 'fft_imu_angleX_spine_median_abs_dev', 'fft_imu_angleX_spine_interquartile_range', 'fft_imu_angleX_spine_negative_count', 'fft_imu_angleX_spine_positive_count', 'fft_imu_angleX_spine_above_mean_count', 'fft_imu_angleX_spine_local_maxima_count', 'fft_imu_angleX_spine_skewness', 'fft_imu_angleX_spine_kurtosis', 'fft_imu_angleY_spine_mean', 'fft_imu_angleY_spine_std', 'fft_imu_angleY_spine_mean_abs_dev', 'fft_imu_angleY_spine_min', 'fft_imu_angleY_spine_max', 'fft_imu_angleY_spine_range', 'fft_imu_angleY_spine_median', 'fft_imu_angleY_spine_median_abs_dev', 'fft_imu_angleY_spine_interquartile_range', 'fft_imu_angleY_spine_negative_count', 'fft_imu_angleY_spine_positive_count', 'fft_imu_angleY_spine_above_mean_count', 'fft_imu_angleY_spine_local_maxima_count', 'fft_imu_angleY_spine_skewness', 'fft_imu_angleY_spine_kurtosis', 'fft_imu_angleZ_spine_mean', 'fft_imu_angleZ_spine_std', 'fft_imu_angleZ_spine_mean_abs_dev', 'fft_imu_angleZ_spine_min', 'fft_imu_angleZ_spine_max', 'fft_imu_angleZ_spine_range', 'fft_imu_angleZ_spine_median', 'fft_imu_angleZ_spine_median_abs_dev', 'fft_imu_angleZ_spine_interquartile_range', 'fft_imu_angleZ_spine_negative_count', 'fft_imu_angleZ_spine_positive_count', 'fft_imu_angleZ_spine_above_mean_count', 'fft_imu_angleZ_spine_local_maxima_count', 'fft_imu_angleZ_spine_skewness', 'fft_imu_angleZ_spine_kurtosis', 'fft_imu_angularX_left_mean', 'fft_imu_angularX_left_std', 'fft_imu_angularX_left_mean_abs_dev', 'fft_imu_angularX_left_min', 'fft_imu_angularX_left_max', 'fft_imu_angularX_left_range', 'fft_imu_angularX_left_median', 'fft_imu_angularX_left_median_abs_dev', 'fft_imu_angularX_left_interquartile_range', 'fft_imu_angularX_left_negative_count', 'fft_imu_angularX_left_positive_count', 'fft_imu_angularX_left_above_mean_count', 'fft_imu_angularX_left_local_maxima_count', 'fft_imu_angularX_left_skewness', 'fft_imu_angularX_left_kurtosis', 'fft_imu_angularY_left_mean', 'fft_imu_angularY_left_std', 'fft_imu_angularY_left_mean_abs_dev', 'fft_imu_angularY_left_min', 'fft_imu_angularY_left_max', 'fft_imu_angularY_left_range', 'fft_imu_angularY_left_median', 'fft_imu_angularY_left_median_abs_dev', 'fft_imu_angularY_left_interquartile_range', 'fft_imu_angularY_left_negative_count', 'fft_imu_angularY_left_positive_count', 'fft_imu_angularY_left_above_mean_count', 'fft_imu_angularY_left_local_maxima_count', 'fft_imu_angularY_left_skewness', 'fft_imu_angularY_left_kurtosis', 'fft_imu_angularZ_left_mean', 'fft_imu_angularZ_left_std', 'fft_imu_angularZ_left_mean_abs_dev', 'fft_imu_angularZ_left_min', 'fft_imu_angularZ_left_max', 'fft_imu_angularZ_left_range', 'fft_imu_angularZ_left_median', 'fft_imu_angularZ_left_median_abs_dev', 'fft_imu_angularZ_left_interquartile_range', 'fft_imu_angularZ_left_negative_count', 'fft_imu_angularZ_left_positive_count', 'fft_imu_angularZ_left_above_mean_count', 'fft_imu_angularZ_left_local_maxima_count', 'fft_imu_angularZ_left_skewness', 'fft_imu_angularZ_left_kurtosis', 'fft_imu_angularX_right_mean', 'fft_imu_angularX_right_std', 'fft_imu_angularX_right_mean_abs_dev', 'fft_imu_angularX_right_min', 'fft_imu_angularX_right_max', 'fft_imu_angularX_right_range', 'fft_imu_angularX_right_median', 'fft_imu_angularX_right_median_abs_dev', 'fft_imu_angularX_right_interquartile_range', 'fft_imu_angularX_right_negative_count', 'fft_imu_angularX_right_positive_count', 'fft_imu_angularX_right_above_mean_count', 'fft_imu_angularX_right_local_maxima_count', 'fft_imu_angularX_right_skewness', 'fft_imu_angularX_right_kurtosis', 'fft_imu_angularY_right_mean', 'fft_imu_angularY_right_std', 'fft_imu_angularY_right_mean_abs_dev', 'fft_imu_angularY_right_min', 'fft_imu_angularY_right_max', 'fft_imu_angularY_right_range', 'fft_imu_angularY_right_median', 'fft_imu_angularY_right_median_abs_dev', 'fft_imu_angularY_right_interquartile_range', 'fft_imu_angularY_right_negative_count', 'fft_imu_angularY_right_positive_count', 'fft_imu_angularY_right_above_mean_count', 'fft_imu_angularY_right_local_maxima_count', 'fft_imu_angularY_right_skewness', 'fft_imu_angularY_right_kurtosis', 'fft_imu_angularZ_right_mean', 'fft_imu_angularZ_right_std', 'fft_imu_angularZ_right_mean_abs_dev', 'fft_imu_angularZ_right_min', 'fft_imu_angularZ_right_max', 'fft_imu_angularZ_right_range', 'fft_imu_angularZ_right_median', 'fft_imu_angularZ_right_median_abs_dev', 'fft_imu_angularZ_right_interquartile_range', 'fft_imu_angularZ_right_negative_count', 'fft_imu_angularZ_right_positive_count', 'fft_imu_angularZ_right_above_mean_count', 'fft_imu_angularZ_right_local_maxima_count', 'fft_imu_angularZ_right_skewness', 'fft_imu_angularZ_right_kurtosis', 'fft_imu_angularX_spine_mean', 'fft_imu_angularX_spine_std', 'fft_imu_angularX_spine_mean_abs_dev', 'fft_imu_angularX_spine_min', 'fft_imu_angularX_spine_max', 'fft_imu_angularX_spine_range', 'fft_imu_angularX_spine_median', 'fft_imu_angularX_spine_median_abs_dev', 'fft_imu_angularX_spine_interquartile_range', 'fft_imu_angularX_spine_negative_count', 'fft_imu_angularX_spine_positive_count', 'fft_imu_angularX_spine_above_mean_count', 'fft_imu_angularX_spine_local_maxima_count', 'fft_imu_angularX_spine_skewness', 'fft_imu_angularX_spine_kurtosis', 'fft_imu_angularY_spine_mean', 'fft_imu_angularY_spine_std', 'fft_imu_angularY_spine_mean_abs_dev', 'fft_imu_angularY_spine_min', 'fft_imu_angularY_spine_max', 'fft_imu_angularY_spine_range', 'fft_imu_angularY_spine_median', 'fft_imu_angularY_spine_median_abs_dev', 'fft_imu_angularY_spine_interquartile_range', 'fft_imu_angularY_spine_negative_count', 'fft_imu_angularY_spine_positive_count', 'fft_imu_angularY_spine_above_mean_count', 'fft_imu_angularY_spine_local_maxima_count', 'fft_imu_angularY_spine_skewness', 'fft_imu_angularY_spine_kurtosis', 'fft_imu_angularZ_spine_mean', 'fft_imu_angularZ_spine_std', 'fft_imu_angularZ_spine_mean_abs_dev', 'fft_imu_angularZ_spine_min', 'fft_imu_angularZ_spine_max', 'fft_imu_angularZ_spine_range', 'fft_imu_angularZ_spine_median', 'fft_imu_angularZ_spine_median_abs_dev', 'fft_imu_angularZ_spine_interquartile_range', 'fft_imu_angularZ_spine_negative_count', 'fft_imu_angularZ_spine_positive_count', 'fft_imu_angularZ_spine_above_mean_count', 'fft_imu_angularZ_spine_local_maxima_count', 'fft_imu_angularZ_spine_skewness', 'fft_imu_angularZ_spine_kurtosis']\n"
     ]
    }
   ],
   "source": [
    "columnas_df_final_sensores=columnas_df_final\n",
    "columnas_df_final_sensores.remove('anon_id')\n",
    "columnas_df_final_sensores.remove('date_measure')\n",
    "columnas_df_final_sensores.remove('window_number')\n",
    "columnas_df_final_sensores.remove('first_timestamp')\n",
    "columnas_df_final_sensores.remove('PD')\n",
    "print(columnas_df_final_sensores)"
   ],
   "metadata": {
    "collapsed": false,
    "ExecuteTime": {
     "end_time": "2024-04-11T03:00:38.266647Z",
     "start_time": "2024-04-11T03:00:38.253900Z"
    }
   },
   "id": "facaa4e3585b520e",
   "execution_count": 39
  },
  {
   "cell_type": "code",
   "outputs": [],
   "source": [
    "# Iterar sobre los datos originales en el DataFrame\n",
    "window_number = 1\n",
    "for i in range(0, len(data) - filas_por_ventana + 1, paso_tiempo):\n",
    "    # Seleccionar la primera fila de cada ventana\n",
    "    primera_fila_ventana = data.iloc[i]\n",
    "\n",
    "    # Seleccionar los valores relevantes de la fila\n",
    "    anon_id = primera_fila_ventana['anon_id']\n",
    "    date_measure = primera_fila_ventana['date_measure']\n",
    "    PD = primera_fila_ventana['PD']\n",
    "    first_timestamp = primera_fila_ventana['time_stamp']\n",
    "\n",
    "    # Seleccionar la ventana incluyendo tanto los valores de los sensores como los metadatos\n",
    "    ventana = data.iloc[i:i + filas_por_ventana]\n",
    "\n",
    "    # Verificar si los valores en la primera y última fila de la ventana son iguales\n",
    "    while not ventana.iloc[0][['anon_id', 'date_measure', 'PD']].equals(\n",
    "            ventana.iloc[-1][['anon_id', 'date_measure', 'PD']]):\n",
    "        ventana = ventana.iloc[:-1]  # Reducir la longitud de la ventana eliminando la última fila\n",
    "\n",
    "    # Eliminar los valores de 'anon_id', 'date_measure' y 'PD' de la ventana antes de calcular las medidas estadísticas\n",
    "    ventana_valores_sensor = ventana.drop(['anon_id', 'date_measure', 'time_stamp', 'PD'], axis=1)\n",
    "    ventana_fft = np.fft.fft(ventana_valores_sensor)\n",
    "    ventana_fft_abs = np.abs(ventana_fft)  # Aplicar valor absoluto a la transformada de Fourier\n",
    "    ventana_fft_df = pd.DataFrame(ventana_fft_abs, columns=ventana_valores_sensor.columns)\n",
    "\n",
    "\n",
    "# Calcular las medidas estadísticas de la ventana para cada columna\n",
    "    datos_ventana = {\n",
    "        'anon_id': anon_id,\n",
    "        'date_measure': date_measure,\n",
    "        'window_number': window_number,\n",
    "        'first_timestamp': first_timestamp,\n",
    "        'PD': PD\n",
    "    }\n",
    "    for sensor_col in ventana_valores_sensor.columns:\n",
    "        medidas = calcular_medidas_estadisticas(ventana_fft_df[sensor_col])\n",
    "        for medida, medida_valor in medidas.items():\n",
    "            nombre_columna = f\"fft_{sensor_col}_{medida}\"\n",
    "            datos_ventana[nombre_columna] = medida_valor\n",
    "\n",
    "    # Añadir los datos de la ventana al DataFrame\n",
    "    df_ventanas_fft = pd.concat([df_ventanas_fft, pd.DataFrame(datos_ventana, index=[0])], ignore_index=True)\n",
    "\n",
    "    window_number += 1\n"
   ],
   "metadata": {
    "collapsed": false,
    "ExecuteTime": {
     "end_time": "2024-04-11T04:01:47.270138Z",
     "start_time": "2024-04-11T03:00:38.269807Z"
    }
   },
   "id": "2faf27f216c5fdf4",
   "execution_count": 40
  },
  {
   "cell_type": "code",
   "outputs": [],
   "source": [
    "# Restaurar el comportamiento predeterminado de los warnings\n",
    "warnings.filterwarnings(\"default\")"
   ],
   "metadata": {
    "collapsed": false,
    "ExecuteTime": {
     "end_time": "2024-04-11T04:01:47.285691Z",
     "start_time": "2024-04-11T04:01:47.274140Z"
    }
   },
   "id": "f0f23a42c5cb6ed7",
   "execution_count": 41
  },
  {
   "cell_type": "code",
   "outputs": [
    {
     "name": "stdout",
     "output_type": "stream",
     "text": [
      "  anon_id        date_measure window_number  first_timestamp  \\\n",
      "0       9  2023-9-29-11-53-21             1              0.0   \n",
      "1       9  2023-9-29-11-53-21             2            532.0   \n",
      "2       9  2023-9-29-11-53-21             3           1029.0   \n",
      "3       9  2023-9-29-11-53-21             4           1587.0   \n",
      "4       9  2023-9-29-11-53-21             5           2121.0   \n",
      "\n",
      "   fft_imu_gyroX_right_mean  fft_imu_gyroX_right_std  \\\n",
      "0               4492.082286              2398.058032   \n",
      "1               4264.240537              2839.961398   \n",
      "2               4044.778170              3058.455093   \n",
      "3               3271.885272              2020.474359   \n",
      "4               4497.486671              3248.411077   \n",
      "\n",
      "   fft_imu_gyroX_right_mean_abs_dev  fft_imu_gyroX_right_min  \\\n",
      "0                       1853.206304               351.967162   \n",
      "1                       2047.382986                16.400323   \n",
      "2                       2368.328112                16.400323   \n",
      "3                       1698.804177               115.992487   \n",
      "4                       2613.529048               115.992487   \n",
      "\n",
      "   fft_imu_gyroX_right_max  fft_imu_gyroX_right_range  ...  \\\n",
      "0             10818.766878               10466.799716  ...   \n",
      "1             12519.401740               12503.001417  ...   \n",
      "2             12519.401740               12503.001417  ...   \n",
      "3              8035.638789                7919.646301  ...   \n",
      "4             13768.103200               13652.110712  ...   \n",
      "\n",
      "   fft_imu_angularZ_spine_median  fft_imu_angularZ_spine_median_abs_dev  \\\n",
      "0                    2081.124042                             639.192532   \n",
      "1                    3151.938868                            1860.513822   \n",
      "2                    5409.893486                            1176.199133   \n",
      "3                    3693.449406                            1860.790379   \n",
      "4                    3246.025448                            1661.006439   \n",
      "\n",
      "   fft_imu_angularZ_spine_interquartile_range  \\\n",
      "0                                 1403.834984   \n",
      "1                                 3329.573443   \n",
      "2                                 2784.722686   \n",
      "3                                 3630.961572   \n",
      "4                                 4007.233115   \n",
      "\n",
      "  fft_imu_angularZ_spine_negative_count fft_imu_angularZ_spine_positive_count  \\\n",
      "0                                     0                                    50   \n",
      "1                                     0                                    50   \n",
      "2                                     0                                    50   \n",
      "3                                     0                                    50   \n",
      "4                                     0                                    50   \n",
      "\n",
      "  fft_imu_angularZ_spine_above_mean_count  \\\n",
      "0                                      19   \n",
      "1                                      22   \n",
      "2                                      29   \n",
      "3                                      25   \n",
      "4                                      22   \n",
      "\n",
      "  fft_imu_angularZ_spine_local_maxima_count  fft_imu_angularZ_spine_skewness  \\\n",
      "0                                        42                         0.692652   \n",
      "1                                        44                         0.569785   \n",
      "2                                        43                         0.006311   \n",
      "3                                        43                         0.491932   \n",
      "4                                        43                         0.501020   \n",
      "\n",
      "   fft_imu_angularZ_spine_kurtosis  PD  \n",
      "0                        -0.089490   1  \n",
      "1                        -0.489196   1  \n",
      "2                        -0.356442   1  \n",
      "3                        -0.419301   1  \n",
      "4                        -0.996430   1  \n",
      "\n",
      "[5 rows x 545 columns]\n"
     ]
    }
   ],
   "source": [
    "# Mostrar las primeras filas del DataFrame de ventanas\n",
    "print(df_ventanas_fft.head())"
   ],
   "metadata": {
    "collapsed": false,
    "ExecuteTime": {
     "end_time": "2024-04-11T04:01:47.331849Z",
     "start_time": "2024-04-11T04:01:47.296839Z"
    }
   },
   "id": "f450ff432d9eca57",
   "execution_count": 42
  },
  {
   "cell_type": "code",
   "outputs": [],
   "source": [
    "df_ventanas_fft.to_pickle(ROOT_DIR / 'data' / 'processed'/'anon_imu_data_fft_features.pkl')\n",
    "df_ventanas_fft.to_csv(ROOT_DIR / 'data' / 'processed'/'anon_imu_data_fft_features.csv')"
   ],
   "metadata": {
    "collapsed": false,
    "ExecuteTime": {
     "end_time": "2024-04-11T04:02:04.922348Z",
     "start_time": "2024-04-11T04:01:47.333857Z"
    }
   },
   "id": "2e7c1babdeb0ceca",
   "execution_count": 43
  },
  {
   "cell_type": "code",
   "outputs": [],
   "source": [
    "#df_ventanas: pd.DataFrame = pd.read_pickle(ROOT_DIR / 'data' / 'processed' / 'anon_imu_data_features.csv')"
   ],
   "metadata": {
    "collapsed": false,
    "ExecuteTime": {
     "end_time": "2024-04-11T04:02:04.937682Z",
     "start_time": "2024-04-11T04:02:04.925876Z"
    }
   },
   "id": "6694149429bb30c3",
   "execution_count": 44
  }
 ],
 "metadata": {
  "kernelspec": {
   "display_name": "Python 3",
   "language": "python",
   "name": "python3"
  },
  "language_info": {
   "codemirror_mode": {
    "name": "ipython",
    "version": 2
   },
   "file_extension": ".py",
   "mimetype": "text/x-python",
   "name": "python",
   "nbconvert_exporter": "python",
   "pygments_lexer": "ipython2",
   "version": "2.7.6"
  }
 },
 "nbformat": 4,
 "nbformat_minor": 5
}
