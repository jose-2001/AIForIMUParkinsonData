{
 "cells": [
  {
   "cell_type": "markdown",
   "source": [
    "# Tremor Inference Models\n",
    "This notebook will cover the definition and training of two models focused on tremor detection in PD patients.\n",
    "We will use the data processed by the tremor processing module. The proposed models are: **SVM** and **KNN** "
   ],
   "metadata": {
    "collapsed": false
   },
   "id": "87bc4cf9eba60b89"
  },
  {
   "cell_type": "markdown",
   "source": [
    "## Required Imports"
   ],
   "metadata": {
    "collapsed": false
   },
   "id": "432570e7ae28f128"
  },
  {
   "cell_type": "code",
   "outputs": [],
   "source": [
    "import pickle\n",
    "import pandas as pd\n",
    "from src.model.tremor_models import create_knn_tremor_model, create_svc_tremor_model\n",
    "\n",
    "from src.settings import ROOT_DIR"
   ],
   "metadata": {
    "collapsed": false
   },
   "id": "5d1cfe2122d1b6b3"
  },
  {
   "cell_type": "markdown",
   "source": [
    "## Data load\n",
    "We will load training data only on this process"
   ],
   "metadata": {
    "collapsed": false
   },
   "id": "12bec4abebfe7786"
  },
  {
   "cell_type": "code",
   "outputs": [],
   "source": [
    "train_data_path = ROOT_DIR / 'data' / 'processed' / 'tremor' / 'tremor_train.csv'"
   ],
   "metadata": {
    "collapsed": false
   },
   "id": "8c58f76a468ca83a"
  },
  {
   "cell_type": "code",
   "outputs": [],
   "source": [
    "train_data = pd.read_csv(train_data_path)\n",
    "X = train_data['']\n",
    "Y = train_data['']"
   ],
   "metadata": {
    "collapsed": false
   },
   "id": "33ad2c454e331ca2"
  },
  {
   "cell_type": "markdown",
   "source": [
    "## SVM Model\n",
    "Here is the best possible model achieved by tuning SVM hyperparameters."
   ],
   "metadata": {
    "collapsed": false
   },
   "id": "dd0d00b1af084553"
  },
  {
   "cell_type": "code",
   "outputs": [],
   "source": [
    "gamma = 'scale'\n",
    "kernel = 'rbf'\n",
    "uses_scaler = False\n",
    "svm_tremor = create_svc_tremor_model(scaler=uses_scaler, gamma=gamma, kernel=kernel)"
   ],
   "metadata": {
    "collapsed": false
   },
   "id": "9ded8dad48a4e0d5"
  },
  {
   "cell_type": "code",
   "outputs": [],
   "source": [
    "svm_tremor.fit(X, Y)"
   ],
   "metadata": {
    "collapsed": false
   },
   "id": "b2816c1932574e"
  },
  {
   "cell_type": "markdown",
   "source": [
    "## KNN Model\n",
    "Here is the best possible model achieved by tuning KNN hyperparameters."
   ],
   "metadata": {
    "collapsed": false
   },
   "id": "7f416b0083bed65c"
  },
  {
   "cell_type": "code",
   "outputs": [],
   "source": [
    "uses_scaler = False\n",
    "knn_tremor = create_knn_tremor_model(scaler=uses_scaler)"
   ],
   "metadata": {
    "collapsed": false
   },
   "id": "884daa86fb60055e"
  },
  {
   "cell_type": "code",
   "outputs": [],
   "source": [
    "knn_tremor.fit(X, Y)"
   ],
   "metadata": {
    "collapsed": false
   },
   "id": "21a68366f087a657"
  },
  {
   "cell_type": "markdown",
   "source": [
    "## Export Models"
   ],
   "metadata": {
    "collapsed": false
   },
   "id": "2328d43625aa4985"
  },
  {
   "cell_type": "code",
   "outputs": [],
   "source": [
    "export_path = ROOT_DIR / 'results' / 'models' / 'tremor'"
   ],
   "metadata": {
    "collapsed": false
   },
   "id": "2d40f372dd0a5425"
  },
  {
   "cell_type": "code",
   "outputs": [],
   "source": [
    "with open(export_path / 'knn.pkl', 'wb') as file:\n",
    "    pickle.dump(knn_tremor, file)\n",
    "\n",
    "with open(export_path / 'svm.pkl', 'wb') as file:\n",
    "    pickle.dump(svm_tremor, file)"
   ],
   "metadata": {
    "collapsed": false
   },
   "id": "a8da8bcf43c7f3f5"
  }
 ],
 "metadata": {
  "kernelspec": {
   "display_name": "Python 3",
   "language": "python",
   "name": "python3"
  },
  "language_info": {
   "codemirror_mode": {
    "name": "ipython",
    "version": 2
   },
   "file_extension": ".py",
   "mimetype": "text/x-python",
   "name": "python",
   "nbconvert_exporter": "python",
   "pygments_lexer": "ipython2",
   "version": "2.7.6"
  }
 },
 "nbformat": 4,
 "nbformat_minor": 5
}
