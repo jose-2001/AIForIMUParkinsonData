{
 "cells": [
  {
   "cell_type": "markdown",
   "source": [
    "# Asymmetry Detection Models\n",
    "This notebook shows the process of load and train of a LSTM neuronal network to classify the asymmetry laterality of a PD patient or a control. In this notebook\n",
    "we will show different implementations of LSTMs (Normal and bidirectional) and with different hyperparameters."
   ],
   "metadata": {
    "collapsed": false
   },
   "id": "a5706cf0051e2286"
  },
  {
   "cell_type": "markdown",
   "source": [
    "## Requiered Imports"
   ],
   "metadata": {
    "collapsed": false
   },
   "id": "8365e2dd60c7786f"
  },
  {
   "cell_type": "code",
   "outputs": [],
   "source": [
    "import pickle\n",
    "\n",
    "import tensorflow as tf\n",
    "import numpy as np\n",
    "\n",
    "from keras_tuner.tuners import RandomSearch\n",
    "\n",
    "\n",
    "from src.model.asa_models import build_basic_lstm, build_2layer_lstm, build_1d_conv_1lstm, build_1d_conv_1layer_lstm_do\n",
    "\n",
    "from src.settings import ROOT_DIR\n",
    "from src.utils.data_split import get_features_target\n",
    "from src.model.callbacks_builder import get_callbacks, build_tensorboard"
   ],
   "metadata": {
    "collapsed": false,
    "ExecuteTime": {
     "end_time": "2024-03-29T18:36:48.686327Z",
     "start_time": "2024-03-29T18:36:40.546064Z"
    }
   },
   "id": "9cd6ca22b813d6a9",
   "execution_count": 1
  },
  {
   "cell_type": "markdown",
   "source": [
    "## Data load"
   ],
   "metadata": {
    "collapsed": false
   },
   "id": "d67e5a0ed8b1dc29"
  },
  {
   "cell_type": "code",
   "outputs": [],
   "source": [
    "train_data_path = ROOT_DIR / 'data' / 'processed' / 'asa' / 'train.pkl'\n",
    "val_data_path = ROOT_DIR / 'data' / 'processed' / 'asa' / 'val.pkl'\n",
    "\n",
    "with open(train_data_path, 'rb') as file:\n",
    "    train_data = pickle.load(file)\n",
    "\n",
    "with open(val_data_path, 'rb') as file:\n",
    "    val_data = pickle.load(file)"
   ],
   "metadata": {
    "collapsed": false,
    "ExecuteTime": {
     "end_time": "2024-03-29T18:36:48.856286Z",
     "start_time": "2024-03-29T18:36:48.691329Z"
    }
   },
   "id": "470d5117ad154fc",
   "execution_count": 2
  },
  {
   "cell_type": "code",
   "outputs": [
    {
     "data": {
      "text/plain": "124"
     },
     "execution_count": 3,
     "metadata": {},
     "output_type": "execute_result"
    }
   ],
   "source": [
    "len(train_data)"
   ],
   "metadata": {
    "collapsed": false,
    "ExecuteTime": {
     "end_time": "2024-03-29T18:36:48.886867Z",
     "start_time": "2024-03-29T18:36:48.862288Z"
    }
   },
   "id": "17e5d4a6442ac659",
   "execution_count": 3
  },
  {
   "cell_type": "code",
   "outputs": [],
   "source": [
    "X_train, y_train = get_features_target(train_data)\n",
    "X_val, y_val = get_features_target(val_data)"
   ],
   "metadata": {
    "collapsed": false,
    "ExecuteTime": {
     "end_time": "2024-03-29T18:36:48.918473Z",
     "start_time": "2024-03-29T18:36:48.893871Z"
    }
   },
   "id": "89b56b70fba27c21",
   "execution_count": 4
  },
  {
   "cell_type": "code",
   "outputs": [],
   "source": [
    "max_length = max(len(x) for x in X_train)\n",
    "X_train_padded = tf.keras.preprocessing.sequence.pad_sequences(X_train, maxlen=max_length, padding='post', dtype='float32')\n",
    "\n",
    "max_length = max(len(x) for x in X_val)\n",
    "X_val_padded = tf.keras.preprocessing.sequence.pad_sequences(X_val, maxlen=max_length, padding='post', dtype='float32')"
   ],
   "metadata": {
    "collapsed": false,
    "ExecuteTime": {
     "end_time": "2024-03-29T18:36:49.061386Z",
     "start_time": "2024-03-29T18:36:48.923476Z"
    }
   },
   "id": "743f71761848d925",
   "execution_count": 5
  },
  {
   "cell_type": "code",
   "outputs": [],
   "source": [
    "y_train = np.array(y_train)\n",
    "y_val = np.array(y_val)"
   ],
   "metadata": {
    "collapsed": false,
    "ExecuteTime": {
     "end_time": "2024-03-29T18:36:49.076449Z",
     "start_time": "2024-03-29T18:36:49.067903Z"
    }
   },
   "id": "1f47a3e25215ebd9",
   "execution_count": 6
  },
  {
   "cell_type": "markdown",
   "source": [
    "## Tensor Board\n",
    "This tool will help us to supervise the experimentation process of all the experimental models described in this notebook"
   ],
   "metadata": {
    "collapsed": false
   },
   "id": "11e7522c07bd43bc"
  },
  {
   "cell_type": "code",
   "outputs": [
    {
     "data": {
      "text/plain": "Reusing TensorBoard on port 6006 (pid 15016), started 1:16:52 ago. (Use '!kill 15016' to kill it.)"
     },
     "metadata": {},
     "output_type": "display_data"
    },
    {
     "data": {
      "text/plain": "<IPython.core.display.HTML object>",
      "text/html": "\n      <iframe id=\"tensorboard-frame-458fecf95c6b14a0\" width=\"100%\" height=\"800\" frameborder=\"0\">\n      </iframe>\n      <script>\n        (function() {\n          const frame = document.getElementById(\"tensorboard-frame-458fecf95c6b14a0\");\n          const url = new URL(\"/\", window.location);\n          const port = 6006;\n          if (port) {\n            url.port = port;\n          }\n          frame.src = url;\n        })();\n      </script>\n    "
     },
     "metadata": {},
     "output_type": "display_data"
    }
   ],
   "source": [
    "%load_ext tensorboard\n",
    "%tensorboard --logdir ../results/asa/lightning_logs/"
   ],
   "metadata": {
    "collapsed": false,
    "ExecuteTime": {
     "end_time": "2024-03-29T18:36:49.131Z",
     "start_time": "2024-03-29T18:36:49.081452Z"
    }
   },
   "id": "3a97d3a2d2703113",
   "execution_count": 7
  },
  {
   "cell_type": "code",
   "outputs": [],
   "source": [
    "tensorboard_callback = build_tensorboard('asa')"
   ],
   "metadata": {
    "collapsed": false,
    "ExecuteTime": {
     "end_time": "2024-03-29T18:36:49.153484Z",
     "start_time": "2024-03-29T18:36:49.138941Z"
    }
   },
   "id": "2be47c783eae24b2",
   "execution_count": 8
  },
  {
   "cell_type": "markdown",
   "source": [
    "## Models\n",
    "Every model will be trained looking for the best hyperparameters, for this we will use Random Search."
   ],
   "metadata": {
    "collapsed": false
   },
   "id": "9254968e65943049"
  },
  {
   "cell_type": "code",
   "outputs": [],
   "source": [
    "RS_EPOCHS = 20"
   ],
   "metadata": {
    "collapsed": false,
    "ExecuteTime": {
     "end_time": "2024-03-29T18:36:49.169388Z",
     "start_time": "2024-03-29T18:36:49.156856Z"
    }
   },
   "id": "62f554dd911c0143",
   "execution_count": 9
  },
  {
   "cell_type": "markdown",
   "source": [
    "### Simple LSTM\n",
    "This model is a 64-lstm with any hidden layers and just one dense layer to infer the output.\n",
    "Optimizer: *Adam*\n",
    "Loss: *binary_crossentropy*"
   ],
   "metadata": {
    "collapsed": false
   },
   "id": "1d2579ee9d585f87"
  },
  {
   "cell_type": "code",
   "outputs": [],
   "source": [
    "BATCH_SIZE = 14\n",
    "EPOCHS = 200"
   ],
   "metadata": {
    "collapsed": false,
    "ExecuteTime": {
     "end_time": "2024-03-28T23:26:43.110528Z",
     "start_time": "2024-03-28T23:26:43.083529Z"
    }
   },
   "id": "48c45ad4e124e4e3",
   "execution_count": 10
  },
  {
   "cell_type": "code",
   "outputs": [],
   "source": [
    "tunner_model = RandomSearch(\n",
    "    build_basic_lstm,\n",
    "    objective='val_accuracy',\n",
    "    max_trials=4,\n",
    "    executions_per_trial=1\n",
    ")"
   ],
   "metadata": {
    "collapsed": false,
    "ExecuteTime": {
     "end_time": "2024-03-28T23:26:44.152529Z",
     "start_time": "2024-03-28T23:26:43.114157Z"
    }
   },
   "id": "a223a6edd9a82c4c",
   "execution_count": 11
  },
  {
   "cell_type": "code",
   "outputs": [
    {
     "output_type": "stream",
     "name": "stdout",
     "text": [
      "Trial 4 Complete [00h 00m 48s]\n",
      "val_accuracy: 0.7200000286102295\n",
      "\n",
      "Best val_accuracy So Far: 0.7200000286102295\n",
      "Total elapsed time: 00h 04m 24s\n"
     ]
    }
   ],
   "source": [
    "tunner_model.search(X_train_padded, y_train,\n",
    "                    epochs=RS_EPOCHS,\n",
    "                    validation_data=(X_val_padded, y_val)\n",
    "                    )"
   ],
   "metadata": {
    "collapsed": false
   },
   "id": "831be17b8bf8779c",
   "execution_count": 18
  },
  {
   "cell_type": "code",
   "outputs": [],
   "source": [
    "best_hyperparams = tunner_model.get_best_hyperparameters(1)[0]\n",
    "model = tunner_model.hypermodel.build(best_hyperparams)"
   ],
   "metadata": {
    "collapsed": false
   },
   "id": "a744c4aadcb5501a",
   "execution_count": 19
  },
  {
   "cell_type": "code",
   "outputs": [
    {
     "output_type": "stream",
     "name": "stdout",
     "text": [
      "Model: \"sequential_1\"\n",
      "_________________________________________________________________\n",
      " Layer (type)                Output Shape              Param #   \n",
      "=================================================================\n",
      " lstm_1 (LSTM)               (None, 128)               78336     \n",
      "                                                                 \n",
      " dense_1 (Dense)             (None, 1)                 129       \n",
      "                                                                 \n",
      "=================================================================\n",
      "Total params: 78465 (306.50 KB)\n",
      "Trainable params: 78465 (306.50 KB)\n",
      "Non-trainable params: 0 (0.00 Byte)\n",
      "_________________________________________________________________\n"
     ]
    }
   ],
   "source": [
    "model.summary()"
   ],
   "metadata": {
    "collapsed": false
   },
   "id": "bc3c431547645c68",
   "execution_count": 20
  },
  {
   "cell_type": "code",
   "outputs": [],
   "source": [
    "checkpoint_model, early_stop_model = get_callbacks('asa', '64-lstm-no-hidden')"
   ],
   "metadata": {
    "collapsed": false
   },
   "id": "4d1bcafe53b367e1",
   "execution_count": 21
  },
  {
   "cell_type": "code",
   "outputs": [
    {
     "output_type": "stream",
     "name": "stdout",
     "text": [
      "Epoch 1/200\n",
      "9/9 [==============================] - ETA: 0s - loss: 0.7059 - accuracy: 0.6694\n",
      "Epoch 1: val_accuracy improved from -inf to 0.72000, saving model to /content/AIForIMUParkinsonData/results/asa/64-lstm-no-hidden/tmp/ckpt/checkpoint.model.keras\n",
      "9/9 [==============================] - 8s 600ms/step - loss: 0.7059 - accuracy: 0.6694 - val_loss: 0.6303 - val_accuracy: 0.7200\n",
      "Epoch 2/200\n",
      "9/9 [==============================] - ETA: 0s - loss: 0.6702 - accuracy: 0.6694\n",
      "Epoch 2: val_accuracy did not improve from 0.72000\n",
      "9/9 [==============================] - 5s 555ms/step - loss: 0.6702 - accuracy: 0.6694 - val_loss: 0.6292 - val_accuracy: 0.7200\n",
      "Epoch 3/200\n",
      "9/9 [==============================] - ETA: 0s - loss: 0.6520 - accuracy: 0.6694\n",
      "Epoch 3: val_accuracy did not improve from 0.72000\n",
      "9/9 [==============================] - 5s 582ms/step - loss: 0.6520 - accuracy: 0.6694 - val_loss: 0.5975 - val_accuracy: 0.7200\n",
      "Epoch 4/200\n",
      "9/9 [==============================] - ETA: 0s - loss: 0.6352 - accuracy: 0.6694\n",
      "Epoch 4: val_accuracy did not improve from 0.72000\n",
      "9/9 [==============================] - 5s 550ms/step - loss: 0.6352 - accuracy: 0.6694 - val_loss: 0.6111 - val_accuracy: 0.7200\n",
      "Epoch 5/200\n",
      "9/9 [==============================] - ETA: 0s - loss: 0.6345 - accuracy: 0.6694\n",
      "Epoch 5: val_accuracy did not improve from 0.72000\n",
      "9/9 [==============================] - 5s 624ms/step - loss: 0.6345 - accuracy: 0.6694 - val_loss: 0.6038 - val_accuracy: 0.7200\n",
      "Epoch 6/200\n",
      "9/9 [==============================] - ETA: 0s - loss: 0.6378 - accuracy: 0.6694\n",
      "Epoch 6: val_accuracy did not improve from 0.72000\n",
      "Restoring model weights from the end of the best epoch: 1.\n",
      "9/9 [==============================] - 5s 535ms/step - loss: 0.6378 - accuracy: 0.6694 - val_loss: 0.5956 - val_accuracy: 0.7200\n",
      "Epoch 6: early stopping\n"
     ]
    }
   ],
   "source": [
    "# Train the model\n",
    "history_model = model.fit(\n",
    "    X_train_padded,\n",
    "    y_train,\n",
    "    epochs=EPOCHS,\n",
    "    batch_size=BATCH_SIZE,\n",
    "    validation_data=(X_val_padded, y_val),\n",
    "    callbacks=[tensorboard_callback, checkpoint_model, early_stop_model])"
   ],
   "metadata": {
    "collapsed": false
   },
   "id": "6bc2f256516ae6c1",
   "execution_count": 23
  },
  {
   "cell_type": "markdown",
   "source": [
    "### 1 Hidden layers LSTM"
   ],
   "metadata": {
    "collapsed": false
   },
   "id": "fe309d00a863d301"
  },
  {
   "cell_type": "code",
   "outputs": [],
   "source": [
    "BATCH_SIZE = 14\n",
    "EPOCHS = 150"
   ],
   "metadata": {
    "collapsed": false
   },
   "id": "9d45a717f732af05"
  },
  {
   "cell_type": "code",
   "outputs": [
    {
     "output_type": "stream",
     "name": "stdout",
     "text": [
      "Reloading Tuner from ./untitled_project/tuner0.json\n"
     ]
    }
   ],
   "source": [
    "tunner_lstm = RandomSearch(\n",
    "    build_2layer_lstm,\n",
    "    objective='val_accuracy',\n",
    "    max_trials=10,\n",
    "    executions_per_trial=1\n",
    ")"
   ],
   "metadata": {
    "collapsed": false
   },
   "id": "506d5c5fa1619d95",
   "execution_count": 0
  },
  {
   "cell_type": "code",
   "outputs": [
    {
     "output_type": "stream",
     "name": "stdout",
     "text": [
      "Trial 10 Complete [00h 02m 26s]\n",
      "val_accuracy: 0.7200000286102295\n",
      "\n",
      "Best val_accuracy So Far: 0.7200000286102295\n",
      "Total elapsed time: 00h 30m 16s\n"
     ]
    }
   ],
   "source": [
    "tunner_lstm.search(X_train_padded, y_train,\n",
    "                    epochs=RS_EPOCHS,\n",
    "                    validation_data=(X_val_padded, y_val)\n",
    "                    )"
   ],
   "metadata": {
    "collapsed": false
   },
   "id": "e61dbf246fcc2eb3",
   "execution_count": 0
  },
  {
   "cell_type": "code",
   "outputs": [],
   "source": [
    "best_hyperparams_lstm = tunner_lstm.get_best_hyperparameters(1)[0]\n",
    "lstm = tunner_lstm.hypermodel.build(best_hyperparams_lstm)"
   ],
   "metadata": {
    "collapsed": false
   },
   "id": "4866a13595d6c20c",
   "execution_count": 0
  },
  {
   "cell_type": "code",
   "outputs": [
    {
     "output_type": "execute_result",
     "data": {
      "text/plain": [
       "[<keras_tuner.src.engine.hyperparameters.hyperparameters.HyperParameters at 0x783ba013ae60>]"
      ]
     },
     "metadata": {},
     "execution_count": 21
    }
   ],
   "source": [
    "tunner_lstm.get_best_hyperparameters(1)"
   ],
   "metadata": {
    "collapsed": false
   },
   "id": "4a2bcc7226a2df7f",
   "execution_count": 0
  },
  {
   "cell_type": "code",
   "outputs": [
    {
     "output_type": "stream",
     "name": "stdout",
     "text": [
      "Model: \"sequential_1\"\n",
      "_________________________________________________________________\n",
      " Layer (type)                Output Shape              Param #   \n",
      "=================================================================\n",
      " lstm_2 (LSTM)               (None, 16723, 128)        78336     \n",
      "                                                                 \n",
      " lstm_3 (LSTM)               (None, 192)               246528    \n",
      "                                                                 \n",
      " dense_1 (Dense)             (None, 1)                 193       \n",
      "                                                                 \n",
      "=================================================================\n",
      "Total params: 325057 (1.24 MB)\n",
      "Trainable params: 325057 (1.24 MB)\n",
      "Non-trainable params: 0 (0.00 Byte)\n",
      "_________________________________________________________________\n"
     ]
    }
   ],
   "source": [
    "lstm.summary()"
   ],
   "metadata": {
    "collapsed": false
   },
   "id": "de951439e877f400",
   "execution_count": 0
  },
  {
   "cell_type": "code",
   "outputs": [],
   "source": [
    "checkpoint_lstm, early_stop_lstm = get_callbacks('asa', 'lstm-1hidden')"
   ],
   "metadata": {
    "collapsed": false
   },
   "id": "4f0f1ac492eb89bb",
   "execution_count": 0
  },
  {
   "cell_type": "code",
   "outputs": [
    {
     "output_type": "stream",
     "name": "stdout",
     "text": [
      "Epoch 1/150\n",
      "9/9 [==============================] - ETA: 0s - loss: 1.0994 - accuracy: 0.6694\n",
      "Epoch 1: val_accuracy improved from -inf to 0.72000, saving model to /content/AIForIMUParkinsonData/results/asa/lstm-1hidden/tmp/ckpt/checkpoint.model.keras\n",
      "9/9 [==============================] - 14s 1s/step - loss: 1.0994 - accuracy: 0.6694 - val_loss: 0.6149 - val_accuracy: 0.7200\n",
      "Epoch 2/150\n",
      "9/9 [==============================] - ETA: 0s - loss: 0.6402 - accuracy: 0.6694\n",
      "Epoch 2: val_accuracy did not improve from 0.72000\n",
      "9/9 [==============================] - 10s 1s/step - loss: 0.6402 - accuracy: 0.6694 - val_loss: 0.5960 - val_accuracy: 0.7200\n",
      "Epoch 3/150\n",
      "9/9 [==============================] - ETA: 0s - loss: 0.6307 - accuracy: 0.6694\n",
      "Epoch 3: val_accuracy did not improve from 0.72000\n",
      "9/9 [==============================] - 10s 1s/step - loss: 0.6307 - accuracy: 0.6694 - val_loss: 0.6102 - val_accuracy: 0.7200\n",
      "Epoch 4/150\n",
      "9/9 [==============================] - ETA: 0s - loss: 0.6419 - accuracy: 0.6694\n",
      "Epoch 4: val_accuracy did not improve from 0.72000\n",
      "9/9 [==============================] - 10s 1s/step - loss: 0.6419 - accuracy: 0.6694 - val_loss: 0.6050 - val_accuracy: 0.7200\n",
      "Epoch 5/150\n",
      "9/9 [==============================] - ETA: 0s - loss: 0.6440 - accuracy: 0.6694\n",
      "Epoch 5: val_accuracy did not improve from 0.72000\n",
      "9/9 [==============================] - 10s 1s/step - loss: 0.6440 - accuracy: 0.6694 - val_loss: 0.6129 - val_accuracy: 0.7200\n",
      "Epoch 6/150\n",
      "9/9 [==============================] - ETA: 0s - loss: 0.6410 - accuracy: 0.6694\n",
      "Epoch 6: val_accuracy did not improve from 0.72000\n",
      "Restoring model weights from the end of the best epoch: 1.\n",
      "9/9 [==============================] - 10s 1s/step - loss: 0.6410 - accuracy: 0.6694 - val_loss: 0.5937 - val_accuracy: 0.7200\n",
      "Epoch 6: early stopping\n"
     ]
    }
   ],
   "source": [
    "history_lstm = lstm.fit(x=X_train_padded,\n",
    "                        y=y_train,\n",
    "                        batch_size=BATCH_SIZE,\n",
    "                        epochs=EPOCHS,\n",
    "                        validation_data=(X_val_padded, y_val),\n",
    "                        callbacks=[tensorboard_callback, checkpoint_lstm, early_stop_lstm])"
   ],
   "metadata": {
    "collapsed": false
   },
   "id": "fe74bfc74fb55073",
   "execution_count": 0
  },
  {
   "cell_type": "markdown",
   "source": [
    "### 1 Hidden layer LSTM With Conv1D"
   ],
   "metadata": {
    "collapsed": false
   },
   "id": "ddc1a2e79b6acdd"
  },
  {
   "cell_type": "code",
   "outputs": [],
   "source": [
    "BATCH_SIZE = 14\n",
    "EPOCHS = 150"
   ],
   "metadata": {
    "collapsed": false
   },
   "id": "face5a8670ea8c7c"
  },
  {
   "cell_type": "code",
   "outputs": [],
   "source": [
    "tunner_1d = RandomSearch(\n",
    "    build_1d_conv_1lstm,\n",
    "    objective='val_accuracy',\n",
    "    max_trials=10,\n",
    "    executions_per_trial=1\n",
    ")"
   ],
   "metadata": {
    "collapsed": false
   },
   "id": "6dc091e874a72900"
  },
  {
   "cell_type": "code",
   "outputs": [],
   "source": [
    "tunner_1d.search(X_train_padded, y_train,\n",
    "                    epochs=RS_EPOCHS,\n",
    "                    validation_data=(X_val_padded, y_val)\n",
    "                    )"
   ],
   "metadata": {
    "collapsed": false
   },
   "id": "be7c6696ac1ea271"
  },
  {
   "cell_type": "code",
   "outputs": [],
   "source": [
    "best_hyperparams_1d = tunner_model.get_best_hyperparameters(1)[0]\n",
    "d1_model = tunner_model.hypermodel.build(best_hyperparams_1d)"
   ],
   "metadata": {
    "collapsed": false
   },
   "id": "f338f3895e94a50b"
  },
  {
   "cell_type": "code",
   "outputs": [],
   "source": [
    "best_hyperparams_1d"
   ],
   "metadata": {
    "collapsed": false
   },
   "id": "62240820f841002e"
  },
  {
   "cell_type": "code",
   "outputs": [],
   "source": [
    "d1_model.summary()"
   ],
   "metadata": {
    "collapsed": false
   },
   "id": "e6c7dadc738e7a93",
   "execution_count": 0
  },
  {
   "cell_type": "code",
   "outputs": [],
   "source": [
    "checkpoint_1d, early_stop_1d = get_callbacks('asa', 'lstm-1hidden-1dconv')"
   ],
   "metadata": {
    "collapsed": false
   },
   "id": "907e2c1a8531cdf2",
   "execution_count": 0
  },
  {
   "cell_type": "code",
   "outputs": [],
   "source": [
    "history_1d = d1_model.fit(x=X_train_padded,\n",
    "                        y=y_train.reshape((-1,1)),\n",
    "                        batch_size=BATCH_SIZE,\n",
    "                        epochs=EPOCHS,\n",
    "                        validation_data=(X_val_padded, y_val.reshape((-1,1))),\n",
    "                        callbacks=[tensorboard_callback, checkpoint_1d, early_stop_1d])"
   ],
   "metadata": {
    "collapsed": false
   },
   "id": "9017780637ea1514",
   "execution_count": 0
  },
  {
   "cell_type": "markdown",
   "source": [
    "### 1 Hidden layer LSTM With Conv1D - Includes DropOut"
   ],
   "metadata": {
    "collapsed": false
   },
   "id": "c1d5d77da90c54af"
  },
  {
   "cell_type": "code",
   "outputs": [],
   "source": [
    "BATCH_SIZE = 14\n",
    "EPOCHS = 150"
   ],
   "metadata": {
    "collapsed": false,
    "ExecuteTime": {
     "end_time": "2024-03-29T18:39:11.347898Z",
     "start_time": "2024-03-29T18:39:11.331363Z"
    }
   },
   "id": "9a278d69ebe96c96",
   "execution_count": 13
  },
  {
   "cell_type": "code",
   "outputs": [],
   "source": [
    "tunner_do = RandomSearch(\n",
    "    build_1d_conv_1layer_lstm_do,\n",
    "    objective='val_accuracy',\n",
    "    max_trials=10,\n",
    "    executions_per_trial=1\n",
    ")"
   ],
   "metadata": {
    "collapsed": false
   },
   "id": "957b1a33a6372321",
   "execution_count": 15
  },
  {
   "cell_type": "code",
   "outputs": [
    {
     "output_type": "stream",
     "name": "stdout",
     "text": [
      "Trial 10 Complete [00h 01m 26s]\n",
      "val_accuracy: 0.7196651697158813\n",
      "\n",
      "Best val_accuracy So Far: 0.7200214862823486\n",
      "Total elapsed time: 00h 12m 37s\n"
     ]
    }
   ],
   "source": [
    "tunner_do.search(X_train_padded, y_train.reshape((-1,1)),\n",
    "                    epochs=RS_EPOCHS,\n",
    "                    validation_data=(X_val_padded,y_val.reshape((-1,1)))\n",
    "                    )"
   ],
   "metadata": {
    "collapsed": false
   },
   "id": "e593c053c65429a2",
   "execution_count": 17
  },
  {
   "cell_type": "code",
   "outputs": [],
   "source": [
    "best_hyperparams_do = tunner_do.get_best_hyperparameters(1)[0]\n",
    "do_model = tunner_do.hypermodel.build(best_hyperparams_do)"
   ],
   "metadata": {
    "collapsed": false
   },
   "id": "f90c548a2a1cde7f",
   "execution_count": 18
  },
  {
   "cell_type": "code",
   "outputs": [
    {
     "output_type": "stream",
     "name": "stdout",
     "text": [
      "Model: \"sequential_1\"\n",
      "_________________________________________________________________\n",
      " Layer (type)                Output Shape              Param #   \n",
      "=================================================================\n",
      " conv1d_1 (Conv1D)           (None, 16723, 9)          1737      \n",
      "                                                                 \n",
      " lstm_1 (LSTM)               (None, 16723, 128)        70656     \n",
      "                                                                 \n",
      " dense_1 (Dense)             (None, 16723, 1)          129       \n",
      "                                                                 \n",
      "=================================================================\n",
      "Total params: 72522 (283.29 KB)\n",
      "Trainable params: 72522 (283.29 KB)\n",
      "Non-trainable params: 0 (0.00 Byte)\n",
      "_________________________________________________________________\n"
     ]
    }
   ],
   "source": [
    "do_model.summary()"
   ],
   "metadata": {
    "collapsed": false
   },
   "id": "6c922e32ae469020",
   "execution_count": 19
  },
  {
   "cell_type": "code",
   "outputs": [],
   "source": [
    "checkpoint_do, early_stop_do = get_callbacks('asa', 'lstm-1hidden-1dconv-do')"
   ],
   "metadata": {
    "collapsed": false
   },
   "id": "8999972ce404bf6d",
   "execution_count": 20
  },
  {
   "cell_type": "code",
   "outputs": [
    {
     "output_type": "stream",
     "name": "stdout",
     "text": [
      "Epoch 1/150\n",
      "9/9 [==============================] - ETA: 0s - loss: 0.7596 - accuracy: 0.6650\n",
      "Epoch 1: val_accuracy improved from -inf to 0.71617, saving model to /content/AIForIMUParkinsonData/results/asa/lstm-1hidden-1dconv-do/tmp/ckpt/checkpoint.model.keras\n",
      "9/9 [==============================] - 10s 828ms/step - loss: 0.7596 - accuracy: 0.6650 - val_loss: 0.6309 - val_accuracy: 0.7162\n",
      "Epoch 2/150\n",
      "9/9 [==============================] - ETA: 0s - loss: 0.6515 - accuracy: 0.6689\n",
      "Epoch 2: val_accuracy improved from 0.71617 to 0.71988, saving model to /content/AIForIMUParkinsonData/results/asa/lstm-1hidden-1dconv-do/tmp/ckpt/checkpoint.model.keras\n",
      "9/9 [==============================] - 5s 591ms/step - loss: 0.6515 - accuracy: 0.6689 - val_loss: 0.6063 - val_accuracy: 0.7199\n",
      "Epoch 3/150\n",
      "9/9 [==============================] - ETA: 0s - loss: 0.6455 - accuracy: 0.6693\n",
      "Epoch 3: val_accuracy improved from 0.71988 to 0.72000, saving model to /content/AIForIMUParkinsonData/results/asa/lstm-1hidden-1dconv-do/tmp/ckpt/checkpoint.model.keras\n",
      "9/9 [==============================] - 6s 727ms/step - loss: 0.6455 - accuracy: 0.6693 - val_loss: 0.6007 - val_accuracy: 0.7200\n",
      "Epoch 4/150\n",
      "9/9 [==============================] - ETA: 0s - loss: 0.6382 - accuracy: 0.6693\n",
      "Epoch 4: val_accuracy did not improve from 0.72000\n",
      "9/9 [==============================] - 5s 562ms/step - loss: 0.6382 - accuracy: 0.6693 - val_loss: 0.6049 - val_accuracy: 0.7199\n",
      "Epoch 5/150\n",
      "9/9 [==============================] - ETA: 0s - loss: 0.6362 - accuracy: 0.6693\n",
      "Epoch 5: val_accuracy did not improve from 0.72000\n",
      "9/9 [==============================] - 5s 613ms/step - loss: 0.6362 - accuracy: 0.6693 - val_loss: 0.6057 - val_accuracy: 0.7199\n",
      "Epoch 6/150\n",
      "9/9 [==============================] - ETA: 0s - loss: 0.6343 - accuracy: 0.6693\n",
      "Epoch 6: val_accuracy did not improve from 0.72000\n",
      "Restoring model weights from the end of the best epoch: 1.\n",
      "9/9 [==============================] - 5s 583ms/step - loss: 0.6343 - accuracy: 0.6693 - val_loss: 0.6005 - val_accuracy: 0.7200\n",
      "Epoch 6: early stopping\n"
     ]
    }
   ],
   "source": [
    "history_do = do_model.fit(x=X_train_padded,\n",
    "                        y=y_train.reshape((-1,1)),\n",
    "                        batch_size=BATCH_SIZE,\n",
    "                        epochs=EPOCHS,\n",
    "                        validation_data=(X_val_padded, y_val.reshape((-1,1))),\n",
    "                        callbacks=[tensorboard_callback, checkpoint_do, early_stop_do])"
   ],
   "metadata": {
    "collapsed": false
   },
   "id": "25aa078a035453d6",
   "execution_count": 21
  }
 ],
 "metadata": {
  "kernelspec": {
   "display_name": "Python 3",
   "language": "python",
   "name": "python3"
  },
  "language_info": {
   "codemirror_mode": {
    "name": "ipython",
    "version": 2
   },
   "file_extension": ".py",
   "mimetype": "text/x-python",
   "name": "python",
   "nbconvert_exporter": "python",
   "pygments_lexer": "ipython2",
   "version": "2.7.6"
  }
 },
 "nbformat": 4,
 "nbformat_minor": 5
}
