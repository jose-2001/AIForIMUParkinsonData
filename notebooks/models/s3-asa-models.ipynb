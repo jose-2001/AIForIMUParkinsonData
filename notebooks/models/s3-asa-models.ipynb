{
 "cells": [
  {
   "cell_type": "markdown",
   "source": [
    "# Asymmetry Detection Models\n",
    "This notebook shows the process of load and train of a LSTM neuronal network to classify the asymmetry laterality of a PD patient or a control. In this notebook\n",
    "we will show different implementations of LSTMs (Normal and bidirectional) and with different hyperparameters."
   ],
   "metadata": {
    "collapsed": false
   },
   "id": "a5706cf0051e2286"
  },
  {
   "cell_type": "markdown",
   "source": [
    "## Requiered Imports"
   ],
   "metadata": {
    "collapsed": false
   },
   "id": "8365e2dd60c7786f"
  },
  {
   "cell_type": "code",
   "outputs": [],
   "source": [
    "import pickle\n",
    "\n",
    "import tensorflow as tf\n",
    "import numpy as np\n",
    "\n",
    "from keras_tuner.tuners import RandomSearch\n",
    "\n",
    "\n",
    "from src.model.asa_models import build_basic_lstm, build_2layer_lstm\n",
    "\n",
    "from src.settings import ROOT_DIR\n",
    "from src.utils.data_split import get_features_target\n",
    "from src.model.callbacks_builder import get_callbacks, build_tensorboard"
   ],
   "metadata": {
    "collapsed": false,
    "ExecuteTime": {
     "end_time": "2024-03-28T23:26:41.517528Z",
     "start_time": "2024-03-28T23:26:28.801518Z"
    }
   },
   "id": "9cd6ca22b813d6a9",
   "execution_count": 1
  },
  {
   "cell_type": "markdown",
   "source": [
    "## Data load"
   ],
   "metadata": {
    "collapsed": false
   },
   "id": "d67e5a0ed8b1dc29"
  },
  {
   "cell_type": "code",
   "outputs": [],
   "source": [
    "train_data_path = ROOT_DIR / 'data' / 'processed' / 'asa' / 'train.pkl'\n",
    "val_data_path = ROOT_DIR / 'data' / 'processed' / 'asa' / 'val.pkl'\n",
    "\n",
    "with open(train_data_path, 'rb') as file:\n",
    "    train_data = pickle.load(file)\n",
    "\n",
    "with open(val_data_path, 'rb') as file:\n",
    "    val_data = pickle.load(file)"
   ],
   "metadata": {
    "collapsed": false,
    "ExecuteTime": {
     "end_time": "2024-03-28T23:26:41.936626Z",
     "start_time": "2024-03-28T23:26:41.519528Z"
    }
   },
   "id": "470d5117ad154fc",
   "execution_count": 2
  },
  {
   "cell_type": "code",
   "outputs": [
    {
     "data": {
      "text/plain": "124"
     },
     "execution_count": 3,
     "metadata": {},
     "output_type": "execute_result"
    }
   ],
   "source": [
    "len(train_data)"
   ],
   "metadata": {
    "collapsed": false,
    "ExecuteTime": {
     "end_time": "2024-03-28T23:26:41.952592Z",
     "start_time": "2024-03-28T23:26:41.938540Z"
    }
   },
   "id": "17e5d4a6442ac659",
   "execution_count": 3
  },
  {
   "cell_type": "code",
   "outputs": [],
   "source": [
    "X_train, y_train = get_features_target(train_data)\n",
    "X_val, y_val = get_features_target(val_data)"
   ],
   "metadata": {
    "collapsed": false,
    "ExecuteTime": {
     "end_time": "2024-03-28T23:26:41.968529Z",
     "start_time": "2024-03-28T23:26:41.954544Z"
    }
   },
   "id": "89b56b70fba27c21",
   "execution_count": 4
  },
  {
   "cell_type": "code",
   "outputs": [],
   "source": [
    "max_length = max(len(x) for x in X_train)\n",
    "X_train_padded = tf.keras.preprocessing.sequence.pad_sequences(X_train, maxlen=max_length, padding='post', dtype='float32')\n",
    "\n",
    "max_length = max(len(x) for x in X_val)\n",
    "X_val_padded = tf.keras.preprocessing.sequence.pad_sequences(X_val, maxlen=max_length, padding='post', dtype='float32')"
   ],
   "metadata": {
    "collapsed": false,
    "ExecuteTime": {
     "end_time": "2024-03-28T23:26:42.842527Z",
     "start_time": "2024-03-28T23:26:41.972529Z"
    }
   },
   "id": "743f71761848d925",
   "execution_count": 5
  },
  {
   "cell_type": "code",
   "outputs": [],
   "source": [
    "y_train = np.array(y_train)\n",
    "y_val = np.array(y_val)"
   ],
   "metadata": {
    "collapsed": false,
    "ExecuteTime": {
     "end_time": "2024-03-28T23:26:42.873529Z",
     "start_time": "2024-03-28T23:26:42.854528Z"
    }
   },
   "id": "1f47a3e25215ebd9",
   "execution_count": 6
  },
  {
   "cell_type": "markdown",
   "source": [
    "## Tensor Board\n",
    "This tool will help us to supervise the experimentation process of all the experimental models described in this notebook"
   ],
   "metadata": {
    "collapsed": false
   },
   "id": "11e7522c07bd43bc"
  },
  {
   "cell_type": "code",
   "outputs": [
    {
     "data": {
      "text/plain": "Reusing TensorBoard on port 6006 (pid 17168), started 3 days, 20:02:44 ago. (Use '!kill 17168' to kill it.)"
     },
     "metadata": {},
     "output_type": "display_data"
    },
    {
     "data": {
      "text/plain": "<IPython.core.display.HTML object>",
      "text/html": "\n      <iframe id=\"tensorboard-frame-11b0df550b9013c2\" width=\"100%\" height=\"800\" frameborder=\"0\">\n      </iframe>\n      <script>\n        (function() {\n          const frame = document.getElementById(\"tensorboard-frame-11b0df550b9013c2\");\n          const url = new URL(\"/\", window.location);\n          const port = 6006;\n          if (port) {\n            url.port = port;\n          }\n          frame.src = url;\n        })();\n      </script>\n    "
     },
     "metadata": {},
     "output_type": "display_data"
    }
   ],
   "source": [
    "%load_ext tensorboard\n",
    "%tensorboard --logdir ../results/asa/lightning_logs/"
   ],
   "metadata": {
    "collapsed": false,
    "ExecuteTime": {
     "end_time": "2024-03-28T23:26:43.017528Z",
     "start_time": "2024-03-28T23:26:42.878530Z"
    }
   },
   "id": "3a97d3a2d2703113",
   "execution_count": 7
  },
  {
   "cell_type": "code",
   "outputs": [],
   "source": [
    "tensorboard_callback = build_tensorboard('asa')"
   ],
   "metadata": {
    "collapsed": false,
    "ExecuteTime": {
     "end_time": "2024-03-28T23:26:43.063529Z",
     "start_time": "2024-03-28T23:26:43.022650Z"
    }
   },
   "id": "2be47c783eae24b2",
   "execution_count": 8
  },
  {
   "cell_type": "markdown",
   "source": [
    "## Models\n",
    "Every model will be trained looking for the best hyperparameters, for this we will use Random Search."
   ],
   "metadata": {
    "collapsed": false
   },
   "id": "9254968e65943049"
  },
  {
   "cell_type": "code",
   "outputs": [],
   "source": [
    "RS_EPOCHS = 20"
   ],
   "metadata": {
    "collapsed": false,
    "ExecuteTime": {
     "end_time": "2024-03-28T23:26:43.079534Z",
     "start_time": "2024-03-28T23:26:43.067529Z"
    }
   },
   "id": "62f554dd911c0143",
   "execution_count": 9
  },
  {
   "cell_type": "markdown",
   "source": [
    "### Simple LSTM\n",
    "This model is a 64-lstm with any hidden layers and just one dense layer to infer the output.\n",
    "Optimizer: *Adam*\n",
    "Loss: *binary_crossentropy*"
   ],
   "metadata": {
    "collapsed": false
   },
   "id": "1d2579ee9d585f87"
  },
  {
   "cell_type": "code",
   "outputs": [],
   "source": [
    "BATCH_SIZE = 14\n",
    "EPOCHS = 200"
   ],
   "metadata": {
    "collapsed": false,
    "ExecuteTime": {
     "end_time": "2024-03-28T23:26:43.110528Z",
     "start_time": "2024-03-28T23:26:43.083529Z"
    }
   },
   "id": "48c45ad4e124e4e3",
   "execution_count": 10
  },
  {
   "cell_type": "code",
   "outputs": [],
   "source": [
    "tunner_model = RandomSearch(\n",
    "    build_basic_lstm,\n",
    "    objective='val_accuracy',\n",
    "    max_trials=4,\n",
    "    executions_per_trial=1\n",
    ")"
   ],
   "metadata": {
    "collapsed": false,
    "ExecuteTime": {
     "end_time": "2024-03-28T23:26:44.152529Z",
     "start_time": "2024-03-28T23:26:43.114157Z"
    }
   },
   "id": "a223a6edd9a82c4c",
   "execution_count": 11
  },
  {
   "cell_type": "code",
   "outputs": [
    {
     "output_type": "stream",
     "name": "stdout",
     "text": [
      "Trial 4 Complete [00h 00m 48s]\n",
      "val_accuracy: 0.7200000286102295\n",
      "\n",
      "Best val_accuracy So Far: 0.7200000286102295\n",
      "Total elapsed time: 00h 04m 24s\n"
     ]
    }
   ],
   "source": [
    "tunner_model.search(X_train_padded, y_train,\n",
    "                    epochs=RS_EPOCHS,\n",
    "                    validation_data=(X_val_padded, y_val)\n",
    "                    )"
   ],
   "metadata": {
    "collapsed": false
   },
   "id": "831be17b8bf8779c",
   "execution_count": 18
  },
  {
   "cell_type": "code",
   "outputs": [],
   "source": [
    "best_hyperparams = tunner_model.get_best_hyperparameters(1)[0]\n",
    "model = tunner_model.hypermodel.build(best_hyperparams)"
   ],
   "metadata": {
    "collapsed": false
   },
   "id": "a744c4aadcb5501a",
   "execution_count": 19
  },
  {
   "cell_type": "code",
   "outputs": [
    {
     "output_type": "stream",
     "name": "stdout",
     "text": [
      "Model: \"sequential_1\"\n",
      "_________________________________________________________________\n",
      " Layer (type)                Output Shape              Param #   \n",
      "=================================================================\n",
      " lstm_1 (LSTM)               (None, 128)               78336     \n",
      "                                                                 \n",
      " dense_1 (Dense)             (None, 1)                 129       \n",
      "                                                                 \n",
      "=================================================================\n",
      "Total params: 78465 (306.50 KB)\n",
      "Trainable params: 78465 (306.50 KB)\n",
      "Non-trainable params: 0 (0.00 Byte)\n",
      "_________________________________________________________________\n"
     ]
    }
   ],
   "source": [
    "model.summary()"
   ],
   "metadata": {
    "collapsed": false
   },
   "id": "bc3c431547645c68",
   "execution_count": 20
  },
  {
   "cell_type": "code",
   "outputs": [],
   "source": [
    "checkpoint_model, early_stop_model = get_callbacks('asa', '64-lstm-no-hidden')"
   ],
   "metadata": {
    "collapsed": false
   },
   "id": "4d1bcafe53b367e1",
   "execution_count": 21
  },
  {
   "cell_type": "code",
   "outputs": [
    {
     "output_type": "stream",
     "name": "stdout",
     "text": [
      "Epoch 1/200\n",
      "9/9 [==============================] - ETA: 0s - loss: 0.7059 - accuracy: 0.6694\n",
      "Epoch 1: val_accuracy improved from -inf to 0.72000, saving model to /content/AIForIMUParkinsonData/results/asa/64-lstm-no-hidden/tmp/ckpt/checkpoint.model.keras\n",
      "9/9 [==============================] - 8s 600ms/step - loss: 0.7059 - accuracy: 0.6694 - val_loss: 0.6303 - val_accuracy: 0.7200\n",
      "Epoch 2/200\n",
      "9/9 [==============================] - ETA: 0s - loss: 0.6702 - accuracy: 0.6694\n",
      "Epoch 2: val_accuracy did not improve from 0.72000\n",
      "9/9 [==============================] - 5s 555ms/step - loss: 0.6702 - accuracy: 0.6694 - val_loss: 0.6292 - val_accuracy: 0.7200\n",
      "Epoch 3/200\n",
      "9/9 [==============================] - ETA: 0s - loss: 0.6520 - accuracy: 0.6694\n",
      "Epoch 3: val_accuracy did not improve from 0.72000\n",
      "9/9 [==============================] - 5s 582ms/step - loss: 0.6520 - accuracy: 0.6694 - val_loss: 0.5975 - val_accuracy: 0.7200\n",
      "Epoch 4/200\n",
      "9/9 [==============================] - ETA: 0s - loss: 0.6352 - accuracy: 0.6694\n",
      "Epoch 4: val_accuracy did not improve from 0.72000\n",
      "9/9 [==============================] - 5s 550ms/step - loss: 0.6352 - accuracy: 0.6694 - val_loss: 0.6111 - val_accuracy: 0.7200\n",
      "Epoch 5/200\n",
      "9/9 [==============================] - ETA: 0s - loss: 0.6345 - accuracy: 0.6694\n",
      "Epoch 5: val_accuracy did not improve from 0.72000\n",
      "9/9 [==============================] - 5s 624ms/step - loss: 0.6345 - accuracy: 0.6694 - val_loss: 0.6038 - val_accuracy: 0.7200\n",
      "Epoch 6/200\n",
      "9/9 [==============================] - ETA: 0s - loss: 0.6378 - accuracy: 0.6694\n",
      "Epoch 6: val_accuracy did not improve from 0.72000\n",
      "Restoring model weights from the end of the best epoch: 1.\n",
      "9/9 [==============================] - 5s 535ms/step - loss: 0.6378 - accuracy: 0.6694 - val_loss: 0.5956 - val_accuracy: 0.7200\n",
      "Epoch 6: early stopping\n"
     ]
    }
   ],
   "source": [
    "# Train the model\n",
    "history_model = model.fit(\n",
    "    X_train_padded,\n",
    "    y_train,\n",
    "    epochs=EPOCHS,\n",
    "    batch_size=BATCH_SIZE,\n",
    "    validation_data=(X_val_padded, y_val),\n",
    "    callbacks=[tensorboard_callback, checkpoint_model, early_stop_model])"
   ],
   "metadata": {
    "collapsed": false
   },
   "id": "6bc2f256516ae6c1",
   "execution_count": 23
  },
  {
   "cell_type": "markdown",
   "source": [
    "### 2 Hidden layers LSTM"
   ],
   "metadata": {
    "collapsed": false
   },
   "id": "fe309d00a863d301"
  },
  {
   "cell_type": "code",
   "outputs": [],
   "source": [
    "BATCH_SIZE = 14\n",
    "EPOCHS = 150"
   ],
   "metadata": {
    "collapsed": false
   },
   "id": "9d45a717f732af05"
  },
  {
   "cell_type": "code",
   "outputs": [],
   "source": [
    "tunner_lstm = RandomSearch(\n",
    "    build_2layer_lstm,\n",
    "    objective='val_accuracy',\n",
    "    max_trials=4,\n",
    "    executions_per_trial=1\n",
    ")"
   ],
   "metadata": {
    "collapsed": false
   },
   "id": "c5d5e67b8af03349"
  },
  {
   "cell_type": "code",
   "outputs": [],
   "source": [
    "tunner_lstm.search(X_train_padded, y_train,\n",
    "                    epochs=RS_EPOCHS,\n",
    "                    validation_data=(X_val_padded, y_val)\n",
    "                    )"
   ],
   "metadata": {
    "collapsed": false
   },
   "id": "35dbd22cc2660080"
  },
  {
   "cell_type": "code",
   "outputs": [],
   "source": [
    "best_hyperparams_lstm = tunner_model.get_best_hyperparameters(1)[0]\n",
    "lstm = tunner_model.hypermodel.build(best_hyperparams_lstm)"
   ],
   "metadata": {
    "collapsed": false
   },
   "id": "4a7a2fa5b433f3f0"
  },
  {
   "cell_type": "code",
   "outputs": [],
   "source": [
    "best_hyperparams_lstm"
   ],
   "metadata": {
    "collapsed": false
   },
   "id": "32e875298b10ab83"
  },
  {
   "cell_type": "code",
   "outputs": [],
   "source": [
    "lstm.summary()"
   ],
   "metadata": {
    "collapsed": false,
    "ExecuteTime": {
     "start_time": "2024-03-25T04:13:26.230200Z"
    }
   },
   "id": "eca913efd0be8140",
   "execution_count": 0
  },
  {
   "cell_type": "code",
   "outputs": [],
   "source": [
    "checkpoint_lstm, early_stop_lstm = get_callbacks('asa', 'lstm-2hidden')"
   ],
   "metadata": {
    "collapsed": false
   },
   "id": "1f61dfb7b877edf0",
   "execution_count": 0
  },
  {
   "cell_type": "code",
   "outputs": [],
   "source": [
    "history_lstm = lstm.fit(x=X_train,\n",
    "                        y=y_train,\n",
    "                        batch_size=BATCH_SIZE,\n",
    "                        epochs=EPOCHS,\n",
    "                        validation_data=(X_val_padded, y_val),\n",
    "                        callbacks=[tensorboard_callback, checkpoint_lstm, early_stop_lstm])"
   ],
   "metadata": {
    "collapsed": false,
    "ExecuteTime": {
     "start_time": "2024-03-25T04:13:26.246660Z"
    }
   },
   "id": "469783203358d0d6",
   "execution_count": 0
  }
 ],
 "metadata": {
  "kernelspec": {
   "display_name": "Python 3",
   "language": "python",
   "name": "python3"
  },
  "language_info": {
   "codemirror_mode": {
    "name": "ipython",
    "version": 2
   },
   "file_extension": ".py",
   "mimetype": "text/x-python",
   "name": "python",
   "nbconvert_exporter": "python",
   "pygments_lexer": "ipython2",
   "version": "2.7.6"
  }
 },
 "nbformat": 4,
 "nbformat_minor": 5
}
