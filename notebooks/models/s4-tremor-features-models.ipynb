{
 "cells": [
  {
   "cell_type": "markdown",
   "source": [
    "# Tremor Models using Stat Features\n",
    "This notebook covers all the process of definition preprocessing, training and evaluation for 3 tremor inference models. The proposed models are: SVM, KNN and Gradient Boost classifier.\n",
    "\n",
    "All the models aim to classify if a person appears to have tremor (1) or not (0) during a 6 meters walk.\n",
    "\n",
    "This model will use statistical descriptive data from the walk as features for model training."
   ],
   "metadata": {
    "collapsed": false
   },
   "id": "542b53fbba921cf4"
  },
  {
   "cell_type": "markdown",
   "source": [
    "## Requiered Imports"
   ],
   "metadata": {
    "collapsed": false
   },
   "id": "f1b853c6467897da"
  },
  {
   "cell_type": "code",
   "outputs": [
    {
     "name": "stderr",
     "output_type": "stream",
     "text": [
      "C:\\Users\\julia\\AppData\\Roaming\\Python\\Python310\\site-packages\\requests\\__init__.py:109: RequestsDependencyWarning: urllib3 (2.0.3) or chardet (5.2.0)/charset_normalizer (3.1.0) doesn't match a supported version!\n",
      "  warnings.warn(\n"
     ]
    },
    {
     "name": "stdout",
     "output_type": "stream",
     "text": [
      "WARNING:tensorflow:From C:\\Users\\julia\\.conda\\envs\\AIForIMUParkinsonData\\lib\\site-packages\\keras\\src\\losses.py:2976: The name tf.losses.sparse_softmax_cross_entropy is deprecated. Please use tf.compat.v1.losses.sparse_softmax_cross_entropy instead.\n"
     ]
    }
   ],
   "source": [
    "import os\n",
    "import pickle\n",
    "\n",
    "from src.settings import ROOT_DIR\n",
    "from src.utils.data_split import get_features_target\n",
    "from src.model.standard_models_builder import build_models_modules\n",
    "from src.evaluation.model_metrics_report import print_model_metrics"
   ],
   "metadata": {
    "collapsed": false,
    "ExecuteTime": {
     "end_time": "2024-04-12T04:11:06.407936Z",
     "start_time": "2024-04-12T04:10:28.223281Z"
    }
   },
   "id": "92ee4aa450981915",
   "execution_count": 2
  },
  {
   "cell_type": "markdown",
   "source": [
    "## Load Data"
   ],
   "metadata": {
    "collapsed": false
   },
   "id": "583dd830754c0a26"
  },
  {
   "cell_type": "code",
   "outputs": [],
   "source": [
    "train_data_path = ROOT_DIR / 'data' / 'processed' / 'tremor-features' / 'train.pkl'\n",
    "val_data_path = ROOT_DIR / 'data' / 'processed' / 'tremor-features' / 'val.pkl'\n",
    "\n",
    "with open(train_data_path, 'rb') as file:\n",
    "    train_data = pickle.load(file)\n",
    "\n",
    "with open(val_data_path, 'rb') as file:\n",
    "    val_data = pickle.load(file)"
   ],
   "metadata": {
    "collapsed": false,
    "ExecuteTime": {
     "end_time": "2024-04-12T04:11:06.496636Z",
     "start_time": "2024-04-12T04:11:06.414881Z"
    }
   },
   "id": "9af4f1d1f98addb7",
   "execution_count": 3
  },
  {
   "cell_type": "code",
   "outputs": [
    {
     "data": {
      "text/plain": "12410"
     },
     "execution_count": 4,
     "metadata": {},
     "output_type": "execute_result"
    }
   ],
   "source": [
    "len(train_data)"
   ],
   "metadata": {
    "collapsed": false,
    "ExecuteTime": {
     "end_time": "2024-04-12T04:11:06.527732Z",
     "start_time": "2024-04-12T04:11:06.502974Z"
    }
   },
   "id": "10db78b5f17097b6",
   "execution_count": 4
  },
  {
   "cell_type": "code",
   "outputs": [],
   "source": [
    "features = train_data.columns.tolist()\n",
    "target = features.pop(-1)\n",
    "\n",
    "X_train, y_train = train_data[features], train_data[target]\n",
    "X_val, y_val = val_data[features], val_data[target]"
   ],
   "metadata": {
    "collapsed": false,
    "ExecuteTime": {
     "end_time": "2024-04-12T04:11:06.558435Z",
     "start_time": "2024-04-12T04:11:06.534279Z"
    }
   },
   "id": "c8a87e08749dc8e0",
   "execution_count": 5
  },
  {
   "cell_type": "markdown",
   "source": [
    "## Models\n",
    "Define and train the models using GridSearch"
   ],
   "metadata": {
    "collapsed": false
   },
   "id": "a09a54cb1a80c4e"
  },
  {
   "cell_type": "code",
   "outputs": [
    {
     "name": "stdout",
     "output_type": "stream",
     "text": [
      "Started Grid Search - Model: SVM\n"
     ]
    }
   ],
   "source": [
    "svm, knn, gboost = build_models_modules(X_train, y_train)"
   ],
   "metadata": {
    "collapsed": false,
    "is_executing": true,
    "ExecuteTime": {
     "start_time": "2024-04-12T04:11:06.568959Z"
    }
   },
   "id": "515ca783c10e4bce",
   "execution_count": null
  },
  {
   "cell_type": "markdown",
   "source": [
    "## Train Metrics"
   ],
   "metadata": {
    "collapsed": false
   },
   "id": "7902ae02436f3821"
  },
  {
   "cell_type": "code",
   "outputs": [],
   "source": [
    "print_model_metrics(svm, X_train, y_train)"
   ],
   "metadata": {
    "collapsed": false
   },
   "id": "b19a7ce3df077dd7"
  },
  {
   "cell_type": "code",
   "outputs": [],
   "source": [
    "print_model_metrics(knn, X_train, y_train)"
   ],
   "metadata": {
    "collapsed": false
   },
   "id": "36309d54de66161b"
  },
  {
   "cell_type": "code",
   "outputs": [],
   "source": [
    "print_model_metrics(gboost, X_train, y_train)"
   ],
   "metadata": {
    "collapsed": false
   },
   "id": "8cdeee413f74e285"
  },
  {
   "cell_type": "markdown",
   "source": [
    "## Val Metrics"
   ],
   "metadata": {
    "collapsed": false
   },
   "id": "f3d56ffd8e6fa8f5"
  },
  {
   "cell_type": "code",
   "outputs": [],
   "source": [
    "print_model_metrics(svm, X_val, y_val)"
   ],
   "metadata": {
    "collapsed": false
   },
   "id": "86262a9461c77c46"
  },
  {
   "cell_type": "code",
   "outputs": [],
   "source": [
    "print_model_metrics(knn, X_val, y_val)"
   ],
   "metadata": {
    "collapsed": false
   },
   "id": "a43d2568b02e29a5"
  },
  {
   "cell_type": "code",
   "outputs": [],
   "source": [
    "print_model_metrics(gboost, X_val, y_val)"
   ],
   "metadata": {
    "collapsed": false
   },
   "id": "1d6764e2760158b"
  },
  {
   "cell_type": "markdown",
   "source": [
    "## Save models"
   ],
   "metadata": {
    "collapsed": false
   },
   "id": "f4ee4881a051c240"
  },
  {
   "cell_type": "code",
   "outputs": [],
   "source": [
    "save_path = str(ROOT_DIR) + '/results/models/tremor-features/'\n",
    "\n",
    "os.makedirs(save_path, exist_ok=True)\n",
    "pickle.dump(svm, save_path + 'model.svm.pkl')\n",
    "pickle.dump(knn, save_path + 'model.knn.pkl')\n",
    "pickle.dump(gboost, save_path + 'model.gboost.pkl')"
   ],
   "metadata": {
    "collapsed": false
   },
   "id": "f570f65e42e69894"
  }
 ],
 "metadata": {
  "kernelspec": {
   "display_name": "Python 3",
   "language": "python",
   "name": "python3"
  },
  "language_info": {
   "codemirror_mode": {
    "name": "ipython",
    "version": 2
   },
   "file_extension": ".py",
   "mimetype": "text/x-python",
   "name": "python",
   "nbconvert_exporter": "python",
   "pygments_lexer": "ipython2",
   "version": "2.7.6"
  }
 },
 "nbformat": 4,
 "nbformat_minor": 5
}
