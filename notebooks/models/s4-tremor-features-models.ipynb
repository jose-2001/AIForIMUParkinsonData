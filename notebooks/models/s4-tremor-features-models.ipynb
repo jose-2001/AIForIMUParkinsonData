{
 "cells": [
  {
   "cell_type": "markdown",
   "source": [
    "# Tremor Models using Stat Features\n",
    "This notebook covers all the process of definition preprocessing, training and evaluation for 3 tremor inference models. The proposed models are: SVM, KNN and Gradient Boost classifier.\n",
    "\n",
    "All the models aim to classify if a person appears to have tremor (1) or not (0) during a 6 meters walk.\n",
    "\n",
    "This model will use statistical descriptive data from the walk as features for model training."
   ],
   "metadata": {
    "collapsed": false
   },
   "id": "542b53fbba921cf4"
  },
  {
   "cell_type": "markdown",
   "source": [
    "## Requiered Imports"
   ],
   "metadata": {
    "collapsed": false
   },
   "id": "f1b853c6467897da"
  },
  {
   "cell_type": "code",
   "outputs": [],
   "source": [
    "import os\n",
    "import pickle\n",
    "import pandas as pd\n",
    "\n",
    "from src.settings import ROOT_DIR\n",
    "from src.utils.data_split import get_features_target\n",
    "from src.model.standard_models_builder import build_models_modules\n",
    "from src.evaluation.model_metrics_report import print_model_metrics"
   ],
   "metadata": {
    "collapsed": false
   },
   "id": "92ee4aa450981915"
  },
  {
   "cell_type": "markdown",
   "source": [
    "## Load Data"
   ],
   "metadata": {
    "collapsed": false
   },
   "id": "583dd830754c0a26"
  },
  {
   "cell_type": "code",
   "outputs": [],
   "source": [
    "train_data_path = ROOT_DIR / 'data' / 'processed' / 'tremor-features' / 'train.pkl'\n",
    "val_data_path = ROOT_DIR / 'data' / 'processed' / 'tremor-features' / 'val.pkl'\n",
    "\n",
    "with open(train_data_path, 'rb') as file:\n",
    "    train_data = pickle.load(file)\n",
    "\n",
    "with open(val_data_path, 'rb') as file:\n",
    "    val_data = pickle.load(file)"
   ],
   "metadata": {
    "collapsed": false
   },
   "id": "9af4f1d1f98addb7"
  },
  {
   "cell_type": "code",
   "outputs": [],
   "source": [
    "len(train_data)"
   ],
   "metadata": {
    "collapsed": false
   },
   "id": "10db78b5f17097b6"
  },
  {
   "cell_type": "code",
   "outputs": [],
   "source": [
    "X_train, y_train = get_features_target(train_data)\n",
    "X_val, y_val = get_features_target(val_data)"
   ],
   "metadata": {
    "collapsed": false
   },
   "id": "c8a87e08749dc8e0"
  },
  {
   "cell_type": "markdown",
   "source": [
    "## Models\n",
    "Define and train the models using GridSearch"
   ],
   "metadata": {
    "collapsed": false
   },
   "id": "a09a54cb1a80c4e"
  },
  {
   "cell_type": "code",
   "outputs": [],
   "source": [
    "svm, knn, gboost = build_models_modules(X_train, y_train)"
   ],
   "metadata": {
    "collapsed": false
   },
   "id": "515ca783c10e4bce"
  },
  {
   "cell_type": "code",
   "outputs": [],
   "source": [
    "#Print model's HP"
   ],
   "metadata": {
    "collapsed": false,
    "is_executing": true
   },
   "id": "6a34b915a4a30af0"
  },
  {
   "cell_type": "markdown",
   "source": [
    "## Train Metrics"
   ],
   "metadata": {
    "collapsed": false
   },
   "id": "7902ae02436f3821"
  },
  {
   "cell_type": "code",
   "outputs": [],
   "source": [
    "print_model_metrics(svm, X_train, y_train)"
   ],
   "metadata": {
    "collapsed": false
   },
   "id": "b19a7ce3df077dd7"
  },
  {
   "cell_type": "code",
   "outputs": [],
   "source": [
    "print_model_metrics(knn, X_train, y_train)"
   ],
   "metadata": {
    "collapsed": false
   },
   "id": "36309d54de66161b"
  },
  {
   "cell_type": "code",
   "outputs": [],
   "source": [
    "print_model_metrics(gboost, X_train, y_train)"
   ],
   "metadata": {
    "collapsed": false
   },
   "id": "8cdeee413f74e285"
  },
  {
   "cell_type": "markdown",
   "source": [
    "## Val Metrics"
   ],
   "metadata": {
    "collapsed": false
   },
   "id": "f3d56ffd8e6fa8f5"
  },
  {
   "cell_type": "code",
   "outputs": [],
   "source": [
    "print_model_metrics(svm, X_val, y_val)"
   ],
   "metadata": {
    "collapsed": false
   },
   "id": "86262a9461c77c46"
  },
  {
   "cell_type": "code",
   "outputs": [],
   "source": [
    "print_model_metrics(knn, X_val, y_val)"
   ],
   "metadata": {
    "collapsed": false
   },
   "id": "a43d2568b02e29a5"
  },
  {
   "cell_type": "code",
   "outputs": [],
   "source": [
    "print_model_metrics(gboost, X_val, y_val)"
   ],
   "metadata": {
    "collapsed": false
   },
   "id": "1d6764e2760158b"
  },
  {
   "cell_type": "markdown",
   "source": [
    "## Save models"
   ],
   "metadata": {
    "collapsed": false
   },
   "id": "f4ee4881a051c240"
  },
  {
   "cell_type": "code",
   "outputs": [],
   "source": [
    "save_path = str(ROOT_DIR) + '/results/models/tremor-features/'\n",
    "\n",
    "os.makedirs(save_path, exist_ok=True)\n",
    "pickle.dump(svm, save_path + 'model.svm.pkl')\n",
    "pickle.dump(knn, save_path + 'model.knn.pkl')\n",
    "pickle.dump(gboost, save_path + 'model.gboost.pkl')"
   ],
   "metadata": {
    "collapsed": false
   },
   "id": "f570f65e42e69894"
  }
 ],
 "metadata": {
  "kernelspec": {
   "display_name": "Python 3",
   "language": "python",
   "name": "python3"
  },
  "language_info": {
   "codemirror_mode": {
    "name": "ipython",
    "version": 2
   },
   "file_extension": ".py",
   "mimetype": "text/x-python",
   "name": "python",
   "nbconvert_exporter": "python",
   "pygments_lexer": "ipython2",
   "version": "2.7.6"
  }
 },
 "nbformat": 4,
 "nbformat_minor": 5
}
