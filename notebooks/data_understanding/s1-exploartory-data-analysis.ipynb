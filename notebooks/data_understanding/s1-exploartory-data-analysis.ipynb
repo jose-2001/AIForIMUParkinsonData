{
 "cells": [
  {
   "cell_type": "markdown",
   "source": [
    "# Exploratory Data Analysis of IMU-Parkinson data\n",
    "\n",
    "This notebook aims to identify characteristics of the collected data for Parkinson Disease (PD) \n",
    "screening. The data is stored as pickle or csv files in a tabular way. For each patient (in\n",
    "a specific date), we have a time-series record associated, every entry in the dataset is \n",
    "a timestamp with all the measured components by the Inertial Measurement Units (IMUs)."
   ],
   "metadata": {
    "collapsed": false
   },
   "id": "f56c10c010e6d0d1"
  },
  {
   "cell_type": "markdown",
   "source": [
    "## Required Imports\n",
    "\n",
    "Here is the list of the required imports to execute this notebook correctly"
   ],
   "metadata": {
    "collapsed": false
   },
   "id": "554737ce16a13190"
  },
  {
   "cell_type": "code",
   "outputs": [],
   "source": [
    "import pandas as pd\n",
    "import numpy as np\n",
    "import matplotlib.pyplot as plt\n",
    "\n",
    "from src.settings import ROOT_DIR\n",
    "\n",
    "##Include definition of colors for plots"
   ],
   "metadata": {
    "collapsed": false,
    "ExecuteTime": {
     "end_time": "2024-03-03T16:31:39.546626Z",
     "start_time": "2024-03-03T16:31:39.540188Z"
    }
   },
   "id": "9cfb1dfc535a12b2",
   "execution_count": 35
  },
  {
   "cell_type": "markdown",
   "source": [
    "## Data loading\n",
    "\n",
    "First of all, we load the pickle file into a variable. It contains the data in a Pandas Dataframe object."
   ],
   "metadata": {
    "collapsed": false
   },
   "id": "d0bc31cb47bf88b0"
  },
  {
   "cell_type": "code",
   "execution_count": 3,
   "id": "initial_id",
   "metadata": {
    "collapsed": true,
    "ExecuteTime": {
     "end_time": "2024-03-03T15:49:09.217845Z",
     "start_time": "2024-03-03T15:49:08.511848Z"
    }
   },
   "outputs": [
    {
     "data": {
      "text/plain": "pandas.core.frame.DataFrame"
     },
     "execution_count": 3,
     "metadata": {},
     "output_type": "execute_result"
    }
   ],
   "source": [
    "raw_data_path = ROOT_DIR / 'data' / 'raw'\n",
    "imu_data: pd.DataFrame = pd.read_pickle(raw_data_path / 'anon_imu_data_time_series.pkl')\n",
    "imu_data['anon_id'] = imu_data['anon_id'].astype(str)\n",
    "type(imu_data)"
   ]
  },
  {
   "cell_type": "markdown",
   "source": [
    "We have to check the amount of entries in the dataframe and how many patients and \n",
    "controls (not PD diagnosed persons) we have. Due to no patient were measured at the \n",
    "same time, we could use the `date_measure` to identify the amount of measured persons."
   ],
   "metadata": {
    "collapsed": false
   },
   "id": "a84eed0c82e0f78e"
  },
  {
   "cell_type": "code",
   "outputs": [
    {
     "name": "stdout",
     "output_type": "stream",
     "text": [
      "Number of time-stamps: 597528\n",
      "Number of measured persons: 218\n"
     ]
    }
   ],
   "source": [
    "num_time_stamps = len(imu_data)\n",
    "num_measured_persons = len(imu_data['date_measure'].unique())\n",
    "print(f\"\"\"Number of time-stamps: {num_time_stamps}\n",
    "Number of measured persons: {num_measured_persons}\n",
    "\"\"\")"
   ],
   "metadata": {
    "collapsed": false,
    "ExecuteTime": {
     "end_time": "2024-03-03T16:48:10.372800Z",
     "start_time": "2024-03-03T16:48:10.315108Z"
    }
   },
   "id": "2e25e3920d9a44",
   "execution_count": 44
  },
  {
   "cell_type": "code",
   "outputs": [
    {
     "data": {
      "text/plain": "  anon_id date_measure  time_stamp  imu_gyroX_right  imu_gyroY_right  \\\n0       1                      0.0     -1214.134378      -706.898961   \n1       1                     41.0      -528.943208      -481.033408   \n2       1                     82.0        42.937833      -328.464835   \n3       1                    123.0       386.718612      -305.928210   \n4       1                    164.0       399.637302      -438.997050   \n\n   imu_gyroZ_right  imu_accX_right  imu_accY_right  imu_accZ_right  \\\n0      -342.133395        8.902096        3.048967       -2.707115   \n1      -829.426549        8.826445        3.244322       -2.375892   \n2      -937.806656        8.769737        3.341177       -2.128276   \n3      -531.510961        8.782168        3.298552       -2.002942   \n4       195.116809        8.929922        3.152229       -1.978899   \n\n   imu_gyroX_left  ...  imu_angleZ_spine  imu_angularX_left  \\\n0    -1379.007652  ...        -80.931437         -10.786784   \n1     -444.959365  ...       -146.977613          -7.828853   \n2      443.239462  ...        849.016319          -1.793131   \n3     1101.526862  ...       1113.979920           6.683067   \n4     1220.818122  ...        963.511330          15.394780   \n\n   imu_angularY_left  imu_angularZ_left  imu_angularX_right  \\\n0          -0.300330          -0.366041          -10.036721   \n1          -0.231623          -0.163033           -6.197811   \n2          -0.104697           0.184659           -0.136697   \n3           0.056346           0.567452            5.757335   \n4           0.213584           0.848198            9.446619   \n\n   imu_angularY_right  imu_angularZ_right  imu_angularX_spine  \\\n0            0.142365           -0.399272           -1.697610   \n1            0.012145           -0.175718            5.924031   \n2           -0.158921            0.153815            3.962417   \n3           -0.251148            0.422339            6.045454   \n4           -0.194006            0.507620           -3.624151   \n\n   imu_angularY_spine  imu_angularZ_spine  \n0           -0.283670           -0.027008  \n1           -0.119951            0.407286  \n2           -0.201369            0.108350  \n3            0.162363           -0.061530  \n4            0.095794           -0.360073  \n\n[5 rows x 39 columns]",
      "text/html": "<div>\n<style scoped>\n    .dataframe tbody tr th:only-of-type {\n        vertical-align: middle;\n    }\n\n    .dataframe tbody tr th {\n        vertical-align: top;\n    }\n\n    .dataframe thead th {\n        text-align: right;\n    }\n</style>\n<table border=\"1\" class=\"dataframe\">\n  <thead>\n    <tr style=\"text-align: right;\">\n      <th></th>\n      <th>anon_id</th>\n      <th>date_measure</th>\n      <th>time_stamp</th>\n      <th>imu_gyroX_right</th>\n      <th>imu_gyroY_right</th>\n      <th>imu_gyroZ_right</th>\n      <th>imu_accX_right</th>\n      <th>imu_accY_right</th>\n      <th>imu_accZ_right</th>\n      <th>imu_gyroX_left</th>\n      <th>...</th>\n      <th>imu_angleZ_spine</th>\n      <th>imu_angularX_left</th>\n      <th>imu_angularY_left</th>\n      <th>imu_angularZ_left</th>\n      <th>imu_angularX_right</th>\n      <th>imu_angularY_right</th>\n      <th>imu_angularZ_right</th>\n      <th>imu_angularX_spine</th>\n      <th>imu_angularY_spine</th>\n      <th>imu_angularZ_spine</th>\n    </tr>\n  </thead>\n  <tbody>\n    <tr>\n      <th>0</th>\n      <td>1</td>\n      <td></td>\n      <td>0.0</td>\n      <td>-1214.134378</td>\n      <td>-706.898961</td>\n      <td>-342.133395</td>\n      <td>8.902096</td>\n      <td>3.048967</td>\n      <td>-2.707115</td>\n      <td>-1379.007652</td>\n      <td>...</td>\n      <td>-80.931437</td>\n      <td>-10.786784</td>\n      <td>-0.300330</td>\n      <td>-0.366041</td>\n      <td>-10.036721</td>\n      <td>0.142365</td>\n      <td>-0.399272</td>\n      <td>-1.697610</td>\n      <td>-0.283670</td>\n      <td>-0.027008</td>\n    </tr>\n    <tr>\n      <th>1</th>\n      <td>1</td>\n      <td></td>\n      <td>41.0</td>\n      <td>-528.943208</td>\n      <td>-481.033408</td>\n      <td>-829.426549</td>\n      <td>8.826445</td>\n      <td>3.244322</td>\n      <td>-2.375892</td>\n      <td>-444.959365</td>\n      <td>...</td>\n      <td>-146.977613</td>\n      <td>-7.828853</td>\n      <td>-0.231623</td>\n      <td>-0.163033</td>\n      <td>-6.197811</td>\n      <td>0.012145</td>\n      <td>-0.175718</td>\n      <td>5.924031</td>\n      <td>-0.119951</td>\n      <td>0.407286</td>\n    </tr>\n    <tr>\n      <th>2</th>\n      <td>1</td>\n      <td></td>\n      <td>82.0</td>\n      <td>42.937833</td>\n      <td>-328.464835</td>\n      <td>-937.806656</td>\n      <td>8.769737</td>\n      <td>3.341177</td>\n      <td>-2.128276</td>\n      <td>443.239462</td>\n      <td>...</td>\n      <td>849.016319</td>\n      <td>-1.793131</td>\n      <td>-0.104697</td>\n      <td>0.184659</td>\n      <td>-0.136697</td>\n      <td>-0.158921</td>\n      <td>0.153815</td>\n      <td>3.962417</td>\n      <td>-0.201369</td>\n      <td>0.108350</td>\n    </tr>\n    <tr>\n      <th>3</th>\n      <td>1</td>\n      <td></td>\n      <td>123.0</td>\n      <td>386.718612</td>\n      <td>-305.928210</td>\n      <td>-531.510961</td>\n      <td>8.782168</td>\n      <td>3.298552</td>\n      <td>-2.002942</td>\n      <td>1101.526862</td>\n      <td>...</td>\n      <td>1113.979920</td>\n      <td>6.683067</td>\n      <td>0.056346</td>\n      <td>0.567452</td>\n      <td>5.757335</td>\n      <td>-0.251148</td>\n      <td>0.422339</td>\n      <td>6.045454</td>\n      <td>0.162363</td>\n      <td>-0.061530</td>\n    </tr>\n    <tr>\n      <th>4</th>\n      <td>1</td>\n      <td></td>\n      <td>164.0</td>\n      <td>399.637302</td>\n      <td>-438.997050</td>\n      <td>195.116809</td>\n      <td>8.929922</td>\n      <td>3.152229</td>\n      <td>-1.978899</td>\n      <td>1220.818122</td>\n      <td>...</td>\n      <td>963.511330</td>\n      <td>15.394780</td>\n      <td>0.213584</td>\n      <td>0.848198</td>\n      <td>9.446619</td>\n      <td>-0.194006</td>\n      <td>0.507620</td>\n      <td>-3.624151</td>\n      <td>0.095794</td>\n      <td>-0.360073</td>\n    </tr>\n  </tbody>\n</table>\n<p>5 rows × 39 columns</p>\n</div>"
     },
     "execution_count": 5,
     "metadata": {},
     "output_type": "execute_result"
    }
   ],
   "source": [
    "imu_data.head()"
   ],
   "metadata": {
    "collapsed": false,
    "ExecuteTime": {
     "end_time": "2024-03-03T15:49:09.314551Z",
     "start_time": "2024-03-03T15:49:09.277403Z"
    }
   },
   "id": "fd5a73a64aff5aa7",
   "execution_count": 5
  },
  {
   "cell_type": "markdown",
   "source": [
    "## Propotion of Controls and patients\n",
    "Now we have to identify which part of those 218 persons are patients, and how many \n",
    "of them are controls. To perform that task we have to add an extra column to the \n",
    "data: `PD`. This is a binary column where 1 means the person is a patient, and 0 \n",
    "is a control. We can use the excel file with all the patients id's:"
   ],
   "metadata": {
    "collapsed": false
   },
   "id": "f3f2ede6597b2368"
  },
  {
   "cell_type": "code",
   "outputs": [],
   "source": [
    "#Read file with patients (1)\n",
    "patients_ids = pd.read_excel(raw_data_path / 'CC_Patients_ASA.xlsx')\n",
    "patients_ids['CC'] = patients_ids['CC'].astype(str)\n",
    "patients_ids_list = patients_ids['CC'].tolist()\n",
    "\n",
    "#Read file with all the anonymized ids\n",
    "id_map = pd.read_csv(raw_data_path / 'id_map.csv')\n",
    "id_map['anon_id'] = id_map['anon_id'].astype(str)\n",
    "id_map['patient_id'] = id_map['patient_id'].astype(str)\n",
    "\n",
    "def is_patient(anonymized_id: str) -> int:\n",
    "    \"\"\"\n",
    "    anonymized_id: str with the patient's anonymized id\n",
    "    returns result 1 if is patient, otherwise 0\n",
    "    \"\"\"\n",
    "    \n",
    "    real_id_list: list = id_map.loc[id_map['anon_id'] == anonymized_id, 'patient_id'].tolist()\n",
    "    real_id: str = real_id_list[0] if len(real_id_list) > 0 else None\n",
    "    result = 1 if real_id in patients_ids_list else 0\n",
    "    \n",
    "    return result"
   ],
   "metadata": {
    "collapsed": false,
    "ExecuteTime": {
     "end_time": "2024-03-03T15:49:10.334428Z",
     "start_time": "2024-03-03T15:49:09.316569Z"
    }
   },
   "id": "ccfd9e4852e66b65",
   "execution_count": 6
  },
  {
   "cell_type": "code",
   "outputs": [],
   "source": [
    "imu_data['PD'] = imu_data['anon_id'].apply(is_patient)"
   ],
   "metadata": {
    "collapsed": false,
    "ExecuteTime": {
     "end_time": "2024-03-03T15:51:31.434755Z",
     "start_time": "2024-03-03T15:49:10.368904Z"
    }
   },
   "id": "44c13e9e254a0c18",
   "execution_count": 7
  },
  {
   "cell_type": "code",
   "outputs": [
    {
     "data": {
      "text/plain": "PD\n0    154\n1     39\nName: anon_id, dtype: int64"
     },
     "execution_count": 8,
     "metadata": {},
     "output_type": "execute_result"
    }
   ],
   "source": [
    "amount_patients = imu_data.groupby('PD')['anon_id'].nunique()\n",
    "amount_patients"
   ],
   "metadata": {
    "collapsed": false,
    "ExecuteTime": {
     "end_time": "2024-03-03T15:51:31.522027Z",
     "start_time": "2024-03-03T15:51:31.436778Z"
    }
   },
   "id": "ff879caad078ae60",
   "execution_count": 8
  },
  {
   "cell_type": "code",
   "outputs": [
    {
     "data": {
      "text/plain": "<Figure size 640x480 with 1 Axes>",
      "image/png": "[encoded data removed]"
     },
     "metadata": {},
     "output_type": "display_data"
    }
   ],
   "source": [
    "colors = plt.get_cmap('Blues')(np.linspace(0.2, 0.7, len(amount_patients)))\n",
    "\n",
    "# Pie chart, where the slices will be ordered and plotted counter-clockwise:\n",
    "labels = 'Controls', 'Patients'\n",
    "sizes = amount_patients\n",
    "explode = (0, 0.1)  # only \"explode\" the 2nd slice (i.e. 'Hogs')\n",
    "\n",
    "fig1, ax1 = plt.subplots()\n",
    "ax1.pie(sizes, explode=explode, labels=labels, autopct='%1.1f%%',\n",
    "        shadow=True, startangle=90)\n",
    "ax1.axis('equal')  # Equal aspect ratio ensures that pie is drawn as a circle.\n",
    "\n",
    "plt.show()"
   ],
   "metadata": {
    "collapsed": false,
    "ExecuteTime": {
     "end_time": "2024-03-03T15:51:33.071047Z",
     "start_time": "2024-03-03T15:51:31.523092Z"
    }
   },
   "id": "37a3608cb90274b5",
   "execution_count": 9
  },
  {
   "cell_type": "markdown",
   "source": [
    "We could see that the collected data is not balanced. The amount of records from patients is almost a quarter part of the amount\n",
    "of controls."
   ],
   "metadata": {
    "collapsed": false
   },
   "id": "b918f989d06da2db"
  },
  {
   "cell_type": "markdown",
   "source": [
    "## Data Insights\n",
    "For every user we have 26 columns, every row is a time stamp of one user's recording Here are the dataset columns:"
   ],
   "metadata": {
    "collapsed": false
   },
   "id": "31aaacb5da15d017"
  },
  {
   "cell_type": "code",
   "outputs": [
    {
     "data": {
      "text/plain": "array(['anon_id', 'date_measure', 'time_stamp', 'imu_gyroX_right',\n       'imu_gyroY_right', 'imu_gyroZ_right', 'imu_accX_right',\n       'imu_accY_right', 'imu_accZ_right', 'imu_gyroX_left',\n       'imu_gyroY_left', 'imu_gyroZ_left', 'imu_accX_left',\n       'imu_accY_left', 'imu_accZ_left', 'imu_gyroX_spine',\n       'imu_gyroY_spine', 'imu_gyroZ_spine', 'imu_accX_spine',\n       'imu_accY_spine', 'imu_accZ_spine', 'imu_angleX_right',\n       'imu_angleY_right', 'imu_angleZ_right', 'imu_angleX_left',\n       'imu_angleY_left', 'imu_angleZ_left', 'imu_angleX_spine',\n       'imu_angleY_spine', 'imu_angleZ_spine', 'imu_angularX_left',\n       'imu_angularY_left', 'imu_angularZ_left', 'imu_angularX_right',\n       'imu_angularY_right', 'imu_angularZ_right', 'imu_angularX_spine',\n       'imu_angularY_spine', 'imu_angularZ_spine', 'PD'], dtype=object)"
     },
     "execution_count": 10,
     "metadata": {},
     "output_type": "execute_result"
    }
   ],
   "source": [
    "imu_data.columns.values"
   ],
   "metadata": {
    "collapsed": false,
    "ExecuteTime": {
     "end_time": "2024-03-03T15:51:33.079143Z",
     "start_time": "2024-03-03T15:51:33.072055Z"
    }
   },
   "id": "64e78836a6a5ece4",
   "execution_count": 10
  },
  {
   "cell_type": "markdown",
   "source": [
    "Is also important to clean the data and remove NaN values, but in this case, the data we are using does not have any empty value, \n",
    "or at least not in the important component form the IMUs."
   ],
   "metadata": {
    "collapsed": false
   },
   "id": "bb56fbc612b73004"
  },
  {
   "cell_type": "code",
   "outputs": [
    {
     "data": {
      "text/plain": "anon_id               0\ndate_measure          0\ntime_stamp            0\nimu_gyroX_right       0\nimu_gyroY_right       0\nimu_gyroZ_right       0\nimu_accX_right        0\nimu_accY_right        0\nimu_accZ_right        0\nimu_gyroX_left        0\nimu_gyroY_left        0\nimu_gyroZ_left        0\nimu_accX_left         0\nimu_accY_left         0\nimu_accZ_left         0\nimu_gyroX_spine       0\nimu_gyroY_spine       0\nimu_gyroZ_spine       0\nimu_accX_spine        0\nimu_accY_spine        0\nimu_accZ_spine        0\nimu_angleX_right      0\nimu_angleY_right      0\nimu_angleZ_right      0\nimu_angleX_left       0\nimu_angleY_left       0\nimu_angleZ_left       0\nimu_angleX_spine      0\nimu_angleY_spine      0\nimu_angleZ_spine      0\nimu_angularX_left     0\nimu_angularY_left     0\nimu_angularZ_left     0\nimu_angularX_right    0\nimu_angularY_right    0\nimu_angularZ_right    0\nimu_angularX_spine    0\nimu_angularY_spine    0\nimu_angularZ_spine    0\nPD                    0\ndtype: int64"
     },
     "execution_count": 11,
     "metadata": {},
     "output_type": "execute_result"
    }
   ],
   "source": [
    "imu_data.isnull().sum()"
   ],
   "metadata": {
    "collapsed": false,
    "ExecuteTime": {
     "end_time": "2024-03-03T15:51:33.170676Z",
     "start_time": "2024-03-03T15:51:33.081300Z"
    }
   },
   "id": "c0f139b458707507",
   "execution_count": 11
  },
  {
   "cell_type": "markdown",
   "source": [
    "### Records Characteristics\n",
    "All timestamps are part of a measure made in a specific date. The Measure was taken during a walk of 6 to 10 meters. Movement speed is \n",
    "one of the main factors affected by PD, thus is important identify the longest walk and also the shortest to validate the data consistency."
   ],
   "metadata": {
    "collapsed": false
   },
   "id": "7aba244c79202704"
  },
  {
   "cell_type": "code",
   "outputs": [],
   "source": [
    "records = {}\n",
    "dates = imu_data['date_measure'].unique().tolist()\n",
    "\n",
    "for date in dates:\n",
    "    # Always the last value of the list is the greatest timestamp\n",
    "    records[date]: float = imu_data[imu_data['date_measure'] == date]['time_stamp'].tolist()[-1]"
   ],
   "metadata": {
    "collapsed": false,
    "ExecuteTime": {
     "end_time": "2024-03-03T16:23:26.667347Z",
     "start_time": "2024-03-03T16:23:19.705239Z"
    }
   },
   "id": "840d6f841d1584ba",
   "execution_count": 24
  },
  {
   "cell_type": "code",
   "outputs": [
    {
     "name": "stdout",
     "output_type": "stream",
     "text": [
      "Average duration: 182.95 s\n",
      "Min duration: 0.82 s\n",
      "Max duration: 11942.07 s\n"
     ]
    }
   ],
   "source": [
    "max_duration = round(max(records.values())/1000, 2)\n",
    "mean_duration = round(sum(records.values())/len(records)/1000, 2)\n",
    "min_duration = round(min(records.values())/1000, 2)\n",
    "print(f\"\"\"Average duration: {mean_duration:} s\n",
    "Min duration: {min_duration} s\n",
    "Max duration: {max_duration:} s\n",
    "\"\"\")"
   ],
   "metadata": {
    "collapsed": false,
    "ExecuteTime": {
     "end_time": "2024-03-03T16:23:28.290663Z",
     "start_time": "2024-03-03T16:23:28.282975Z"
    }
   },
   "id": "f2c752b5c11e690d",
   "execution_count": 25
  },
  {
   "cell_type": "markdown",
   "source": [
    "With the max, min and average duration of a walk we could realize that the **min duration is too short to be real** and \n",
    "the **max duration is huge** (In this analysis we are not considering the possibility that someone takes more than\n",
    "3 hours to walk 6-10 meters). This simple values puts on evidence the presence of outliers in our records, probably some of \n",
    "them made by human error, rather than a real patient behavior.\n",
    "\n",
    "\n",
    "Then we are going to identify outliers using graphs and remove them by the IQR (Inter-quantile range) method."
   ],
   "metadata": {
    "collapsed": false
   },
   "id": "3fee31823ccfc9ec"
  },
  {
   "cell_type": "code",
   "outputs": [],
   "source": [
    "#Change the records from millis to seconds\n",
    "for record in records:\n",
    "    records[record] = round(records[record]/1000, 2)"
   ],
   "metadata": {
    "collapsed": false,
    "ExecuteTime": {
     "end_time": "2024-03-03T16:23:34.004512Z",
     "start_time": "2024-03-03T16:23:33.997588Z"
    }
   },
   "id": "45cf6c19cdcf5bda",
   "execution_count": 26
  },
  {
   "cell_type": "code",
   "outputs": [
    {
     "data": {
      "text/plain": "<Figure size 640x480 with 1 Axes>",
      "image/png": "[encoded data removed]"
     },
     "metadata": {},
     "output_type": "display_data"
    }
   ],
   "source": [
    "fig2, ax1 = plt.subplots()\n",
    "plt.boxplot(records.values())\n",
    "ax1.set_title('Records in Seconds - Box plot')\n",
    "plt.show()"
   ],
   "metadata": {
    "collapsed": false,
    "ExecuteTime": {
     "end_time": "2024-03-03T16:23:47.216093Z",
     "start_time": "2024-03-03T16:23:47.091786Z"
    }
   },
   "id": "4ab717dbff8f1939",
   "execution_count": 27
  },
  {
   "cell_type": "markdown",
   "source": [
    "We could see that there are two main outlier, and is the previously identified max value: 11942.07 s, and the min value \n",
    "0.82 s. If we remove them and \"*replot*\" the records we get the following graph, which is much more consistent with the data:"
   ],
   "metadata": {
    "collapsed": false
   },
   "id": "3e5b40e79614364e"
  },
  {
   "cell_type": "code",
   "outputs": [
    {
     "data": {
      "text/plain": "<Figure size 640x480 with 1 Axes>",
      "image/png": "[encoded data removed]"
     },
     "metadata": {},
     "output_type": "display_data"
    }
   ],
   "source": [
    "fig3, ax1 = plt.subplots()\n",
    "plt.boxplot(sorted(records.values())[1:-1])\n",
    "ax1.set_title('Records in Seconds - Box plot')\n",
    "plt.show()"
   ],
   "metadata": {
    "collapsed": false,
    "ExecuteTime": {
     "end_time": "2024-03-03T17:00:40.582785Z",
     "start_time": "2024-03-03T17:00:40.461054Z"
    }
   },
   "id": "e297c0d1ffb4aa3f",
   "execution_count": 47
  },
  {
   "cell_type": "markdown",
   "source": [
    "Before doing the outlier removal, through IQR is important to remove the delete that max value that we had before"
   ],
   "metadata": {
    "collapsed": false
   },
   "id": "76a16871a809f427"
  },
  {
   "cell_type": "code",
   "outputs": [
    {
     "name": "stdout",
     "output_type": "stream",
     "text": [
      "11942.07 2023-7-11-10-15-46\n"
     ]
    }
   ],
   "source": [
    "max_index = list(records.values()).index(max_duration)\n",
    "date_max_duration = list(records.keys())[max_index]\n",
    "records.pop(date_max_duration, None)\n",
    "\n",
    "print(max_duration, date_max_duration)"
   ],
   "metadata": {
    "collapsed": false,
    "ExecuteTime": {
     "end_time": "2024-03-03T16:28:36.073814Z",
     "start_time": "2024-03-03T16:28:36.067787Z"
    }
   },
   "id": "5224dab17ecdb25d",
   "execution_count": 32
  },
  {
   "cell_type": "code",
   "outputs": [
    {
     "name": "stdout",
     "output_type": "stream",
     "text": [
      "IQR Lower Bound: -36.970000000000006\n",
      "IQR Upper Bound: 204.31\n",
      "Q1 Lower Bound: 53.51\n",
      "Q3 Upper Bound: 113.83\n"
     ]
    }
   ],
   "source": [
    "#Initialized a list for the outliers that will be removed from main dataset\n",
    "outliers_date_list = [date_max_duration]\n",
    "\n",
    "#IQR removal\n",
    "q1 = np.percentile(list(records.values()), 25)\n",
    "q3 = np.percentile(list(records.values()), 75)\n",
    "\n",
    "IQR = q3 - q1\n",
    "lower_bound = q1 - (1.5 * IQR)\n",
    "upper_bound = q3 + 1.5 * IQR\n",
    "\n",
    "\n",
    "\n",
    "print(f\"\"\"IQR Lower Bound: {lower_bound}\n",
    "IQR Upper Bound: {upper_bound}\n",
    "Q1 Lower Bound: {q1}\n",
    "Q3 Upper Bound: {q3}\"\"\")"
   ],
   "metadata": {
    "collapsed": false,
    "ExecuteTime": {
     "end_time": "2024-03-03T16:39:40.000210Z",
     "start_time": "2024-03-03T16:39:39.990806Z"
    }
   },
   "id": "94a1814d0bba766",
   "execution_count": 40
  },
  {
   "cell_type": "code",
   "outputs": [
    {
     "data": {
      "text/plain": "[0.82,\n 5.77,\n 6.62,\n 7.08,\n 8.0,\n 11.73,\n 11.87,\n 13.87,\n 15.65,\n 16.1,\n 19.41,\n 19.9,\n 20.85,\n 21.9,\n 22.48,\n 24.41,\n 24.79,\n 25.11,\n 25.65,\n 26.17,\n 26.63,\n 26.63,\n 27.57,\n 28.9,\n 31.82,\n 32.01,\n 32.24,\n 32.27,\n 32.39,\n 32.42,\n 32.62,\n 38.5,\n 38.98,\n 39.61,\n 40.56,\n 40.93,\n 42.71,\n 42.8,\n 43.71,\n 43.74,\n 44.14,\n 46.3,\n 46.48,\n 46.56,\n 46.67,\n 46.74,\n 47.89,\n 48.34,\n 48.44,\n 49.33,\n 49.87,\n 50.69,\n 51.76,\n 52.28,\n 53.51,\n 53.6,\n 53.94,\n 55.68,\n 56.68,\n 57.26,\n 59.44,\n 60.66,\n 60.74,\n 61.52,\n 61.72,\n 62.47,\n 62.72,\n 63.7,\n 63.85,\n 63.9,\n 64.05,\n 64.64,\n 65.1,\n 65.49,\n 65.6,\n 65.94,\n 66.35,\n 66.76,\n 66.89,\n 67.12,\n 67.72,\n 67.83,\n 68.51,\n 68.64,\n 68.68,\n 68.72,\n 68.97,\n 69.24,\n 69.32,\n 70.63,\n 71.03,\n 71.11,\n 71.33,\n 72.03,\n 72.47,\n 72.52,\n 73.24,\n 73.34,\n 74.61,\n 74.73,\n 74.79,\n 74.81,\n 75.54,\n 75.69,\n 75.88,\n 75.99,\n 76.26,\n 77.35,\n 77.88,\n 78.08,\n 79.94,\n 80.21,\n 81.2,\n 82.19,\n 82.53,\n 82.75,\n 84.98,\n 85.11,\n 86.01,\n 86.61,\n 87.81,\n 87.97,\n 87.98,\n 88.1,\n 88.23,\n 88.26,\n 88.72,\n 88.84,\n 89.22,\n 89.44,\n 90.4,\n 91.74,\n 92.87,\n 92.91,\n 93.9,\n 95.03,\n 96.67,\n 97.17,\n 97.33,\n 97.95,\n 98.06,\n 99.07,\n 99.58,\n 99.97,\n 100.35,\n 100.78,\n 101.27,\n 103.16,\n 103.29,\n 103.3,\n 103.44,\n 103.69,\n 104.24,\n 105.75,\n 106.04,\n 106.38,\n 106.41,\n 106.64,\n 106.83,\n 108.59,\n 111.0,\n 113.05,\n 113.83,\n 114.76,\n 115.28,\n 115.56,\n 117.53,\n 118.36,\n 118.95,\n 119.32,\n 120.14,\n 120.49,\n 120.52,\n 120.6,\n 120.63,\n 121.66,\n 123.91,\n 126.39,\n 128.46,\n 129.34,\n 130.92,\n 130.93,\n 131.17,\n 132.91,\n 133.59,\n 135.25,\n 135.97,\n 137.98,\n 140.09,\n 143.72,\n 159.12,\n 160.95,\n 169.64,\n 170.31,\n 177.24,\n 187.86,\n 192.9,\n 196.59,\n 198.14,\n 233.68,\n 240.54,\n 242.08,\n 274.82,\n 276.92,\n 300.76,\n 315.48,\n 317.67,\n 334.9,\n 344.37,\n 365.35,\n 374.63,\n 609.35,\n 1022.21,\n 1621.54,\n 1770.73,\n 1835.31,\n 1879.25]"
     },
     "execution_count": 43,
     "metadata": {},
     "output_type": "execute_result"
    }
   ],
   "source": [
    "sorted(records.values())"
   ],
   "metadata": {
    "collapsed": false,
    "ExecuteTime": {
     "end_time": "2024-03-03T16:43:38.220194Z",
     "start_time": "2024-03-03T16:43:38.212957Z"
    }
   },
   "id": "cb26adc294faab88",
   "execution_count": 43
  }
 ],
 "metadata": {
  "kernelspec": {
   "display_name": "Python 3",
   "language": "python",
   "name": "python3"
  },
  "language_info": {
   "codemirror_mode": {
    "name": "ipython",
    "version": 2
   },
   "file_extension": ".py",
   "mimetype": "text/x-python",
   "name": "python",
   "nbconvert_exporter": "python",
   "pygments_lexer": "ipython2",
   "version": "2.7.6"
  }
 },
 "nbformat": 4,
 "nbformat_minor": 5
}
